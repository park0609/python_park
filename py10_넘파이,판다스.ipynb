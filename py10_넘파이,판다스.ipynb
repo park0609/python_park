{
 "cells": [
  {
   "cell_type": "markdown",
   "metadata": {
    "id": "k34jJOUYjZx0"
   },
   "source": []
  },
  {
   "cell_type": "code",
   "execution_count": 105,
   "metadata": {
    "id": "3yrrmr32fVB5"
   },
   "outputs": [],
   "source": [
    "#with open ('./drive/MyDrive/Read.md','w') as f:\n",
    "#    data = f.write(\"*반갑습니다\")\n",
    "#    print(\"저장되었습니다\")\n",
    "#!pwd"
   ]
  },
  {
   "cell_type": "markdown",
   "metadata": {
    "id": "WjwQ1xLFjbGq"
   },
   "source": [
    "- ndim : 축의 갯수\n",
    "- shape : 배열의 차원정보\n",
    "- size : 배열안에 있는 원소의 총 갯수\n",
    "- dtype : 배열 원소의 자료형"
   ]
  },
  {
   "cell_type": "markdown",
   "metadata": {
    "id": "AeDSkDN6it-K"
   },
   "source": [
    "# 넘파이(numpy)"
   ]
  },
  {
   "cell_type": "markdown",
   "metadata": {},
   "source": [
    "## 1차원과 속성들"
   ]
  },
  {
   "cell_type": "code",
   "execution_count": 106,
   "metadata": {
    "colab": {
     "base_uri": "https://localhost:8080/"
    },
    "executionInfo": {
     "elapsed": 15,
     "status": "ok",
     "timestamp": 1740444856555,
     "user": {
      "displayName": "sechan park",
      "userId": "15872532689016828299"
     },
     "user_tz": -540
    },
    "id": "tD4sinGhiqPC",
    "outputId": "6a8f7212-9026-4ab0-9a91-193f6a69e7e0"
   },
   "outputs": [
    {
     "name": "stdout",
     "output_type": "stream",
     "text": [
      "[0 1 2 3 4]\n",
      "<class 'numpy.ndarray'>\n",
      "1\n",
      "(5,)\n",
      "5\n",
      "int64\n",
      "4\n",
      "[2 3]\n"
     ]
    }
   ],
   "source": [
    "#pip install numpy\n",
    "import numpy as np\n",
    "narry = np.array(range(5))\n",
    "print(narry)\n",
    "print(type(narry))\n",
    "print(narry.ndim)#1차원\n",
    "print(narry.shape)\n",
    "print(narry.size)\n",
    "print(narry.dtype)\n",
    "print(narry[4])\n",
    "print(narry[2:4])\n",
    "#넘파이는 배열과 다르게 쉼표가 없다"
   ]
  },
  {
   "cell_type": "code",
   "execution_count": 107,
   "metadata": {
    "colab": {
     "base_uri": "https://localhost:8080/"
    },
    "executionInfo": {
     "elapsed": 6,
     "status": "ok",
     "timestamp": 1740444940453,
     "user": {
      "displayName": "sechan park",
      "userId": "15872532689016828299"
     },
     "user_tz": -540
    },
    "id": "xlLfAufdkvfb",
    "outputId": "677e2bc6-346b-4e64-af7b-7b86d201e5ff"
   },
   "outputs": [
    {
     "name": "stdout",
     "output_type": "stream",
     "text": [
      "[1 2 3 4 5] int64\n",
      "['2' '3' 'a' 'b'] <U21\n",
      "['2' '3' 'a' 'b'] <U1\n"
     ]
    }
   ],
   "source": [
    "narr1 = np.array([1,2,3,4,5])\n",
    "narr2 = np.array([2,3,'a','b'])\n",
    "narr3 = np.array([2,3,'a','b'],dtype='str')\n",
    "print(narr1,narr1.dtype)\n",
    "print(narr2,narr2.dtype)\n",
    "print(narr3,narr3.dtype)"
   ]
  },
  {
   "cell_type": "code",
   "execution_count": 108,
   "metadata": {
    "colab": {
     "base_uri": "https://localhost:8080/"
    },
    "executionInfo": {
     "elapsed": 19,
     "status": "ok",
     "timestamp": 1740451163903,
     "user": {
      "displayName": "sechan park",
      "userId": "15872532689016828299"
     },
     "user_tz": -540
    },
    "id": "6BwPS2cRpysT",
    "outputId": "ce6485ae-0941-415c-86e1-eb4cb530becf"
   },
   "outputs": [
    {
     "name": "stdout",
     "output_type": "stream",
     "text": [
      "[[0 0]\n",
      " [0 0]] 2 int64 (2, 2) 4 <class 'numpy.ndarray'>\n",
      "[[1. 1.]\n",
      " [1. 1.]] 2 float64 (2, 2) 4 <class 'numpy.ndarray'>\n",
      "[[3 3 3]\n",
      " [3 3 3]\n",
      " [3 3 3]] 2 int64 (3, 3) 9 <class 'numpy.ndarray'>\n",
      "[['number' 'number' 'number']\n",
      " ['number' 'number' 'number']\n",
      " ['number' 'number' 'number']] 2 <U6 (3, 3) 9 <class 'numpy.ndarray'>\n",
      "[[1. 0. 0.]\n",
      " [0. 1. 0.]\n",
      " [0. 0. 1.]] 2 float64 (3, 3) 9 <class 'numpy.ndarray'>\n",
      "[  0.  25.  50.  75. 100.] 1 float64 (5,) 5 <class 'numpy.ndarray'>\n",
      "[ 0 20 40 60 80] 1 int64 (5,) 5 <class 'numpy.ndarray'>\n",
      "[ 0 20 40 60 80] 1 int64 (5,) 5 <class 'numpy.ndarray'>\n"
     ]
    }
   ],
   "source": [
    "#1차원 배열\n",
    "narr4 = np.zeros((2,2),dtype=\"int64\")\n",
    "narr5 = np.ones((2,2))\n",
    "narr6 = np.full((3,3),3)\n",
    "narr7 = np.full((3,3),\"number\")\n",
    "narr8 = np.eye(3) #단위행렬 만들때\n",
    "narr9 = np.linspace(0,100,5)#range와 다르게 뒤에 수가 포함되어있다.\n",
    "narr10 = np.linspace(0,100,5,endpoint=False,dtype='int64')#endpoint를 사용하면 마지막 수를 뺄수있다.\n",
    "narr11 = np.arange(0,100,20)#마지막 수는 빠진다\n",
    "print(narr4,narr4.ndim,narr4.dtype,narr4.shape,narr4.size,type(narr4))\n",
    "print(narr5,narr5.ndim,narr5.dtype,narr5.shape,narr5.size,type(narr5))\n",
    "print(narr6,narr6.ndim,narr6.dtype,narr6.shape,narr6.size,type(narr6))\n",
    "print(narr7,narr7.ndim,narr7.dtype,narr7.shape,narr7.size,type(narr7))\n",
    "print(narr8,narr8.ndim,narr8.dtype,narr8.shape,narr8.size,type(narr8))\n",
    "print(narr9,narr9.ndim,narr9.dtype,narr9.shape,narr9.size,type(narr9))\n",
    "print(narr10,narr10.ndim,narr10.dtype,narr10.shape,narr10.size,type(narr10))\n",
    "print(narr11,narr11.ndim,narr11.dtype,narr11.shape,narr11.size,type(narr11))"
   ]
  },
  {
   "cell_type": "markdown",
   "metadata": {
    "id": "eTL1nLieuU7z"
   },
   "source": [
    "## 2차원 배열"
   ]
  },
  {
   "cell_type": "code",
   "execution_count": 109,
   "metadata": {
    "colab": {
     "base_uri": "https://localhost:8080/"
    },
    "executionInfo": {
     "elapsed": 5,
     "status": "ok",
     "timestamp": 1740447349875,
     "user": {
      "displayName": "sechan park",
      "userId": "15872532689016828299"
     },
     "user_tz": -540
    },
    "id": "fvJfhFv2vf0C",
    "outputId": "7eda946b-d272-417f-f880-7984b8539e46"
   },
   "outputs": [
    {
     "name": "stdout",
     "output_type": "stream",
     "text": [
      "[2 3 4 5 6 7 8 9]\n"
     ]
    },
    {
     "data": {
      "text/plain": [
       "array([0, 1, 2, 3, 4, 5, 6, 7, 8, 9])"
      ]
     },
     "execution_count": 109,
     "metadata": {},
     "output_type": "execute_result"
    }
   ],
   "source": [
    "#print(list(range(2,10)))\n",
    "print(np.arange(2,10))\n",
    "range(10)\n",
    "np.arange(10)"
   ]
  },
  {
   "cell_type": "code",
   "execution_count": 110,
   "metadata": {
    "colab": {
     "base_uri": "https://localhost:8080/"
    },
    "executionInfo": {
     "elapsed": 14,
     "status": "ok",
     "timestamp": 1740447091644,
     "user": {
      "displayName": "sechan park",
      "userId": "15872532689016828299"
     },
     "user_tz": -540
    },
    "id": "CczgbYBZuZs6",
    "outputId": "a07f1eb4-e2b9-4391-c4a5-05b1c022591c"
   },
   "outputs": [
    {
     "name": "stdout",
     "output_type": "stream",
     "text": [
      "[[0 0]\n",
      " [0 0]] 2 int64 (2, 2) 4 <class 'numpy.ndarray'>\n"
     ]
    }
   ],
   "source": [
    "#2차원 배열\n",
    "arr1 = np.array([[0,0],[0,0]])\n",
    "print(arr1,arr1.ndim,arr1.dtype,arr1.shape,arr1.size,type(arr1))"
   ]
  },
  {
   "cell_type": "code",
   "execution_count": 111,
   "metadata": {
    "colab": {
     "base_uri": "https://localhost:8080/"
    },
    "executionInfo": {
     "elapsed": 12,
     "status": "ok",
     "timestamp": 1740448043529,
     "user": {
      "displayName": "sechan park",
      "userId": "15872532689016828299"
     },
     "user_tz": -540
    },
    "id": "8ZjEzftnuxBE",
    "outputId": "b3ed9b96-aa03-4c90-dabd-21eaadb07224"
   },
   "outputs": [
    {
     "name": "stdout",
     "output_type": "stream",
     "text": [
      "차원 : 2 / 데이터 타입 : int64 / 형태 : (3, 3) / 크기 : 9 / <class 'numpy.ndarray'> \n",
      " [[1 2 3]\n",
      " [4 5 6]\n",
      " [7 8 9]] \n",
      "\n",
      "차원 : 2 / 데이터 타입 : int64 / 형태 : (3, 3) / 크기 : 9 / <class 'numpy.ndarray'> \n",
      " [[1 2 3]\n",
      " [4 5 6]\n",
      " [7 8 9]] \n",
      "\n",
      "차원 : 2 / 데이터 타입 : int64 / 형태 : (2, 5) / 크기 : 10 / <class 'numpy.ndarray'> \n",
      " [[ 1  2  3  4  5]\n",
      " [ 6  7  8  9 10]] \n",
      "\n",
      "차원 : 2 / 데이터 타입 : int64 / 형태 : (5, 2) / 크기 : 10 / <class 'numpy.ndarray'> \n",
      " [[ 1  2]\n",
      " [ 3  4]\n",
      " [ 5  6]\n",
      " [ 7  8]\n",
      " [ 9 10]] \n",
      "\n",
      "차원 : 3 / 데이터 타입 : int64 / 형태 : (3, 3, 3) / 크기 : 27 / <class 'numpy.ndarray'> \n",
      " [[[ 1  2  3]\n",
      "  [ 4  5  6]\n",
      "  [ 7  8  9]]\n",
      "\n",
      " [[10 11 12]\n",
      "  [13 14 15]\n",
      "  [16 17 18]]\n",
      "\n",
      " [[19 20 21]\n",
      "  [22 23 24]\n",
      "  [25 26 27]]]\n"
     ]
    }
   ],
   "source": [
    "arr2 = np.array([1,2,3,4,5,6,7,8,9]).reshape(3,3)\n",
    "arr3 = np.arange(1,10).reshape(3,3)\n",
    "arr4 = np.arange(1,11).reshape(2,5)\n",
    "arr5 = np.arange(1,11).reshape(5,2)\n",
    "arr6 = np.arange(1,28).reshape(3,3,3) #3차원\n",
    "print(\"차원 :\",arr2.ndim,'/',\"데이터 타입 :\",arr2.dtype,'/',\"형태 :\",arr2.shape,'/',\"크기 :\",arr2.size,'/',type(arr2),'\\n',arr2,'\\n')\n",
    "print(\"차원 :\",arr3.ndim,'/',\"데이터 타입 :\",arr3.dtype,'/',\"형태 :\",arr3.shape,'/',\"크기 :\",arr3.size,'/',type(arr3),'\\n',arr3,'\\n')\n",
    "print(\"차원 :\",arr4.ndim,'/',\"데이터 타입 :\",arr4.dtype,'/',\"형태 :\",arr4.shape,'/',\"크기 :\",arr4.size,'/',type(arr4),'\\n',arr4,'\\n')\n",
    "print(\"차원 :\",arr5.ndim,'/',\"데이터 타입 :\",arr5.dtype,'/',\"형태 :\",arr5.shape,'/',\"크기 :\",arr5.size,'/',type(arr5),'\\n',arr5,'\\n')\n",
    "print(\"차원 :\",arr6.ndim,'/',\"데이터 타입 :\",arr6.dtype,'/',\"형태 :\",arr6.shape,'/',\"크기 :\",arr6.size,'/',type(arr6),'\\n',arr6)"
   ]
  },
  {
   "cell_type": "code",
   "execution_count": 112,
   "metadata": {
    "colab": {
     "base_uri": "https://localhost:8080/"
    },
    "executionInfo": {
     "elapsed": 6,
     "status": "ok",
     "timestamp": 1740449665913,
     "user": {
      "displayName": "sechan park",
      "userId": "15872532689016828299"
     },
     "user_tz": -540
    },
    "id": "IMVsHoDnub8C",
    "outputId": "c3498df6-39ce-46db-8196-eb1376630162"
   },
   "outputs": [
    {
     "name": "stdout",
     "output_type": "stream",
     "text": [
      "[[ 1  2  3  4  5  6  7]\n",
      " [ 8  9 10 11 12 13 14]\n",
      " [15 16 17 18 19 20 21]] \n",
      "====================\n",
      " [[1]\n",
      " [2]\n",
      " [3]\n",
      " [4]\n",
      " [5]\n",
      " [6]\n",
      " [7]] \n",
      "====================\n",
      " [[ 1  2]\n",
      " [ 3  4]\n",
      " [ 5  6]\n",
      " [ 7  8]\n",
      " [ 9 10]] \n",
      "====================\n",
      " [[ 1  2  3  4  5  6  7]\n",
      " [ 8  9 10 11 12 13 14]\n",
      " [15 16 17 18 19 20 21]] \n",
      "====================\n",
      " [[[ 1]\n",
      "  [ 2]\n",
      "  [ 3]]\n",
      "\n",
      " [[ 4]\n",
      "  [ 5]\n",
      "  [ 6]]\n",
      "\n",
      " [[ 7]\n",
      "  [ 8]\n",
      "  [ 9]]\n",
      "\n",
      " [[10]\n",
      "  [11]\n",
      "  [12]]]\n"
     ]
    }
   ],
   "source": [
    "#예제\n",
    "t1 = np.arange(1,22).reshape(3,7)\n",
    "t2 = np.arange(1,8).reshape(7,1)\n",
    "t3 = np.arange(1,11).reshape(5,2)\n",
    "t4 = np.arange(1,22).reshape(3,7)\n",
    "t5 = np.arange(1,13).reshape(4,3,1)\n",
    "# 2차원 reshape의 팁은 reahape(세로,가로)라고 생각하면 편하다\n",
    "# 3차원은 reshape(공간,세로,가로)라고 생각하면 편하다\n",
    "print(t1,'\\n',end=\"=\"*20)\n",
    "print('\\n',t2,'\\n',end=\"=\"*20)\n",
    "print('\\n',t3,'\\n',end=\"=\"*20)\n",
    "print('\\n',t4,'\\n',end=\"=\"*20)\n",
    "print('\\n',t5)"
   ]
  },
  {
   "cell_type": "code",
   "execution_count": 113,
   "metadata": {
    "colab": {
     "base_uri": "https://localhost:8080/"
    },
    "executionInfo": {
     "elapsed": 39,
     "status": "ok",
     "timestamp": 1740453057433,
     "user": {
      "displayName": "sechan park",
      "userId": "15872532689016828299"
     },
     "user_tz": -540
    },
    "id": "JbIOy3V02kAj",
    "outputId": "9e53f1b2-8b40-4cbb-e7a4-89803f0957fc"
   },
   "outputs": [
    {
     "name": "stdout",
     "output_type": "stream",
     "text": [
      "[10 11 12]\n",
      "[[12 13]\n",
      " [19 20]]\n",
      "[13 14 15 16 17 18 19 20 21]\n",
      "[[False  True False  True False  True False]\n",
      " [ True False  True False  True False  True]\n",
      " [False  True False  True False  True False]]\n"
     ]
    }
   ],
   "source": [
    "#for i in range(0,3):\n",
    "#  print(t1[i][3:7])\n",
    "print(t1[1][2:5])#슬라이싱도 가능\n",
    "print(t4[1:3,4:6])\n",
    "print(t4[t4>12])\n",
    "print(t4%2 ==0)"
   ]
  },
  {
   "cell_type": "code",
   "execution_count": 114,
   "metadata": {
    "colab": {
     "base_uri": "https://localhost:8080/"
    },
    "executionInfo": {
     "elapsed": 8,
     "status": "ok",
     "timestamp": 1740453234064,
     "user": {
      "displayName": "sechan park",
      "userId": "15872532689016828299"
     },
     "user_tz": -540
    },
    "id": "o2Rww3wAEsxz",
    "outputId": "f159d8e8-4500-4d95-fdb6-03afff759ff2"
   },
   "outputs": [
    {
     "name": "stdout",
     "output_type": "stream",
     "text": [
      "덧셈 : [ 7  9 11 13 15]\n",
      "뺄셈 : [5 5 5 5 5]\n",
      "곱셈 : [ 6 14 24 36 50]\n",
      "나눗셈 : [6.         3.5        2.66666667 2.25       2.        ]\n"
     ]
    }
   ],
   "source": [
    "#np 배열 연산 // shape가 같을 경우 원소별 연산이 가능\n",
    "np1 = np.array([6,7,8,9,10])\n",
    "np2 = np.array([1,2,3,4,5])\n",
    "print(\"덧셈 :\",np1+np2)\n",
    "print(\"뺄셈 :\",np1-np2)\n",
    "print(\"곱셈 :\",np1*np2)\n",
    "print(\"나눗셈 :\",np1/np2)"
   ]
  },
  {
   "cell_type": "code",
   "execution_count": 115,
   "metadata": {
    "colab": {
     "base_uri": "https://localhost:8080/"
    },
    "executionInfo": {
     "elapsed": 7,
     "status": "ok",
     "timestamp": 1740453442468,
     "user": {
      "displayName": "sechan park",
      "userId": "15872532689016828299"
     },
     "user_tz": -540
    },
    "id": "-m0m2kfWGEcy",
    "outputId": "7ccd366b-957b-432f-ae9f-2ea5803a8b32"
   },
   "outputs": [
    {
     "name": "stdout",
     "output_type": "stream",
     "text": [
      "[16 17 18 19 20]\n"
     ]
    }
   ],
   "source": [
    "#브로드캐스팅\n",
    "np3 = np1 + 10\n",
    "print(np3)"
   ]
  },
  {
   "cell_type": "code",
   "execution_count": 116,
   "metadata": {
    "colab": {
     "base_uri": "https://localhost:8080/"
    },
    "executionInfo": {
     "elapsed": 44,
     "status": "ok",
     "timestamp": 1740453933629,
     "user": {
      "displayName": "sechan park",
      "userId": "15872532689016828299"
     },
     "user_tz": -540
    },
    "id": "0At5SJ95G5Ri",
    "outputId": "6aee0c52-dd1c-4280-fea4-ff16907b8bcb"
   },
   "outputs": [
    {
     "name": "stdout",
     "output_type": "stream",
     "text": [
      "[[1 2 3]\n",
      " [4 5 6]\n",
      " [7 8 9]]\n",
      "\n",
      "[[11]\n",
      " [22]\n",
      " [33]]\n",
      "\n",
      "===↓스칼라와 연산↓===\n",
      "[[ 2  4  6]\n",
      " [ 8 10 12]\n",
      " [14 16 18]]\n",
      "\n",
      "[[ 3  6  9]\n",
      " [12 15 18]\n",
      " [21 24 27]]\n",
      "\n",
      "===↓2d와 3d의 연산↓===\n",
      "[[12 13 14]\n",
      " [26 27 28]\n",
      " [40 41 42]]\n",
      "\n",
      "[[ 11  22  33]\n",
      " [ 88 110 132]\n",
      " [231 264 297]]\n"
     ]
    }
   ],
   "source": [
    "br1 = np.arange(1,10).reshape(3,3)\n",
    "br2 = np.array([11,22,33]).reshape(3,1)#reshape를 (3,1)로 지정하면 형태가 변하기 때문에 값이 닫라진다.\n",
    "#스칼라와 연산\n",
    "print(br1)\n",
    "print()\n",
    "print(br2)\n",
    "print()\n",
    "print(\"===↓스칼라와 연산↓===\")\n",
    "print(br1*2)\n",
    "print()\n",
    "print(br1*3)\n",
    "print()\n",
    "#2d와 3d의 연산\n",
    "print(\"===↓2d와 3d의 연산↓===\")\n",
    "print(br1+br2)\n",
    "print()\n",
    "print(br1*br2)"
   ]
  },
  {
   "cell_type": "code",
   "execution_count": 117,
   "metadata": {
    "colab": {
     "base_uri": "https://localhost:8080/"
    },
    "executionInfo": {
     "elapsed": 7,
     "status": "ok",
     "timestamp": 1740454358886,
     "user": {
      "displayName": "sechan park",
      "userId": "15872532689016828299"
     },
     "user_tz": -540
    },
    "id": "55G0V7fgH52S",
    "outputId": "56c2c888-c299-48f0-f502-6e92751949d4"
   },
   "outputs": [
    {
     "name": "stdout",
     "output_type": "stream",
     "text": [
      "[[1 2 3]\n",
      " [4 5 6]\n",
      " [7 8 9]]\n",
      "[1 2 3 4 5 6 7 8 9]\n",
      "[1 2 3 4 5 6 7 8 9]\n"
     ]
    }
   ],
   "source": [
    "ff = np.arange(1,10).reshape(3,3)\n",
    "print(ff)\n",
    "print(ff.reshape(9))\n",
    "print(ff.flatten())\n",
    "#flatten은 행렬안의 값을 풀어서 일렬로 세운다."
   ]
  },
  {
   "cell_type": "markdown",
   "metadata": {},
   "source": [
    "## Random number 발생"
   ]
  },
  {
   "cell_type": "markdown",
   "metadata": {},
   "source": [
    "- np.random.randint(): 균일 분포의 정수 난수\n",
    "- np.random.rand(): 0부터 1사이의 균일 분포 난수 생성\n",
    "- np.random.randn(): 표준 정규 분포 난수 생성\n",
    "- np.random.normal(): 정규 분포 난수 생성"
   ]
  },
  {
   "cell_type": "code",
   "execution_count": 118,
   "metadata": {},
   "outputs": [
    {
     "data": {
      "text/plain": [
       "array([[[ 30,   2,  88],\n",
       "        [  7,  63,  24],\n",
       "        [217,  28, 121]],\n",
       "\n",
       "       [[113, 154, 194],\n",
       "        [165, 109, 151],\n",
       "        [201,  21, 186]],\n",
       "\n",
       "       [[ 63, 100,  24],\n",
       "        [130, 203,  81],\n",
       "        [ 58,  17, 176]]], dtype=int32)"
      ]
     },
     "execution_count": 118,
     "metadata": {},
     "output_type": "execute_result"
    }
   ],
   "source": [
    "#randint()\n",
    "import numpy as np\n",
    "x = np.random.randint(0,225,size=(3,3,3))\n",
    "x"
   ]
  },
  {
   "cell_type": "code",
   "execution_count": 119,
   "metadata": {},
   "outputs": [
    {
     "name": "stdout",
     "output_type": "stream",
     "text": [
      "평균값 : 100.96296296296296 표준편차 : 68.2698792003887\n"
     ]
    }
   ],
   "source": [
    "print(\"평균값 :\", np.mean(x),\"표준편차 :\",np.std(x))"
   ]
  },
  {
   "cell_type": "code",
   "execution_count": 120,
   "metadata": {},
   "outputs": [
    {
     "name": "stdout",
     "output_type": "stream",
     "text": [
      "27\n"
     ]
    }
   ],
   "source": [
    "print(len(x.flatten()))"
   ]
  },
  {
   "cell_type": "code",
   "execution_count": 121,
   "metadata": {},
   "outputs": [
    {
     "name": "stdout",
     "output_type": "stream",
     "text": [
      "[[[  0   1   2]\n",
      "  [  3   6   5]\n",
      "  [  4   2   3]]\n",
      "\n",
      " [[ 54   3  54]\n",
      "  [  8   5  11]\n",
      "  [864   3   1]]\n",
      "\n",
      " [[  4   3   2]\n",
      "  [543   2   1]\n",
      "  [  5   3   2]]]\n",
      "3\n",
      "26\n"
     ]
    }
   ],
   "source": [
    "y = np.array([0,1,2,3,6,5,4,2,3,54,3,54,8,5,11,864,3,1,4,3,2,543,2,1,5,3,2]).reshape(3,3,3)\n",
    "print(y)\n",
    "print(len(y))\n",
    "print(np.count_nonzero(y))"
   ]
  },
  {
   "cell_type": "markdown",
   "metadata": {},
   "source": [
    "## random number 발생"
   ]
  },
  {
   "cell_type": "code",
   "execution_count": 16,
   "metadata": {
    "scrolled": true
   },
   "outputs": [
    {
     "data": {
      "text/plain": [
       "array([[3, 2, 1, 3, 2],\n",
       "       [1, 4, 3, 1, 1],\n",
       "       [4, 2, 4, 3, 4],\n",
       "       [3, 3, 3, 2, 4],\n",
       "       [2, 3, 3, 1, 2],\n",
       "       [3, 2, 3, 4, 2],\n",
       "       [1, 2, 2, 1, 3],\n",
       "       [4, 1, 4, 1, 4],\n",
       "       [2, 3, 3, 1, 1],\n",
       "       [3, 2, 1, 3, 4]], dtype=int32)"
      ]
     },
     "execution_count": 16,
     "metadata": {},
     "output_type": "execute_result"
    }
   ],
   "source": [
    "#설정한 범위 안에서 균일 분포 난수 생성\n",
    "x = np.random.randint(1,5,size=(10,5))\n",
    "x"
   ]
  },
  {
   "cell_type": "code",
   "execution_count": 18,
   "metadata": {},
   "outputs": [
    {
     "data": {
      "text/plain": [
       "array([[0.75946249, 0.64385777, 0.59680306, 0.12423724, 0.2961783 ],\n",
       "       [0.53182082, 0.81009873, 0.42954732, 0.05221746, 0.83776063],\n",
       "       [0.2167844 , 0.02807525, 0.18182573, 0.10339811, 0.02903265],\n",
       "       [0.75318123, 0.85945912, 0.33577356, 0.56302878, 0.9279127 ],\n",
       "       [0.90998867, 0.22681657, 0.67870318, 0.41688122, 0.31843095],\n",
       "       [0.04712551, 0.32028968, 0.73948174, 0.71467936, 0.36470907],\n",
       "       [0.16601108, 0.81865989, 0.15981354, 0.30013242, 0.29592586],\n",
       "       [0.12677678, 0.97343978, 0.88551716, 0.71713637, 0.31355489],\n",
       "       [0.54627562, 0.84900628, 0.44251916, 0.97371641, 0.27415816],\n",
       "       [0.3206836 , 0.29218251, 0.60456126, 0.99427109, 0.60276777]])"
      ]
     },
     "execution_count": 18,
     "metadata": {},
     "output_type": "execute_result"
    }
   ],
   "source": [
    "#0에서 1사이의 균일 분포 난수 생성\n",
    "x = np.random.rand(10,5)\n",
    "x"
   ]
  },
  {
   "cell_type": "code",
   "execution_count": 34,
   "metadata": {},
   "outputs": [
    {
     "name": "stdout",
     "output_type": "stream",
     "text": [
      "4.983554278760117\n",
      "2.8176239049214145\n",
      "10.617332377450415\n",
      "-1.3810446400974739\n"
     ]
    }
   ],
   "source": [
    "#평균과 표준편차를 가지고 정규분포 난수 생성\n",
    "x = np.random.normal(5,3,size=(10,5)) #평균이 5 표준편차가 3\n",
    "#print(x)\n",
    "print(np.mean(x)) #평균\n",
    "print(np.std(x)) #표쥰편차\n",
    "print(x.max()) \n",
    "print(x.min())"
   ]
  },
  {
   "cell_type": "code",
   "execution_count": 35,
   "metadata": {
    "scrolled": true
   },
   "outputs": [
    {
     "name": "stdout",
     "output_type": "stream",
     "text": [
      "x의 갯수 20\n",
      "x의 갯수 20\n",
      "0의 갯수 0\n"
     ]
    }
   ],
   "source": [
    "x =np.array([5,3,21,3,6,1,6,4,6,1,2,5,3,35,35,65,1,351,651,65])\n",
    "print(\"x의 갯수\",len(x))\n",
    "print(\"x의 갯수\",np.count_nonzero(x))\n",
    "print(\"0의 갯수\",len(x) - np.count_nonzero(x))"
   ]
  },
  {
   "cell_type": "code",
   "execution_count": 38,
   "metadata": {},
   "outputs": [
    {
     "name": "stdout",
     "output_type": "stream",
     "text": [
      "63.45\n",
      "63.45\n",
      "5.5\n"
     ]
    }
   ],
   "source": [
    "print(np.mean(x))\n",
    "print(x.mean())\n",
    "print(np.median(x))"
   ]
  },
  {
   "cell_type": "code",
   "execution_count": 39,
   "metadata": {},
   "outputs": [
    {
     "name": "stdout",
     "output_type": "stream",
     "text": [
      "1.0\n",
      "3.0\n",
      "5.5\n",
      "35.0\n",
      "651.0\n"
     ]
    }
   ],
   "source": [
    "print(np.percentile(x,0)) #최소값\n",
    "print(np.percentile(x,25)) #제1사분위수\n",
    "print(np.percentile(x,50)) #중앙값, 제2사분위수\n",
    "print(np.percentile(x,75)) #제3사분위수\n",
    "print(np.percentile(x,100)) #최대값"
   ]
  },
  {
   "cell_type": "markdown",
   "metadata": {},
   "source": [
    "# 판다스(pandas)"
   ]
  },
  {
   "cell_type": "markdown",
   "metadata": {},
   "source": [
    "- 시리즈(series) - 단수\n",
    "- 데이터프레임(dataframe) - 복수"
   ]
  },
  {
   "cell_type": "code",
   "execution_count": 2,
   "metadata": {},
   "outputs": [
    {
     "name": "stdout",
     "output_type": "stream",
     "text": [
      "0    1\n",
      "1    2\n",
      "2    3\n",
      "3    4\n",
      "4    5\n",
      "dtype: int64 <class 'pandas.core.series.Series'> [1 2 3 4 5] int64 \n",
      " RangeIndex(start=0, stop=5, step=1)\n",
      "0    1\n",
      "1    2\n",
      "2    3\n",
      "3    4\n",
      "4    5\n",
      "5    6\n",
      "6    7\n",
      "dtype: int64\n"
     ]
    }
   ],
   "source": [
    "#판다스 시리즈의 기초(numpy값 사용), 데이터 타입\n",
    "import numpy as np\n",
    "import pandas as pd\n",
    "\n",
    "data1 = np.arange(1,6)\n",
    "#print(data1)\n",
    "\n",
    "data2 = pd.Series(data1)\n",
    "#판다스 시리즈는 기본적으로 좌측 인덱스 값 우측은 데이터값이다.\n",
    "data3 = pd.Series([1,2,3,4,5,6,7])#, dtype=\"float\") 하나의 데이터 값을 기준으로 출력값의 형태를 동일시함\n",
    "# 만약 값 안에 소수가 있으면 전원 float 전원 정수라면 int형태로 나오는 것이다.\n",
    "print(data2, type(data2), data2.values, data2.dtype,\"\\n\", data2.index)\n",
    "print(data3)\n"
   ]
  },
  {
   "cell_type": "code",
   "execution_count": 123,
   "metadata": {},
   "outputs": [
    {
     "name": "stdout",
     "output_type": "stream",
     "text": [
      "a    1\n",
      "b    2\n",
      "c    3\n",
      "d    4\n",
      "e    5\n",
      "f    6\n",
      "g    7\n",
      "dtype: int64\n"
     ]
    }
   ],
   "source": [
    "# 판다스 시리즈의 인덱스설정\n",
    "data3 = pd.Series([1,2,3,4,5,6,7], index=[\"a\",\"b\",\"c\",\"d\",\"e\",\"f\",\"g\"])\n",
    "print(data3)"
   ]
  },
  {
   "cell_type": "code",
   "execution_count": 5,
   "metadata": {},
   "outputs": [
    {
     "name": "stdout",
     "output_type": "stream",
     "text": [
      "5182\n"
     ]
    }
   ],
   "source": [
    "#판다스 시리즈 딕셔너리데이터 \n",
    "population_dict ={\n",
    "    \"korea\":5182,\n",
    "    \"japan\":12622,\n",
    "    \"china\":141178,\n",
    "    \"usa\":32976\n",
    "}\n",
    "#population_dict.keys()\n",
    "#population_dict.values()\n",
    "#population_dict.items()\n",
    "country = pd.Series(population_dict)\n",
    "#print(country, country.index, country.values)\n",
    "#print(country.ndim, country.shape, country.size)\n",
    "# ※ 온점뒤에 오는 기능들중 ()가 들어가는건 그거에 기능을 뜻하고 ()가 없는건 특징 속성을 내는것이다.\n",
    "\n",
    "#판다스 시리즈 원소에 접근방법\n",
    "print(country.loc[\"korea\"])\n",
    "print(country.iloc[0])"
   ]
  },
  {
   "cell_type": "code",
   "execution_count": 125,
   "metadata": {},
   "outputs": [
    {
     "data": {
      "text/html": [
       "<div>\n",
       "<style scoped>\n",
       "    .dataframe tbody tr th:only-of-type {\n",
       "        vertical-align: middle;\n",
       "    }\n",
       "\n",
       "    .dataframe tbody tr th {\n",
       "        vertical-align: top;\n",
       "    }\n",
       "\n",
       "    .dataframe thead th {\n",
       "        text-align: right;\n",
       "    }\n",
       "</style>\n",
       "<table border=\"1\" class=\"dataframe\">\n",
       "  <thead>\n",
       "    <tr style=\"text-align: right;\">\n",
       "      <th></th>\n",
       "      <th>A</th>\n",
       "      <th>B</th>\n",
       "      <th>C</th>\n",
       "    </tr>\n",
       "  </thead>\n",
       "  <tbody>\n",
       "    <tr>\n",
       "      <th>a</th>\n",
       "      <td>1</td>\n",
       "      <td>2</td>\n",
       "      <td>3</td>\n",
       "    </tr>\n",
       "    <tr>\n",
       "      <th>b</th>\n",
       "      <td>4</td>\n",
       "      <td>5</td>\n",
       "      <td>6</td>\n",
       "    </tr>\n",
       "    <tr>\n",
       "      <th>c</th>\n",
       "      <td>7</td>\n",
       "      <td>8</td>\n",
       "      <td>9</td>\n",
       "    </tr>\n",
       "  </tbody>\n",
       "</table>\n",
       "</div>"
      ],
      "text/plain": [
       "   A  B  C\n",
       "a  1  2  3\n",
       "b  4  5  6\n",
       "c  7  8  9"
      ]
     },
     "execution_count": 125,
     "metadata": {},
     "output_type": "execute_result"
    }
   ],
   "source": [
    "#판다스 데이터 프레임\n",
    "df = pd.DataFrame([[1,2,3],[4,5,6],[7,8,9]], index=[\"a\",\"b\",\"c\"], columns=[\"A\",\"B\",\"C\"])\n",
    "# 판다스 데이터 프레임은 값을 표처럼 만들어준다.\n",
    "# 여기서 인덱스는 세로 값 이름, 컬럼스는 가로 값 이름을 정할 수 있다.\n",
    "df"
   ]
  },
  {
   "cell_type": "code",
   "execution_count": 2,
   "metadata": {},
   "outputs": [
    {
     "name": "stdout",
     "output_type": "stream",
     "text": [
      "인구수 시리즈 데이터 :\n",
      "korea      5182\n",
      "japan     12622\n",
      "china    141178\n",
      "usa       32976\n",
      "dtype: int64\n",
      "\n",
      "GDP 시리즈 데이터 :\n",
      "korea     169320000\n",
      "japan     516700000\n",
      "china     140925000\n",
      "usa      2041280000\n",
      "dtype: int64\n",
      "=========================\n",
      "데이터 프레임 생성\n",
      "Index(['korea', 'japan', 'china', 'usa'], dtype='object', name='Country') Index(['population', 'gdp'], dtype='object', name='INFO') [[      5182  169320000]\n",
      " [     12622  516700000]\n",
      " [    141178  140925000]\n",
      " [     32976 2041280000]]\n",
      "(4, 2) 2 8\n"
     ]
    }
   ],
   "source": [
    "#테스트\n",
    "import numpy as np\n",
    "import pandas as pd\n",
    "\n",
    "#두 개의 시리즈 데이터\n",
    "print(\"인구수 시리즈 데이터 :\")\n",
    "population_dict ={\n",
    "    \"korea\":5182,\n",
    "    \"japan\":12622,\n",
    "    \"china\":141178,\n",
    "    \"usa\":32976\n",
    "}\n",
    "population = pd.Series(population_dict)\n",
    "print(population)\n",
    "print()\n",
    "print(\"GDP 시리즈 데이터 :\")\n",
    "GDP_dict ={\n",
    "    \"korea\":169320000,\n",
    "    \"japan\":516700000,\n",
    "    \"china\":140925000,\n",
    "    \"usa\":2041280000\n",
    "}\n",
    "GDP = pd.Series(GDP_dict)\n",
    "print(GDP)\n",
    "print(\"=\"*25)\n",
    "print(\"데이터 프레임 생성\")\n",
    "country = pd.DataFrame({\"population\":population,\"gdp\":GDP})\n",
    "country.index.name =\"Country\" #인덱스 이름 지정\n",
    "country.columns.name = \"INFO\" #컬럼 이름지정\n",
    "print(country.index, country.columns, country.values)\n",
    "print(country.shape, country.ndim, country.size)"
   ]
  },
  {
   "cell_type": "code",
   "execution_count": 4,
   "metadata": {},
   "outputs": [
    {
     "data": {
      "text/plain": [
       "(INFO\n",
       " population       141178\n",
       " gdp           140925000\n",
       " Name: china, dtype: int64,\n",
       " INFO\n",
       " population        12622\n",
       " gdp           516700000\n",
       " Name: japan, dtype: int64)"
      ]
     },
     "execution_count": 4,
     "metadata": {},
     "output_type": "execute_result"
    }
   ],
   "source": [
    "#데이터 프레임의 요소 접근방법, loc ,iloc\n",
    "country.loc[\"korea\"],country.loc[\"usa\"]\n",
    "#loc는 2개의 값을 지정해서 출력 행과 열을 입력하면 그 값을 가져올수있다.\n",
    "country.iloc[2],country.iloc[1]"
   ]
  },
  {
   "cell_type": "code",
   "execution_count": 128,
   "metadata": {},
   "outputs": [
    {
     "data": {
      "text/html": [
       "<div>\n",
       "<style scoped>\n",
       "    .dataframe tbody tr th:only-of-type {\n",
       "        vertical-align: middle;\n",
       "    }\n",
       "\n",
       "    .dataframe tbody tr th {\n",
       "        vertical-align: top;\n",
       "    }\n",
       "\n",
       "    .dataframe thead th {\n",
       "        text-align: right;\n",
       "    }\n",
       "</style>\n",
       "<table border=\"1\" class=\"dataframe\">\n",
       "  <thead>\n",
       "    <tr style=\"text-align: right;\">\n",
       "      <th>INFO</th>\n",
       "      <th>population</th>\n",
       "    </tr>\n",
       "    <tr>\n",
       "      <th>Country</th>\n",
       "      <th></th>\n",
       "    </tr>\n",
       "  </thead>\n",
       "  <tbody>\n",
       "    <tr>\n",
       "      <th>korea</th>\n",
       "      <td>5182</td>\n",
       "    </tr>\n",
       "    <tr>\n",
       "      <th>japan</th>\n",
       "      <td>12622</td>\n",
       "    </tr>\n",
       "    <tr>\n",
       "      <th>china</th>\n",
       "      <td>141178</td>\n",
       "    </tr>\n",
       "  </tbody>\n",
       "</table>\n",
       "</div>"
      ],
      "text/plain": [
       "INFO     population\n",
       "Country            \n",
       "korea          5182\n",
       "japan         12622\n",
       "china        141178"
      ]
     },
     "execution_count": 128,
     "metadata": {},
     "output_type": "execute_result"
    }
   ],
   "source": [
    "country.loc[\"korea\":\"china\",:\"population\"]"
   ]
  },
  {
   "cell_type": "code",
   "execution_count": 129,
   "metadata": {},
   "outputs": [
    {
     "data": {
      "text/html": [
       "<div>\n",
       "<style scoped>\n",
       "    .dataframe tbody tr th:only-of-type {\n",
       "        vertical-align: middle;\n",
       "    }\n",
       "\n",
       "    .dataframe tbody tr th {\n",
       "        vertical-align: top;\n",
       "    }\n",
       "\n",
       "    .dataframe thead th {\n",
       "        text-align: right;\n",
       "    }\n",
       "</style>\n",
       "<table border=\"1\" class=\"dataframe\">\n",
       "  <thead>\n",
       "    <tr style=\"text-align: right;\">\n",
       "      <th>INFO</th>\n",
       "      <th>population</th>\n",
       "    </tr>\n",
       "    <tr>\n",
       "      <th>Country</th>\n",
       "      <th></th>\n",
       "    </tr>\n",
       "  </thead>\n",
       "  <tbody>\n",
       "    <tr>\n",
       "      <th>korea</th>\n",
       "      <td>5182</td>\n",
       "    </tr>\n",
       "    <tr>\n",
       "      <th>japan</th>\n",
       "      <td>12622</td>\n",
       "    </tr>\n",
       "  </tbody>\n",
       "</table>\n",
       "</div>"
      ],
      "text/plain": [
       "INFO     population\n",
       "Country            \n",
       "korea          5182\n",
       "japan         12622"
      ]
     },
     "execution_count": 129,
     "metadata": {},
     "output_type": "execute_result"
    }
   ],
   "source": [
    "country.iloc[0:2,:1]"
   ]
  },
  {
   "cell_type": "code",
   "execution_count": 130,
   "metadata": {
    "scrolled": true
   },
   "outputs": [
    {
     "data": {
      "text/html": [
       "<div>\n",
       "<style scoped>\n",
       "    .dataframe tbody tr th:only-of-type {\n",
       "        vertical-align: middle;\n",
       "    }\n",
       "\n",
       "    .dataframe tbody tr th {\n",
       "        vertical-align: top;\n",
       "    }\n",
       "\n",
       "    .dataframe thead th {\n",
       "        text-align: right;\n",
       "    }\n",
       "</style>\n",
       "<table border=\"1\" class=\"dataframe\">\n",
       "  <thead>\n",
       "    <tr style=\"text-align: right;\">\n",
       "      <th>INFO</th>\n",
       "      <th>gdp</th>\n",
       "    </tr>\n",
       "    <tr>\n",
       "      <th>Country</th>\n",
       "      <th></th>\n",
       "    </tr>\n",
       "  </thead>\n",
       "  <tbody>\n",
       "    <tr>\n",
       "      <th>japan</th>\n",
       "      <td>516700000</td>\n",
       "    </tr>\n",
       "    <tr>\n",
       "      <th>china</th>\n",
       "      <td>140925000</td>\n",
       "    </tr>\n",
       "    <tr>\n",
       "      <th>usa</th>\n",
       "      <td>2041280000</td>\n",
       "    </tr>\n",
       "  </tbody>\n",
       "</table>\n",
       "</div>"
      ],
      "text/plain": [
       "INFO            gdp\n",
       "Country            \n",
       "japan     516700000\n",
       "china     140925000\n",
       "usa      2041280000"
      ]
     },
     "execution_count": 130,
     "metadata": {},
     "output_type": "execute_result"
    }
   ],
   "source": [
    "country.iloc[1:4,1:]"
   ]
  },
  {
   "cell_type": "code",
   "execution_count": 131,
   "metadata": {},
   "outputs": [
    {
     "data": {
      "text/html": [
       "<div>\n",
       "<style scoped>\n",
       "    .dataframe tbody tr th:only-of-type {\n",
       "        vertical-align: middle;\n",
       "    }\n",
       "\n",
       "    .dataframe tbody tr th {\n",
       "        vertical-align: top;\n",
       "    }\n",
       "\n",
       "    .dataframe thead th {\n",
       "        text-align: right;\n",
       "    }\n",
       "</style>\n",
       "<table border=\"1\" class=\"dataframe\">\n",
       "  <thead>\n",
       "    <tr style=\"text-align: right;\">\n",
       "      <th>INFO</th>\n",
       "      <th>population</th>\n",
       "      <th>gdp</th>\n",
       "    </tr>\n",
       "    <tr>\n",
       "      <th>Country</th>\n",
       "      <th></th>\n",
       "      <th></th>\n",
       "    </tr>\n",
       "  </thead>\n",
       "  <tbody>\n",
       "    <tr>\n",
       "      <th>japan</th>\n",
       "      <td>12622</td>\n",
       "      <td>516700000</td>\n",
       "    </tr>\n",
       "    <tr>\n",
       "      <th>china</th>\n",
       "      <td>141178</td>\n",
       "      <td>140925000</td>\n",
       "    </tr>\n",
       "  </tbody>\n",
       "</table>\n",
       "</div>"
      ],
      "text/plain": [
       "INFO     population        gdp\n",
       "Country                       \n",
       "japan         12622  516700000\n",
       "china        141178  140925000"
      ]
     },
     "execution_count": 131,
     "metadata": {},
     "output_type": "execute_result"
    }
   ],
   "source": [
    "country.iloc[1:3]"
   ]
  },
  {
   "cell_type": "code",
   "execution_count": 132,
   "metadata": {},
   "outputs": [
    {
     "data": {
      "text/html": [
       "<div>\n",
       "<style scoped>\n",
       "    .dataframe tbody tr th:only-of-type {\n",
       "        vertical-align: middle;\n",
       "    }\n",
       "\n",
       "    .dataframe tbody tr th {\n",
       "        vertical-align: top;\n",
       "    }\n",
       "\n",
       "    .dataframe thead th {\n",
       "        text-align: right;\n",
       "    }\n",
       "</style>\n",
       "<table border=\"1\" class=\"dataframe\">\n",
       "  <thead>\n",
       "    <tr style=\"text-align: right;\">\n",
       "      <th>INFO</th>\n",
       "      <th>population</th>\n",
       "      <th>gdp</th>\n",
       "      <th>gdp_per</th>\n",
       "    </tr>\n",
       "    <tr>\n",
       "      <th>Country</th>\n",
       "      <th></th>\n",
       "      <th></th>\n",
       "      <th></th>\n",
       "    </tr>\n",
       "  </thead>\n",
       "  <tbody>\n",
       "    <tr>\n",
       "      <th>korea</th>\n",
       "      <td>5182</td>\n",
       "      <td>169320000</td>\n",
       "      <td>32674.642995</td>\n",
       "    </tr>\n",
       "    <tr>\n",
       "      <th>japan</th>\n",
       "      <td>12622</td>\n",
       "      <td>516700000</td>\n",
       "      <td>40936.460149</td>\n",
       "    </tr>\n",
       "    <tr>\n",
       "      <th>china</th>\n",
       "      <td>141178</td>\n",
       "      <td>140925000</td>\n",
       "      <td>998.207936</td>\n",
       "    </tr>\n",
       "    <tr>\n",
       "      <th>usa</th>\n",
       "      <td>32976</td>\n",
       "      <td>2041280000</td>\n",
       "      <td>61901.989326</td>\n",
       "    </tr>\n",
       "  </tbody>\n",
       "</table>\n",
       "</div>"
      ],
      "text/plain": [
       "INFO     population         gdp       gdp_per\n",
       "Country                                      \n",
       "korea          5182   169320000  32674.642995\n",
       "japan         12622   516700000  40936.460149\n",
       "china        141178   140925000    998.207936\n",
       "usa           32976  2041280000  61901.989326"
      ]
     },
     "execution_count": 132,
     "metadata": {},
     "output_type": "execute_result"
    }
   ],
   "source": [
    "#데이터 프레임의 컬럼 생성방법\n",
    "#country[\"test\"]=[11,22,33,44]\n",
    "#country.drop(\"test\",axis=1) # 컬럼을 지울 때 사용 axis는 열과 행을 지정 0는 행을 1은 열을 제거\n",
    "gdpper = country[\"gdp\"] / country[\"population\"]\n",
    "country[\"gdp_per\"]= gdpper\n",
    "country\n"
   ]
  },
  {
   "cell_type": "code",
   "execution_count": 136,
   "metadata": {},
   "outputs": [
    {
     "data": {
      "text/html": [
       "<div>\n",
       "<style scoped>\n",
       "    .dataframe tbody tr th:only-of-type {\n",
       "        vertical-align: middle;\n",
       "    }\n",
       "\n",
       "    .dataframe tbody tr th {\n",
       "        vertical-align: top;\n",
       "    }\n",
       "\n",
       "    .dataframe thead th {\n",
       "        text-align: right;\n",
       "    }\n",
       "</style>\n",
       "<table border=\"1\" class=\"dataframe\">\n",
       "  <thead>\n",
       "    <tr style=\"text-align: right;\">\n",
       "      <th>INFO</th>\n",
       "      <th>population</th>\n",
       "      <th>gdp</th>\n",
       "      <th>gdp_per</th>\n",
       "    </tr>\n",
       "    <tr>\n",
       "      <th>Country</th>\n",
       "      <th></th>\n",
       "      <th></th>\n",
       "      <th></th>\n",
       "    </tr>\n",
       "  </thead>\n",
       "  <tbody>\n",
       "    <tr>\n",
       "      <th>korea</th>\n",
       "      <td>5182</td>\n",
       "      <td>169320000</td>\n",
       "      <td>32674.642995</td>\n",
       "    </tr>\n",
       "    <tr>\n",
       "      <th>japan</th>\n",
       "      <td>12622</td>\n",
       "      <td>516700000</td>\n",
       "      <td>40936.460149</td>\n",
       "    </tr>\n",
       "    <tr>\n",
       "      <th>china</th>\n",
       "      <td>141178</td>\n",
       "      <td>140925000</td>\n",
       "      <td>998.207936</td>\n",
       "    </tr>\n",
       "    <tr>\n",
       "      <th>usa</th>\n",
       "      <td>32976</td>\n",
       "      <td>2041280000</td>\n",
       "      <td>61901.989326</td>\n",
       "    </tr>\n",
       "    <tr>\n",
       "      <th>india</th>\n",
       "      <td>14222</td>\n",
       "      <td>1505050000</td>\n",
       "      <td>105825.481648</td>\n",
       "    </tr>\n",
       "  </tbody>\n",
       "</table>\n",
       "</div>"
      ],
      "text/plain": [
       "INFO     population         gdp        gdp_per\n",
       "Country                                       \n",
       "korea          5182   169320000   32674.642995\n",
       "japan         12622   516700000   40936.460149\n",
       "china        141178   140925000     998.207936\n",
       "usa           32976  2041280000   61901.989326\n",
       "india         14222  1505050000  105825.481648"
      ]
     },
     "execution_count": 136,
     "metadata": {},
     "output_type": "execute_result"
    }
   ],
   "source": [
    "#데이터 프레임의 인덱스 생성방법 1\n",
    "country.loc[\"india\"] = [14222,1505050000,12121212]\n",
    "country.loc[\"india\",\"gdp_per\"] = country.loc[\"india\",\"gdp\"]/country.loc[\"india\",\"population\"]\n",
    "country"
   ]
  },
  {
   "cell_type": "code",
   "execution_count": 138,
   "metadata": {},
   "outputs": [
    {
     "data": {
      "text/html": [
       "<div>\n",
       "<style scoped>\n",
       "    .dataframe tbody tr th:only-of-type {\n",
       "        vertical-align: middle;\n",
       "    }\n",
       "\n",
       "    .dataframe tbody tr th {\n",
       "        vertical-align: top;\n",
       "    }\n",
       "\n",
       "    .dataframe thead th {\n",
       "        text-align: right;\n",
       "    }\n",
       "</style>\n",
       "<table border=\"1\" class=\"dataframe\">\n",
       "  <thead>\n",
       "    <tr style=\"text-align: right;\">\n",
       "      <th>INFO</th>\n",
       "      <th>population</th>\n",
       "      <th>gdp</th>\n",
       "      <th>gdp_per</th>\n",
       "    </tr>\n",
       "    <tr>\n",
       "      <th>Country</th>\n",
       "      <th></th>\n",
       "      <th></th>\n",
       "      <th></th>\n",
       "    </tr>\n",
       "  </thead>\n",
       "  <tbody>\n",
       "    <tr>\n",
       "      <th>korea</th>\n",
       "      <td>5182.0</td>\n",
       "      <td>1.693200e+08</td>\n",
       "      <td>32674.642995</td>\n",
       "    </tr>\n",
       "    <tr>\n",
       "      <th>japan</th>\n",
       "      <td>12622.0</td>\n",
       "      <td>5.167000e+08</td>\n",
       "      <td>40936.460149</td>\n",
       "    </tr>\n",
       "    <tr>\n",
       "      <th>china</th>\n",
       "      <td>141178.0</td>\n",
       "      <td>1.409250e+08</td>\n",
       "      <td>998.207936</td>\n",
       "    </tr>\n",
       "    <tr>\n",
       "      <th>usa</th>\n",
       "      <td>32976.0</td>\n",
       "      <td>2.041280e+09</td>\n",
       "      <td>61901.989326</td>\n",
       "    </tr>\n",
       "    <tr>\n",
       "      <th>india</th>\n",
       "      <td>14222.0</td>\n",
       "      <td>1.505050e+09</td>\n",
       "      <td>105825.481648</td>\n",
       "    </tr>\n",
       "    <tr>\n",
       "      <th>africa</th>\n",
       "      <td>123456.0</td>\n",
       "      <td>7.777770e+05</td>\n",
       "      <td>NaN</td>\n",
       "    </tr>\n",
       "  </tbody>\n",
       "</table>\n",
       "</div>"
      ],
      "text/plain": [
       "INFO     population           gdp        gdp_per\n",
       "Country                                         \n",
       "korea        5182.0  1.693200e+08   32674.642995\n",
       "japan       12622.0  5.167000e+08   40936.460149\n",
       "china      141178.0  1.409250e+08     998.207936\n",
       "usa         32976.0  2.041280e+09   61901.989326\n",
       "india       14222.0  1.505050e+09  105825.481648\n",
       "africa     123456.0  7.777770e+05            NaN"
      ]
     },
     "execution_count": 138,
     "metadata": {},
     "output_type": "execute_result"
    }
   ],
   "source": [
    "#데이터 프레임의 인덱스 생성방법 2\n",
    "africa = pd.Series(data=[123456,777777],index=[\"population\",\"gdp\"])\n",
    "country.loc[\"africa\"]=africa\n",
    "country\n"
   ]
  },
  {
   "cell_type": "code",
   "execution_count": 140,
   "metadata": {},
   "outputs": [
    {
     "data": {
      "text/plain": [
       "INFO\n",
       "population    0\n",
       "gdp           0\n",
       "gdp_per       1\n",
       "dtype: int64"
      ]
     },
     "execution_count": 140,
     "metadata": {},
     "output_type": "execute_result"
    }
   ],
   "source": [
    "country.isnull().sum()"
   ]
  },
  {
   "cell_type": "code",
   "execution_count": null,
   "metadata": {},
   "outputs": [],
   "source": [
    "# 열제거 drop(이름,exis=0)\n",
    "country.drop(\"africa\",axis=0)#inplace = Ture\n",
    "country"
   ]
  },
  {
   "cell_type": "code",
   "execution_count": null,
   "metadata": {},
   "outputs": [],
   "source": [
    "#테스트 1 조건\n",
    "country[country[\"population\"]>140000]"
   ]
  },
  {
   "cell_type": "code",
   "execution_count": null,
   "metadata": {},
   "outputs": [
    {
     "data": {
      "text/html": [
       "<div>\n",
       "<style scoped>\n",
       "    .dataframe tbody tr th:only-of-type {\n",
       "        vertical-align: middle;\n",
       "    }\n",
       "\n",
       "    .dataframe tbody tr th {\n",
       "        vertical-align: top;\n",
       "    }\n",
       "\n",
       "    .dataframe thead th {\n",
       "        text-align: right;\n",
       "    }\n",
       "</style>\n",
       "<table border=\"1\" class=\"dataframe\">\n",
       "  <thead>\n",
       "    <tr style=\"text-align: right;\">\n",
       "      <th>INFO</th>\n",
       "      <th>population</th>\n",
       "    </tr>\n",
       "    <tr>\n",
       "      <th>Country</th>\n",
       "      <th></th>\n",
       "    </tr>\n",
       "  </thead>\n",
       "  <tbody>\n",
       "    <tr>\n",
       "      <th>japan</th>\n",
       "      <td>12622.0</td>\n",
       "    </tr>\n",
       "    <tr>\n",
       "      <th>usa</th>\n",
       "      <td>32976.0</td>\n",
       "    </tr>\n",
       "    <tr>\n",
       "      <th>india</th>\n",
       "      <td>14222.0</td>\n",
       "    </tr>\n",
       "  </tbody>\n",
       "</table>\n",
       "</div>"
      ],
      "text/plain": [
       "INFO     population\n",
       "Country            \n",
       "japan       12622.0\n",
       "usa         32976.0\n",
       "india       14222.0"
      ]
     },
     "execution_count": 149,
     "metadata": {},
     "output_type": "execute_result"
    }
   ],
   "source": [
    "#테스트 2 조건, 슬라이싱(loc,iloc필수)\n",
    "country[(country[\"population\"]>10000) & (country[\"population\"] < 100000)].loc[:,:\"population\"]"
   ]
  },
  {
   "cell_type": "code",
   "execution_count": 240,
   "metadata": {},
   "outputs": [
    {
     "data": {
      "text/html": [
       "<div>\n",
       "<style scoped>\n",
       "    .dataframe tbody tr th:only-of-type {\n",
       "        vertical-align: middle;\n",
       "    }\n",
       "\n",
       "    .dataframe tbody tr th {\n",
       "        vertical-align: top;\n",
       "    }\n",
       "\n",
       "    .dataframe thead th {\n",
       "        text-align: right;\n",
       "    }\n",
       "</style>\n",
       "<table border=\"1\" class=\"dataframe\">\n",
       "  <thead>\n",
       "    <tr style=\"text-align: right;\">\n",
       "      <th></th>\n",
       "      <th>국어</th>\n",
       "      <th>수학</th>\n",
       "      <th>영어</th>\n",
       "    </tr>\n",
       "  </thead>\n",
       "  <tbody>\n",
       "    <tr>\n",
       "      <th>홍길동</th>\n",
       "      <td>80</td>\n",
       "      <td>70</td>\n",
       "      <td>80</td>\n",
       "    </tr>\n",
       "    <tr>\n",
       "      <th>박철수</th>\n",
       "      <td>60</td>\n",
       "      <td>70</td>\n",
       "      <td>80</td>\n",
       "    </tr>\n",
       "    <tr>\n",
       "      <th>김영희</th>\n",
       "      <td>70</td>\n",
       "      <td>90</td>\n",
       "      <td>80</td>\n",
       "    </tr>\n",
       "  </tbody>\n",
       "</table>\n",
       "</div>"
      ],
      "text/plain": [
       "     국어  수학  영어\n",
       "홍길동  80  70  80\n",
       "박철수  60  70  80\n",
       "김영희  70  90  80"
      ]
     },
     "execution_count": 240,
     "metadata": {},
     "output_type": "execute_result"
    }
   ],
   "source": [
    "data1 = pd.DataFrame([[80,70,80],[60,70,80],[70,90,80]],index = [\"홍길동\",\"박철수\",\"김영희\"],columns=[\"국어\",\"수학\",\"영어\"])\n",
    "data1"
   ]
  },
  {
   "cell_type": "code",
   "execution_count": 241,
   "metadata": {},
   "outputs": [
    {
     "data": {
      "text/html": [
       "<div>\n",
       "<style scoped>\n",
       "    .dataframe tbody tr th:only-of-type {\n",
       "        vertical-align: middle;\n",
       "    }\n",
       "\n",
       "    .dataframe tbody tr th {\n",
       "        vertical-align: top;\n",
       "    }\n",
       "\n",
       "    .dataframe thead th {\n",
       "        text-align: right;\n",
       "    }\n",
       "</style>\n",
       "<table border=\"1\" class=\"dataframe\">\n",
       "  <thead>\n",
       "    <tr style=\"text-align: right;\">\n",
       "      <th></th>\n",
       "      <th>국어</th>\n",
       "      <th>수학</th>\n",
       "    </tr>\n",
       "  </thead>\n",
       "  <tbody>\n",
       "    <tr>\n",
       "      <th>박철수</th>\n",
       "      <td>60</td>\n",
       "      <td>70</td>\n",
       "    </tr>\n",
       "  </tbody>\n",
       "</table>\n",
       "</div>"
      ],
      "text/plain": [
       "     국어  수학\n",
       "박철수  60  70"
      ]
     },
     "execution_count": 241,
     "metadata": {},
     "output_type": "execute_result"
    }
   ],
   "source": [
    "data1.iloc[1:2,:2]"
   ]
  },
  {
   "cell_type": "code",
   "execution_count": 242,
   "metadata": {},
   "outputs": [
    {
     "data": {
      "text/html": [
       "<div>\n",
       "<style scoped>\n",
       "    .dataframe tbody tr th:only-of-type {\n",
       "        vertical-align: middle;\n",
       "    }\n",
       "\n",
       "    .dataframe tbody tr th {\n",
       "        vertical-align: top;\n",
       "    }\n",
       "\n",
       "    .dataframe thead th {\n",
       "        text-align: right;\n",
       "    }\n",
       "</style>\n",
       "<table border=\"1\" class=\"dataframe\">\n",
       "  <thead>\n",
       "    <tr style=\"text-align: right;\">\n",
       "      <th></th>\n",
       "      <th>국어</th>\n",
       "      <th>수학</th>\n",
       "      <th>영어</th>\n",
       "    </tr>\n",
       "  </thead>\n",
       "  <tbody>\n",
       "    <tr>\n",
       "      <th>홍길동</th>\n",
       "      <td>80</td>\n",
       "      <td>70</td>\n",
       "      <td>80</td>\n",
       "    </tr>\n",
       "    <tr>\n",
       "      <th>박철수</th>\n",
       "      <td>60</td>\n",
       "      <td>70</td>\n",
       "      <td>80</td>\n",
       "    </tr>\n",
       "    <tr>\n",
       "      <th>김영희</th>\n",
       "      <td>70</td>\n",
       "      <td>90</td>\n",
       "      <td>80</td>\n",
       "    </tr>\n",
       "  </tbody>\n",
       "</table>\n",
       "</div>"
      ],
      "text/plain": [
       "     국어  수학  영어\n",
       "홍길동  80  70  80\n",
       "박철수  60  70  80\n",
       "김영희  70  90  80"
      ]
     },
     "execution_count": 242,
     "metadata": {},
     "output_type": "execute_result"
    }
   ],
   "source": [
    "data1[data1[\"수학\"]>=70]"
   ]
  },
  {
   "cell_type": "code",
   "execution_count": 243,
   "metadata": {},
   "outputs": [
    {
     "data": {
      "text/html": [
       "<div>\n",
       "<style scoped>\n",
       "    .dataframe tbody tr th:only-of-type {\n",
       "        vertical-align: middle;\n",
       "    }\n",
       "\n",
       "    .dataframe tbody tr th {\n",
       "        vertical-align: top;\n",
       "    }\n",
       "\n",
       "    .dataframe thead th {\n",
       "        text-align: right;\n",
       "    }\n",
       "</style>\n",
       "<table border=\"1\" class=\"dataframe\">\n",
       "  <thead>\n",
       "    <tr style=\"text-align: right;\">\n",
       "      <th></th>\n",
       "      <th>국어</th>\n",
       "      <th>수학</th>\n",
       "      <th>영어</th>\n",
       "      <th>평균</th>\n",
       "    </tr>\n",
       "  </thead>\n",
       "  <tbody>\n",
       "    <tr>\n",
       "      <th>홍길동</th>\n",
       "      <td>80</td>\n",
       "      <td>70</td>\n",
       "      <td>80</td>\n",
       "      <td>76.666667</td>\n",
       "    </tr>\n",
       "    <tr>\n",
       "      <th>박철수</th>\n",
       "      <td>60</td>\n",
       "      <td>70</td>\n",
       "      <td>80</td>\n",
       "      <td>70.000000</td>\n",
       "    </tr>\n",
       "    <tr>\n",
       "      <th>김영희</th>\n",
       "      <td>70</td>\n",
       "      <td>90</td>\n",
       "      <td>80</td>\n",
       "      <td>80.000000</td>\n",
       "    </tr>\n",
       "  </tbody>\n",
       "</table>\n",
       "</div>"
      ],
      "text/plain": [
       "     국어  수학  영어         평균\n",
       "홍길동  80  70  80  76.666667\n",
       "박철수  60  70  80  70.000000\n",
       "김영희  70  90  80  80.000000"
      ]
     },
     "execution_count": 243,
     "metadata": {},
     "output_type": "execute_result"
    }
   ],
   "source": [
    "average = (data1[\"국어\"]+data1[\"수학\"]+data1[\"영어\"])/3\n",
    "data1[\"평균\"] = average\n",
    "data1"
   ]
  },
  {
   "cell_type": "code",
   "execution_count": 244,
   "metadata": {},
   "outputs": [
    {
     "data": {
      "text/html": [
       "<div>\n",
       "<style scoped>\n",
       "    .dataframe tbody tr th:only-of-type {\n",
       "        vertical-align: middle;\n",
       "    }\n",
       "\n",
       "    .dataframe tbody tr th {\n",
       "        vertical-align: top;\n",
       "    }\n",
       "\n",
       "    .dataframe thead th {\n",
       "        text-align: right;\n",
       "    }\n",
       "</style>\n",
       "<table border=\"1\" class=\"dataframe\">\n",
       "  <thead>\n",
       "    <tr style=\"text-align: right;\">\n",
       "      <th></th>\n",
       "      <th>국어</th>\n",
       "      <th>수학</th>\n",
       "      <th>영어</th>\n",
       "      <th>평균</th>\n",
       "    </tr>\n",
       "  </thead>\n",
       "  <tbody>\n",
       "    <tr>\n",
       "      <th>홍길동</th>\n",
       "      <td>80.0</td>\n",
       "      <td>70.0</td>\n",
       "      <td>80.0</td>\n",
       "      <td>76.666667</td>\n",
       "    </tr>\n",
       "    <tr>\n",
       "      <th>박철수</th>\n",
       "      <td>60.0</td>\n",
       "      <td>70.0</td>\n",
       "      <td>80.0</td>\n",
       "      <td>70.000000</td>\n",
       "    </tr>\n",
       "    <tr>\n",
       "      <th>김영희</th>\n",
       "      <td>70.0</td>\n",
       "      <td>90.0</td>\n",
       "      <td>80.0</td>\n",
       "      <td>80.000000</td>\n",
       "    </tr>\n",
       "    <tr>\n",
       "      <th>최자바</th>\n",
       "      <td>55.0</td>\n",
       "      <td>95.0</td>\n",
       "      <td>70.0</td>\n",
       "      <td>73.333333</td>\n",
       "    </tr>\n",
       "  </tbody>\n",
       "</table>\n",
       "</div>"
      ],
      "text/plain": [
       "       국어    수학    영어         평균\n",
       "홍길동  80.0  70.0  80.0  76.666667\n",
       "박철수  60.0  70.0  80.0  70.000000\n",
       "김영희  70.0  90.0  80.0  80.000000\n",
       "최자바  55.0  95.0  70.0  73.333333"
      ]
     },
     "execution_count": 244,
     "metadata": {},
     "output_type": "execute_result"
    }
   ],
   "source": [
    "a = pd.Series(data=[55,95,70],index=[\"국어\",\"수학\",\"영어\",])\n",
    "data1.loc[\"최자바\"]=a\n",
    "average = (data1[\"국어\"]+data1[\"수학\"]+data1[\"영어\"])/3\n",
    "data1[\"평균\"] = average\n",
    "data1\n"
   ]
  },
  {
   "cell_type": "code",
   "execution_count": 247,
   "metadata": {},
   "outputs": [
    {
     "name": "stdout",
     "output_type": "stream",
     "text": [
      "[['홍길동' '80' '70' '80']\n",
      " ['박철수' '60' '70' '80']\n",
      " ['김영희' '70' '90' '80']]\n"
     ]
    }
   ],
   "source": [
    "import numpy as np\n",
    "data = np.array([[\"홍길동\",80,70,80],[\"박철수\",60,70,80],[\"김영희\",70,90,80]])\n",
    "print(data)"
   ]
  },
  {
   "cell_type": "code",
   "execution_count": null,
   "metadata": {},
   "outputs": [],
   "source": [
    "data [data[\"국어\"].dtype(data)]"
   ]
  }
 ],
 "metadata": {
  "colab": {
   "authorship_tag": "ABX9TyNofFmx3Q2lGtAx5TdHQzHs",
   "provenance": []
  },
  "kernelspec": {
   "display_name": "Python 3 (ipykernel)",
   "language": "python",
   "name": "python3"
  },
  "language_info": {
   "codemirror_mode": {
    "name": "ipython",
    "version": 3
   },
   "file_extension": ".py",
   "mimetype": "text/x-python",
   "name": "python",
   "nbconvert_exporter": "python",
   "pygments_lexer": "ipython3",
   "version": "3.13.1"
  }
 },
 "nbformat": 4,
 "nbformat_minor": 4
}

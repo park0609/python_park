{
 "cells": [
  {
   "cell_type": "code",
   "execution_count": 2,
   "id": "850917c1-6197-4d0b-9805-45e8c41ffc67",
   "metadata": {},
   "outputs": [],
   "source": [
    "def is_doo(number):\n",
    "    if number%2 == 1:\n",
    "        return True\n",
    "    else:\n",
    "        return False\n",
    "# 몫이 1이면 홀수"
   ]
  },
  {
   "cell_type": "code",
   "execution_count": 3,
   "id": "9fc42bd7-1d43-4f91-bc7e-431c54222aae",
   "metadata": {},
   "outputs": [
    {
     "data": {
      "text/plain": [
       "True"
      ]
     },
     "execution_count": 3,
     "metadata": {},
     "output_type": "execute_result"
    }
   ],
   "source": [
    "is_doo(3)"
   ]
  },
  {
   "cell_type": "code",
   "execution_count": 7,
   "id": "3d4b6bbf-6884-410b-9482-5e09fdb88cb2",
   "metadata": {},
   "outputs": [
    {
     "name": "stdout",
     "output_type": "stream",
     "text": [
      "1.5\n",
      "3.0\n"
     ]
    }
   ],
   "source": [
    "def avg_numbers(*args):\n",
    "    result = 0\n",
    "    for i in args:\n",
    "        result += i\n",
    "    return result/len(args)\n",
    "\n",
    "print(avg_numbers(1,2))\n",
    "print(avg_numbers(1,2,3,4,5))\n",
    "#값이 얼만지 모를떈 그걸 배열로 집어넣어야한다. 이때 함수 값에 *을 앞에 붙이면 튜플을 취급한다는 의미이므로 *을 붙여준다.\n",
    "# **은 딕셔너리 취급"
   ]
  },
  {
   "cell_type": "code",
   "execution_count": 9,
   "id": "98111a5b-1ba5-493c-b079-cc0a4ee160e7",
   "metadata": {},
   "outputs": [
    {
     "name": "stdin",
     "output_type": "stream",
     "text": [
      "첫 번쨰 숫자를 입력하세요 3\n",
      "두 번째 숫자를 입력하세요 6\n"
     ]
    },
    {
     "name": "stdout",
     "output_type": "stream",
     "text": [
      "두 수의 합은 9입니다.\n"
     ]
    }
   ],
   "source": [
    "input1 = input(\"첫 번쨰 숫자를 입력하세요\")\n",
    "input2 = input(\"두 번째 숫자를 입력하세요\")\n",
    "\n",
    "total = int(input1) + int(input2)\n",
    "print(f\"두 수의 합은 {total}입니다.\")\n",
    "# input으로 입력을하면 기본으로 str취급이기 때문에 int를 붙여줘야 숫자가 되서 숫자열 산수를 한다."
   ]
  },
  {
   "cell_type": "code",
   "execution_count": null,
   "id": "0cf4b346-f8e1-47b4-b23b-3d9e662e2c4f",
   "metadata": {},
   "outputs": [],
   "source": [
    "# 3번 나머지는 youneedpython으로 출력되지만 3번은 각각의 단어가 하나의 문장으로 취급되어 한칸씩 띄어진다."
   ]
  },
  {
   "cell_type": "code",
   "execution_count": 14,
   "id": "23d825f7-23ef-4b89-af51-f233ff61efe4",
   "metadata": {},
   "outputs": [
    {
     "name": "stdout",
     "output_type": "stream",
     "text": [
      "Life is roo short\n"
     ]
    }
   ],
   "source": [
    "f1 = open(\"test5.txt\",\"w\")\n",
    "f1.write(\"Life is roo short\")\n",
    "f1.close()\n",
    "\n",
    "f2 = open(\"test5.txt\",\"r\")\n",
    "print(f2.read())\n",
    "# 파일을 만들어서 열어있는 상태론 읽을수가 없기 때문에 close로 파일을 닫아줘야 읽을 수 있다."
   ]
  },
  {
   "cell_type": "code",
   "execution_count": null,
   "id": "8c3af77d-54f9-4c94-89e5-8c8d2dad7b4e",
   "metadata": {},
   "outputs": [],
   "source": []
  }
 ],
 "metadata": {
  "kernelspec": {
   "display_name": "Python 3 (ipykernel)",
   "language": "python",
   "name": "python3"
  },
  "language_info": {
   "codemirror_mode": {
    "name": "ipython",
    "version": 3
   },
   "file_extension": ".py",
   "mimetype": "text/x-python",
   "name": "python",
   "nbconvert_exporter": "python",
   "pygments_lexer": "ipython3",
   "version": "3.13.1"
  }
 },
 "nbformat": 4,
 "nbformat_minor": 5
}

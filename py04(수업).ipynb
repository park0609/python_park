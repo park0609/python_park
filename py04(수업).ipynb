{
 "cells": [
  {
   "cell_type": "markdown",
   "id": "5c0bbce1-5f14-4299-a999-e3355fad3821",
   "metadata": {},
   "source": [
    "# 함수"
   ]
  },
  {
   "cell_type": "code",
   "execution_count": 1,
   "id": "7f5fbe6c-ea6f-4a3f-b9da-77af39d31cea",
   "metadata": {},
   "outputs": [],
   "source": [
    "def 덧셈(a, b):\n",
    "    return a + b"
   ]
  },
  {
   "cell_type": "code",
   "execution_count": 4,
   "id": "eac9f741-360c-4276-bff9-edc1f8ffd424",
   "metadata": {},
   "outputs": [
    {
     "name": "stdout",
     "output_type": "stream",
     "text": [
      "7\n"
     ]
    }
   ],
   "source": [
    "c = 덧셈(3,4)\n",
    "print(c)"
   ]
  },
  {
   "cell_type": "code",
   "execution_count": 1,
   "id": "d9fcc55e-e507-4815-a5a0-e2640583323d",
   "metadata": {},
   "outputs": [
    {
     "name": "stdout",
     "output_type": "stream",
     "text": [
      "====2단====\n",
      "====3단====\n",
      "====4단====\n",
      "2 x 1 = 2\n",
      "2 x 2 = 4\n",
      "2 x 3 = 6\n",
      "2 x 4 = 8\n",
      "2 x 5 = 10\n",
      "2 x 6 = 12\n",
      "2 x 7 = 14\n",
      "2 x 8 = 16\n",
      "2 x 9 = 18\n",
      "3 x 1 = 3\n",
      "3 x 2 = 6\n",
      "3 x 3 = 9\n",
      "3 x 4 = 12\n",
      "3 x 5 = 15\n",
      "3 x 6 = 18\n",
      "3 x 7 = 21\n",
      "3 x 8 = 24\n",
      "3 x 9 = 27\n",
      "4 x 1 = 4\n",
      "4 x 2 = 8\n",
      "4 x 3 = 12\n",
      "4 x 4 = 16\n",
      "4 x 5 = 20\n",
      "4 x 6 = 24\n",
      "4 x 7 = 28\n",
      "4 x 8 = 32\n",
      "4 x 9 = 36\n",
      "\n"
     ]
    }
   ],
   "source": [
    "def gugu(end = 9):\n",
    "    data =''\n",
    "    for j in range(2,end + 1):\n",
    "        print(f\"{str(j)+'단':=^10}\")\n",
    "        for i in range(1,10):\n",
    "            data += (f'{j} x {i} = {j*i}') + '\\n'\n",
    "    return data\n",
    "print(gugu(4))"
   ]
  },
  {
   "cell_type": "markdown",
   "id": "e6aa06cf-f9a1-491f-8202-c209b550d58a",
   "metadata": {},
   "source": [
    "## 입력값과 리턴값에 따른 함수의 형태"
   ]
  },
  {
   "cell_type": "code",
   "execution_count": 16,
   "id": "503d63bf-a331-45aa-a9d6-5ff15e7e5f44",
   "metadata": {},
   "outputs": [],
   "source": [
    "# 일반적인 함수\n",
    "def add(a,b):\n",
    "    result = a + b\n",
    "    return result"
   ]
  },
  {
   "cell_type": "code",
   "execution_count": 15,
   "id": "0444dba0-7fde-40ff-a4dd-93d54dcd71cf",
   "metadata": {},
   "outputs": [
    {
     "name": "stdout",
     "output_type": "stream",
     "text": [
      "87\n"
     ]
    }
   ],
   "source": [
    "a = add(77,10)\n",
    "print(a)"
   ]
  },
  {
   "cell_type": "code",
   "execution_count": 18,
   "id": "0a0c2275-6a2f-4ef8-81bb-96e7ae200cae",
   "metadata": {},
   "outputs": [],
   "source": [
    "# 입력값이 없는 함수\n",
    "def say():\n",
    "    return '안녕'"
   ]
  },
  {
   "cell_type": "code",
   "execution_count": 19,
   "id": "433d4325-a9d8-4ddb-a59d-842398817f4a",
   "metadata": {},
   "outputs": [
    {
     "name": "stdout",
     "output_type": "stream",
     "text": [
      "안녕\n"
     ]
    }
   ],
   "source": [
    "a = say()\n",
    "print(a)"
   ]
  },
  {
   "cell_type": "code",
   "execution_count": 20,
   "id": "368c5ff7-5a52-432e-8c2c-9c23f2b3f041",
   "metadata": {},
   "outputs": [],
   "source": [
    "# 리턴값이 없는 함수\n",
    "def add(a,b):\n",
    "    print(\"%d, %d의 합은 %d 입니다.\" %(a, b, a+b))"
   ]
  },
  {
   "cell_type": "code",
   "execution_count": 21,
   "id": "98e39b58-4c1f-46ee-9a51-452b3713cc05",
   "metadata": {},
   "outputs": [
    {
     "name": "stdout",
     "output_type": "stream",
     "text": [
      "11, 33의 합은 44 입니다.\n"
     ]
    }
   ],
   "source": [
    "add(11,33)"
   ]
  },
  {
   "cell_type": "code",
   "execution_count": 22,
   "id": "53fe805a-7085-45a7-812c-683b7f6668bd",
   "metadata": {},
   "outputs": [],
   "source": [
    "# 입력값과 리턴값이 없는 함수\n",
    "def say():\n",
    "    print(\"안녕!\")\n",
    "    print(\"전 입력값과 리턴값이 없어요.\")\n",
    "    print(\"빠이~\")"
   ]
  },
  {
   "cell_type": "code",
   "execution_count": 23,
   "id": "93002994-d9a9-44b9-82b5-0e22e8237d29",
   "metadata": {},
   "outputs": [
    {
     "name": "stdout",
     "output_type": "stream",
     "text": [
      "안녕!\n",
      "전 입력값과 리턴값이 없어요.\n",
      "빠이~\n"
     ]
    }
   ],
   "source": [
    "say()"
   ]
  },
  {
   "cell_type": "code",
   "execution_count": 32,
   "id": "c53dc410-1cdf-4001-b5e6-ec0cbf95cc9d",
   "metadata": {},
   "outputs": [],
   "source": [
    "# 테스트\n",
    "import time as t\n",
    "def disp():\n",
    "    print(\"안녕!\\r\",end=\"\")\n",
    "    t.sleep(2)\n",
    "    print(\"전 입력값과 리턴값이 없어요.\\r\",end=\"\")\n",
    "    t.sleep(2)\n",
    "    print(\"빠이~             \",end=\"\")\n",
    "    t.sleep(2)"
   ]
  },
  {
   "cell_type": "code",
   "execution_count": 33,
   "id": "e13366a3-eb92-4000-82e1-788c5df68e9f",
   "metadata": {},
   "outputs": [
    {
     "name": "stdout",
     "output_type": "stream",
     "text": [
      "빠이~             "
     ]
    }
   ],
   "source": [
    "disp()"
   ]
  },
  {
   "cell_type": "code",
   "execution_count": 34,
   "id": "ca3208c5-305a-4201-a802-162e4631ba51",
   "metadata": {},
   "outputs": [
    {
     "name": "stdout",
     "output_type": "stream",
     "text": [
      "44\n"
     ]
    }
   ],
   "source": [
    "# max() //\n",
    "def bs(li=[33,11,22,44]):\n",
    "    sw = 0\n",
    "    for x in range(len(li)):    \n",
    "        if sw < li[x]:\n",
    "            sw = li[x]    \n",
    "    return sw\n",
    "print(bs())"
   ]
  },
  {
   "cell_type": "code",
   "execution_count": 36,
   "id": "3fe8034f-4667-4b64-9d89-cffc34682e1d",
   "metadata": {},
   "outputs": [
    {
     "name": "stdout",
     "output_type": "stream",
     "text": [
      "176\n"
     ]
    }
   ],
   "source": [
    "print(bs([1,21,3,41,5,16,7,18,19,115,4,3,21,1,3,4,51,176,78,3,4]))"
   ]
  },
  {
   "cell_type": "code",
   "execution_count": 38,
   "id": "c2fc0c7f-5c43-41b6-84f6-51aca91dea86",
   "metadata": {},
   "outputs": [],
   "source": [
    "# 매개변수를 지정하여 호출하기\n",
    "def sub(a,b):\n",
    "    return a-b"
   ]
  },
  {
   "cell_type": "code",
   "execution_count": 40,
   "id": "9a9e9ee2-ab60-4968-a947-deb1f016c26b",
   "metadata": {},
   "outputs": [
    {
     "name": "stdout",
     "output_type": "stream",
     "text": [
      "4\n"
     ]
    }
   ],
   "source": [
    "# result = sub(a=7,b=3)\n",
    "result = sub(b=3,a=7)\n",
    "print(result)"
   ]
  },
  {
   "cell_type": "code",
   "execution_count": 46,
   "id": "cb13eaff-9ec8-49fc-8547-337cc01c8a32",
   "metadata": {},
   "outputs": [],
   "source": [
    "# !pip install matplotlib"
   ]
  },
  {
   "cell_type": "code",
   "execution_count": 69,
   "id": "1886b7fc-126f-47ce-b622-c3ef6a1ee255",
   "metadata": {},
   "outputs": [],
   "source": [
    "# 테스트 : 함수 random 주사위\n",
    "import random as r\n",
    "import matplotlib.pyplot as plt\n",
    "def dice(target = 250000):\n",
    "    box = [] # 초기화\n",
    "    num = 0\n",
    "    results = {}\n",
    "    while num < target:\n",
    "        num = num + 1\n",
    "        ran = r.randint(1,6)\n",
    "        box.append(ran)\n",
    "    if target == len(box):\n",
    "        print(f\"{target}회 정상 진행되었습니다.\")\n",
    "    else:\n",
    "        print(f\"검증 결과 횟수 이상이 있습니다. 이유:({target}회 목표로 동작하였으나, {len(box)}으로 측정되었습니다.)\")\n",
    "    for n in range(1,7):\n",
    "        results[n] = box.count(n)\n",
    "        print(f\"{n}번이 {box.count(n)}번({(box.count(n)/len(box))*100:.2f}%) 등장하였습니다.\")\n",
    "    print(results)\n",
    "    color = [\"skyblue\",\"orange\",\"skyblue\",\"orange\",\"skyblue\",\"orange\"]\n",
    "    plt.bar(results.keys(),results.values(),color=color)\n",
    "    plt.show()"
   ]
  },
  {
   "cell_type": "code",
   "execution_count": 73,
   "id": "9821aad9-6545-4379-a277-171090fc72a2",
   "metadata": {},
   "outputs": [
    {
     "name": "stdout",
     "output_type": "stream",
     "text": [
      "250000회 정상 진행되었습니다.\n",
      "1번이 41578번(16.63%) 등장하였습니다.\n",
      "2번이 41464번(16.59%) 등장하였습니다.\n",
      "3번이 41905번(16.76%) 등장하였습니다.\n",
      "4번이 41673번(16.67%) 등장하였습니다.\n",
      "5번이 41643번(16.66%) 등장하였습니다.\n",
      "6번이 41737번(16.69%) 등장하였습니다.\n",
      "{1: 41578, 2: 41464, 3: 41905, 4: 41673, 5: 41643, 6: 41737}\n"
     ]
    },
    {
     "data": {
      "image/png": "[encoded data removed]",
      "text/plain": [
       "<Figure size 640x480 with 1 Axes>"
      ]
     },
     "metadata": {},
     "output_type": "display_data"
    }
   ],
   "source": [
    "dice()"
   ]
  },
  {
   "cell_type": "code",
   "execution_count": 88,
   "id": "b4dfafbb-f21c-4b6b-ac6f-69dc4b65da8d",
   "metadata": {},
   "outputs": [],
   "source": [
    "# 여러개의 입력값을 받는 함수 만들기\n",
    "def add_many(*args):\n",
    "    result = 0\n",
    "    for i in args:\n",
    "        result = result + i\n",
    "    return result        "
   ]
  },
  {
   "cell_type": "code",
   "execution_count": 89,
   "id": "b859afb2-c18f-4ea4-a815-1880a24e1359",
   "metadata": {},
   "outputs": [
    {
     "name": "stdout",
     "output_type": "stream",
     "text": [
      "16\n"
     ]
    }
   ],
   "source": [
    "res = add_many(1,4,5,2,4)\n",
    "print(res)"
   ]
  },
  {
   "cell_type": "code",
   "execution_count": 100,
   "id": "bea9487b-7729-4be9-8e6e-3f790cd469c6",
   "metadata": {},
   "outputs": [],
   "source": [
    "def add_mul(choice, *args): \n",
    "    if choice == \"add\":   # 매개변수 choice에 \"add\"를 입력받았을 때\n",
    "        result = 0 \n",
    "        for i in args: \n",
    "            result = result + i \n",
    "    elif choice == \"sub\":   # 매개변수 choice에 \"mul\"을 입력받았을 때\n",
    "        result = 0 \n",
    "        for i in args: \n",
    "            result = result - i\n",
    "    elif choice == \"mul\":   # 매개변수 choice에 \"mul\"을 입력받았을 때\n",
    "        result = 1 \n",
    "        for i in args: \n",
    "            result = result * i\n",
    "    elif choice == \"div\":   # 매개변수 choice에 \"mul\"을 입력받았을 때\n",
    "        result = 1 \n",
    "        for i in args: \n",
    "            result = result / i\n",
    "    else:\n",
    "        result = choice\n",
    "        print(\"정확하게 입력하세요\")\n",
    "    return result "
   ]
  },
  {
   "cell_type": "code",
   "execution_count": 106,
   "id": "02873193-82b4-4ad0-84fb-376f2050af46",
   "metadata": {},
   "outputs": [
    {
     "data": {
      "text/plain": [
       "0.3333333333333333"
      ]
     },
     "execution_count": 106,
     "metadata": {},
     "output_type": "execute_result"
    }
   ],
   "source": [
    "add_mul('div',3,1)"
   ]
  },
  {
   "cell_type": "code",
   "execution_count": 118,
   "id": "35cfa6ab-6454-40b4-83e4-327ac73b0519",
   "metadata": {},
   "outputs": [
    {
     "name": "stdout",
     "output_type": "stream",
     "text": [
      "{'name': '홍길동', 'age': 21, 'address': '대한민국'}\n"
     ]
    }
   ],
   "source": [
    "# 키워드 매개변수 kwargs\n",
    "def print_kwargs(**kwargs):\n",
    "    print(kwargs)\n",
    "print_kwargs(name='홍길동',age=21,address='대한민국')"
   ]
  },
  {
   "cell_type": "code",
   "execution_count": 119,
   "id": "52ea2b0c-e978-4a8c-8c6b-57cfcbaf0f96",
   "metadata": {},
   "outputs": [
    {
     "name": "stdout",
     "output_type": "stream",
     "text": [
      "{'name': '홍길동', 'age': 21, 'address': '대한민국'}\n"
     ]
    }
   ],
   "source": [
    "def print_kwargs(kwargs):\n",
    "    print(kwargs)\n",
    "print_kwargs({'name':'홍길동','age':21,'address':'대한민국'})"
   ]
  },
  {
   "cell_type": "code",
   "execution_count": 124,
   "id": "512ccd2b-03e7-4c54-90f1-0e1c4d9d72e2",
   "metadata": {},
   "outputs": [],
   "source": [
    "# test\n",
    "def test():\n",
    "    print('저야 영광이죠~!!')\n",
    "    if 13 > 4 : return\n",
    "    print('집에가고싶어!~!')\n",
    "    return"
   ]
  },
  {
   "cell_type": "code",
   "execution_count": 125,
   "id": "16738e87-d324-470e-99d8-023242a398d1",
   "metadata": {},
   "outputs": [
    {
     "name": "stdout",
     "output_type": "stream",
     "text": [
      "저야 영광이죠~!!\n"
     ]
    }
   ],
   "source": [
    "test()"
   ]
  },
  {
   "cell_type": "code",
   "execution_count": 131,
   "id": "57a5e4be-d7e1-4701-91d7-34b03163d967",
   "metadata": {},
   "outputs": [
    {
     "name": "stdout",
     "output_type": "stream",
     "text": [
      "35 286\n"
     ]
    }
   ],
   "source": [
    "# test2\n",
    "def test2(a,b):\n",
    "    return a+b, a*b\n",
    "add_result, mul_result = test2( 13, 22)\n",
    "print(add_result, mul_result )"
   ]
  },
  {
   "cell_type": "markdown",
   "id": "6a451d42-de15-4ee6-88a4-7cc44d61030e",
   "metadata": {},
   "source": [
    "## 함수 안에서 선언한 변수의 효력 범위"
   ]
  },
  {
   "cell_type": "code",
   "execution_count": 3,
   "id": "21276953-d704-40fa-b91f-d8ae18475558",
   "metadata": {},
   "outputs": [
    {
     "name": "stdout",
     "output_type": "stream",
     "text": [
      "1\n"
     ]
    }
   ],
   "source": [
    "# 테스트 1\n",
    "a = 1\n",
    "def test1(a):\n",
    "    a = a + 1\n",
    "test1(a)\n",
    "print(a)"
   ]
  },
  {
   "cell_type": "code",
   "execution_count": 8,
   "id": "083b8bff-6696-45bf-9b0f-31fddb72632a",
   "metadata": {},
   "outputs": [],
   "source": [
    "# 테스트 2\n",
    "def test2(b):\n",
    "    b = b + 1\n",
    "test2(3)\n",
    "# print(b) # 에러 발생"
   ]
  },
  {
   "cell_type": "code",
   "execution_count": 5,
   "id": "558ec2ab-3ae9-4869-b90d-95434e2c15bd",
   "metadata": {},
   "outputs": [
    {
     "name": "stdout",
     "output_type": "stream",
     "text": [
      "2\n"
     ]
    }
   ],
   "source": [
    "# 테스트 3\n",
    "c = 1\n",
    "def test3(c):\n",
    "    c = c + 1\n",
    "    return c\n",
    "c = test3(c) # c=c+1\n",
    "print(c)"
   ]
  },
  {
   "cell_type": "code",
   "execution_count": 6,
   "id": "4b6851df-5b8a-46cd-b41b-da2a8aff6353",
   "metadata": {},
   "outputs": [
    {
     "name": "stdout",
     "output_type": "stream",
     "text": [
      "2\n"
     ]
    }
   ],
   "source": [
    "# 테스트 4\n",
    "d = 1\n",
    "def test4():\n",
    "    global d\n",
    "    d = d + 1\n",
    "test4()\n",
    "print(d)"
   ]
  },
  {
   "cell_type": "markdown",
   "id": "b9179f96-9ea7-4069-8355-3984369ef53b",
   "metadata": {},
   "source": [
    "## lambda 예약어 ( 익명함수 )"
   ]
  },
  {
   "cell_type": "code",
   "execution_count": 11,
   "id": "931a772c-c47a-46b1-bc2e-4caf0ca7e531",
   "metadata": {},
   "outputs": [
    {
     "name": "stdout",
     "output_type": "stream",
     "text": [
      "5\n"
     ]
    }
   ],
   "source": [
    "def test(a,b):\n",
    "    return a+b\n",
    "add = lambda a,b:a+b\n",
    "print(add(1,4))"
   ]
  },
  {
   "cell_type": "code",
   "execution_count": 12,
   "id": "ec9435cb-f7c5-4d74-9af9-dea98f7c5763",
   "metadata": {},
   "outputs": [
    {
     "name": "stdout",
     "output_type": "stream",
     "text": [
      "[0, 1, 2, 3, 4, 5, 6, 7, 8, 9]\n"
     ]
    }
   ],
   "source": [
    "a1 = [ x for x in range(10)]\n",
    "print(a1)"
   ]
  },
  {
   "cell_type": "code",
   "execution_count": 20,
   "id": "f3a16cc5-eb86-4e89-9fb9-d074dcd9405d",
   "metadata": {},
   "outputs": [
    {
     "name": "stdout",
     "output_type": "stream",
     "text": [
      "[0, 2, 4, 6, 8, 10, 12, 14, 16, 18]\n"
     ]
    }
   ],
   "source": [
    "a2 = [(lambda x : x*2)(x) for x in range(10)]\n",
    "print(a2)"
   ]
  },
  {
   "cell_type": "code",
   "execution_count": 21,
   "id": "1dce70f1-ec09-41b0-9e55-5a7436a39a4d",
   "metadata": {},
   "outputs": [
    {
     "name": "stdout",
     "output_type": "stream",
     "text": [
      "[0, 1, 4, 9, 16, 25, 36, 49, 64, 81]\n"
     ]
    }
   ],
   "source": [
    "# 응용예제\n",
    "a3 = [0, 1, 2, 3, 4, 5, 6, 7, 8, 9]\n",
    "p = list(map(lambda x: x**2, a3))\n",
    "print(p)"
   ]
  },
  {
   "cell_type": "markdown",
   "id": "7313d008-83ef-4be4-8328-c7c8c2415b69",
   "metadata": {},
   "source": [
    "# 파일 읽고 쓰기"
   ]
  },
  {
   "cell_type": "markdown",
   "id": "a0474746-ebfd-48f8-81f1-79c5a7189541",
   "metadata": {},
   "source": [
    "## 파일 생성하기"
   ]
  },
  {
   "cell_type": "code",
   "execution_count": 28,
   "id": "97c40e07-ba90-4be5-9299-304de852a520",
   "metadata": {},
   "outputs": [],
   "source": [
    "# 파일생성하기1\n",
    "f = open(\"새파일생성1.txt\",\"w\")\n",
    "f.close()"
   ]
  },
  {
   "cell_type": "markdown",
   "id": "4b2285d3-c542-4dcc-856e-2a07f2baa54e",
   "metadata": {},
   "source": [
    "<pre>table 내에 style=\"float:left\"</pre>\n",
    "<table style=\"float:left\">\n",
    "<thead>\n",
    "<tr>\n",
    "<th>파일열기모드</th>\n",
    "<th>설명</th>\n",
    "</tr>\n",
    "</thead>\n",
    "<tbody>\n",
    "<tr>\n",
    "<td>r</td>\n",
    "<td>읽기 모드: 파일을 읽기만 할 때 사용한다.</td>\n",
    "</tr>\n",
    "<tr>\n",
    "<td>w</td>\n",
    "<td>쓰기 모드: 파일에 내용을 쓸 때 사용한다.</td>\n",
    "</tr>\n",
    "<tr>\n",
    "<td>a</td>\n",
    "<td>추가 모드: 파일의 마지막에 새로운 내용을 추가할 때 사용한다.</td>\n",
    "</tr>\n",
    "</tbody>\n",
    "</table>"
   ]
  },
  {
   "cell_type": "code",
   "execution_count": 29,
   "id": "ba034894-5c26-4e53-88c3-5934065b1f95",
   "metadata": {},
   "outputs": [],
   "source": [
    "# 파일생성하기2 + 경로\n",
    "path = \"./testfile/\"\n",
    "f = open(path + \"새파일생성2.txt\",\"w\")\n",
    "f.close()"
   ]
  },
  {
   "cell_type": "code",
   "execution_count": 38,
   "id": "a203637e-da1d-48c3-93ec-4ebf1ddab2dd",
   "metadata": {},
   "outputs": [],
   "source": [
    "# 파일을 쓰기 모드로 열어 내용 쓰기\n",
    "path = \"./testfile/\"\n",
    "f = open(path + \"새파일생성3.txt\",\"w\",encoding=\"utf-8\")\n",
    "for n in range(10):\n",
    "    f.write(f\"{n+1}번째 한글도 잘돼요!!!\\n\")\n",
    "f.close()"
   ]
  },
  {
   "cell_type": "code",
   "execution_count": 55,
   "id": "f5556c8d-66eb-477a-a82c-e718cacd2cf0",
   "metadata": {},
   "outputs": [],
   "source": [
    "def diary(name):\n",
    "    path = \"./testfile/\"\n",
    "    f = open(path + name + \".txt\",\"a\",encoding=\"utf-8\")\n",
    "    while 1:\n",
    "        inp = input(\"작성하고 싶은 내용: \")\n",
    "        if inp =='그만' : break\n",
    "        f.write(inp+'\\n')\n",
    "    f.close()"
   ]
  },
  {
   "cell_type": "code",
   "execution_count": 56,
   "id": "8e526533-8b77-4e96-a5d0-4c0ce3f6f2a5",
   "metadata": {},
   "outputs": [
    {
     "name": "stdin",
     "output_type": "stream",
     "text": [
      "작성하고 싶은 내용 오늘날씨가 춥다\n",
      "작성하고 싶은 내용 그리고 춥다\n",
      "작성하고 싶은 내용 너무 춥다\n",
      "작성하고 싶은 내용 배도고프다\n",
      "작성하고 싶은 내용 그만\n"
     ]
    }
   ],
   "source": [
    "diary('20250201일기')"
   ]
  },
  {
   "cell_type": "markdown",
   "id": "cf9d2e6b-1944-42e2-a2ba-c90d71f52c97",
   "metadata": {},
   "source": [
    "## 파일을 읽는 방법"
   ]
  },
  {
   "cell_type": "code",
   "execution_count": 41,
   "id": "dca4882f-c9c2-4002-8150-0fee969e5dfd",
   "metadata": {},
   "outputs": [],
   "source": [
    "path = \"./testfile/\"\n",
    "f = open(path + \"새파일생성4.txt\",\"w\",encoding=\"utf-8\")\n",
    "for n in range(10):\n",
    "    f.write(f\"{n+1}번째 한글도 잘돼요!!!\\n\")\n",
    "f.close()"
   ]
  },
  {
   "cell_type": "code",
   "execution_count": 84,
   "id": "5e83e09a-bfed-41d6-9126-9192f53d4203",
   "metadata": {},
   "outputs": [
    {
     "name": "stdout",
     "output_type": "stream",
     "text": [
      "1번째 한글도 잘돼요!!!\n",
      "\n",
      "2번째 한글도 잘돼요!!!\n",
      "\n"
     ]
    }
   ],
   "source": [
    "# 1. readline\n",
    "f = open(path + \"새파일생성4.txt\",\"r\",encoding=\"utf-8\")\n",
    "print(f.readline())\n",
    "print(f.readline())\n",
    "f.close()"
   ]
  },
  {
   "cell_type": "code",
   "execution_count": 85,
   "id": "89124829-3990-4525-828f-af483c30e210",
   "metadata": {},
   "outputs": [
    {
     "name": "stdout",
     "output_type": "stream",
     "text": [
      "1번째 한글도 잘돼요!!!\n",
      "2번째 한글도 잘돼요!!!\n",
      "3번째 한글도 잘돼요!!!\n",
      "4번째 한글도 잘돼요!!!\n",
      "5번째 한글도 잘돼요!!!\n",
      "6번째 한글도 잘돼요!!!\n",
      "7번째 한글도 잘돼요!!!\n",
      "8번째 한글도 잘돼요!!!\n",
      "9번째 한글도 잘돼요!!!\n",
      "10번째 한글도 잘돼요!!!\n"
     ]
    }
   ],
   "source": [
    "# 1. readline + while\n",
    "f = open(path + \"새파일생성4.txt\",\"r\",encoding=\"utf-8\")\n",
    "while 1:\n",
    "    line = f.readline()\n",
    "    if not line : break    \n",
    "    print(line, end=\"\")\n",
    "f.close()"
   ]
  },
  {
   "cell_type": "code",
   "execution_count": 86,
   "id": "92858a22-0224-4678-a628-6d7dc2907f1d",
   "metadata": {},
   "outputs": [
    {
     "name": "stdout",
     "output_type": "stream",
     "text": [
      "1번째 한글도 잘돼요!!!\n",
      "2번째 한글도 잘돼요!!!\n",
      "3번째 한글도 잘돼요!!!\n",
      "4번째 한글도 잘돼요!!!\n",
      "5번째 한글도 잘돼요!!!\n",
      "6번째 한글도 잘돼요!!!\n",
      "7번째 한글도 잘돼요!!!\n",
      "8번째 한글도 잘돼요!!!\n",
      "9번째 한글도 잘돼요!!!\n",
      "10번째 한글도 잘돼요!!!\n"
     ]
    }
   ],
   "source": [
    "# 2. readlines , print의 \\n 없애기\n",
    "path = \"./testfile/\"\n",
    "f = open(path + \"새파일생성4.txt\",\"r\",encoding=\"utf-8\")\n",
    "lines = f.readlines()\n",
    "# print(lines,type(lines))\n",
    "for n in lines:\n",
    "    print(n,end='')\n",
    "f.close()"
   ]
  },
  {
   "cell_type": "code",
   "execution_count": 87,
   "id": "cb8452e8-3ed0-4fe9-8f92-f30bf562d73d",
   "metadata": {},
   "outputs": [
    {
     "name": "stdout",
     "output_type": "stream",
     "text": [
      "['1', '번', '째', ' ', '한', '글', '도', ' ', '잘', '돼', '요', '!', '!', '!', '\\n']\n",
      "['1', '번', '째', ' ', '한', '글', '도', ' ', '잘', '돼', '요', '!', '!', '!']\n",
      "['2', '번', '째', ' ', '한', '글', '도', ' ', '잘', '돼', '요', '!', '!', '!', '\\n']\n",
      "['2', '번', '째', ' ', '한', '글', '도', ' ', '잘', '돼', '요', '!', '!', '!']\n",
      "['3', '번', '째', ' ', '한', '글', '도', ' ', '잘', '돼', '요', '!', '!', '!', '\\n']\n",
      "['3', '번', '째', ' ', '한', '글', '도', ' ', '잘', '돼', '요', '!', '!', '!']\n",
      "['4', '번', '째', ' ', '한', '글', '도', ' ', '잘', '돼', '요', '!', '!', '!', '\\n']\n",
      "['4', '번', '째', ' ', '한', '글', '도', ' ', '잘', '돼', '요', '!', '!', '!']\n",
      "['5', '번', '째', ' ', '한', '글', '도', ' ', '잘', '돼', '요', '!', '!', '!', '\\n']\n",
      "['5', '번', '째', ' ', '한', '글', '도', ' ', '잘', '돼', '요', '!', '!', '!']\n",
      "['6', '번', '째', ' ', '한', '글', '도', ' ', '잘', '돼', '요', '!', '!', '!', '\\n']\n",
      "['6', '번', '째', ' ', '한', '글', '도', ' ', '잘', '돼', '요', '!', '!', '!']\n",
      "['7', '번', '째', ' ', '한', '글', '도', ' ', '잘', '돼', '요', '!', '!', '!', '\\n']\n",
      "['7', '번', '째', ' ', '한', '글', '도', ' ', '잘', '돼', '요', '!', '!', '!']\n",
      "['8', '번', '째', ' ', '한', '글', '도', ' ', '잘', '돼', '요', '!', '!', '!', '\\n']\n",
      "['8', '번', '째', ' ', '한', '글', '도', ' ', '잘', '돼', '요', '!', '!', '!']\n",
      "['9', '번', '째', ' ', '한', '글', '도', ' ', '잘', '돼', '요', '!', '!', '!', '\\n']\n",
      "['9', '번', '째', ' ', '한', '글', '도', ' ', '잘', '돼', '요', '!', '!', '!']\n",
      "['1', '0', '번', '째', ' ', '한', '글', '도', ' ', '잘', '돼', '요', '!', '!', '!', '\\n']\n",
      "['1', '0', '번', '째', ' ', '한', '글', '도', ' ', '잘', '돼', '요', '!', '!', '!']\n"
     ]
    }
   ],
   "source": [
    "# 2. readlines + strip() -> list 타입\n",
    "path = \"./testfile/\"\n",
    "f = open(path + \"새파일생성4.txt\",\"r\",encoding=\"utf-8\")\n",
    "lines = f.readlines()\n",
    "# print(lines,type(lines))\n",
    "for n in lines:\n",
    "    print(list(n))\n",
    "    n = n.strip() # \"\"\\n 을 지운다.\"\n",
    "    print(list(n))\n",
    "f.close()"
   ]
  },
  {
   "cell_type": "code",
   "execution_count": 76,
   "id": "579b286a-9aad-4148-9258-3c31d83b3799",
   "metadata": {},
   "outputs": [
    {
     "name": "stdout",
     "output_type": "stream",
     "text": [
      "17\n"
     ]
    }
   ],
   "source": [
    "# 테스트\n",
    "f = open(\"파일이름.txt\",'w')\n",
    "f.write('내용작성 zzzzzz 11211')\n",
    "f.close()"
   ]
  },
  {
   "cell_type": "code",
   "execution_count": 88,
   "id": "b32c1bd3-6082-4189-8f94-a92d4e56fdfa",
   "metadata": {},
   "outputs": [
    {
     "name": "stdout",
     "output_type": "stream",
     "text": [
      "1번째 한글도 잘돼요!!!\n",
      "2번째 한글도 잘돼요!!!\n",
      "3번째 한글도 잘돼요!!!\n",
      "4번째 한글도 잘돼요!!!\n",
      "5번째 한글도 잘돼요!!!\n",
      "6번째 한글도 잘돼요!!!\n",
      "7번째 한글도 잘돼요!!!\n",
      "8번째 한글도 잘돼요!!!\n",
      "9번째 한글도 잘돼요!!!\n",
      "10번째 한글도 잘돼요!!!\n",
      " <class 'str'>\n"
     ]
    }
   ],
   "source": [
    "# 3. read 함수 사용하기 -> str 타입\n",
    "path = \"./testfile/\"\n",
    "f = open(path + \"새파일생성4.txt\",\"r\",encoding=\"utf-8\")\n",
    "data = f.read()\n",
    "print(data,type(data))\n",
    "f.close()"
   ]
  },
  {
   "cell_type": "code",
   "execution_count": null,
   "id": "df79fabb-a113-4645-be0b-9ffaf06b9225",
   "metadata": {},
   "outputs": [],
   "source": [
    "# 4. for로 출력하기\n",
    "path = \"./testfile/\"\n",
    "f = open(path + \"새파일생성4.txt\",\"r\",encoding=\"utf-8\")\n",
    "for line in f:\n",
    "    print(line)\n",
    "f.close()"
   ]
  },
  {
   "cell_type": "code",
   "execution_count": 2,
   "id": "4f83eaa1-be0d-4622-8885-afcadd69d695",
   "metadata": {},
   "outputs": [
    {
     "name": "stdout",
     "output_type": "stream",
     "text": [
      "1번째 한글도 잘돼요!!!\n",
      "\n",
      "2번째 한글도 잘돼요!!!\n",
      "\n",
      "3번째 한글도 잘돼요!!!\n",
      "\n",
      "4번째 한글도 잘돼요!!!\n",
      "\n",
      "5번째 한글도 잘돼요!!!\n",
      "\n",
      "6번째 한글도 잘돼요!!!\n",
      "\n",
      "7번째 한글도 잘돼요!!!\n",
      "\n",
      "8번째 한글도 잘돼요!!!\n",
      "\n",
      "9번째 한글도 잘돼요!!!\n",
      "\n",
      "10번째 한글도 잘돼요!!!\n",
      "\n"
     ]
    }
   ],
   "source": [
    "# with 문과 함께 사용하기, 자동 열고, 닫기\n",
    "path = \"./testfile/\"\n",
    "with open(path + \"새파일생성4.txt\",\"r\",encoding=\"utf-8\") as f:\n",
    "    for line in f:\n",
    "        print(line)"
   ]
  },
  {
   "cell_type": "code",
   "execution_count": 4,
   "id": "f8a68100-dcb7-40a0-a302-92a04bd4168c",
   "metadata": {},
   "outputs": [],
   "source": [
    "# p182\n",
    "# \"foo + bar\"\n",
    "# file_with.py\n",
    "with open(\"foo.bat\", \"w\") as f:\n",
    "    f.write(\"Life is too short, you need python\")"
   ]
  },
  {
   "cell_type": "markdown",
   "id": "bf82e5cd-bae2-467c-8c04-580ae938d472",
   "metadata": {},
   "source": [
    "## 프로그램의 입출력"
   ]
  },
  {
   "cell_type": "code",
   "execution_count": 7,
   "id": "87c7ca5f-270f-4b78-861d-bb8e1f636179",
   "metadata": {},
   "outputs": [
    {
     "name": "stdout",
     "output_type": "stream",
     "text": [
      "-f\n",
      "C:\\Users\\Admin\\AppData\\Roaming\\jupyter\\runtime\\kernel-500923c3-4e7b-45b0-930a-8bb011f56fd4.json\n"
     ]
    }
   ],
   "source": [
    "import sys\n",
    "args = sys.argv[1:]\n",
    "for i in args:\n",
    "    print(i)"
   ]
  },
  {
   "attachments": {
    "44e5ca0e-8edd-4087-a3d5-ff6ff687ef1a.png": {
     "image/png": "[encoded data removed]"
    }
   },
   "cell_type": "markdown",
   "id": "13404e0f-fda1-4589-9976-9bcbe7b35849",
   "metadata": {},
   "source": [
    "<img src=\"attachment:44e5ca0e-8edd-4087-a3d5-ff6ff687ef1a.png\">"
   ]
  },
  {
   "cell_type": "code",
   "execution_count": null,
   "id": "2162efe6-42ca-4f25-b464-0170f0dca3f8",
   "metadata": {},
   "outputs": [],
   "source": [
    "<img src=\"attachment:44e5ca0e-8edd-4087-a3d5-ff6ff687ef1a.png\">"
   ]
  },
  {
   "cell_type": "code",
   "execution_count": 13,
   "id": "5cd8ff4e-8852-444f-9384-251bb9c0b9c0",
   "metadata": {},
   "outputs": [
    {
     "name": "stdout",
     "output_type": "stream",
     "text": [
      "===4단===\n",
      "4x1=4\n",
      "4x2=8\n",
      "4x3=12\n",
      "4x4=16\n",
      "4x5=20\n",
      "4x6=24\n",
      "4x7=28\n",
      "4x8=32\n",
      "4x9=36\n",
      "===5단===\n",
      "5x1=5\n",
      "5x2=10\n",
      "5x3=15\n",
      "5x4=20\n",
      "5x5=25\n",
      "5x6=30\n",
      "5x7=35\n",
      "5x8=40\n",
      "5x9=45\n"
     ]
    }
   ],
   "source": [
    "def gugu(a,b):\n",
    "    for i in range(a,a+b):\n",
    "        print(f\"==={i}단===\")\n",
    "        for j in range(1,10):\n",
    "            print(f\"{i}x{j}={i*j}\")\n",
    "gugu(4,2)"
   ]
  },
  {
   "cell_type": "code",
   "execution_count": 29,
   "id": "3c0c9450-9d5c-4598-b996-57a8f39550bb",
   "metadata": {
    "scrolled": true
   },
   "outputs": [
    {
     "name": "stdout",
     "output_type": "stream",
     "text": [
      "19\n",
      "삼성전자 : 55,700원\n",
      "17\n",
      "기아 : 93,800원\n"
     ]
    }
   ],
   "source": [
    "import requests as req\n",
    "url = \"https://finance.naver.com/sise/sise_market_sum.naver\"\n",
    "web = req.get(url)\n",
    "html = web.text\n",
    "# print(html)\n",
    "f1 = html.find('삼성전자')\n",
    "print(html[f1:f1 + 100].find('<td class=\"number\">'))\n",
    "print('삼성전자 : '+html[f1:f1 + 100][19:50].replace('<td class=\"number\">',\"\").replace('</td>',\"\").replace('\\n',\"\")+\"원\")\n",
    "f2 = html.find('기아')\n",
    "print(html[f2:f2 + 100].find('<td class=\"number\">'))\n",
    "print('기아 : '+html[f2:f2 + 100][17:50].replace('<td class=\"number\">',\"\").replace('</td>',\"\").replace('\\n',\"\").replace('\\t',\"\")+\"원\")"
   ]
  },
  {
   "cell_type": "code",
   "execution_count": null,
   "id": "9aeb9724-f208-458d-8e61-cb691a1d5028",
   "metadata": {},
   "outputs": [],
   "source": []
  }
 ],
 "metadata": {
  "kernelspec": {
   "display_name": "Python 3 (ipykernel)",
   "language": "python",
   "name": "python3"
  },
  "language_info": {
   "codemirror_mode": {
    "name": "ipython",
    "version": 3
   },
   "file_extension": ".py",
   "mimetype": "text/x-python",
   "name": "python",
   "nbconvert_exporter": "python",
   "pygments_lexer": "ipython3",
   "version": "3.13.1"
  }
 },
 "nbformat": 4,
 "nbformat_minor": 5
}

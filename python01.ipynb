{
 "cells": [
  {
   "cell_type": "markdown",
   "id": "2f22818b-fff6-47fe-8f53-cd044b42a452",
   "metadata": {},
   "source": [
    "# jupyter Lab\n",
    "- a : 윗셀 추가\n",
    "- b : 아래셀 추가\n",
    "- ctrl + shift + 방향키 : 셀 위로 이동\n",
    "- shift + Enter : 셀 실행\n",
    "- dd(연속으로) : 셀 삭제\n",
    "- c : 셀 복사\n",
    "- v : 셀 붙여넣기\n",
    "- z : undo\n",
    "- shift + z redo"
   ]
  },
  {
   "cell_type": "markdown",
   "id": "b2d39b9b-2ea1-42a2-a297-4c4034a44007",
   "metadata": {},
   "source": [
    "\n"
   ]
  },
  {
   "cell_type": "code",
   "execution_count": null,
   "id": "9e49907a-04ec-4d7a-ba12-b718b1c704e3",
   "metadata": {},
   "outputs": [],
   "source": [
    "print(\"사실은 두번째\")"
   ]
  },
  {
   "cell_type": "code",
   "execution_count": 12,
   "id": "a3350fc2-37ea-4df0-b27d-1e39acf533a7",
   "metadata": {},
   "outputs": [
    {
     "name": "stdout",
     "output_type": "stream",
     "text": [
      "시간이 많이 남았어\n"
     ]
    }
   ],
   "source": [
    "import time as t\n",
    "print(\"배고프다\",end=\"\\r\")\n",
    "t.sleep(1)\n",
    "print(\"근데  \",end=\"\\r\")\n",
    "t.sleep(1)\n",
    "print(\"시간이 많이 남았어\")"
   ]
  },
  {
   "cell_type": "code",
   "execution_count": 13,
   "id": "227b50f1-91a5-4432-a8ee-ed25085ccaa3",
   "metadata": {},
   "outputs": [
    {
     "name": "stdout",
     "output_type": "stream",
     "text": [
      "1*2*3*4*5\n"
     ]
    }
   ],
   "source": [
    "print(1,2,3,4,5, sep=\"*\")"
   ]
  },
  {
   "cell_type": "markdown",
   "id": "dae9bfaf-0909-433d-b133-0449794b572c",
   "metadata": {},
   "source": [
    "# 자료형"
   ]
  },
  {
   "cell_type": "markdown",
   "id": "1ae68e6b-f2a5-4873-978d-a20c653ea307",
   "metadata": {},
   "source": [
    "## 숫자형"
   ]
  },
  {
   "cell_type": "code",
   "execution_count": null,
   "id": "14a6c334-ab1d-42bd-86c8-cc601b84e9a8",
   "metadata": {},
   "outputs": [],
   "source": [
    "a = 456\n",
    "b = 200\n",
    "\n",
    "print(\"덧셈\",a+b,end=\"\\n=========\\n\")\n",
    "print(\"뺄셈\",a-b,end=\"\\n=========\\n\")\n",
    "print(\"곱셈\",a*b,end=\"\\n=========\\n\")\n",
    "print(\"나눗셈\",a/b,end=\"\\n=========\\n\")\n",
    "print(\"몫\",a//b,end=\"\\n=========\\n\")\n",
    "print(\"나머지\",a%b,end=\"\\n=========\\n\")\n",
    "print(\"제곱\",a**2,end=\"\\n=========\\n\")"
   ]
  },
  {
   "cell_type": "code",
   "execution_count": 16,
   "id": "440c70ef-b900-473c-9af7-60f381e9d779",
   "metadata": {},
   "outputs": [
    {
     "name": "stdout",
     "output_type": "stream",
     "text": [
      "123 -178 0\n"
     ]
    }
   ],
   "source": [
    "#정수형\n",
    "a = 123\n",
    "b = -178\n",
    "c = 0\n",
    "print(a,b,c)"
   ]
  },
  {
   "cell_type": "code",
   "execution_count": 26,
   "id": "27e27d09-f09e-4e00-8952-c08f3a32b3e6",
   "metadata": {},
   "outputs": [
    {
     "name": "stdout",
     "output_type": "stream",
     "text": [
      "1.2 -3.14 42500000000.0\n"
     ]
    }
   ],
   "source": [
    "#실수형\n",
    "\n",
    "aa = 1.2\n",
    "bb = -3.14\n",
    "cc = 4.25e10\n",
    "print(aa,bb,cc)"
   ]
  },
  {
   "cell_type": "code",
   "execution_count": 28,
   "id": "8bf53ce1-3a27-47e9-aa53-701ee6d8b7b5",
   "metadata": {},
   "outputs": [
    {
     "name": "stdout",
     "output_type": "stream",
     "text": [
      "127 2303 6\n"
     ]
    }
   ],
   "source": [
    "#8진수와 16진수\n",
    "\n",
    "a = 0o177\n",
    "b = 0x8ff\n",
    "c = 0b110\n",
    "\n",
    "print(a,b,c)"
   ]
  },
  {
   "cell_type": "code",
   "execution_count": 29,
   "id": "58a92c85-95f0-4e44-bdaa-ed6d1e2381c4",
   "metadata": {},
   "outputs": [],
   "source": [
    "a = 1"
   ]
  },
  {
   "cell_type": "code",
   "execution_count": 35,
   "id": "e3595db2-71d1-47a7-a7b5-1349ca2eb425",
   "metadata": {},
   "outputs": [
    {
     "name": "stdout",
     "output_type": "stream",
     "text": [
      "7\n"
     ]
    }
   ],
   "source": [
    "#복합연산자\n",
    "a = a+1\n",
    "print(a)"
   ]
  },
  {
   "cell_type": "code",
   "execution_count": 41,
   "id": "dd5286ba-2c9d-4562-bdbf-833bbe88c4bf",
   "metadata": {},
   "outputs": [
    {
     "name": "stdout",
     "output_type": "stream",
     "text": [
      "13\n"
     ]
    }
   ],
   "source": [
    "a +=1\n",
    "print(a)"
   ]
  },
  {
   "cell_type": "code",
   "execution_count": 47,
   "id": "deb4fe5e-2995-43b6-953d-eab04d6a724f",
   "metadata": {},
   "outputs": [
    {
     "name": "stdout",
     "output_type": "stream",
     "text": [
      "9\n",
      "8\n",
      "7\n",
      "6\n"
     ]
    }
   ],
   "source": [
    "a = 10\n",
    "a -= 1\n",
    "print(a)\n",
    "a -= 1\n",
    "print(a)\n",
    "a -= 1\n",
    "print(a)\n",
    "a -= 1\n",
    "print(a)"
   ]
  },
  {
   "cell_type": "markdown",
   "id": "868dfaf5-a678-4bf7-9bea-d348c01259e3",
   "metadata": {},
   "source": [
    "## 문자열 자료형"
   ]
  },
  {
   "cell_type": "code",
   "execution_count": 48,
   "id": "284d8674-e5ce-400c-bdaa-be4803e382a3",
   "metadata": {},
   "outputs": [
    {
     "data": {
      "text/plain": [
       "'\\n이것은 여러줄 주석처리 입니다\\n'"
      ]
     },
     "execution_count": 48,
     "metadata": {},
     "output_type": "execute_result"
    }
   ],
   "source": [
    "#주석처리\n",
    "'''\n",
    "이것은 여러줄 주석처리 입니다\n",
    "'''"
   ]
  },
  {
   "cell_type": "code",
   "execution_count": 49,
   "id": "7effe6fe-ac65-4f25-b75c-1ee206dbaafd",
   "metadata": {},
   "outputs": [
    {
     "name": "stdout",
     "output_type": "stream",
     "text": [
      "문자형 입니다.\n",
      "\n",
      "이것은 여러줄 주석 처리입니다.\n",
      "\n",
      "\n",
      "이것도 여러줄 주석입니다.\n",
      "\n"
     ]
    }
   ],
   "source": [
    "s= \"문자형 입니다.\"\n",
    "print(s)\n",
    "\n",
    "s2= '''\n",
    "이것은 여러줄 문자열 처리입니다.\n",
    "'''\n",
    "print(s2)\n",
    "s3=\"\"\"\n",
    "이것도 여러줄 문자열입니다.\n",
    "\"\"\"\n",
    "print(s3)"
   ]
  },
  {
   "cell_type": "code",
   "execution_count": 51,
   "id": "b50700c8-d346-4d70-a41c-cddcb1d07969",
   "metadata": {},
   "outputs": [
    {
     "name": "stdout",
     "output_type": "stream",
     "text": [
      "python's favorite food is perl\n"
     ]
    }
   ],
   "source": [
    "# food = \"python's favorite food is perl\"\n",
    "food = 'python\\'s favorite food is perl'\n",
    "print(food)"
   ]
  },
  {
   "cell_type": "code",
   "execution_count": 57,
   "id": "f25c4957-a2ef-43e7-a81b-e533fcdc2c74",
   "metadata": {},
   "outputs": [
    {
     "name": "stdout",
     "output_type": "stream",
     "text": [
      "Life is too short\n",
      "You need python\n"
     ]
    }
   ],
   "source": [
    "multiline = \"Life is too short\\nYou need python\"\n",
    "print(multiline)"
   ]
  },
  {
   "cell_type": "code",
   "execution_count": 59,
   "id": "b60b2185-4ac5-4ec7-a24f-7c7614de062a",
   "metadata": {},
   "outputs": [
    {
     "name": "stdout",
     "output_type": "stream",
     "text": [
      "\n",
      "Life is too short\n",
      "you need python\n",
      "\n"
     ]
    }
   ],
   "source": [
    "multiline = \"\"\"\n",
    "Life is too short\n",
    "you need python\n",
    "\"\"\"\n",
    "print(multiline)"
   ]
  },
  {
   "cell_type": "markdown",
   "id": "fb5a7f66-c2e2-499a-8f9f-fe41cd338e0a",
   "metadata": {},
   "source": [
    "### 문자열 연산"
   ]
  },
  {
   "cell_type": "code",
   "execution_count": 61,
   "id": "25406bee-1f53-47a7-9673-99fd0b6b29f3",
   "metadata": {},
   "outputs": [
    {
     "name": "stdout",
     "output_type": "stream",
     "text": [
      "python is fun!\n"
     ]
    }
   ],
   "source": [
    "head = \"python\"\n",
    "tail = \" is fun!\"\n",
    "print(head+tail)"
   ]
  },
  {
   "cell_type": "code",
   "execution_count": 62,
   "id": "de7ccf79-d3aa-40b1-af12-1d465bd31972",
   "metadata": {},
   "outputs": [
    {
     "name": "stdout",
     "output_type": "stream",
     "text": [
      "python\n",
      "python\n",
      "python\n",
      "python\n",
      "python\n",
      "\n"
     ]
    }
   ],
   "source": [
    "a = \"python\" + \"\\n\"\n",
    "print(a*5)"
   ]
  },
  {
   "cell_type": "code",
   "execution_count": 18,
   "id": "b47134e1-9c47-4c8e-9abe-5072c50df448",
   "metadata": {
    "scrolled": true
   },
   "outputs": [
    {
     "name": "stdout",
     "output_type": "stream",
     "text": [
      "=============\n",
      "  영 수 증\n",
      "=============\n",
      "커피 15000원\n",
      "허브티 7200원\n",
      "라떼 12000원\n",
      "=============\n"
     ]
    }
   ],
   "source": [
    "#숫자계산\n",
    "p1 = 5000*3\n",
    "p2 = 7200*1\n",
    "p3 = 6000*2\n",
    "#문자계산\n",
    "m1 = \"\\n\"+\"커피 \"+str(p1)+\"원\"+\"\\n\"\n",
    "m2 = \"허브티 \"+str(p2)+\"원\"+\"\\n\"\n",
    "m3 = \"라떼 \"+str(p3)+\"원\"\n",
    "title = \"\\n\"+\"  \"+\"영 수 증\"+ \"\\n\"\n",
    "#출력조합\n",
    "# print(\"============\")\n",
    "# print(title)\n",
    "# print(\"============\")\n",
    "# print(m1+m2+m3)\n",
    "# print(\"============\")\n",
    "print(\"=\"*13+title+\"=\"*13+m1+m2+m3+\"\\n\"+\"=\"*13)"
   ]
  },
  {
   "cell_type": "markdown",
   "id": "da018069-b500-44a8-b51d-b96c830d1a8e",
   "metadata": {},
   "source": [
    "### 문자열 인덱싱과 슬라이싱"
   ]
  },
  {
   "cell_type": "code",
   "execution_count": 90,
   "id": "d9b027e5-716b-4ebb-b680-fb8ce38cbd51",
   "metadata": {},
   "outputs": [
    {
     "name": "stdout",
     "output_type": "stream",
     "text": [
      "Life is too short\n"
     ]
    }
   ],
   "source": [
    "a =\"Life is too short\"\n",
    "print(a)"
   ]
  },
  {
   "cell_type": "code",
   "execution_count": 96,
   "id": "017aa74a-6886-426b-aef2-b4a11ed775bd",
   "metadata": {},
   "outputs": [
    {
     "name": "stdout",
     "output_type": "stream",
     "text": [
      "too\n"
     ]
    }
   ],
   "source": [
    "print(a[8]+a[9]+a[10])"
   ]
  },
  {
   "cell_type": "code",
   "execution_count": 97,
   "id": "1490372e-0cde-4c4d-b667-6741d21c76a3",
   "metadata": {},
   "outputs": [
    {
     "name": "stdout",
     "output_type": "stream",
     "text": [
      "t r\n"
     ]
    }
   ],
   "source": [
    "print(a[-1],a[-2])"
   ]
  },
  {
   "cell_type": "code",
   "execution_count": 99,
   "id": "dbe36556-7773-4fd1-acfd-262e8aa16a4e",
   "metadata": {},
   "outputs": [
    {
     "name": "stdout",
     "output_type": "stream",
     "text": [
      "too\n"
     ]
    }
   ],
   "source": [
    "a = \"LIfe is too short, you need python\"\n",
    "print(a[8:11])"
   ]
  },
  {
   "cell_type": "code",
   "execution_count": 100,
   "id": "c00ceaf2-99b6-43a7-b966-de4f33fa4ad8",
   "metadata": {},
   "outputs": [
    {
     "name": "stdout",
     "output_type": "stream",
     "text": [
      "need\n"
     ]
    }
   ],
   "source": [
    "print(a[23:27])"
   ]
  },
  {
   "cell_type": "code",
   "execution_count": 102,
   "id": "5e55f300-9a3a-4041-891d-f9b9552d15d8",
   "metadata": {},
   "outputs": [
    {
     "name": "stdout",
     "output_type": "stream",
     "text": [
      "LIfe is too short, you need\n"
     ]
    }
   ],
   "source": [
    "print(a[:27])"
   ]
  },
  {
   "cell_type": "code",
   "execution_count": 104,
   "id": "3141d3b4-48c1-4c31-806e-0ead69ed70d9",
   "metadata": {},
   "outputs": [
    {
     "name": "stdout",
     "output_type": "stream",
     "text": [
      "python\n"
     ]
    }
   ],
   "source": [
    "print(a[28:])"
   ]
  },
  {
   "cell_type": "code",
   "execution_count": 108,
   "id": "a9662628-971f-46d2-b6f9-2f80f05c2710",
   "metadata": {},
   "outputs": [
    {
     "name": "stdout",
     "output_type": "stream",
     "text": [
      "nohtyp deen uoy ,trohs oot si efIL\n"
     ]
    }
   ],
   "source": [
    "print(a[::-1])"
   ]
  },
  {
   "cell_type": "code",
   "execution_count": 114,
   "id": "8deceb28-7624-4667-af10-6150103b2d64",
   "metadata": {},
   "outputs": [
    {
     "name": "stdout",
     "output_type": "stream",
     "text": [
      "2025년\n",
      "2월\n",
      "3일\n",
      "오늘은 화창하다!\n"
     ]
    }
   ],
   "source": [
    "today = \"2025년02월03일 오늘은 화창하다!\"\n",
    "year = today[:5]\n",
    "month = today[6:8]\n",
    "day = today[9:11]\n",
    "word = today[12:]\n",
    "print(year)\n",
    "print(month)\n",
    "print(day)\n",
    "print(word)"
   ]
  },
  {
   "cell_type": "code",
   "execution_count": 1,
   "id": "e344eccb-0edc-4a85-aacb-4ae0f1020acc",
   "metadata": {},
   "outputs": [
    {
     "name": "stdout",
     "output_type": "stream",
     "text": [
      "한국서 돈벌고 '나 몰라라' 코스트코… 연회비 인상률은 미국의 3배\n"
     ]
    }
   ],
   "source": [
    "import requests\n",
    "url = \"https://v.daum.net/v/20250203151815463\"\n",
    "res = requests.get(url)\n",
    "print(res.text[374:409]+\"3\"+res.text[410])"
   ]
  },
  {
   "cell_type": "code",
   "execution_count": 2,
   "id": "3b91042d-2b00-4711-8bac-a12df5c8527e",
   "metadata": {},
   "outputs": [
    {
     "name": "stdout",
     "output_type": "stream",
     "text": [
      "박세찬의 톡쏘는 일상 : 네이버 블로그\n"
     ]
    }
   ],
   "source": [
    "import requests\n",
    "url = 'https://blog.naver.com/droad777' \n",
    "res = requests.get(url).text\n",
    "print(\"박세찬\"+res[897:915])"
   ]
  },
  {
   "cell_type": "markdown",
   "id": "649c2c90-38eb-4045-aed5-ff4c552c95a4",
   "metadata": {},
   "source": [
    "### 문자열 포매팅"
   ]
  },
  {
   "cell_type": "code",
   "execution_count": 29,
   "id": "e3da4ddc-19a2-4bd4-8eed-d5813dbe2a00",
   "metadata": {},
   "outputs": [
    {
     "name": "stdout",
     "output_type": "stream",
     "text": [
      "i eat 3 apples.\n",
      "i eat 17 apples.\n",
      "i eat five apples.\n"
     ]
    }
   ],
   "source": [
    "print(\"i eat 3 apples.\")\n",
    "print(\"i eat %d apples.\" %17)\n",
    "print(\"i eat %s apples.\" %\"five\")"
   ]
  },
  {
   "cell_type": "markdown",
   "id": "af153f43-50bd-435b-82c1-7631f54d64d2",
   "metadata": {},
   "source": [
    "<table>\n",
    "<thead>\n",
    "<tr>\n",
    "<th>코드</th>\n",
    "<th>설명</th>\n",
    "</tr>\n",
    "</thead>\n",
    "<tbody>\n",
    "<tr>\n",
    "<td>%s</td>\n",
    "<td>문자열(String)</td>\n",
    "</tr>\n",
    "<tr>\n",
    "<td>%c</td>\n",
    "<td>문자 1개(character)</td>\n",
    "</tr>\n",
    "<tr>\n",
    "<td>%d</td>\n",
    "<td>정수(Integer)</td>\n",
    "</tr>\n",
    "<tr>\n",
    "<td>%f</td>\n",
    "<td>부동소수(floating-point)</td>\n",
    "</tr>\n",
    "<tr>\n",
    "<td>%o</td>\n",
    "<td>8진수</td>\n",
    "</tr>\n",
    "<tr>\n",
    "<td>%x</td>\n",
    "<td>16진수</td>\n",
    "</tr>\n",
    "<tr>\n",
    "<td>%%</td>\n",
    "<td>Literal % (문자 <code>%</code> 자체)</td>\n",
    "</tr>\n",
    "</tbody>\n",
    "</table>"
   ]
  },
  {
   "cell_type": "code",
   "execution_count": 42,
   "id": "aa39c131-5a8a-40c4-98a4-53a3b67e9c7a",
   "metadata": {},
   "outputs": [
    {
     "name": "stdout",
     "output_type": "stream",
     "text": [
      "사람몸의 수분은 60% 이다\n"
     ]
    }
   ],
   "source": [
    "print(\"사람몸의 수분은 %d%% 이다\" %60)"
   ]
  },
  {
   "cell_type": "code",
   "execution_count": 45,
   "id": "491e7b4c-941a-48b4-b495-acf0298bc272",
   "metadata": {},
   "outputs": [
    {
     "name": "stdout",
     "output_type": "stream",
     "text": [
      "십진수로 123은 16진수로 7b이고 8진수로는 173이다.\n"
     ]
    }
   ],
   "source": [
    "print(\"십진수로 %d은 16진수로 %x이고 8진수로는 %o이다.\" %(123,123,123))"
   ]
  },
  {
   "cell_type": "code",
   "execution_count": 49,
   "id": "4ee3f74a-1e02-48b4-8cc1-19618f2808f1",
   "metadata": {},
   "outputs": [
    {
     "name": "stdout",
     "output_type": "stream",
     "text": [
      "hi\n"
     ]
    }
   ],
   "source": [
    "print(\"%-2s\" %\"hi\")"
   ]
  },
  {
   "attachments": {
    "fb2ed470-a249-4294-8ca7-e595a423957b.png": {
     "image/png": "[encoded data removed]"
    }
   },
   "cell_type": "markdown",
   "id": "fbbb2df5-9a2f-4cb4-b73f-93b6bc80a789",
   "metadata": {},
   "source": [
    "![image.png](attachment:fb2ed470-a249-4294-8ca7-e595a423957b.png)"
   ]
  },
  {
   "cell_type": "code",
   "execution_count": 50,
   "id": "76524718-65a2-49f1-963f-9d5db24913ce",
   "metadata": {},
   "outputs": [
    {
     "name": "stdout",
     "output_type": "stream",
     "text": [
      "hi        jane\n"
     ]
    }
   ],
   "source": [
    "print(\"%-10sjane\" %\"hi\")"
   ]
  },
  {
   "attachments": {
    "04c55f73-a8ab-4a6e-b8ef-b543c56f9aed.png": {
     "image/png": "[encoded data removed]"
    }
   },
   "cell_type": "markdown",
   "id": "010ea9bf-ca16-4d45-b55e-22fa9076fafd",
   "metadata": {},
   "source": [
    "![image.png](attachment:04c55f73-a8ab-4a6e-b8ef-b543c56f9aed.png)"
   ]
  },
  {
   "cell_type": "markdown",
   "id": "e96aef45-4cdb-46fb-a9ea-91d01cd57d6b",
   "metadata": {},
   "source": [
    "### format 함수를 사용한 포매팅"
   ]
  },
  {
   "cell_type": "code",
   "execution_count": 53,
   "id": "c3f9530b-0bf2-49ec-a557-1259143594ae",
   "metadata": {
    "jupyter": {
     "source_hidden": true
    }
   },
   "outputs": [
    {
     "name": "stdout",
     "output_type": "stream",
     "text": [
      "i eat 3 of 10 apples.\n"
     ]
    }
   ],
   "source": [
    "print(\"i eat {0} of {1} apples.\". format(3,10))"
   ]
  },
  {
   "cell_type": "code",
   "execution_count": 55,
   "id": "f5962e85-348c-4796-8d51-94bed4ae5fc7",
   "metadata": {},
   "outputs": [
    {
     "name": "stdout",
     "output_type": "stream",
     "text": [
      "i eat three of 10 apples.\n"
     ]
    }
   ],
   "source": [
    "total = 10\n",
    "ea = \"three\"\n",
    "print(\"i eat {0} of {1} apples.\". format(ea,total))"
   ]
  },
  {
   "cell_type": "code",
   "execution_count": 57,
   "id": "75eff9bd-098e-4c45-93cc-b7299fa58a60",
   "metadata": {},
   "outputs": [
    {
     "name": "stdout",
     "output_type": "stream",
     "text": [
      "i eat three of 10 apples.\n"
     ]
    }
   ],
   "source": [
    "print(\"i eat {ea} of {total} apples.\". format(ea=\"three\",total=10))"
   ]
  },
  {
   "cell_type": "code",
   "execution_count": 58,
   "id": "6a558be4-c941-4660-a61a-d5d90f9d01f8",
   "metadata": {},
   "outputs": [
    {
     "name": "stdout",
     "output_type": "stream",
     "text": [
      "i ate 10 apples. so I was sick for 3 days.\n"
     ]
    }
   ],
   "source": [
    "print(\"i ate {0} apples. so I was sick for {day} days.\". format(10,day=3))"
   ]
  },
  {
   "cell_type": "code",
   "execution_count": 59,
   "id": "659a00d3-0f48-4883-b089-e4a6a521ca03",
   "metadata": {},
   "outputs": [
    {
     "name": "stdout",
     "output_type": "stream",
     "text": [
      "        hi\n"
     ]
    }
   ],
   "source": [
    "#우측 정렬\n",
    "print(\"{0:>10}\".format(\"hi\"))"
   ]
  },
  {
   "cell_type": "code",
   "execution_count": 61,
   "id": "2d16967a-4b17-44e5-9000-7b918c017e48",
   "metadata": {},
   "outputs": [
    {
     "name": "stdout",
     "output_type": "stream",
     "text": [
      "    hi    \n"
     ]
    }
   ],
   "source": [
    "#가운데 정렬\n",
    "print(\"{0:^10}\".format(\"hi\"))"
   ]
  },
  {
   "cell_type": "code",
   "execution_count": 62,
   "id": "48ed7fab-6741-4114-a989-3998bf64907e",
   "metadata": {},
   "outputs": [
    {
     "name": "stdout",
     "output_type": "stream",
     "text": [
      "hi        \n"
     ]
    }
   ],
   "source": [
    "#우측 정렬\n",
    "print(\"{0:<10}\".format(\"hi\"))"
   ]
  },
  {
   "cell_type": "code",
   "execution_count": 63,
   "id": "83bcaaeb-6bad-4a34-9989-293d0dbf2a19",
   "metadata": {},
   "outputs": [
    {
     "name": "stdout",
     "output_type": "stream",
     "text": [
      "3.1416\n"
     ]
    }
   ],
   "source": [
    "pi = 3.14159265\n",
    "print(\"{0:0.4f}\".format(pi))"
   ]
  },
  {
   "cell_type": "code",
   "execution_count": 64,
   "id": "a4441f8f-77d1-4695-9ed1-5c419a97670b",
   "metadata": {},
   "outputs": [
    {
     "name": "stdout",
     "output_type": "stream",
     "text": [
      "중괄호 은 { 과 } 입니다.\n"
     ]
    }
   ],
   "source": [
    "print(\"{0} 은 {{ 과 }} 입니다.\". format(\"중괄호\"))"
   ]
  },
  {
   "cell_type": "code",
   "execution_count": 75,
   "id": "01d6fdeb-e762-4cee-876b-2f9ab209a5ed",
   "metadata": {},
   "outputs": [
    {
     "name": "stdout",
     "output_type": "stream",
     "text": [
      "01111011\n"
     ]
    }
   ],
   "source": [
    "#내가 만든 답print(\"{a}{aa:b}\".format(a=0,aa=123))\n",
    "print(\"{0:0>8b}\".format(123))\n",
    "#정렬에 8칸을 고정시켜두면 출력은 무조건 8칸을 만들어야 하기 때문에 0이 나온다"
   ]
  },
  {
   "cell_type": "markdown",
   "id": "0042ad9e-9dfc-417b-be91-3cf7601bb9ae",
   "metadata": {},
   "source": []
  },
  {
   "cell_type": "markdown",
   "id": "7fa82371-5f93-4801-a961-75ed9ef00779",
   "metadata": {},
   "source": [
    "### f문자열 포매팅"
   ]
  },
  {
   "cell_type": "code",
   "execution_count": 78,
   "id": "9fa275bb-ac5a-47bb-86c4-84a37a31475a",
   "metadata": {},
   "outputs": [
    {
     "name": "stdout",
     "output_type": "stream",
     "text": [
      "나의 이름은 박세찬입니다. 나이는27입니다.\n",
      "내년이면 28살이 됩니다.\n"
     ]
    }
   ],
   "source": [
    "name = \"박세찬\"\n",
    "age = 27\n",
    "#\"  \".format()\n",
    "print(f\"나의 이름은 {name}입니다. 나이는{age}입니다.\")\n",
    "print(f\"내년이면 {age+1}살이 됩니다.\")"
   ]
  },
  {
   "cell_type": "code",
   "execution_count": 4,
   "id": "67484c43-88c4-412f-aea6-b041c5636440",
   "metadata": {},
   "outputs": [
    {
     "name": "stdin",
     "output_type": "stream",
     "text": [
      " 10000\n"
     ]
    },
    {
     "name": "stdout",
     "output_type": "stream",
     "text": [
      "내가 먹고싶은과일은 banana입니다. 하지만 가격이10000원이라 못먹습니다.\n"
     ]
    }
   ],
   "source": [
    "# 내가 해보는거임\n",
    "fruit = [\"orange\",\"apples\",\"banana\"]\n",
    "won = input()\n",
    "\n",
    "print(f\"내가 먹고싶은과일은 {fruit[1+1]}입니다. 하지만 가격이{won}원이라 못먹습니다.\")"
   ]
  },
  {
   "cell_type": "code",
   "execution_count": 84,
   "id": "2e0391c0-c640-4caa-8a95-0d3cf4be17dc",
   "metadata": {},
   "outputs": [
    {
     "name": "stdout",
     "output_type": "stream",
     "text": [
      "나의 이름은 박세찬입니다. 나이는 27살이고, 성별은 남입니다\n"
     ]
    }
   ],
   "source": [
    "#딕셔너리 = 오브젝트, \n",
    "d = {\"name\":\"박세찬\",\"age\":27,\"gender\":\"남\"}\n",
    "print(f\"나의 이름은 {d[\"name\"]}입니다. 나이는 {d[\"age\"]}살이고, 성별은 {d[\"gender\"]}입니다\")"
   ]
  },
  {
   "cell_type": "code",
   "execution_count": 87,
   "id": "32b88ef2-50eb-4817-83ba-dbc6b9e71198",
   "metadata": {},
   "outputs": [
    {
     "name": "stdout",
     "output_type": "stream",
     "text": [
      "        hi\n",
      "hi        \n",
      "    hi    \n"
     ]
    }
   ],
   "source": [
    "print(f\"{\"hi\":>10}\") #우측정렬\n",
    "print(f\"{\"hi\":<10}\") #좌측정렬\n",
    "print(f\"{\"hi\":^10}\") #가운데정렬"
   ]
  },
  {
   "cell_type": "code",
   "execution_count": 89,
   "id": "ac1ab984-43d4-4704-830d-4021b77421f3",
   "metadata": {},
   "outputs": [
    {
     "name": "stdout",
     "output_type": "stream",
     "text": [
      "====hi====\n",
      "!!!!!!!!hi\n"
     ]
    }
   ],
   "source": [
    "print(f\"{\"hi\":=^10}\")\n",
    "print(f\"{\"hi\":!>10}\")"
   ]
  },
  {
   "cell_type": "markdown",
   "id": "cff5aa20-f641-465d-b586-01d7166ae3ef",
   "metadata": {},
   "source": [
    "### 문자열 관련 함수들"
   ]
  },
  {
   "cell_type": "code",
   "execution_count": 5,
   "id": "57fa676b-fc0f-429c-8c7b-30e9de970bb5",
   "metadata": {},
   "outputs": [
    {
     "data": {
      "text/plain": [
       "2"
      ]
     },
     "execution_count": 5,
     "metadata": {},
     "output_type": "execute_result"
    }
   ],
   "source": [
    "# 문자 개수 세기\n",
    "a = \"hobby\"\n",
    "a.count(\"b\")"
   ]
  },
  {
   "cell_type": "code",
   "execution_count": 9,
   "id": "4aef2787-2c2e-4464-9757-9925ec691977",
   "metadata": {},
   "outputs": [
    {
     "name": "stdout",
     "output_type": "stream",
     "text": [
      "한국서 돈벌고 '나 몰라라' 코스트코… 연회비 인상률은 미국의 3배\n",
      "1\n"
     ]
    }
   ],
   "source": [
    "import requests\n",
    "url = \"https://v.daum.net/v/20250203151815463\"\n",
    "res = requests.get(url).text\n",
    "result = res[374:411]\n",
    "out = result[:-2]+ \"3\" + result[-1]\n",
    "print(out)\n",
    "print(out.count(\"한국\"))"
   ]
  },
  {
   "cell_type": "code",
   "execution_count": 13,
   "id": "f9576961-3056-43f2-9efb-e76f20aa4c90",
   "metadata": {},
   "outputs": [
    {
     "name": "stdout",
     "output_type": "stream",
     "text": [
      "한국서 돈벌고 '나 몰라라' 코스트코… 연회비 인상률은 미국의 3배\n",
      "-1\n"
     ]
    }
   ],
   "source": [
    "# 위치 알려주기 1 find\n",
    "print(out)\n",
    "print(out.find(\"밥\"))"
   ]
  },
  {
   "cell_type": "code",
   "execution_count": null,
   "id": "607fbf52-276d-4f57-b57c-11ba798362b4",
   "metadata": {},
   "outputs": [],
   "source": [
    "import requests\n",
    "url = \"https://v.daum.net/v/20250203151815463\"\n",
    "res = requests.get(url).text\n",
    "print(res.find(\"\")"
   ]
  },
  {
   "cell_type": "code",
   "execution_count": 24,
   "id": "c85b8f4e-fffc-4d9a-9fbf-c7007b9a3894",
   "metadata": {},
   "outputs": [
    {
     "name": "stdout",
     "output_type": "stream",
     "text": [
      "41529\n",
      "좋아하는 노래제목 toxic till the end\n"
     ]
    }
   ],
   "source": [
    "import requests\n",
    "url = 'https://music.apple.com/kr/playlist/%EC%98%A4%EB%8A%98%EC%9D%98-top-100-%EB%8C%80%ED%95%9C%EB%AF%BC%EA%B5%AD/pl.d3d10c32fbc540b38e266367dc8cb00c' \n",
    "res = requests.get(url).text\n",
    "#print(res.find(\"toxic till the end\"))\n",
    "print(res.index(\"toxic till the end\"))# 없으면 오류를 발생시킴\n",
    "print(\"좋아하는 노래제목\",res[41529:41547])"
   ]
  },
  {
   "cell_type": "code",
   "execution_count": 28,
   "id": "bff1b658-074b-4403-b264-9d9e97348321",
   "metadata": {},
   "outputs": [
    {
     "name": "stdout",
     "output_type": "stream",
     "text": [
      "1,2,3,4,5\n"
     ]
    }
   ],
   "source": [
    "#문자열삽입 join★\n",
    "# 리스트,튜플을 문자열로\n",
    "print(\",\".join(\"12345\"))"
   ]
  },
  {
   "cell_type": "code",
   "execution_count": 11,
   "id": "9cab6f51-e489-4c3f-9899-d42ab6d69997",
   "metadata": {},
   "outputs": [
    {
     "name": "stdout",
     "output_type": "stream",
     "text": [
      "1<5<9<7<5<3\n"
     ]
    }
   ],
   "source": [
    "print(\"<\".join(\"159753\")) "
   ]
  },
  {
   "cell_type": "code",
   "execution_count": 30,
   "id": "d958bb08-9448-4de7-84b5-fb5c7cdd5e9e",
   "metadata": {},
   "outputs": [
    {
     "name": "stdout",
     "output_type": "stream",
     "text": [
      "a,b,c,d\n"
     ]
    }
   ],
   "source": [
    "print(\",\".join([\"a\",\"b\",\"c\",\"d\"]))"
   ]
  },
  {
   "cell_type": "code",
   "execution_count": 32,
   "id": "773905ca-0cb7-4472-918b-ef08b7d1794d",
   "metadata": {},
   "outputs": [
    {
     "name": "stdout",
     "output_type": "stream",
     "text": [
      "APPLES\n"
     ]
    }
   ],
   "source": [
    "#소문자를 대문자로 바꾸기 upper\n",
    "print(\"apples\".upper())"
   ]
  },
  {
   "cell_type": "code",
   "execution_count": 33,
   "id": "453a2070-c95b-40e8-ac3b-aec5be782ad8",
   "metadata": {},
   "outputs": [
    {
     "name": "stdout",
     "output_type": "stream",
     "text": [
      "apple\n"
     ]
    }
   ],
   "source": [
    "#대문자를 소문자로 바꾸기 lower\n",
    "print(\"APPLE\".lower())"
   ]
  },
  {
   "cell_type": "code",
   "execution_count": 35,
   "id": "acc77a3a-1ffb-4831-bd34-a063129dae21",
   "metadata": {},
   "outputs": [
    {
     "name": "stdout",
     "output_type": "stream",
     "text": [
      "Life is Egg\n",
      "LIFE IS EGG\n",
      "life is egg\n"
     ]
    }
   ],
   "source": [
    "v = \"Life is Egg\"\n",
    "big = v.upper()\n",
    "low = v.lower()\n",
    "print(v)\n",
    "print(big)\n",
    "print(low)"
   ]
  },
  {
   "cell_type": "code",
   "execution_count": 43,
   "id": "a7aa3db8-344a-4f7c-ade1-8803af9478e7",
   "metadata": {},
   "outputs": [
    {
     "name": "stdout",
     "output_type": "stream",
     "text": [
      "  !   hi !  \n",
      "!   hi !  \n",
      "  !   hi !\n",
      "!   hi !\n"
     ]
    }
   ],
   "source": [
    "a=\"  !   hi !  \"\n",
    "aa=a.lstrip()\n",
    "bb=a.rstrip()\n",
    "cc=a.strip()\n",
    "print(a)\n",
    "print(aa)\n",
    "print(bb)\n",
    "print(cc)"
   ]
  },
  {
   "cell_type": "code",
   "execution_count": 42,
   "id": "ffde435a-bbe1-4281-8fec-2ba1131d3245",
   "metadata": {},
   "outputs": [
    {
     "name": "stdout",
     "output_type": "stream",
     "text": [
      "         hi         \n",
      "hi         \n",
      "         hi\n",
      "hi\n"
     ]
    }
   ],
   "source": [
    "f = f\"{\"hi\":^20}\"\n",
    "f1 = f.lstrip()\n",
    "f2 = f.rstrip()\n",
    "f3 = f.strip()\n",
    "print(f)\n",
    "print(f1)\n",
    "print(f2)\n",
    "print(f3)"
   ]
  },
  {
   "cell_type": "code",
   "execution_count": 46,
   "id": "54dd702e-b0bd-4d2e-8b39-e6f41d9e4c76",
   "metadata": {},
   "outputs": [
    {
     "name": "stdout",
     "output_type": "stream",
     "text": [
      "Life is egg\n",
      "Life is beautiful\n"
     ]
    }
   ],
   "source": [
    "#문자열 바꾸기 replace★★★\n",
    "a = \"Life is egg\"\n",
    "c = a.replace(\"egg\",\"beautiful\")\n",
    "#()안에는 앞에걸 뒤에걸로 바꾼다라고 보면 됨\n",
    "print(a)\n",
    "print(c)"
   ]
  },
  {
   "cell_type": "code",
   "execution_count": 47,
   "id": "5eadd79f-100a-4a3f-a521-e2c0ed8424f1",
   "metadata": {},
   "outputs": [
    {
     "name": "stdout",
     "output_type": "stream",
     "text": [
      "Life is egg\n",
      "['Life', 'is', 'egg']\n"
     ]
    }
   ],
   "source": [
    "# 문자열 나누기 split\n",
    "# 문자열을 배열로\n",
    "a = \"Life is egg\"\n",
    "aa = a.split()\n",
    "print(a)\n",
    "print(aa)                "
   ]
  },
  {
   "cell_type": "code",
   "execution_count": 54,
   "id": "3ba55638-7624-4996-92fa-1426f19adb03",
   "metadata": {},
   "outputs": [
    {
     "name": "stdout",
     "output_type": "stream",
     "text": [
      "['abcdefghi']\n",
      "a=b=c=d=e=f=g=h=i\n",
      "['a', 'b', 'c', 'd', 'e', 'f', 'g', 'h', 'i']\n",
      "abcdefghi\n"
     ]
    }
   ],
   "source": [
    "#연습\n",
    "ex = \"abcdefghi\"\n",
    "ex2 = ex.split()\n",
    "print(ex2)\n",
    "# 기준이 없기에 스플릿을 써도 분활이 되지 않는다.\n",
    "ex_join = \"=\".join(ex)\n",
    "print(ex_join)\n",
    "ex_split = ex_join.split(\"=\")\n",
    "print(ex_split)\n",
    "# 먼저 join으로 사용해서 =를 집어넣고 스플릿으로 =를 지정하여 분할을 한다.\n",
    "ex_replace = ex_join.replace(\"=\",\"\")\n",
    "print(ex_replace)\n",
    "#문자열을 \"\"로 바꾸었기 때문에 =은 사라지고 다시 원본으로 돌아온다."
   ]
  },
  {
   "cell_type": "code",
   "execution_count": null,
   "id": "2966d422-c60a-4dd0-bed4-644df4f76b4e",
   "metadata": {},
   "outputs": [],
   "source": []
  }
 ],
 "metadata": {
  "kernelspec": {
   "display_name": "Python 3 (ipykernel)",
   "language": "python",
   "name": "python3"
  },
  "language_info": {
   "codemirror_mode": {
    "name": "ipython",
    "version": 3
   },
   "file_extension": ".py",
   "mimetype": "text/x-python",
   "name": "python",
   "nbconvert_exporter": "python",
   "pygments_lexer": "ipython3",
   "version": "3.13.1"
  }
 },
 "nbformat": 4,
 "nbformat_minor": 5
}

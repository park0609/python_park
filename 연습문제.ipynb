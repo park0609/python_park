{
 "cells": [
  {
   "cell_type": "code",
   "execution_count": 32,
   "id": "17a73a80-3b9a-421b-9fab-93e5691bfed9",
   "metadata": {},
   "outputs": [],
   "source": [
    "import pandas as pd"
   ]
  },
  {
   "cell_type": "code",
   "execution_count": 33,
   "id": "04c973ff-e100-4522-95e0-ac2853055980",
   "metadata": {},
   "outputs": [
    {
     "data": {
      "text/html": [
       "<div>\n",
       "<style scoped>\n",
       "    .dataframe tbody tr th:only-of-type {\n",
       "        vertical-align: middle;\n",
       "    }\n",
       "\n",
       "    .dataframe tbody tr th {\n",
       "        vertical-align: top;\n",
       "    }\n",
       "\n",
       "    .dataframe thead th {\n",
       "        text-align: right;\n",
       "    }\n",
       "</style>\n",
       "<table border=\"1\" class=\"dataframe\">\n",
       "  <thead>\n",
       "    <tr style=\"text-align: right;\">\n",
       "      <th></th>\n",
       "      <th>이름</th>\n",
       "      <th>국어</th>\n",
       "      <th>수학</th>\n",
       "      <th>영어</th>\n",
       "    </tr>\n",
       "  </thead>\n",
       "  <tbody>\n",
       "    <tr>\n",
       "      <th>0</th>\n",
       "      <td>홍길동</td>\n",
       "      <td>80</td>\n",
       "      <td>70</td>\n",
       "      <td>80</td>\n",
       "    </tr>\n",
       "    <tr>\n",
       "      <th>1</th>\n",
       "      <td>박철수</td>\n",
       "      <td>60</td>\n",
       "      <td>70</td>\n",
       "      <td>80</td>\n",
       "    </tr>\n",
       "    <tr>\n",
       "      <th>2</th>\n",
       "      <td>김영희</td>\n",
       "      <td>70</td>\n",
       "      <td>90</td>\n",
       "      <td>80</td>\n",
       "    </tr>\n",
       "  </tbody>\n",
       "</table>\n",
       "</div>"
      ],
      "text/plain": [
       "    이름  국어  수학  영어\n",
       "0  홍길동  80  70  80\n",
       "1  박철수  60  70  80\n",
       "2  김영희  70  90  80"
      ]
     },
     "execution_count": 33,
     "metadata": {},
     "output_type": "execute_result"
    }
   ],
   "source": [
    "student_data = [\n",
    "    ['홍길동',80,70,80],\n",
    "    ['박철수',60,70,80],\n",
    "    ['김영희',70,90,80]\n",
    "]\n",
    "df = pd.DataFrame(student_data)\n",
    "df.columns = [\"이름\",'국어','수학','영어']\n",
    "df"
   ]
  },
  {
   "cell_type": "code",
   "execution_count": 43,
   "id": "2332874d-2c1b-4d5b-977b-d261830cb3fa",
   "metadata": {},
   "outputs": [
    {
     "data": {
      "text/plain": [
       "0    80\n",
       "1    60\n",
       "2    70\n",
       "Name: 국어, dtype: int64"
      ]
     },
     "execution_count": 43,
     "metadata": {},
     "output_type": "execute_result"
    }
   ],
   "source": [
    "df[\"국어\"]"
   ]
  },
  {
   "cell_type": "code",
   "execution_count": 44,
   "id": "596097bb-95b3-46a0-809a-8f589e538a0f",
   "metadata": {},
   "outputs": [
    {
     "data": {
      "text/plain": [
       "이름    홍길동\n",
       "국어     80\n",
       "수학     70\n",
       "영어     80\n",
       "Name: 0, dtype: object"
      ]
     },
     "execution_count": 44,
     "metadata": {},
     "output_type": "execute_result"
    }
   ],
   "source": [
    "df.iloc[0]"
   ]
  },
  {
   "cell_type": "code",
   "execution_count": 70,
   "id": "1157b782-3e82-4f18-87f7-9157b04eb130",
   "metadata": {},
   "outputs": [
    {
     "data": {
      "text/html": [
       "<div>\n",
       "<style scoped>\n",
       "    .dataframe tbody tr th:only-of-type {\n",
       "        vertical-align: middle;\n",
       "    }\n",
       "\n",
       "    .dataframe tbody tr th {\n",
       "        vertical-align: top;\n",
       "    }\n",
       "\n",
       "    .dataframe thead th {\n",
       "        text-align: right;\n",
       "    }\n",
       "</style>\n",
       "<table border=\"1\" class=\"dataframe\">\n",
       "  <thead>\n",
       "    <tr style=\"text-align: right;\">\n",
       "      <th></th>\n",
       "      <th>이름</th>\n",
       "      <th>국어</th>\n",
       "      <th>수학</th>\n",
       "      <th>영어</th>\n",
       "      <th>사회</th>\n",
       "    </tr>\n",
       "  </thead>\n",
       "  <tbody>\n",
       "    <tr>\n",
       "      <th>0</th>\n",
       "      <td>홍길동</td>\n",
       "      <td>80</td>\n",
       "      <td>70</td>\n",
       "      <td>80</td>\n",
       "      <td>50</td>\n",
       "    </tr>\n",
       "    <tr>\n",
       "      <th>1</th>\n",
       "      <td>박철수</td>\n",
       "      <td>60</td>\n",
       "      <td>70</td>\n",
       "      <td>100</td>\n",
       "      <td>60</td>\n",
       "    </tr>\n",
       "    <tr>\n",
       "      <th>2</th>\n",
       "      <td>김영희</td>\n",
       "      <td>70</td>\n",
       "      <td>90</td>\n",
       "      <td>80</td>\n",
       "      <td>70</td>\n",
       "    </tr>\n",
       "  </tbody>\n",
       "</table>\n",
       "</div>"
      ],
      "text/plain": [
       "    이름  국어  수학   영어  사회\n",
       "0  홍길동  80  70   80  50\n",
       "1  박철수  60  70  100  60\n",
       "2  김영희  70  90   80  70"
      ]
     },
     "execution_count": 70,
     "metadata": {},
     "output_type": "execute_result"
    }
   ],
   "source": [
    "df[\"사회\"] = [50,60,70]\n",
    "df"
   ]
  },
  {
   "cell_type": "code",
   "execution_count": 71,
   "id": "6d459201-c365-49f7-8eb0-b44c20063ad3",
   "metadata": {},
   "outputs": [
    {
     "data": {
      "text/html": [
       "<div>\n",
       "<style scoped>\n",
       "    .dataframe tbody tr th:only-of-type {\n",
       "        vertical-align: middle;\n",
       "    }\n",
       "\n",
       "    .dataframe tbody tr th {\n",
       "        vertical-align: top;\n",
       "    }\n",
       "\n",
       "    .dataframe thead th {\n",
       "        text-align: right;\n",
       "    }\n",
       "</style>\n",
       "<table border=\"1\" class=\"dataframe\">\n",
       "  <thead>\n",
       "    <tr style=\"text-align: right;\">\n",
       "      <th></th>\n",
       "      <th>이름</th>\n",
       "      <th>국어</th>\n",
       "      <th>수학</th>\n",
       "      <th>영어</th>\n",
       "    </tr>\n",
       "  </thead>\n",
       "  <tbody>\n",
       "    <tr>\n",
       "      <th>0</th>\n",
       "      <td>홍길동</td>\n",
       "      <td>80</td>\n",
       "      <td>70</td>\n",
       "      <td>80</td>\n",
       "    </tr>\n",
       "    <tr>\n",
       "      <th>1</th>\n",
       "      <td>박철수</td>\n",
       "      <td>60</td>\n",
       "      <td>70</td>\n",
       "      <td>100</td>\n",
       "    </tr>\n",
       "    <tr>\n",
       "      <th>2</th>\n",
       "      <td>김영희</td>\n",
       "      <td>70</td>\n",
       "      <td>90</td>\n",
       "      <td>80</td>\n",
       "    </tr>\n",
       "  </tbody>\n",
       "</table>\n",
       "</div>"
      ],
      "text/plain": [
       "    이름  국어  수학   영어\n",
       "0  홍길동  80  70   80\n",
       "1  박철수  60  70  100\n",
       "2  김영희  70  90   80"
      ]
     },
     "execution_count": 71,
     "metadata": {},
     "output_type": "execute_result"
    }
   ],
   "source": [
    "df = df.drop(\"사회\",axis = 1)\n",
    "df"
   ]
  },
  {
   "cell_type": "code",
   "execution_count": 72,
   "id": "03a09db2-d2ba-4800-bfdc-5153fcb12d79",
   "metadata": {},
   "outputs": [
    {
     "data": {
      "text/plain": [
       "'박철수'"
      ]
     },
     "execution_count": 72,
     "metadata": {},
     "output_type": "execute_result"
    }
   ],
   "source": [
    "df.loc[1,\"이름\"]"
   ]
  },
  {
   "cell_type": "code",
   "execution_count": 73,
   "id": "ec2beef9-e92b-4c94-82e6-517f19bf0620",
   "metadata": {},
   "outputs": [
    {
     "data": {
      "text/html": [
       "<div>\n",
       "<style scoped>\n",
       "    .dataframe tbody tr th:only-of-type {\n",
       "        vertical-align: middle;\n",
       "    }\n",
       "\n",
       "    .dataframe tbody tr th {\n",
       "        vertical-align: top;\n",
       "    }\n",
       "\n",
       "    .dataframe thead th {\n",
       "        text-align: right;\n",
       "    }\n",
       "</style>\n",
       "<table border=\"1\" class=\"dataframe\">\n",
       "  <thead>\n",
       "    <tr style=\"text-align: right;\">\n",
       "      <th></th>\n",
       "      <th>이름</th>\n",
       "      <th>국어</th>\n",
       "      <th>수학</th>\n",
       "      <th>영어</th>\n",
       "    </tr>\n",
       "  </thead>\n",
       "  <tbody>\n",
       "    <tr>\n",
       "      <th>0</th>\n",
       "      <td>홍길동</td>\n",
       "      <td>80</td>\n",
       "      <td>70</td>\n",
       "      <td>80</td>\n",
       "    </tr>\n",
       "    <tr>\n",
       "      <th>1</th>\n",
       "      <td>박철수</td>\n",
       "      <td>60</td>\n",
       "      <td>70</td>\n",
       "      <td>100</td>\n",
       "    </tr>\n",
       "    <tr>\n",
       "      <th>2</th>\n",
       "      <td>김영희</td>\n",
       "      <td>70</td>\n",
       "      <td>90</td>\n",
       "      <td>80</td>\n",
       "    </tr>\n",
       "  </tbody>\n",
       "</table>\n",
       "</div>"
      ],
      "text/plain": [
       "    이름  국어  수학   영어\n",
       "0  홍길동  80  70   80\n",
       "1  박철수  60  70  100\n",
       "2  김영희  70  90   80"
      ]
     },
     "execution_count": 73,
     "metadata": {},
     "output_type": "execute_result"
    }
   ],
   "source": [
    "df.loc[1,\"영어\"] = 100\n",
    "df"
   ]
  },
  {
   "cell_type": "code",
   "execution_count": 95,
   "id": "6f518d5e-6238-4755-96e5-3db106843b7f",
   "metadata": {},
   "outputs": [
    {
     "data": {
      "text/html": [
       "<div>\n",
       "<style scoped>\n",
       "    .dataframe tbody tr th:only-of-type {\n",
       "        vertical-align: middle;\n",
       "    }\n",
       "\n",
       "    .dataframe tbody tr th {\n",
       "        vertical-align: top;\n",
       "    }\n",
       "\n",
       "    .dataframe thead th {\n",
       "        text-align: right;\n",
       "    }\n",
       "</style>\n",
       "<table border=\"1\" class=\"dataframe\">\n",
       "  <thead>\n",
       "    <tr style=\"text-align: right;\">\n",
       "      <th></th>\n",
       "      <th>이름</th>\n",
       "      <th>국어</th>\n",
       "      <th>수학</th>\n",
       "      <th>영어</th>\n",
       "    </tr>\n",
       "  </thead>\n",
       "  <tbody>\n",
       "    <tr>\n",
       "      <th>2</th>\n",
       "      <td>김영희</td>\n",
       "      <td>70</td>\n",
       "      <td>90</td>\n",
       "      <td>80</td>\n",
       "    </tr>\n",
       "  </tbody>\n",
       "</table>\n",
       "</div>"
      ],
      "text/plain": [
       "    이름  국어  수학  영어\n",
       "2  김영희  70  90  80"
      ]
     },
     "execution_count": 95,
     "metadata": {},
     "output_type": "execute_result"
    }
   ],
   "source": [
    "#비교하는법 1\n",
    "df[(df[\"국어\"]>=70) & (df[\"수학\"]>=80)]\n",
    "\n",
    "#비교하는법 2\n",
    "df.query(\"국어>=70 and 수학>=80\")"
   ]
  },
  {
   "cell_type": "code",
   "execution_count": 98,
   "id": "f562c660-55d9-4d12-9b64-6b0a81e4a452",
   "metadata": {},
   "outputs": [
    {
     "data": {
      "text/html": [
       "<div>\n",
       "<style scoped>\n",
       "    .dataframe tbody tr th:only-of-type {\n",
       "        vertical-align: middle;\n",
       "    }\n",
       "\n",
       "    .dataframe tbody tr th {\n",
       "        vertical-align: top;\n",
       "    }\n",
       "\n",
       "    .dataframe thead th {\n",
       "        text-align: right;\n",
       "    }\n",
       "</style>\n",
       "<table border=\"1\" class=\"dataframe\">\n",
       "  <thead>\n",
       "    <tr style=\"text-align: right;\">\n",
       "      <th></th>\n",
       "      <th>이름</th>\n",
       "      <th>국어</th>\n",
       "      <th>수학</th>\n",
       "      <th>영어</th>\n",
       "    </tr>\n",
       "  </thead>\n",
       "  <tbody>\n",
       "    <tr>\n",
       "      <th>0</th>\n",
       "      <td>홍길동</td>\n",
       "      <td>80</td>\n",
       "      <td>70</td>\n",
       "      <td>80</td>\n",
       "    </tr>\n",
       "    <tr>\n",
       "      <th>1</th>\n",
       "      <td>박철수</td>\n",
       "      <td>60</td>\n",
       "      <td>70</td>\n",
       "      <td>100</td>\n",
       "    </tr>\n",
       "    <tr>\n",
       "      <th>2</th>\n",
       "      <td>김영희</td>\n",
       "      <td>70</td>\n",
       "      <td>90</td>\n",
       "      <td>80</td>\n",
       "    </tr>\n",
       "  </tbody>\n",
       "</table>\n",
       "</div>"
      ],
      "text/plain": [
       "    이름  국어  수학   영어\n",
       "0  홍길동  80  70   80\n",
       "1  박철수  60  70  100\n",
       "2  김영희  70  90   80"
      ]
     },
     "execution_count": 98,
     "metadata": {},
     "output_type": "execute_result"
    }
   ],
   "source": [
    "df.query(\"국어>=80 or 영어>=80\")"
   ]
  },
  {
   "cell_type": "code",
   "execution_count": 111,
   "id": "e8b9ff2c-7f79-44b4-8c83-15068256f3ef",
   "metadata": {},
   "outputs": [
    {
     "data": {
      "text/html": [
       "<div>\n",
       "<style scoped>\n",
       "    .dataframe tbody tr th:only-of-type {\n",
       "        vertical-align: middle;\n",
       "    }\n",
       "\n",
       "    .dataframe tbody tr th {\n",
       "        vertical-align: top;\n",
       "    }\n",
       "\n",
       "    .dataframe thead th {\n",
       "        text-align: right;\n",
       "    }\n",
       "</style>\n",
       "<table border=\"1\" class=\"dataframe\">\n",
       "  <thead>\n",
       "    <tr style=\"text-align: right;\">\n",
       "      <th></th>\n",
       "      <th>국어</th>\n",
       "      <th>수학</th>\n",
       "      <th>영어</th>\n",
       "    </tr>\n",
       "    <tr>\n",
       "      <th>이름</th>\n",
       "      <th></th>\n",
       "      <th></th>\n",
       "      <th></th>\n",
       "    </tr>\n",
       "  </thead>\n",
       "  <tbody>\n",
       "    <tr>\n",
       "      <th>홍길동</th>\n",
       "      <td>80</td>\n",
       "      <td>70</td>\n",
       "      <td>80</td>\n",
       "    </tr>\n",
       "    <tr>\n",
       "      <th>박철수</th>\n",
       "      <td>60</td>\n",
       "      <td>70</td>\n",
       "      <td>100</td>\n",
       "    </tr>\n",
       "    <tr>\n",
       "      <th>김영희</th>\n",
       "      <td>70</td>\n",
       "      <td>90</td>\n",
       "      <td>80</td>\n",
       "    </tr>\n",
       "  </tbody>\n",
       "</table>\n",
       "</div>"
      ],
      "text/plain": [
       "     국어  수학   영어\n",
       "이름              \n",
       "홍길동  80  70   80\n",
       "박철수  60  70  100\n",
       "김영희  70  90   80"
      ]
     },
     "execution_count": 111,
     "metadata": {},
     "output_type": "execute_result"
    }
   ],
   "source": [
    "#df = df.set_index(\"이름\")\n",
    "df"
   ]
  },
  {
   "cell_type": "code",
   "execution_count": 126,
   "id": "eda01e06-15df-402b-aeb6-d5155797f8b9",
   "metadata": {},
   "outputs": [
    {
     "name": "stdout",
     "output_type": "stream",
     "text": [
      "80\n"
     ]
    }
   ],
   "source": [
    "print(df.loc[\"홍길동\",\"국어\"])"
   ]
  },
  {
   "cell_type": "code",
   "execution_count": 128,
   "id": "81a2b5db-aeee-4a73-bafb-6f549a44f2ac",
   "metadata": {},
   "outputs": [
    {
     "data": {
      "text/plain": [
       "국어    210\n",
       "수학    230\n",
       "영어    260\n",
       "dtype: int64"
      ]
     },
     "execution_count": 128,
     "metadata": {},
     "output_type": "execute_result"
    }
   ],
   "source": [
    "df.sum()\n",
    "#하나의 열의 합을 찾고싶으면 df[\"columns\"].sum()"
   ]
  },
  {
   "cell_type": "code",
   "execution_count": 131,
   "id": "a9ad0786-9fed-44a1-a28d-be2ed171a186",
   "metadata": {},
   "outputs": [
    {
     "data": {
      "text/plain": [
       "이름\n",
       "홍길동    230\n",
       "박철수    230\n",
       "김영희    240\n",
       "dtype: int64"
      ]
     },
     "execution_count": 131,
     "metadata": {},
     "output_type": "execute_result"
    }
   ],
   "source": [
    "df.sum(axis=1)\n",
    "#axis는 사용하지 않아도 값이 출력되지만 항상 열고정이기 때문에 행값이 필요하면 axis=1로 지정해주면 좋다.\n",
    "#그러면 문제없이 출력된다. 열은 적지않아도 합산값이 나온다."
   ]
  },
  {
   "cell_type": "code",
   "execution_count": 139,
   "id": "9517bc69-80a2-49e7-b75f-cf6981f4b03d",
   "metadata": {},
   "outputs": [
    {
     "data": {
      "text/html": [
       "<div>\n",
       "<style scoped>\n",
       "    .dataframe tbody tr th:only-of-type {\n",
       "        vertical-align: middle;\n",
       "    }\n",
       "\n",
       "    .dataframe tbody tr th {\n",
       "        vertical-align: top;\n",
       "    }\n",
       "\n",
       "    .dataframe thead th {\n",
       "        text-align: right;\n",
       "    }\n",
       "</style>\n",
       "<table border=\"1\" class=\"dataframe\">\n",
       "  <thead>\n",
       "    <tr style=\"text-align: right;\">\n",
       "      <th></th>\n",
       "      <th>국어</th>\n",
       "      <th>수학</th>\n",
       "      <th>영어</th>\n",
       "      <th>합계</th>\n",
       "    </tr>\n",
       "    <tr>\n",
       "      <th>이름</th>\n",
       "      <th></th>\n",
       "      <th></th>\n",
       "      <th></th>\n",
       "      <th></th>\n",
       "    </tr>\n",
       "  </thead>\n",
       "  <tbody>\n",
       "    <tr>\n",
       "      <th>홍길동</th>\n",
       "      <td>80</td>\n",
       "      <td>70</td>\n",
       "      <td>80</td>\n",
       "      <td>230</td>\n",
       "    </tr>\n",
       "    <tr>\n",
       "      <th>박철수</th>\n",
       "      <td>60</td>\n",
       "      <td>70</td>\n",
       "      <td>100</td>\n",
       "      <td>230</td>\n",
       "    </tr>\n",
       "    <tr>\n",
       "      <th>김영희</th>\n",
       "      <td>70</td>\n",
       "      <td>90</td>\n",
       "      <td>80</td>\n",
       "      <td>240</td>\n",
       "    </tr>\n",
       "  </tbody>\n",
       "</table>\n",
       "</div>"
      ],
      "text/plain": [
       "     국어  수학   영어   합계\n",
       "이름                   \n",
       "홍길동  80  70   80  230\n",
       "박철수  60  70  100  230\n",
       "김영희  70  90   80  240"
      ]
     },
     "execution_count": 139,
     "metadata": {},
     "output_type": "execute_result"
    }
   ],
   "source": [
    "dfsum = df[\"국어\"] +df[\"수학\"] +df[\"영어\"]\n",
    "df[\"합계\"] = dfsum\n",
    "df"
   ]
  },
  {
   "cell_type": "code",
   "execution_count": 142,
   "id": "ff15a507-67b6-49b5-be8c-73b52e0f429b",
   "metadata": {},
   "outputs": [],
   "source": [
    "a = pd.Series(data=[100,100,100],index=[\"국어\",\"수학\",\"영어\"])"
   ]
  },
  {
   "cell_type": "code",
   "execution_count": 147,
   "id": "a798a095-d168-4d1f-93a9-3cb6f9d4256d",
   "metadata": {},
   "outputs": [
    {
     "data": {
      "text/plain": [
       "국어    0\n",
       "수학    0\n",
       "영어    0\n",
       "합계    1\n",
       "dtype: int64"
      ]
     },
     "execution_count": 147,
     "metadata": {},
     "output_type": "execute_result"
    }
   ],
   "source": [
    "df.loc[\"박세찬\"] = a\n",
    "df.isnull()\n",
    "df.isnull().sum()"
   ]
  },
  {
   "cell_type": "code",
   "execution_count": 150,
   "id": "0c7c47cf-de8e-4581-8f84-87201bc37e41",
   "metadata": {},
   "outputs": [
    {
     "data": {
      "text/html": [
       "<div>\n",
       "<style scoped>\n",
       "    .dataframe tbody tr th:only-of-type {\n",
       "        vertical-align: middle;\n",
       "    }\n",
       "\n",
       "    .dataframe tbody tr th {\n",
       "        vertical-align: top;\n",
       "    }\n",
       "\n",
       "    .dataframe thead th {\n",
       "        text-align: right;\n",
       "    }\n",
       "</style>\n",
       "<table border=\"1\" class=\"dataframe\">\n",
       "  <thead>\n",
       "    <tr style=\"text-align: right;\">\n",
       "      <th></th>\n",
       "      <th>국어</th>\n",
       "      <th>수학</th>\n",
       "      <th>영어</th>\n",
       "      <th>합계</th>\n",
       "    </tr>\n",
       "    <tr>\n",
       "      <th>이름</th>\n",
       "      <th></th>\n",
       "      <th></th>\n",
       "      <th></th>\n",
       "      <th></th>\n",
       "    </tr>\n",
       "  </thead>\n",
       "  <tbody>\n",
       "    <tr>\n",
       "      <th>홍길동</th>\n",
       "      <td>80.0</td>\n",
       "      <td>70.0</td>\n",
       "      <td>80.0</td>\n",
       "      <td>230.0</td>\n",
       "    </tr>\n",
       "    <tr>\n",
       "      <th>박철수</th>\n",
       "      <td>60.0</td>\n",
       "      <td>70.0</td>\n",
       "      <td>100.0</td>\n",
       "      <td>230.0</td>\n",
       "    </tr>\n",
       "    <tr>\n",
       "      <th>김영희</th>\n",
       "      <td>70.0</td>\n",
       "      <td>90.0</td>\n",
       "      <td>80.0</td>\n",
       "      <td>240.0</td>\n",
       "    </tr>\n",
       "    <tr>\n",
       "      <th>박세찬</th>\n",
       "      <td>100.0</td>\n",
       "      <td>100.0</td>\n",
       "      <td>100.0</td>\n",
       "      <td>300.0</td>\n",
       "    </tr>\n",
       "  </tbody>\n",
       "</table>\n",
       "</div>"
      ],
      "text/plain": [
       "        국어     수학     영어     합계\n",
       "이름                             \n",
       "홍길동   80.0   70.0   80.0  230.0\n",
       "박철수   60.0   70.0  100.0  230.0\n",
       "김영희   70.0   90.0   80.0  240.0\n",
       "박세찬  100.0  100.0  100.0  300.0"
      ]
     },
     "execution_count": 150,
     "metadata": {},
     "output_type": "execute_result"
    }
   ],
   "source": [
    "df.rename(columns = {\"합계\":\"총점\"})\n",
    "dfsum = df[\"국어\"] +df[\"수학\"] +df[\"영어\"]\n",
    "df[\"합계\"] = dfsum\n",
    "df"
   ]
  },
  {
   "cell_type": "code",
   "execution_count": null,
   "id": "2ef06d35-84c1-461d-b18c-2c6854b5fe4d",
   "metadata": {},
   "outputs": [],
   "source": []
  },
  {
   "cell_type": "code",
   "execution_count": null,
   "id": "282727e0-590d-48c4-b9d3-5e1564669d29",
   "metadata": {},
   "outputs": [],
   "source": [
    "ex3_data = ori.copy()\n",
    "ex3_data.loc[:,\"데이터\"] = ex3_data.loc[:,\"데이터\"].replace(\"-\",0).astype(int)"
   ]
  },
  {
   "cell_type": "code",
   "execution_count": null,
   "id": "2332aff2-2836-4982-80ef-0c01a7f65dbf",
   "metadata": {},
   "outputs": [],
   "source": [
    "filter0 = (ex3_data[\"시점\"]>=\"2024.1/4\")# & (ex3_data[\"시점\"]< \"2019.1/4\") # 파이썬은 날짜도 부등호로 계산할 수 있다.\n",
    "ex3_data = ex3_data[filter0]\n",
    "ex3_data.head(20)"
   ]
  },
  {
   "cell_type": "code",
   "execution_count": null,
   "id": "4ca1aa5d-12ee-4d1d-a808-c501bcd91866",
   "metadata": {},
   "outputs": [],
   "source": [
    "x_data = ex3_data[ex3_data[\"연령계층별\"].isin([\"20 - 29세\"])]\n",
    "#x_data.loc[:,\"데이터\"] = x_data.loc[:,\"데이터\"].astype(int)\n",
    "\n",
    "y_data = ex3_data[ex3_data[\"연령계층별\"].isin([\"60세이상\"])]\n",
    "#y_data.loc[:,\"데이터\"] = y_data.loc[:,\"데이터\"].astype(int)\n",
    "\n",
    "z_data = ex3_data\n",
    "#z_data.loc[:,\"데이터\"] = z_data.loc[:,\"데이터\"].astype(int)\n",
    "x = x_data.groupby(\"시도별\")[\"데이터\"].sum()#.reset_index(name=\"total\") #20대 취업자\n",
    "y = y_data.groupby(\"시도별\")[\"데이터\"].sum()#.reset_index(name=\"total\") #60대(정년퇴직) 취업자\n",
    "z = z_data.groupby(\"시도별\")[\"데이터\"].sum()#.reset_index(name=\"total\")\n",
    "x"
   ]
  },
  {
   "cell_type": "code",
   "execution_count": null,
   "id": "9e4def9d-1ecd-4510-b13a-1156af454c23",
   "metadata": {},
   "outputs": [],
   "source": [
    "import numpy as np\n",
    "\n",
    "regions = list(x[\"시도별\"]) #라벨\n",
    "regions\n",
    "colors = [np.random.rand(3,) for _ in range(len(regions))] # 랜덤색상 color"
   ]
  },
  {
   "cell_type": "code",
   "execution_count": null,
   "id": "f51e06dd-5782-445e-bc25-e1c9a7426cd6",
   "metadata": {},
   "outputs": [],
   "source": [
    "fig , ax = plt.subplots(figsize=(12,5))\n",
    "z = np.array(z, dtype=float)\n",
    "scatter = ax.scatter(x,y,s=z*0.5,c=colors,alpha = 0.5)\n",
    "\n",
    "for n in range(len(regions)):\n",
    "    ax.annotate(regions[n],xy=(x.iloc[n], y.iloc[n]),ha = \"center\")\n",
    "\n",
    "ax.plot([0,4000],[0,4000], color=\"r\", linestyle=\"--\", linewidth=2)\n",
    "\n",
    "ax.set_title(\"2024년 전국 청년과 60세 이상 취업자수 관계\")\n",
    "ax.set_xlabel(\"청년 취업자\")\n",
    "ax.set_ylabel(\"60세 이상 취업자\")\n",
    "#ax.set_slabel\n",
    "plt.show()"
   ]
  },
  {
   "cell_type": "code",
   "execution_count": null,
   "id": "8c8b5e7e-6ea0-4037-bc2d-f9ec53d221f2",
   "metadata": {},
   "outputs": [],
   "source": []
  }
 ],
 "metadata": {
  "kernelspec": {
   "display_name": "Python 3 (ipykernel)",
   "language": "python",
   "name": "python3"
  },
  "language_info": {
   "codemirror_mode": {
    "name": "ipython",
    "version": 3
   },
   "file_extension": ".py",
   "mimetype": "text/x-python",
   "name": "python",
   "nbconvert_exporter": "python",
   "pygments_lexer": "ipython3",
   "version": "3.13.1"
  }
 },
 "nbformat": 4,
 "nbformat_minor": 5
}

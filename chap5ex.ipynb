{
 "cells": [
  {
   "cell_type": "code",
   "execution_count": 54,
   "id": "d5c70229-d7ee-4f08-b5b2-a07e764a52e6",
   "metadata": {
    "scrolled": true
   },
   "outputs": [],
   "source": [
    "class Calculator:\n",
    "    def __init__(self):\n",
    "        self.value = 0\n",
    "\n",
    "    def add(self, val):\n",
    "        self.value += val"
   ]
  },
  {
   "cell_type": "code",
   "execution_count": 55,
   "id": "5e0ef44b-365c-4d51-87c2-dc21d815fb83",
   "metadata": {},
   "outputs": [
    {
     "name": "stdout",
     "output_type": "stream",
     "text": [
      "3\n"
     ]
    }
   ],
   "source": [
    "class UpgradeCalculator(Calculator):\n",
    "    def minus(self, val):\n",
    "        self.value -= val\n",
    "\n",
    "        \n",
    "\n",
    "cal = UpgradeCalculator()\n",
    "cal.add(10)\n",
    "cal.minus(7)\n",
    "print(cal.value)"
   ]
  },
  {
   "cell_type": "code",
   "execution_count": 58,
   "id": "a48cf0b9-38ca-45bd-9574-0b85bab32d1b",
   "metadata": {},
   "outputs": [],
   "source": [
    "class MaxLimitCalculator:\n",
    "    def max(self):\n",
    "        if self.value > 100:\n",
    "            self.value"
   ]
  },
  {
   "cell_type": "code",
   "execution_count": 69,
   "id": "0a2c06cf-7c34-4221-9a43-6862bf0d9d94",
   "metadata": {},
   "outputs": [
    {
     "data": {
      "text/plain": [
       "[1, 3, 8]"
      ]
     },
     "execution_count": 69,
     "metadata": {},
     "output_type": "execute_result"
    }
   ],
   "source": [
    "y = [1,-2,3,-5,8,-3]\n",
    "list(filter(lambda x : x>0, y))"
   ]
  },
  {
   "cell_type": "code",
   "execution_count": 70,
   "id": "0e676276-6f12-46cc-8de9-52d121a2852d",
   "metadata": {},
   "outputs": [
    {
     "data": {
      "text/plain": [
       "234"
      ]
     },
     "execution_count": 70,
     "metadata": {},
     "output_type": "execute_result"
    }
   ],
   "source": [
    "int(0xea)"
   ]
  },
  {
   "cell_type": "code",
   "execution_count": 71,
   "id": "b5567210-5960-40ec-ab7f-8c5c98a62362",
   "metadata": {},
   "outputs": [
    {
     "data": {
      "text/plain": [
       "[3, 6, 9, 12]"
      ]
     },
     "execution_count": 71,
     "metadata": {},
     "output_type": "execute_result"
    }
   ],
   "source": [
    "y = [1,2,3,4]\n",
    "list(map(lambda x : x*3, y))"
   ]
  },
  {
   "cell_type": "code",
   "execution_count": 73,
   "id": "57f9b6f5-db31-41c5-b531-27d0158714eb",
   "metadata": {},
   "outputs": [
    {
     "name": "stdout",
     "output_type": "stream",
     "text": [
      "-1\n"
     ]
    }
   ],
   "source": [
    "a = [-8,2,7,5,-3,5,0,1]\n",
    "print(max(a)+min(a))"
   ]
  },
  {
   "cell_type": "code",
   "execution_count": 74,
   "id": "b8b08505-b875-4406-a0ad-bafbccdffee1",
   "metadata": {},
   "outputs": [
    {
     "data": {
      "text/plain": [
       "5.6667"
      ]
     },
     "execution_count": 74,
     "metadata": {},
     "output_type": "execute_result"
    }
   ],
   "source": [
    "round(17/3,4)"
   ]
  },
  {
   "cell_type": "code",
   "execution_count": 97,
   "id": "b3d20851-518c-4ad5-bf24-5bd400601193",
   "metadata": {},
   "outputs": [
    {
     "data": {
      "text/plain": [
       "'2025/02/20 10:13:05'"
      ]
     },
     "execution_count": 97,
     "metadata": {},
     "output_type": "execute_result"
    }
   ],
   "source": [
    "import time as t\n",
    "t.strftime(\"%Y/%m/%d %H:%M:%S\" , t.localtime(t.time()))\n",
    "#"
   ]
  },
  {
   "cell_type": "code",
   "execution_count": null,
   "id": "a288ccb7-1c71-41ba-8afe-06c191a87c68",
   "metadata": {},
   "outputs": [],
   "source": [
    "import random as r\n",
    "box = []\n",
    "num = 0\n",
    "while num <6:\n",
    "    ran = r.randint(1,45)\n",
    "    if ran not in box:\n",
    "        num = num + 1\n",
    "        box.append(ran)\n",
    "    else:\n",
    "        continue\n",
    "    box.sort()\n",
    "print(f\"오늘의 로또 번호는{box}입니다.\")"
   ]
  },
  {
   "cell_type": "code",
   "execution_count": null,
   "id": "3f1bd585-5218-4c7f-9bbd-8e4243f12795",
   "metadata": {},
   "outputs": [],
   "source": []
  }
 ],
 "metadata": {
  "kernelspec": {
   "display_name": "Python 3 (ipykernel)",
   "language": "python",
   "name": "python3"
  },
  "language_info": {
   "codemirror_mode": {
    "name": "ipython",
    "version": 3
   },
   "file_extension": ".py",
   "mimetype": "text/x-python",
   "name": "python",
   "nbconvert_exporter": "python",
   "pygments_lexer": "ipython3",
   "version": "3.13.1"
  }
 },
 "nbformat": 4,
 "nbformat_minor": 5
}

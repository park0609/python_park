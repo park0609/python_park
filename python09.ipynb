{
 "cells": [
  {
   "cell_type": "code",
   "execution_count": null,
   "id": "0c055041-ea59-4bf3-9043-235518849830",
   "metadata": {},
   "outputs": [],
   "source": [
    "# 구글 제미아이\n",
    "from google import genai\n",
    "\n",
    "client = genai.Client(api_key=\"\")\n",
    "\n",
    "response = client.models.generate_content(\n",
    "    model=\"gemini-2.0-flash\",\n",
    "    contents=\"Explain how AI works\",\n",
    ")\n",
    "\n",
    "print(response.text)"
   ]
  }
 ],
 "metadata": {
  "kernelspec": {
   "display_name": "Python 3 (ipykernel)",
   "language": "python",
   "name": "python3"
  },
  "language_info": {
   "codemirror_mode": {
    "name": "ipython",
    "version": 3
   },
   "file_extension": ".py",
   "mimetype": "text/x-python",
   "name": "python",
   "nbconvert_exporter": "python",
   "pygments_lexer": "ipython3",
   "version": "3.13.1"
  }
 },
 "nbformat": 4,
 "nbformat_minor": 5
}

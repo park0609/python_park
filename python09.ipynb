{
 "cells": [
  {
   "cell_type": "code",
   "execution_count": 16,
   "id": "0c055041-ea59-4bf3-9043-235518849830",
   "metadata": {},
   "outputs": [
    {
     "name": "stdout",
     "output_type": "stream",
     "text": [
      "Pandas는 파이썬에서 데이터 분석을 쉽고 효율적으로 할 수 있도록 도와주는 강력한 라이브러리입니다. 표 형태의 데이터를 다루는 데 특화되어 있으며, 엑셀처럼 데이터를 정리하고 분석하는 데 유용합니다. 데이터를 불러오고, 수정하고, 통계를 내는 등 다양한 작업을 간편하게 처리할 수 있어 데이터 분석가에게 필수적인 도구입니다.\n",
      "\n"
     ]
    }
   ],
   "source": [
    "# 구글 제미아이\n",
    "from google import genai\n",
    "\n",
    "def aiai(text):\n",
    "    client = genai.Client(api_key=\"Ao\")\n",
    "    response = client.models.generate_content(model=\"gemini-2.0-flash\",contents=text + \"200자 이내로 알려줘. 단, 서술형으로 친절하게 알려줘.\")\n",
    "    answer = response.text\n",
    "    print(answer)\n",
    "    return \n",
    "aiai(\"pandas에 대해서 알려줘\")"
   ]
  },
  {
   "cell_type": "code",
   "execution_count": 5,
   "id": "13c4c9e5-567e-46d7-aaa8-0ed8c14eec58",
   "metadata": {},
   "outputs": [],
   "source": [
    "#!pip install -q -U google-genai"
   ]
  },
  {
   "cell_type": "code",
   "execution_count": null,
   "id": "0c4bc45f-eee8-4197-9962-96c17860836a",
   "metadata": {},
   "outputs": [],
   "source": []
  }
 ],
 "metadata": {
  "kernelspec": {
   "display_name": "Python 3 (ipykernel)",
   "language": "python",
   "name": "python3"
  },
  "language_info": {
   "codemirror_mode": {
    "name": "ipython",
    "version": 3
   },
   "file_extension": ".py",
   "mimetype": "text/x-python",
   "name": "python",
   "nbconvert_exporter": "python",
   "pygments_lexer": "ipython3",
   "version": "3.13.1"
  }
 },
 "nbformat": 4,
 "nbformat_minor": 5
}

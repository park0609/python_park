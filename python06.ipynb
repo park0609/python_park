{
 "cells": [
  {
   "cell_type": "markdown",
   "id": "2ae83f47-425b-4c4a-91dc-f5644bf2cf41",
   "metadata": {},
   "source": [
    "# 모듈"
   ]
  },
  {
   "cell_type": "markdown",
   "id": "d4457b16-5c2f-4460-ae6c-e1c47bac1410",
   "metadata": {},
   "source": [
    "## 모듈 만들기"
   ]
  },
  {
   "cell_type": "code",
   "execution_count": null,
   "id": "cea3d137-0dfb-44cf-8a09-eb4e1fe13b53",
   "metadata": {},
   "outputs": [],
   "source": [
    "def add(a,b):\n",
    "    return a+b\n",
    "def sub(a,b):\n",
    "    return a-b\n",
    "    "
   ]
  },
  {
   "cell_type": "code",
   "execution_count": null,
   "id": "3b52de66-5bdc-4678-8e20-03b6b900a444",
   "metadata": {},
   "outputs": [],
   "source": [
    "import mod1\n",
    "print(mod1.add(11,22))\n",
    "print(mod1.sub(55,11))"
   ]
  },
  {
   "cell_type": "code",
   "execution_count": null,
   "id": "e09f73a5-5f81-4004-b7b6-1fff57253810",
   "metadata": {},
   "outputs": [],
   "source": [
    "with open (\"mod2.py\",\"w\") as f:\n",
    "    data = \"\"\"def mul(a,b):\n",
    "    return a*b\n",
    "def div(a,b):\n",
    "    return a/b\n",
    "    \n",
    "    \"\"\"\n",
    "    f.write(data)"
   ]
  },
  {
   "cell_type": "code",
   "execution_count": null,
   "id": "24f8086f-2180-4d51-a79c-1270b80cb752",
   "metadata": {},
   "outputs": [],
   "source": [
    "import mod1,mod2\n",
    "\n",
    "#import로 다수의 모듈도 지정이 가능하다.\n",
    "#대신 너무 많으면 너무 복잡해짐 \n",
    "#별칭으로 해도 문제는 없으나 충돌이 일어날 가능성이 있음\n",
    "print(mod1.add(11,22))\n",
    "print(mod1.sub(55,11))\n",
    "print(mod2.mul(3,4))\n",
    "print(mod2.div(6,2))"
   ]
  },
  {
   "cell_type": "code",
   "execution_count": null,
   "id": "1a7045a0-4704-448c-a0e6-842d9a414032",
   "metadata": {},
   "outputs": [],
   "source": [
    "import mod1 as m1\n",
    "import mod2 as m2\n",
    "#import로 다수의 모듈도 지정이 가능하다.\n",
    "#대신 너무 많으면 너무 복잡해짐 \n",
    "#별칭으로 해도 문제는 없으나 충돌이 일어날 가능성이 있음\n",
    "print(m1.add(11,22))\n",
    "print(m1.sub(55,11))\n",
    "print(m2.mul(3,4))\n",
    "print(m2.div(6,2))"
   ]
  },
  {
   "cell_type": "code",
   "execution_count": null,
   "id": "fa5157e2-a676-4d32-845c-514843ee9d1c",
   "metadata": {},
   "outputs": [],
   "source": [
    "import mod1 as m1, mod2 as m2\n",
    "\n",
    "#import로 다수의 모듈도 지정이 가능하다.\n",
    "#대신 너무 많으면 너무 복잡해짐 \n",
    "#별칭으로 해도 문제는 없으나 충돌이 일어날 가능성이 있음\n",
    "print(m1.add(11,22))\n",
    "print(m1.sub(55,11))\n",
    "print(m2.mul(3,4))\n",
    "print(m2.div(6,2))"
   ]
  },
  {
   "cell_type": "code",
   "execution_count": null,
   "id": "d5fb13ca-ac2a-43df-bb27-231d8d5bc074",
   "metadata": {},
   "outputs": [],
   "source": [
    "from mod1 import add, sub\n",
    "print(add(33,44))\n",
    "#이건 편의성이 엄청나게 증가하지만 충돌이 나지않게 설정하는게 중요"
   ]
  },
  {
   "cell_type": "code",
   "execution_count": null,
   "id": "f5b1be18-185f-4d7f-b9ce-4ee83773dfd0",
   "metadata": {},
   "outputs": [],
   "source": [
    "from mod2 import *\n",
    "# *를 쓰면 그냥 다들고 와서 쓸수있다는 소리이다. 하지만 문제는 모듈에 머가 들어간지\n",
    "#모를 경우에는 굉장히 위험하다. 오류가 날 확률이 굉장히 높기 때문에 별칭을 쓰는게 좋다.\n",
    "print(mul(4,5))"
   ]
  },
  {
   "cell_type": "markdown",
   "id": "ab613b5c-8131-43aa-9c35-633175538342",
   "metadata": {},
   "source": [
    "## `__main__`의 의미"
   ]
  },
  {
   "cell_type": "code",
   "execution_count": null,
   "id": "625bee54-8fd7-4b63-afe4-71171537be13",
   "metadata": {},
   "outputs": [],
   "source": [
    "with open(\"mod1.py\",\"a\") as f:\n",
    "    text : \"\"\"\\nprint(add(1,4)\\nprint(sub(1,2))\"\"\"\n",
    "    f.write(text)"
   ]
  },
  {
   "cell_type": "markdown",
   "id": "9e482ef3-1315-4f77-9b55-541aab9804f9",
   "metadata": {},
   "source": [
    "### 매직커맨드\n",
    " %%cmd : 윈도우\n",
    " %%bash : 리눅스"
   ]
  },
  {
   "cell_type": "code",
   "execution_count": null,
   "id": "9f06a112-c01e-4a5c-8d00-3ebf80b7b5d8",
   "metadata": {},
   "outputs": [],
   "source": [
    "%%cmd\n",
    "python mod1.py"
   ]
  },
  {
   "cell_type": "code",
   "execution_count": null,
   "id": "459ae54a-0923-465f-857c-a56f74491902",
   "metadata": {
    "scrolled": true
   },
   "outputs": [],
   "source": [
    "import mod1\n",
    "dir(mod1)"
   ]
  },
  {
   "cell_type": "code",
   "execution_count": null,
   "id": "273b2882-29c6-4938-816e-1609001477bf",
   "metadata": {},
   "outputs": [],
   "source": [
    "with open(\"mod1.py\",\"a\") as f:\n",
    "    content = \"\\nprint(__name__)\"\n",
    "    f.write(content)"
   ]
  },
  {
   "cell_type": "code",
   "execution_count": null,
   "id": "5118b243-a724-43be-86c3-4cab3bd227c9",
   "metadata": {},
   "outputs": [],
   "source": [
    "with open(\"python_sam.py\",\"w\",encoding=\"utf-8\") as f:\n",
    "    text = \"\"\"import requests as req\n",
    "url = \"https://finance.naver.com/sise/sise_market_sum.naver\"\n",
    "web = req.get(url)\n",
    "html = web.text\n",
    "if __name__ == \"__main__\":\n",
    "    f2 = html.find(\"삼성전자\")\n",
    "    print(html[f2:f2+100][19:50].replace('<td class=\"number\">',\"\").replace(\"</td>\",\"\").replace('\\\\n',\"\")+\"원\")\n",
    "    def kia(name):\n",
    "        f1 = html.find(name)\n",
    "        return print(html[f1:f1+100][17:50].replace('<td class=\"number\">',\"\").replace(\"</td>\",\"\").replace('\\\\n',\"\").replace('\\\\t',\"\")+\"원\")\n",
    "    \"\"\"\n",
    "    f.write(text)\n",
    "#cmd를 사용할 땐 import sys를 지정해서 "
   ]
  },
  {
   "cell_type": "code",
   "execution_count": null,
   "id": "d7e28a59-c106-43ac-86c1-56f3eb4e1221",
   "metadata": {},
   "outputs": [],
   "source": [
    "import python_sam\n",
    "kia(\"삼성전자\")\n",
    "kia(\"기아\")"
   ]
  },
  {
   "cell_type": "code",
   "execution_count": null,
   "id": "23f17f2e-9452-44a2-bd15-3cf647cd4cc6",
   "metadata": {},
   "outputs": [],
   "source": [
    "%%cmd\n",
    "python python_sam.py \"기아\""
   ]
  },
  {
   "cell_type": "code",
   "execution_count": null,
   "id": "33cf4871-0027-4709-abf1-c5e9158d49f8",
   "metadata": {},
   "outputs": [],
   "source": [
    "def kia(name):\n",
    "    import requests as req\n",
    "    url = \"https://finance.naver.com/sise/sise_market_sum.naver\"\n",
    "    web = req.get(url)\n",
    "    html = web.text\n",
    "    f1 = html.find(name)\n",
    "    return print(html[f1:f1+100][17:50].replace('<td class=\"number\">',\"\").replace(\"</td>\",\"\").replace('\\n',\"\").replace('\\t',\"\")+\"원\")\n",
    "\n",
    "kia(\"기아\")"
   ]
  },
  {
   "cell_type": "markdown",
   "id": "ac115f26-abf6-40c2-9c36-b2f038d86ae0",
   "metadata": {},
   "source": [
    "## 클래스나 변수등을 포함한 모듈"
   ]
  },
  {
   "cell_type": "code",
   "execution_count": null,
   "id": "4dcbf567-085e-447a-8ca0-07bee52fd1ee",
   "metadata": {},
   "outputs": [],
   "source": [
    "with open(\"mod3.py\",\"w\",encoding=\"utf-8\") as f:\n",
    "    name : \"\"\"PI = 3.141592\\n\\nclass = Math:\\n\\tdef solv(self,r):\\n\\t\\treturn PI*(r**2)\\n\\ndef add(a,b):\\n\\treturn a+b\"\"\"\n",
    "    f.write(name)"
   ]
  },
  {
   "cell_type": "code",
   "execution_count": null,
   "id": "3250bac1-db00-4d9d-94a5-38981701c6df",
   "metadata": {},
   "outputs": [],
   "source": [
    "import mod2\n",
    "mod2.mul(2,3)"
   ]
  },
  {
   "cell_type": "markdown",
   "id": "40c3a6b4-da51-44a2-bbcc-90526a8c1b81",
   "metadata": {},
   "source": [
    "## 다른 디렉토리에 있는 모듈 불러오는 방법"
   ]
  },
  {
   "cell_type": "code",
   "execution_count": null,
   "id": "08a4b8a9-1147-4f43-bb39-77d3463df126",
   "metadata": {},
   "outputs": [],
   "source": [
    "import sys\n",
    "sys.path"
   ]
  },
  {
   "cell_type": "code",
   "execution_count": null,
   "id": "26c80b2a-f9b4-4347-8ebe-67817c21026c",
   "metadata": {},
   "outputs": [],
   "source": [
    "sys.path.append(\"C:\\\\Users\\\\Admin\\\\Desktop\\\\psc\\\\code\\\\mymode\")\n",
    "sys.path"
   ]
  },
  {
   "cell_type": "code",
   "execution_count": null,
   "id": "94e6a8e4-e00a-42da-a79d-8dfbabfec2fe",
   "metadata": {},
   "outputs": [],
   "source": [
    "!pip install python-dotenv"
   ]
  },
  {
   "cell_type": "code",
   "execution_count": null,
   "id": "dfce9d7d-2d3b-460a-8124-6e55be93f6ec",
   "metadata": {},
   "outputs": [],
   "source": [
    "!python.exe -m pip install --upgrade pip"
   ]
  },
  {
   "cell_type": "code",
   "execution_count": null,
   "id": "34cbc3f6-2703-4135-85c0-fe59d7f6b866",
   "metadata": {},
   "outputs": [],
   "source": [
    "from dotenv import load_dotenv\n",
    "import os \n",
    "\n",
    "#.env 파일 로드\n",
    "load_dotenv()\n",
    "\n",
    "SKEY = os.getenv(\"SECRET_KEY\")\n",
    "print(SKEY)\n",
    "DEB = os.getenv(\"DEBUG\")\n",
    "print(DEB)\n",
    "TEST = os.getenv(\"TEST\")\n",
    "print(TEST)\n",
    "#최상위폴더에 들어가서 텍스트 파일을 만든 후 파일 명을 확장자도 지워서 루트이름에 맞게\n",
    "#저장하면 된다."
   ]
  },
  {
   "cell_type": "code",
   "execution_count": null,
   "id": "83fb27dd-985d-44bd-9b09-2b05081c5f45",
   "metadata": {},
   "outputs": [],
   "source": [
    "# 네이버 검색 API 예제 - 블로그 검색\n",
    "with open(\"news.py\",\"w\",encoding=\"utf-8\") as f:\n",
    "    news =\"\"\"\n",
    "\n",
    "import os\n",
    "import sys\n",
    "import urllib.request\n",
    "from dotenv import load_dotenv\n",
    "load_dotenv()\n",
    "MKEY = os.getenv(\"MYKEY\")\n",
    "PASS = os.getenv(\"PASSWORD\")\n",
    "client_id = MKEY #\"MY_ID\"\n",
    "client_secret = PASS #\"MY_SECRET\"\n",
    "encText = urllib.parse.quote(\"연예\")\n",
    "url = \"https://openapi.naver.com/v1/search/news.json?query=\" + encText \n",
    " # JSON 결과\n",
    "# url = \"https://openapi.naver.com/v1/search/blog.xml?query=\" + encText # XML 결과\n",
    "request = urllib.request.Request(url)\n",
    "request.add_header(\"X-Naver-Client-Id\",client_id)\n",
    "request.add_header(\"X-Naver-Client-Secret\",client_secret)\n",
    "response = urllib.request.urlopen(request)\n",
    "rescode = response.getcode()\n",
    "if(rescode==200):\n",
    "    response_body = response.read()\n",
    "    print(response_body.decode('utf-8'))\n",
    "else:\n",
    "    print(\"Error Code:\" + rescode)\n",
    "\"\"\"\n",
    "    f.write(news)\n",
    "f.close\n"
   ]
  },
  {
   "cell_type": "code",
   "execution_count": null,
   "id": "98710d89-5f23-4a21-9fe7-16aa9ec1ba1f",
   "metadata": {},
   "outputs": [],
   "source": [
    "import news\n"
   ]
  },
  {
   "cell_type": "code",
   "execution_count": null,
   "id": "de918671-3fd7-47b3-a05d-2a2c9658f53e",
   "metadata": {},
   "outputs": [],
   "source": [
    "#with open(\"news.py\",\"w\",encoding=\"utf-8\") as f:\n",
    "#    news =\n",
    "\n",
    "import os\n",
    "import sys\n",
    "import urllib.request\n",
    "from dotenv import load_dotenv\n",
    "import json\n",
    "\n",
    "load_dotenv()\n",
    "MKEY = os.getenv(\"MYKEY\")\n",
    "PASS = os.getenv(\"PASSWORD\")\n",
    "client_id = MKEY #\"MY_ID\"\n",
    "client_secret = PASS #\"MY_SECRET\"\n",
    "encText = urllib.parse.quote(\"연예\")\n",
    "url = \"https://openapi.naver.com/v1/search/news.json?query=\" + encText \n",
    " # JSON 결과\n",
    "# url = \"https://openapi.naver.com/v1/search/blog.xml?query=\" + encText # XML 결과\n",
    "request = urllib.request.Request(url)\n",
    "request.add_header(\"X-Naver-Client-Id\",client_id)\n",
    "request.add_header(\"X-Naver-Client-Secret\",client_secret)\n",
    "response = urllib.request.urlopen(request)\n",
    "rescode = response.getcode()\n",
    "if(rescode==200):\n",
    "    response_body = response.read()\n",
    "    result = response_body.decode(\"utf-8\")\n",
    "    data = json.loads(result)\n",
    "    ldata = data[\"items\"]\n",
    "    for n in ldata:\n",
    "        print(\"=\"*120)\n",
    "        print(n[\"title\"].replace(\"<b>\",\"\").replace(\"<b>\",\"\"))\n",
    "        print(n[\"description\"].replace(\"<b>\",\"\").replace(\"<b>\",\"\"))\n",
    "        print(n[\"originallink\"])\n",
    "else:\n",
    "    print(\"Error Code:\" + rescode)\n",
    "\n",
    "#    f.write(news)\n",
    "#f.close"
   ]
  },
  {
   "cell_type": "code",
   "execution_count": 8,
   "id": "f3dc5265-6592-4b4a-b019-de54438ae407",
   "metadata": {},
   "outputs": [],
   "source": [
    "import qrcode\n",
    "def qrcode_maker(text,filename=\"qr.png\"):\n",
    "    qr = qrcode.make(text)\n",
    "    qr.save(filename)\n",
    "\n",
    "qrcode_maker(\"안녕하세요. 누구입니다!\")\n",
    "qrcode_maker(\"https://github.com/park0609/python_park\",\"github.png\")"
   ]
  },
  {
   "cell_type": "code",
   "execution_count": null,
   "id": "ed06126a-4ae4-475d-a519-4d863f0fcd3a",
   "metadata": {},
   "outputs": [],
   "source": []
  }
 ],
 "metadata": {
  "kernelspec": {
   "display_name": "Python 3 (ipykernel)",
   "language": "python",
   "name": "python3"
  },
  "language_info": {
   "codemirror_mode": {
    "name": "ipython",
    "version": 3
   },
   "file_extension": ".py",
   "mimetype": "text/x-python",
   "name": "python",
   "nbconvert_exporter": "python",
   "pygments_lexer": "ipython3",
   "version": "3.13.1"
  }
 },
 "nbformat": 4,
 "nbformat_minor": 5
}

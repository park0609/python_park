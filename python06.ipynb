{
 "cells": [
  {
   "cell_type": "markdown",
   "id": "2ae83f47-425b-4c4a-91dc-f5644bf2cf41",
   "metadata": {},
   "source": [
    "# 모듈"
   ]
  },
  {
   "cell_type": "markdown",
   "id": "d4457b16-5c2f-4460-ae6c-e1c47bac1410",
   "metadata": {},
   "source": [
    "## 모듈 만들기"
   ]
  },
  {
   "cell_type": "code",
   "execution_count": null,
   "id": "cea3d137-0dfb-44cf-8a09-eb4e1fe13b53",
   "metadata": {},
   "outputs": [],
   "source": [
    "def add(a,b):\n",
    "    return a+b\n",
    "def sub(a,b):\n",
    "    return a-b\n",
    "    "
   ]
  },
  {
   "cell_type": "code",
   "execution_count": null,
   "id": "3b52de66-5bdc-4678-8e20-03b6b900a444",
   "metadata": {},
   "outputs": [],
   "source": [
    "import mod1\n",
    "print(mod1.add(11,22))\n",
    "print(mod1.sub(55,11))"
   ]
  },
  {
   "cell_type": "code",
   "execution_count": null,
   "id": "e09f73a5-5f81-4004-b7b6-1fff57253810",
   "metadata": {},
   "outputs": [],
   "source": [
    "with open (\"mod2.py\",\"w\") as f:\n",
    "    data = \"\"\"def mul(a,b):\n",
    "    return a*b\n",
    "def div(a,b):\n",
    "    return a/b\n",
    "    \n",
    "    \"\"\"\n",
    "    f.write(data)"
   ]
  },
  {
   "cell_type": "code",
   "execution_count": null,
   "id": "24f8086f-2180-4d51-a79c-1270b80cb752",
   "metadata": {},
   "outputs": [],
   "source": [
    "import mod1,mod2\n",
    "\n",
    "#import로 다수의 모듈도 지정이 가능하다.\n",
    "#대신 너무 많으면 너무 복잡해짐 \n",
    "#별칭으로 해도 문제는 없으나 충돌이 일어날 가능성이 있음\n",
    "print(mod1.add(11,22))\n",
    "print(mod1.sub(55,11))\n",
    "print(mod2.mul(3,4))\n",
    "print(mod2.div(6,2))"
   ]
  },
  {
   "cell_type": "code",
   "execution_count": null,
   "id": "1a7045a0-4704-448c-a0e6-842d9a414032",
   "metadata": {},
   "outputs": [],
   "source": [
    "import mod1 as m1\n",
    "import mod2 as m2\n",
    "#import로 다수의 모듈도 지정이 가능하다.\n",
    "#대신 너무 많으면 너무 복잡해짐 \n",
    "#별칭으로 해도 문제는 없으나 충돌이 일어날 가능성이 있음\n",
    "print(m1.add(11,22))\n",
    "print(m1.sub(55,11))\n",
    "print(m2.mul(3,4))\n",
    "print(m2.div(6,2))"
   ]
  },
  {
   "cell_type": "code",
   "execution_count": null,
   "id": "fa5157e2-a676-4d32-845c-514843ee9d1c",
   "metadata": {},
   "outputs": [],
   "source": [
    "import mod1 as m1, mod2 as m2\n",
    "\n",
    "#import로 다수의 모듈도 지정이 가능하다.\n",
    "#대신 너무 많으면 너무 복잡해짐 \n",
    "#별칭으로 해도 문제는 없으나 충돌이 일어날 가능성이 있음\n",
    "print(m1.add(11,22))\n",
    "print(m1.sub(55,11))\n",
    "print(m2.mul(3,4))\n",
    "print(m2.div(6,2))"
   ]
  },
  {
   "cell_type": "code",
   "execution_count": null,
   "id": "d5fb13ca-ac2a-43df-bb27-231d8d5bc074",
   "metadata": {},
   "outputs": [],
   "source": [
    "from mod1 import add, sub\n",
    "print(add(33,44))\n",
    "#이건 편의성이 엄청나게 증가하지만 충돌이 나지않게 설정하는게 중요"
   ]
  },
  {
   "cell_type": "code",
   "execution_count": null,
   "id": "f5b1be18-185f-4d7f-b9ce-4ee83773dfd0",
   "metadata": {},
   "outputs": [],
   "source": [
    "from mod2 import *\n",
    "# *를 쓰면 그냥 다들고 와서 쓸수있다는 소리이다. 하지만 문제는 모듈에 머가 들어간지\n",
    "#모를 경우에는 굉장히 위험하다. 오류가 날 확률이 굉장히 높기 때문에 별칭을 쓰는게 좋다.\n",
    "print(mul(4,5))"
   ]
  },
  {
   "cell_type": "markdown",
   "id": "ab613b5c-8131-43aa-9c35-633175538342",
   "metadata": {},
   "source": [
    "## `__main__`의 의미"
   ]
  },
  {
   "cell_type": "code",
   "execution_count": null,
   "id": "625bee54-8fd7-4b63-afe4-71171537be13",
   "metadata": {},
   "outputs": [],
   "source": [
    "with open(\"mod1.py\",\"a\") as f:\n",
    "    text : \"\"\"\\nprint(add(1,4)\\nprint(sub(1,2))\"\"\"\n",
    "    f.write(text)"
   ]
  },
  {
   "cell_type": "markdown",
   "id": "9e482ef3-1315-4f77-9b55-541aab9804f9",
   "metadata": {},
   "source": [
    "### 매직커맨드\n",
    " %%cmd : 윈도우\n",
    " %%bash : 리눅스"
   ]
  },
  {
   "cell_type": "code",
   "execution_count": null,
   "id": "9f06a112-c01e-4a5c-8d00-3ebf80b7b5d8",
   "metadata": {},
   "outputs": [],
   "source": [
    "%%cmd\n",
    "python mod1.py"
   ]
  },
  {
   "cell_type": "code",
   "execution_count": null,
   "id": "459ae54a-0923-465f-857c-a56f74491902",
   "metadata": {
    "scrolled": true
   },
   "outputs": [],
   "source": [
    "import mod1\n",
    "dir(mod1)"
   ]
  },
  {
   "cell_type": "code",
   "execution_count": null,
   "id": "273b2882-29c6-4938-816e-1609001477bf",
   "metadata": {},
   "outputs": [],
   "source": [
    "with open(\"mod1.py\",\"a\") as f:\n",
    "    content = \"\\nprint(__name__)\"\n",
    "    f.write(content)"
   ]
  },
  {
   "cell_type": "code",
   "execution_count": null,
   "id": "5118b243-a724-43be-86c3-4cab3bd227c9",
   "metadata": {},
   "outputs": [],
   "source": [
    "with open(\"python_sam.py\",\"w\",encoding=\"utf-8\") as f:\n",
    "    text = \"\"\"import requests as req\n",
    "url = \"https://finance.naver.com/sise/sise_market_sum.naver\"\n",
    "web = req.get(url)\n",
    "html = web.text\n",
    "if __name__ == \"__main__\":\n",
    "    f2 = html.find(\"삼성전자\")\n",
    "    print(html[f2:f2+100][19:50].replace('<td class=\"number\">',\"\").replace(\"</td>\",\"\").replace('\\\\n',\"\")+\"원\")\n",
    "    def kia(name):\n",
    "        f1 = html.find(name)\n",
    "        return print(html[f1:f1+100][17:50].replace('<td class=\"number\">',\"\").replace(\"</td>\",\"\").replace('\\\\n',\"\").replace('\\\\t',\"\")+\"원\")\n",
    "    \"\"\"\n",
    "    f.write(text)\n",
    "#cmd를 사용할 땐 import sys를 지정해서 "
   ]
  },
  {
   "cell_type": "code",
   "execution_count": null,
   "id": "d7e28a59-c106-43ac-86c1-56f3eb4e1221",
   "metadata": {},
   "outputs": [],
   "source": [
    "import python_sam\n",
    "kia(\"삼성전자\")\n",
    "kia(\"기아\")"
   ]
  },
  {
   "cell_type": "code",
   "execution_count": null,
   "id": "23f17f2e-9452-44a2-bd15-3cf647cd4cc6",
   "metadata": {},
   "outputs": [],
   "source": [
    "%%cmd\n",
    "python python_sam.py \"기아\""
   ]
  },
  {
   "cell_type": "code",
   "execution_count": null,
   "id": "33cf4871-0027-4709-abf1-c5e9158d49f8",
   "metadata": {},
   "outputs": [],
   "source": [
    "def kia(name):\n",
    "    import requests as req\n",
    "    url = \"https://finance.naver.com/sise/sise_market_sum.naver\"\n",
    "    web = req.get(url)\n",
    "    html = web.text\n",
    "    f1 = html.find(name)\n",
    "    return print(html[f1:f1+100][17:50].replace('<td class=\"number\">',\"\").replace(\"</td>\",\"\").replace('\\n',\"\").replace('\\t',\"\")+\"원\")\n",
    "\n",
    "kia(\"기아\")"
   ]
  },
  {
   "cell_type": "markdown",
   "id": "ac115f26-abf6-40c2-9c36-b2f038d86ae0",
   "metadata": {},
   "source": [
    "## 클래스나 변수등을 포함한 모듈"
   ]
  },
  {
   "cell_type": "code",
   "execution_count": null,
   "id": "4dcbf567-085e-447a-8ca0-07bee52fd1ee",
   "metadata": {},
   "outputs": [],
   "source": [
    "with open(\"mod3.py\",\"w\",encoding=\"utf-8\") as f:\n",
    "    name : \"\"\"PI = 3.141592\\n\\nclass = Math:\\n\\tdef solv(self,r):\\n\\t\\treturn PI*(r**2)\\n\\ndef add(a,b):\\n\\treturn a+b\"\"\"\n",
    "    f.write(name)"
   ]
  },
  {
   "cell_type": "code",
   "execution_count": null,
   "id": "3250bac1-db00-4d9d-94a5-38981701c6df",
   "metadata": {},
   "outputs": [],
   "source": [
    "import mod2\n",
    "mod2.mul(2,3)"
   ]
  },
  {
   "cell_type": "markdown",
   "id": "40c3a6b4-da51-44a2-bbcc-90526a8c1b81",
   "metadata": {},
   "source": [
    "## 다른 디렉토리에 있는 모듈 불러오는 방법"
   ]
  },
  {
   "cell_type": "code",
   "execution_count": null,
   "id": "08a4b8a9-1147-4f43-bb39-77d3463df126",
   "metadata": {},
   "outputs": [],
   "source": [
    "import sys\n",
    "sys.path"
   ]
  },
  {
   "cell_type": "code",
   "execution_count": null,
   "id": "26c80b2a-f9b4-4347-8ebe-67817c21026c",
   "metadata": {},
   "outputs": [],
   "source": [
    "sys.path.append(\"C:\\\\Users\\\\Admin\\\\Desktop\\\\psc\\\\code\\\\mymode\")\n",
    "sys.path"
   ]
  },
  {
   "cell_type": "code",
   "execution_count": null,
   "id": "94e6a8e4-e00a-42da-a79d-8dfbabfec2fe",
   "metadata": {},
   "outputs": [],
   "source": [
    "!pip install python-dotenv"
   ]
  },
  {
   "cell_type": "code",
   "execution_count": null,
   "id": "dfce9d7d-2d3b-460a-8124-6e55be93f6ec",
   "metadata": {},
   "outputs": [],
   "source": [
    "!python.exe -m pip install --upgrade pip"
   ]
  },
  {
   "cell_type": "code",
   "execution_count": null,
   "id": "34cbc3f6-2703-4135-85c0-fe59d7f6b866",
   "metadata": {},
   "outputs": [],
   "source": [
    "from dotenv import load_dotenv\n",
    "import os \n",
    "\n",
    "#.env 파일 로드\n",
    "load_dotenv()\n",
    "\n",
    "SKEY = os.getenv(\"SECRET_KEY\")\n",
    "print(SKEY)\n",
    "DEB = os.getenv(\"DEBUG\")\n",
    "print(DEB)\n",
    "TEST = os.getenv(\"TEST\")\n",
    "print(TEST)\n",
    "#최상위폴더에 들어가서 텍스트 파일을 만든 후 파일 명을 확장자도 지워서 루트이름에 맞게\n",
    "#저장하면 된다."
   ]
  },
  {
   "cell_type": "code",
   "execution_count": null,
   "id": "83fb27dd-985d-44bd-9b09-2b05081c5f45",
   "metadata": {},
   "outputs": [],
   "source": [
    "# 네이버 검색 API 예제 - 블로그 검색\n",
    "with open(\"news.py\",\"w\",encoding=\"utf-8\") as f:\n",
    "    news =\"\"\"\n",
    "\n",
    "import os\n",
    "import sys\n",
    "import urllib.request\n",
    "from dotenv import load_dotenv\n",
    "load_dotenv()\n",
    "MKEY = os.getenv(\"MYKEY\")\n",
    "PASS = os.getenv(\"PASSWORD\")\n",
    "client_id = MKEY #\"MY_ID\"\n",
    "client_secret = PASS #\"MY_SECRET\"\n",
    "encText = urllib.parse.quote(\"연예\")\n",
    "url = \"https://openapi.naver.com/v1/search/news.json?query=\" + encText \n",
    " # JSON 결과\n",
    "# url = \"https://openapi.naver.com/v1/search/blog.xml?query=\" + encText # XML 결과\n",
    "request = urllib.request.Request(url)\n",
    "request.add_header(\"X-Naver-Client-Id\",client_id)\n",
    "request.add_header(\"X-Naver-Client-Secret\",client_secret)\n",
    "response = urllib.request.urlopen(request)\n",
    "rescode = response.getcode()\n",
    "if(rescode==200):\n",
    "    response_body = response.read()\n",
    "    print(response_body.decode('utf-8'))\n",
    "else:\n",
    "    print(\"Error Code:\" + rescode)\n",
    "\"\"\"\n",
    "    f.write(news)\n",
    "f.close\n"
   ]
  },
  {
   "cell_type": "code",
   "execution_count": null,
   "id": "98710d89-5f23-4a21-9fe7-16aa9ec1ba1f",
   "metadata": {},
   "outputs": [],
   "source": [
    "import news\n"
   ]
  },
  {
   "cell_type": "code",
   "execution_count": 5,
   "id": "de918671-3fd7-47b3-a05d-2a2c9658f53e",
   "metadata": {},
   "outputs": [
    {
     "name": "stdout",
     "output_type": "stream",
     "text": [
      "========================================================================================================================\n",
      "지니뮤직, 마이아트뮤지엄의 ‘툴루즈-로트렉’ 전시회에 고객 초대\n",
      "무희와 <b>연예</b>인의 모습을 자유롭게 그려냈습니다. 파리의 밤 문화를 매혹적이며 도발적인 필체로 그려낸 툴루즈 로트렉은 석판화 광고 포스터를 예술적 경지로 끌어올린 현대 그래픽의 선구자로 추앙 받습니다. 이번... \n",
      "http://mbn.mk.co.kr/pages/news/newsView.php?category=mbn00007&news_seq_no=5094123\n",
      "========================================================================================================================\n",
      "'퍼프 대디' 디디, 美방송사 상대로 10억 손배소 제기\n",
      "미국 <b>연예</b>매체 버라이어티는 12일(현지시간) &quot;디디가 다큐맨터리 '디디: 더 메이킹 오브 어 배드 보이'를 제작 및 배급한 NCT유니버설, 앰플 엔터테인먼트, 피콕 TV를 상대로 10억 달러(한화 약 1조4491억 원) 상당의 손배소를... \n",
      "http://enews.imbc.com/News/RetrieveNewsInfo/448799\n",
      "========================================================================================================================\n",
      "‘연예</b>인의 연예</b>인’ 지드래곤의 첫 고정출연 예능, ‘굿데이’\n",
      "‘<b>연예</b>인의 <b>연예</b>인’인 지드래곤이 고정으로 출연하는 데다 출연 기준이 ‘한 해를 빛낸 인물’인 만큼 한자리에서는 좀처럼 만나기 힘든 유명인들이 대거 출연한다. 제작 발표회에서 공개된 짧은 티저 영상에는 배우... \n",
      "https://www.khan.co.kr/article/202502131635011\n",
      "========================================================================================================================\n",
      "신예 배재영, '남남'·'가족계획' 이어 영화 '백수아파트' 출연\n",
      "이 작품에는 경수진을 비롯해 고규필, 이지훈, 김주령, 최유정, 정희태, 박정학 등이 출연한다. * YTN star에서는 <b>연예</b>인 및 <b>연예</b>계 종사자들과 관련된 제보를 받습니다. 로 언제든 연락주시기 바랍니다. 감사합니다.\n",
      "https://star.ytn.co.kr/_sn/0117_202502131634359176\n",
      "========================================================================================================================\n",
      "박봄, '내 남편 이민호♥' 당황스런 팬심…결국 삭제엔딩\n",
      "이에 일각에서는 박봄의 SNS를 두고 &quot;한 두 번도 아니고 공식 계정에서 왜 이러냐&quot;, &quot;<b>연예</b>인도 누군가의 팬이 될 순 있지만 당황스럽다&quot;, &quot;상대방 생각도 해 줘야 하는 것 아니냐&quot;는 지적이 일었다. 결국 박봄은 논란이 된 SNS... \n",
      "http://www.joynews24.com/view/1813523\n",
      "========================================================================================================================\n",
      "'표절 논란' 출발부터가 공정과 상식이었나?\n",
      "대중의 사랑을 받는 <b>연예</b>인이기 때문에 그 화살의 강도나 후유증 또한 일파만파로 번진 사례를 우리는 익히 알고 있다. 그 어떤 분야보다도 엄격한 잣대와 도덕성이 요구되는 학위논문에서 표절이란 더 이상도 이하도 말할... \n",
      "http://www.dtnews24.com/news/articleView.html?idxno=786097\n",
      "========================================================================================================================\n",
      "&quot;네가 대체 왜&quot;…이홍기·채은정, BTS 한복 디자이너 김리을 추모\n",
      "협업해왔고 2023년에는 포브스가 선정한 아시아에서 영향력 있는 30세 이하 30인에 선정되기도 했다. * YTN star에서는 <b>연예</b>인 및 <b>연예</b>계 종사자들과 관련된 제보를 받습니다. 로 언제든 연락주시기 바랍니다. 감사합니다.\n",
      "https://star.ytn.co.kr/_sn/0117_202502131632345001\n",
      "========================================================================================================================\n",
      "'굿데이' 김태호 PD 손 잡은 지드래곤, '웃음버튼' 정형돈·데프콘까지[...\n",
      "비롯해 <b>연예</b>계 마당발로 소문난 조세호, 지드래곤의 찰떡 궁합 웃음요정 코드 쿤스트가 지드래곤을 지원 사격하는 기획단으로 합류했으며 황정민, 김고은부터 <b>연예</b>계 대표 ‘88라인’인 김수현, 정해인, 임시완, 광희... \n",
      "http://starin.edaily.co.kr/news/newspath.asp?newsid=01325126642070192\n",
      "========================================================================================================================\n",
      "'대전 초등생 피습사건' 17일 등교인데… 재학생 트라우마 우려\n",
      "또 최근 언론 보도가 특정 <b>연예</b>인과 연결 짓는 부분이 심한데 아이들이 잘못된 개념을 가질 위험이 크므로 그래선 안 된다&quot;라고 강조했다. 시교육청은 재학생 심리 지원으로 전문상담교사 20명 등을 교내 상주시키고... \n",
      "https://www.ggilbo.com/news/articleView.html?idxno=1073964\n",
      "========================================================================================================================\n",
      "배현진 습격 중학생, 1심서 징역형의 집행유예\n",
      "A군은 지난해 1월 <b>연예</b>인 지망생을 보기 위해 서울 강남구 신사동의 한 건물을 찾았다가 배 의원을 만나 우발적으로 범행을 저질렀다고 진술했습니다. 당시 배 의원은 두피가 찢어지고 얼굴에 상처를 입어 사흘간 입원... \n",
      "http://mbn.mk.co.kr/pages/news/newsView.php?category=mbn00009&news_seq_no=5094114\n"
     ]
    }
   ],
   "source": [
    "#with open(\"news.py\",\"w\",encoding=\"utf-8\") as f:\n",
    "#    news =\n",
    "\n",
    "import os\n",
    "import sys\n",
    "import urllib.request\n",
    "from dotenv import load_dotenv\n",
    "import json\n",
    "\n",
    "load_dotenv()\n",
    "MKEY = os.getenv(\"MYKEY\")\n",
    "PASS = os.getenv(\"PASSWORD\")\n",
    "client_id = MKEY #\"MY_ID\"\n",
    "client_secret = PASS #\"MY_SECRET\"\n",
    "encText = urllib.parse.quote(\"연예\")\n",
    "url = \"https://openapi.naver.com/v1/search/news.json?query=\" + encText \n",
    " # JSON 결과\n",
    "# url = \"https://openapi.naver.com/v1/search/blog.xml?query=\" + encText # XML 결과\n",
    "request = urllib.request.Request(url)\n",
    "request.add_header(\"X-Naver-Client-Id\",client_id)\n",
    "request.add_header(\"X-Naver-Client-Secret\",client_secret)\n",
    "response = urllib.request.urlopen(request)\n",
    "rescode = response.getcode()\n",
    "if(rescode==200):\n",
    "    response_body = response.read()\n",
    "    result = response_body.decode(\"utf-8\")\n",
    "    data = json.loads(result)\n",
    "    ldata = data[\"items\"]\n",
    "    for n in ldata:\n",
    "        print(\"=\"*120)\n",
    "        print(n[\"title\"].replace(\"<b>\",\"\").replace(\"<b>\",\"\"))\n",
    "        print(n[\"description\"])\n",
    "        print(n[\"originallink\"])\n",
    "else:\n",
    "    print(\"Error Code:\" + rescode)\n",
    "\n",
    "#    f.write(news)\n",
    "#f.close"
   ]
  },
  {
   "cell_type": "code",
   "execution_count": null,
   "id": "f3dc5265-6592-4b4a-b019-de54438ae407",
   "metadata": {},
   "outputs": [],
   "source": []
  }
 ],
 "metadata": {
  "kernelspec": {
   "display_name": "Python 3 (ipykernel)",
   "language": "python",
   "name": "python3"
  },
  "language_info": {
   "codemirror_mode": {
    "name": "ipython",
    "version": 3
   },
   "file_extension": ".py",
   "mimetype": "text/x-python",
   "name": "python",
   "nbconvert_exporter": "python",
   "pygments_lexer": "ipython3",
   "version": "3.13.1"
  }
 },
 "nbformat": 4,
 "nbformat_minor": 5
}

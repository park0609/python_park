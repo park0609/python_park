{
 "cells": [
  {
   "cell_type": "markdown",
   "id": "33c52cc8-d0b7-4a84-b88e-9ee5f3e1716b",
   "metadata": {},
   "source": [
    "# 모듈"
   ]
  },
  {
   "cell_type": "markdown",
   "id": "d4457b16-5c2f-4460-ae6c-e1c47bac1410",
   "metadata": {},
   "source": [
    "## 모듈 만들기"
   ]
  },
  {
   "cell_type": "code",
   "execution_count": null,
   "id": "cea3d137-0dfb-44cf-8a09-eb4e1fe13b53",
   "metadata": {},
   "outputs": [],
   "source": [
    "def add(a,b):\n",
    "    return a+b\n",
    "def sub(a,b):\n",
    "    return a-b\n",
    "    "
   ]
  },
  {
   "cell_type": "code",
   "execution_count": null,
   "id": "3b52de66-5bdc-4678-8e20-03b6b900a444",
   "metadata": {},
   "outputs": [],
   "source": [
    "import mod1\n",
    "print(mod1.add(11,22))\n",
    "print(mod1.sub(55,11))"
   ]
  },
  {
   "cell_type": "code",
   "execution_count": null,
   "id": "e09f73a5-5f81-4004-b7b6-1fff57253810",
   "metadata": {},
   "outputs": [],
   "source": [
    "with open (\"mod2.py\",\"w\") as f:\n",
    "    data = \"\"\"def mul(a,b):\n",
    "    return a*b\n",
    "def div(a,b):\n",
    "    return a/b\n",
    "    \n",
    "    \"\"\"\n",
    "    f.write(data)"
   ]
  },
  {
   "cell_type": "code",
   "execution_count": null,
   "id": "24f8086f-2180-4d51-a79c-1270b80cb752",
   "metadata": {},
   "outputs": [],
   "source": [
    "import mod1,mod2\n",
    "\n",
    "#import로 다수의 모듈도 지정이 가능하다.\n",
    "#대신 너무 많으면 너무 복잡해짐 \n",
    "#별칭으로 해도 문제는 없으나 충돌이 일어날 가능성이 있음\n",
    "print(mod1.add(11,22))\n",
    "print(mod1.sub(55,11))\n",
    "print(mod2.mul(3,4))\n",
    "print(mod2.div(6,2))"
   ]
  },
  {
   "cell_type": "code",
   "execution_count": null,
   "id": "1a7045a0-4704-448c-a0e6-842d9a414032",
   "metadata": {},
   "outputs": [],
   "source": [
    "import mod1 as m1\n",
    "import mod2 as m2\n",
    "#import로 다수의 모듈도 지정이 가능하다.\n",
    "#대신 너무 많으면 너무 복잡해짐 \n",
    "#별칭으로 해도 문제는 없으나 충돌이 일어날 가능성이 있음\n",
    "print(m1.add(11,22))\n",
    "print(m1.sub(55,11))\n",
    "print(m2.mul(3,4))\n",
    "print(m2.div(6,2))"
   ]
  },
  {
   "cell_type": "code",
   "execution_count": null,
   "id": "fa5157e2-a676-4d32-845c-514843ee9d1c",
   "metadata": {},
   "outputs": [],
   "source": [
    "import mod1 as m1, mod2 as m2\n",
    "\n",
    "#import로 다수의 모듈도 지정이 가능하다.\n",
    "#대신 너무 많으면 너무 복잡해짐 \n",
    "#별칭으로 해도 문제는 없으나 충돌이 일어날 가능성이 있음\n",
    "print(m1.add(11,22))\n",
    "print(m1.sub(55,11))\n",
    "print(m2.mul(3,4))\n",
    "print(m2.div(6,2))"
   ]
  },
  {
   "cell_type": "code",
   "execution_count": null,
   "id": "d5fb13ca-ac2a-43df-bb27-231d8d5bc074",
   "metadata": {},
   "outputs": [],
   "source": [
    "from mod1 import add, sub\n",
    "print(add(33,44))\n",
    "#이건 편의성이 엄청나게 증가하지만 충돌이 나지않게 설정하는게 중요"
   ]
  },
  {
   "cell_type": "code",
   "execution_count": null,
   "id": "f5b1be18-185f-4d7f-b9ce-4ee83773dfd0",
   "metadata": {},
   "outputs": [],
   "source": [
    "from mod2 import *\n",
    "# *를 쓰면 그냥 다들고 와서 쓸수있다는 소리이다. 하지만 문제는 모듈에 머가 들어간지\n",
    "#모를 경우에는 굉장히 위험하다. 오류가 날 확률이 굉장히 높기 때문에 별칭을 쓰는게 좋다.\n",
    "print(mul(4,5))"
   ]
  },
  {
   "cell_type": "markdown",
   "id": "ab613b5c-8131-43aa-9c35-633175538342",
   "metadata": {},
   "source": [
    "## `__main__`의 의미"
   ]
  },
  {
   "cell_type": "code",
   "execution_count": null,
   "id": "625bee54-8fd7-4b63-afe4-71171537be13",
   "metadata": {},
   "outputs": [],
   "source": [
    "with open(\"mod1.py\",\"a\") as f:\n",
    "    text : \"\"\"\\nprint(add(1,4)\\nprint(sub(1,2))\"\"\"\n",
    "    f.write(text)"
   ]
  },
  {
   "cell_type": "markdown",
   "id": "9e482ef3-1315-4f77-9b55-541aab9804f9",
   "metadata": {},
   "source": [
    "### 매직커맨드\n",
    " %%cmd : 윈도우\n",
    " %%bash : 리눅스"
   ]
  },
  {
   "cell_type": "code",
   "execution_count": null,
   "id": "9f06a112-c01e-4a5c-8d00-3ebf80b7b5d8",
   "metadata": {},
   "outputs": [],
   "source": [
    "%%cmd\n",
    "python mod1.py"
   ]
  },
  {
   "cell_type": "code",
   "execution_count": null,
   "id": "459ae54a-0923-465f-857c-a56f74491902",
   "metadata": {
    "scrolled": true
   },
   "outputs": [],
   "source": [
    "import mod1\n",
    "dir(mod1)"
   ]
  },
  {
   "cell_type": "code",
   "execution_count": null,
   "id": "273b2882-29c6-4938-816e-1609001477bf",
   "metadata": {},
   "outputs": [],
   "source": [
    "with open(\"mod1.py\",\"a\") as f:\n",
    "    content = \"\\nprint(__name__)\"\n",
    "    f.write(content)"
   ]
  },
  {
   "cell_type": "code",
   "execution_count": null,
   "id": "5118b243-a724-43be-86c3-4cab3bd227c9",
   "metadata": {},
   "outputs": [],
   "source": [
    "with open(\"python_sam.py\",\"w\",encoding=\"utf-8\") as f:\n",
    "    text = \"\"\"import requests as req\n",
    "url = \"https://finance.naver.com/sise/sise_market_sum.naver\"\n",
    "web = req.get(url)\n",
    "html = web.text\n",
    "if __name__ == \"__main__\":\n",
    "    f2 = html.find(\"삼성전자\")\n",
    "    print(html[f2:f2+100][19:50].replace('<td class=\"number\">',\"\").replace(\"</td>\",\"\").replace('\\\\n',\"\")+\"원\")\n",
    "    def kia(name):\n",
    "        f1 = html.find(name)\n",
    "        return print(html[f1:f1+100][17:50].replace('<td class=\"number\">',\"\").replace(\"</td>\",\"\").replace('\\\\n',\"\").replace('\\\\t',\"\")+\"원\")\n",
    "    \"\"\"\n",
    "    f.write(text)\n",
    "#cmd를 사용할 땐 import sys를 지정해서 "
   ]
  },
  {
   "cell_type": "code",
   "execution_count": null,
   "id": "d7e28a59-c106-43ac-86c1-56f3eb4e1221",
   "metadata": {},
   "outputs": [],
   "source": [
    "import python_sam\n",
    "kia(\"삼성전자\")\n",
    "kia(\"기아\")"
   ]
  },
  {
   "cell_type": "code",
   "execution_count": null,
   "id": "23f17f2e-9452-44a2-bd15-3cf647cd4cc6",
   "metadata": {},
   "outputs": [],
   "source": [
    "%%cmd\n",
    "python python_sam.py \"기아\""
   ]
  },
  {
   "cell_type": "code",
   "execution_count": null,
   "id": "33cf4871-0027-4709-abf1-c5e9158d49f8",
   "metadata": {},
   "outputs": [],
   "source": [
    "def kia(name):\n",
    "    import requests as req\n",
    "    url = \"https://finance.naver.com/sise/sise_market_sum.naver\"\n",
    "    web = req.get(url)\n",
    "    html = web.text\n",
    "    f1 = html.find(name)\n",
    "    return print(html[f1:f1+100][17:50].replace('<td class=\"number\">',\"\").replace(\"</td>\",\"\").replace('\\n',\"\").replace('\\t',\"\")+\"원\")\n",
    "\n",
    "kia(\"기아\")"
   ]
  },
  {
   "cell_type": "markdown",
   "id": "ac115f26-abf6-40c2-9c36-b2f038d86ae0",
   "metadata": {},
   "source": [
    "## 클래스나 변수등을 포함한 모듈"
   ]
  },
  {
   "cell_type": "code",
   "execution_count": null,
   "id": "4dcbf567-085e-447a-8ca0-07bee52fd1ee",
   "metadata": {},
   "outputs": [],
   "source": [
    "with open(\"mod3.py\",\"w\",encoding=\"utf-8\") as f:\n",
    "    name : \"\"\"PI = 3.141592\\n\\nclass = Math:\\n\\tdef solv(self,r):\\n\\t\\treturn PI*(r**2)\\n\\ndef add(a,b):\\n\\treturn a+b\"\"\"\n",
    "    f.write(name)"
   ]
  },
  {
   "cell_type": "code",
   "execution_count": null,
   "id": "3250bac1-db00-4d9d-94a5-38981701c6df",
   "metadata": {},
   "outputs": [],
   "source": [
    "import mod2\n",
    "mod2.mul(2,3)"
   ]
  },
  {
   "cell_type": "markdown",
   "id": "40c3a6b4-da51-44a2-bbcc-90526a8c1b81",
   "metadata": {},
   "source": [
    "## 다른 디렉토리에 있는 모듈 불러오는 방법"
   ]
  },
  {
   "cell_type": "code",
   "execution_count": null,
   "id": "08a4b8a9-1147-4f43-bb39-77d3463df126",
   "metadata": {},
   "outputs": [],
   "source": [
    "import sys\n",
    "sys.path"
   ]
  },
  {
   "cell_type": "code",
   "execution_count": null,
   "id": "26c80b2a-f9b4-4347-8ebe-67817c21026c",
   "metadata": {},
   "outputs": [],
   "source": [
    "sys.path.append(\"C:\\\\Users\\\\Admin\\\\Desktop\\\\psc\\\\code\\\\mymode\")\n",
    "sys.path"
   ]
  },
  {
   "cell_type": "code",
   "execution_count": null,
   "id": "94e6a8e4-e00a-42da-a79d-8dfbabfec2fe",
   "metadata": {},
   "outputs": [],
   "source": [
    "!pip install python-dotenv"
   ]
  },
  {
   "cell_type": "code",
   "execution_count": null,
   "id": "dfce9d7d-2d3b-460a-8124-6e55be93f6ec",
   "metadata": {},
   "outputs": [],
   "source": [
    "!python.exe -m pip install --upgrade pip"
   ]
  },
  {
   "cell_type": "code",
   "execution_count": null,
   "id": "34cbc3f6-2703-4135-85c0-fe59d7f6b866",
   "metadata": {},
   "outputs": [],
   "source": [
    "from dotenv import load_dotenv\n",
    "import os \n",
    "\n",
    "#.env 파일 로드\n",
    "load_dotenv()\n",
    "\n",
    "SKEY = os.getenv(\"SECRET_KEY\")\n",
    "print(SKEY)\n",
    "DEB = os.getenv(\"DEBUG\")\n",
    "print(DEB)\n",
    "TEST = os.getenv(\"TEST\")\n",
    "print(TEST)\n",
    "#최상위폴더에 들어가서 텍스트 파일을 만든 후 파일 명을 확장자도 지워서 루트이름에 맞게\n",
    "#저장하면 된다."
   ]
  },
  {
   "cell_type": "code",
   "execution_count": null,
   "id": "83fb27dd-985d-44bd-9b09-2b05081c5f45",
   "metadata": {},
   "outputs": [],
   "source": [
    "# 네이버 검색 API 예제 - 블로그 검색\n",
    "with open(\"news.py\",\"w\",encoding=\"utf-8\") as f:\n",
    "    news =\"\"\"\n",
    "\n",
    "import os\n",
    "import sys\n",
    "import urllib.request\n",
    "from dotenv import load_dotenv\n",
    "load_dotenv()\n",
    "MKEY = os.getenv(\"MYKEY\")\n",
    "PASS = os.getenv(\"PASSWORD\")\n",
    "client_id = MKEY #\"MY_ID\"\n",
    "client_secret = PASS #\"MY_SECRET\"\n",
    "encText = urllib.parse.quote(\"연예\")\n",
    "url = \"https://openapi.naver.com/v1/search/news.json?query=\" + encText \n",
    " # JSON 결과\n",
    "# url = \"https://openapi.naver.com/v1/search/blog.xml?query=\" + encText # XML 결과\n",
    "request = urllib.request.Request(url)\n",
    "request.add_header(\"X-Naver-Client-Id\",client_id)\n",
    "request.add_header(\"X-Naver-Client-Secret\",client_secret)\n",
    "response = urllib.request.urlopen(request)\n",
    "rescode = response.getcode()\n",
    "if(rescode==200):\n",
    "    response_body = response.read()\n",
    "    print(response_body.decode('utf-8'))\n",
    "else:\n",
    "    print(\"Error Code:\" + rescode)\n",
    "\"\"\"\n",
    "    f.write(news)\n",
    "f.close\n"
   ]
  },
  {
   "cell_type": "code",
   "execution_count": null,
   "id": "98710d89-5f23-4a21-9fe7-16aa9ec1ba1f",
   "metadata": {},
   "outputs": [],
   "source": [
    "import news\n"
   ]
  },
  {
   "cell_type": "code",
   "execution_count": null,
   "id": "de918671-3fd7-47b3-a05d-2a2c9658f53e",
   "metadata": {},
   "outputs": [],
   "source": [
    "#with open(\"news.py\",\"w\",encoding=\"utf-8\") as f:\n",
    "#    news =\n",
    "\n",
    "import os\n",
    "import sys\n",
    "import urllib.request\n",
    "from dotenv import load_dotenv\n",
    "import json\n",
    "\n",
    "load_dotenv()\n",
    "MKEY = os.getenv(\"MYKEY\")\n",
    "PASS = os.getenv(\"PASSWORD\")\n",
    "client_id = MKEY #\"MY_ID\"\n",
    "client_secret = PASS #\"MY_SECRET\"\n",
    "encText = urllib.parse.quote(\"연예\")\n",
    "url = \"https://openapi.naver.com/v1/search/news.json?query=\" + encText \n",
    " # JSON 결과\n",
    "# url = \"https://openapi.naver.com/v1/search/blog.xml?query=\" + encText # XML 결과\n",
    "request = urllib.request.Request(url)\n",
    "request.add_header(\"X-Naver-Client-Id\",client_id)\n",
    "request.add_header(\"X-Naver-Client-Secret\",client_secret)\n",
    "response = urllib.request.urlopen(request)\n",
    "rescode = response.getcode()\n",
    "if(rescode==200):\n",
    "    response_body = response.read()\n",
    "    result = response_body.decode(\"utf-8\")\n",
    "    data = json.loads(result)\n",
    "    ldata = data[\"items\"]\n",
    "    for n in ldata:\n",
    "        print(\"=\"*120)\n",
    "        print(n[\"title\"].replace(\"<b>\",\"\").replace(\"<b>\",\"\"))\n",
    "        print(n[\"description\"].replace(\"<b>\",\"\").replace(\"<b>\",\"\"))\n",
    "        print(n[\"originallink\"])\n",
    "else:\n",
    "    print(\"Error Code:\" + rescode)\n",
    "\n",
    "#    f.write(news)\n",
    "#f.close"
   ]
  },
  {
   "cell_type": "code",
   "execution_count": null,
   "id": "f3dc5265-6592-4b4a-b019-de54438ae407",
   "metadata": {},
   "outputs": [],
   "source": [
    "import qrcode\n",
    "def qrcode_maker(text,filename=\"qr.png\"):\n",
    "    qr = qrcode.make(text)\n",
    "    qr.save(filename)\n",
    "\n",
    "#qrcode_maker(\"안녕하세요. 누구입니다!\")\n",
    "qrcode_maker(\"https://github.com/park0609/python_park\",\"github.png\")"
   ]
  },
  {
   "cell_type": "code",
   "execution_count": null,
   "id": "ed06126a-4ae4-475d-a519-4d863f0fcd3a",
   "metadata": {},
   "outputs": [],
   "source": [
    "from IPython.display import display , HTML\n",
    "from PIL import Image\n",
    "\n",
    "image_path = \"qr.png\"\n",
    "img = Image.open(image_path)\n",
    "htmlcode = '<img src=\"qr.png\">'\n",
    "display(HTML(htmlcode))\n",
    "#display(img)"
   ]
  },
  {
   "cell_type": "markdown",
   "id": "282e8453-352f-47ca-843f-35a8b8332639",
   "metadata": {},
   "source": [
    "# 패키지"
   ]
  },
  {
   "cell_type": "markdown",
   "id": "90c33f42-880a-486e-acb7-127953de07e0",
   "metadata": {},
   "source": [
    "## 패키지 만들기"
   ]
  },
  {
   "cell_type": "code",
   "execution_count": null,
   "id": "9c6edc28-6d26-42a1-91a1-f28a7b486e0d",
   "metadata": {},
   "outputs": [],
   "source": [
    "#%%cmd\n",
    "#set PTTHONPATH =  C:\\Users\\Admin\\Desktop\\psc\\code\\game"
   ]
  },
  {
   "cell_type": "code",
   "execution_count": null,
   "id": "174e909a-d172-4497-b794-bd95830c3279",
   "metadata": {},
   "outputs": [],
   "source": [
    "# 테스트 1 명시적이다. 정확하지만 길어서 코드가 더럽다\n",
    "import game.sound.echo\n",
    "import game.graphic.rander\n",
    "game.sound.echo.echo_test()\n",
    "game.graphic.rander.rander_test()\n",
    "# 모듈을 폴더안에 집어넣고 그 폴더안에있는 모듈을 실행시킬려면 앞에 폴더명을 \n",
    "# 붙여주면 된다. import로 모듈을 지정할때도 붙이고 값을 낼때고 붙여주면 된다.\n",
    "# 경로를 지정하는거라 보면 된다."
   ]
  },
  {
   "cell_type": "code",
   "execution_count": null,
   "id": "6d5ab1b5-10db-42d7-80d2-deda86f3a158",
   "metadata": {},
   "outputs": [],
   "source": [
    "# 테스트 2 짧지만 오류가 날 가능성이 있다. 명시적이지 않다.\n",
    "from game.echo import echo_test\n",
    "from game.echo_v import echo_test\n",
    "echo_test()\n",
    "echo_test()\n",
    "# 경로를 다르게 해도 같은 이름을 지정하면 가장 아래에 지정된 모듈\n",
    "# 값을 불러옴"
   ]
  },
  {
   "cell_type": "code",
   "execution_count": null,
   "id": "9745ee9f-12f3-4c80-8221-e4dc878fe3fe",
   "metadata": {},
   "outputs": [],
   "source": [
    "from game.echo import echo_test as e\n",
    "from game.echo_v import echo_test as ev \n",
    "e()\n",
    "ev()\n",
    "# 별칭을 지정하면 값은 제대로 나오지만 오류가 날 수있으므로 주의\n",
    "# 해야 한다."
   ]
  },
  {
   "cell_type": "code",
   "execution_count": null,
   "id": "5f37818c-3d42-4da8-b60a-b04ccbb4b98e",
   "metadata": {},
   "outputs": [],
   "source": [
    "#테스트 3 __init__.py을 사용하기\n",
    "import game\n",
    "print(game.VERSION)\n",
    "game.print_version_info()\n",
    "# __init__은 패키지가 든 파일을 나타낼때도 사용되고 그 폴더를 실행할때 가장먼저\n",
    "#실행되는 파일이기도 하다. 이떄 __init__이 사용된다는걸 이용해서 명령어를 지정\n",
    "#할 수도 있는데"
   ]
  },
  {
   "cell_type": "code",
   "execution_count": null,
   "id": "e41a4685-5c64-46a7-804d-6f9cef4451ac",
   "metadata": {},
   "outputs": [],
   "source": [
    "#테스트 4 __init__.py은 한번만 로드됨\n",
    "import game"
   ]
  },
  {
   "cell_type": "code",
   "execution_count": null,
   "id": "d842a1d9-554e-4d62-b3c0-bd1c36e8c8b8",
   "metadata": {},
   "outputs": [],
   "source": [
    "# __init__.py 는 패키지내에 내 모듈을 미리 import할 수 있다.\n",
    "game.render_test()\n",
    "# __init__안에 render_test가 있는 폴더 자체를 지정했기 때문에 간소화를 시킬 수도\n",
    "# 있다."
   ]
  },
  {
   "cell_type": "code",
   "execution_count": null,
   "id": "c6c964a1-7d15-44c0-a13f-4057177eaeb4",
   "metadata": {},
   "outputs": [],
   "source": [
    "import game.graphic"
   ]
  },
  {
   "cell_type": "code",
   "execution_count": null,
   "id": "3c2e3c85-575e-432e-8c4e-b2f6bff3c095",
   "metadata": {},
   "outputs": [],
   "source": [
    "game.graphic.print_version_info()"
   ]
  },
  {
   "cell_type": "code",
   "execution_count": null,
   "id": "59ed870a-31f3-4ccf-913b-5fb86f4fd494",
   "metadata": {},
   "outputs": [],
   "source": [
    "#테스트 5 __all__.py사용하기\n",
    "# 얘는 관련된 모든걸 끌어옴\n",
    "from game.graphic import *\n",
    "#대신 사용 전에 __init__안에 all 설정을 해줘야한다."
   ]
  },
  {
   "cell_type": "code",
   "execution_count": null,
   "id": "1a9f8b33-bf15-4316-b5a4-b6e5208cf85e",
   "metadata": {},
   "outputs": [],
   "source": [
    "echo.echo_test()"
   ]
  },
  {
   "cell_type": "code",
   "execution_count": null,
   "id": "db32b1d8-5d1c-46a7-8e51-81dfb1559eaf",
   "metadata": {},
   "outputs": [],
   "source": [
    "#테스트 6 relative 패키지\n",
    "from game.graphic.render import render_test\n"
   ]
  },
  {
   "cell_type": "code",
   "execution_count": null,
   "id": "0840d3fa-cb08-4b44-99f6-1e813d0c0282",
   "metadata": {},
   "outputs": [],
   "source": [
    "#비디오 에코가 아닌 사운드 에코 호출\n",
    "#왜냐면 render안에 사운드 에코를 호출하는 모듈을 집어넣었기 때문에 가능\n",
    "render_test()"
   ]
  },
  {
   "cell_type": "code",
   "execution_count": null,
   "id": "007626d3-4f0c-4f4a-87b7-f48c4a323fbc",
   "metadata": {},
   "outputs": [],
   "source": [
    "# 많이 복잡하기 때문에 테스트1번만 사용할 줄 안다면 문제는 없다\n",
    "# 천천히 익숙해져 나가는게 중요\n",
    "# 폴더구조가 굉장히 핵심이기 때문에 .을 이용하여 들어간다는걸 알면된다."
   ]
  },
  {
   "cell_type": "markdown",
   "id": "3f95cf7f-c59d-49c1-a7c0-b19bfe324f49",
   "metadata": {},
   "source": [
    "# 예외 처리"
   ]
  },
  {
   "cell_type": "markdown",
   "id": "7b389904-a981-4299-b01d-d0ce2d93ecec",
   "metadata": {},
   "source": [
    "## 오류가 발생하는 조건\n",
    "- 오타(대부분)\n",
    "- 존재하지 않는 파일을 지정 또는 사용\n",
    "- 수학적 오류(연산 오류)\n",
    "- 인덱스 오류\n",
    "- 문법 오류\n",
    "  \n",
    "## 오류 예외 처리 기법\n",
    "- try-except 문\n",
    "- try-finally 문\n",
    "- 여러개의 오류처리\n",
    "- try-else 문"
   ]
  },
  {
   "cell_type": "code",
   "execution_count": null,
   "id": "5f6446d8-35a6-4248-88c8-5097608d9639",
   "metadata": {},
   "outputs": [],
   "source": [
    "# 오류가 뜨는것은 고칠 기회를 주는거라 오히려 좋은거임\n",
    "# 더 무서운건 오류가 없이 작동되는데 제일 힘든것\n",
    "\n",
    "#f = open(\"뜬금파일\",\"r\")\n",
    "#[Errno 2] No such file or directory: '뜬금파일'"
   ]
  },
  {
   "cell_type": "code",
   "execution_count": null,
   "id": "45cd8fbc-f6b6-4403-a619-c02d2eb48192",
   "metadata": {},
   "outputs": [],
   "source": [
    "#4/0 \n",
    "#division by zero"
   ]
  },
  {
   "cell_type": "code",
   "execution_count": null,
   "id": "e4a33c9c-b8ad-4b43-9e10-a989075b2f97",
   "metadata": {},
   "outputs": [],
   "source": [
    "#a = [1,2,3] \n",
    "#print(a[7])\n",
    "#list index out of range"
   ]
  },
  {
   "cell_type": "code",
   "execution_count": null,
   "id": "7b4c227b-de13-4d55-a283-674da6979632",
   "metadata": {},
   "outputs": [],
   "source": [
    "# 지정한 이름의 예외처리, as로 별칭가능\n",
    "try:\n",
    "    f = open(\"뜬금파일\",\"r\")\n",
    "except FileNotFoundError as e:\n",
    "#try-except 문은 만약 오류가 발생되면 작동을 한다.\n",
    "    if e:\n",
    "        print(\"없는거 찾지마\")\n",
    "    print(e)"
   ]
  },
  {
   "cell_type": "code",
   "execution_count": 10,
   "id": "bab844fe-1acb-4cbe-95c5-8cfbafd551d3",
   "metadata": {},
   "outputs": [
    {
     "name": "stdout",
     "output_type": "stream",
     "text": [
      "없는거 찾지마\n",
      "[Errno 2] No such file or directory: '뜬금파일'\n",
      "코드 작성을 마칩니다\n"
     ]
    }
   ],
   "source": [
    "# 하나가 아닌 2개 이상도 사용가능\n",
    "try:\n",
    "    f = open(\"뜬금파일\",\"r\")\n",
    "except FileNotFoundError as e:\n",
    "#try-except 문은 만약 오류가 발생되면 작동을 한다.\n",
    "    if e:\n",
    "        print(\"없는거 찾지마\")\n",
    "    print(e)\n",
    "finally:\n",
    "    print(\"코드 작성을 마칩니다\")\n",
    "#try-finally 문은 항상 실행이 된다. 오류든 오류가 아니든 무조건 실행하는거다.\n",
    "\n",
    "# try는 혼자서 사용이 불가능하다. 무조건 except나 finally를 써야한다.\n",
    "#하지만 3개를 동시에 사용하는건 가능하다."
   ]
  },
  {
   "cell_type": "code",
   "execution_count": null,
   "id": "390fd2cb-0471-419a-b914-7dd9e4f2f84a",
   "metadata": {},
   "outputs": [],
   "source": [
    "try:\n",
    "    4/0\n",
    "except:\n",
    "    print(\"0으로 나눌 수 없어요\")\n",
    "# 전에는 어떤 오류인지 지정을 해주면 정확하게 잡긴 하지만 적지않아도 오류가 발생\n",
    "# 되면 오류가 잡힌다."
   ]
  },
  {
   "cell_type": "code",
   "execution_count": 2,
   "id": "d1f6f355-a621-4245-a4c0-fec92abd5d02",
   "metadata": {},
   "outputs": [
    {
     "name": "stdout",
     "output_type": "stream",
     "text": [
      "0으로 나누지 마세요\n"
     ]
    }
   ],
   "source": [
    "try:\n",
    "    f = open('fool.txt',\"w\")\n",
    "    f.write(4/0)\n",
    "except:\n",
    "    print(\"0으로 나누지 마세요\")\n",
    "finally:\n",
    "    f.close()"
   ]
  },
  {
   "cell_type": "code",
   "execution_count": 4,
   "id": "82bcff51-ed6b-4381-bb79-b96cdd1ece83",
   "metadata": {},
   "outputs": [
    {
     "name": "stdout",
     "output_type": "stream",
     "text": [
      "tuple index out of range\n"
     ]
    }
   ],
   "source": [
    "try:\n",
    "    a = 1,2\n",
    "    print(a[531])\n",
    "    4/0\n",
    "except ZeroDivisionError as e:\n",
    "    print(\"0으로 나누지 마세요\",e)\n",
    "except IndexError as e:\n",
    "    print(e)\n",
    "# 중복 에러는 처음만나는 에러만 출력\n",
    "# 정상 중복값은 마지막 값만 출력"
   ]
  },
  {
   "cell_type": "code",
   "execution_count": 12,
   "id": "4c88bd4b-9b1f-4700-8875-513af9888c92",
   "metadata": {},
   "outputs": [
    {
     "name": "stdin",
     "output_type": "stream",
     "text": [
      "나이를 입력해주세요 12\n"
     ]
    },
    {
     "name": "stdout",
     "output_type": "stream",
     "text": [
      "미성년자는 출입금지\n",
      "===\n",
      "분석 끝\n"
     ]
    }
   ],
   "source": [
    "#try - else\n",
    "\n",
    "try:\n",
    "    age = int(input(\"나이를 입력해주세요\"))\n",
    "except:\n",
    "    print(\"입력이 정확하지 않습니다.\")\n",
    "else:\n",
    "    if age <= 18:\n",
    "        print(\"미성년자는 출입금지\")\n",
    "    else:\n",
    "        print(\"환영합니다\")\n",
    "finally:\n",
    "    print(\"=\"*15+\"\\n분석 끝\")"
   ]
  },
  {
   "cell_type": "code",
   "execution_count": null,
   "id": "b5fda17d-a1a4-4c92-bcc2-776cd896e06a",
   "metadata": {},
   "outputs": [],
   "source": [
    "#try-else 회피\n",
    "\n",
    "try:\n",
    "    age = int(input(\"나이를 입력해주세요\"))\n",
    "except:\n",
    "    print(\"입력이 정확하지 않습니다.\")\n",
    "else:\n",
    "    if age <= 18:\n",
    "        print(\"미성년자는 출입금지\")\n",
    "    else:\n",
    "        print(\"환영합니다\")\n",
    "finally:\n",
    "    print(\"=\"*15+\"\\n분석 끝\")"
   ]
  },
  {
   "cell_type": "code",
   "execution_count": 15,
   "id": "79f53e75-c616-4cca-a003-0b0f5e166192",
   "metadata": {},
   "outputs": [
    {
     "name": "stdout",
     "output_type": "stream",
     "text": [
      "반가워\n"
     ]
    }
   ],
   "source": [
    "# 오류 회피하기\n",
    "try:\n",
    "    print(\"반가워\")\n",
    "    f = open(\"없는파일\",\"r\") # 이 에러지점 이후로는 처리안함.\n",
    "    print(\"안녕\")\n",
    "except:\n",
    "    pass"
   ]
  },
  {
   "cell_type": "code",
   "execution_count": null,
   "id": "38e945cf-c3f1-4f1c-b650-f95695209f0a",
   "metadata": {},
   "outputs": [],
   "source": [
    "# 테스트 1\n",
    "inp = int(input(\"13보다 큰 수를 입력해 주세요\"))\n",
    "if inp > 13:\n",
    "    print(\"크다\")\n",
    "else:\n",
    "    raise\n",
    "# raise는 강제로 에러를 만들어 주는것"
   ]
  },
  {
   "cell_type": "code",
   "execution_count": 19,
   "id": "86dfefbc-8bca-4f8f-8f20-06112e885a7b",
   "metadata": {},
   "outputs": [],
   "source": [
    "#오류 일부러 발생시키기 (클래스 상속기반)\n",
    "\n",
    "class Bird:\n",
    "    def fly(self):\n",
    "        raise NotImplementedError"
   ]
  },
  {
   "cell_type": "code",
   "execution_count": 24,
   "id": "9d2cc969-6263-449b-9bfc-995d265ef380",
   "metadata": {},
   "outputs": [],
   "source": [
    "class Eagle(Bird):\n",
    "   # pass\n",
    "    #여기서 기능을 작동하는 걸 넣지않고 pass로 부모 클래스를 바로 작동시키면\n",
    "    #raise를 지정했기 때문에 강제로 오류가 난다.\n",
    "    def fly(self):\n",
    "        print(\"난 독수리다\")\n",
    "\n",
    "# 클래스 때 한것 클래스 오버라이딩 클래스를 상속받는것을 사용해서 확인"
   ]
  },
  {
   "cell_type": "code",
   "execution_count": null,
   "id": "28519cc3-acc6-4ae0-b8e1-73099e048a46",
   "metadata": {},
   "outputs": [],
   "source": [
    "eagle = Eagle()\n",
    "eagle.fly()"
   ]
  },
  {
   "cell_type": "code",
   "execution_count": 26,
   "id": "e4096c8d-49e9-451b-9ea6-e44607daf07f",
   "metadata": {},
   "outputs": [],
   "source": [
    "#예외 만들기\n",
    "class Myerror(Exception):\n",
    "    pass"
   ]
  },
  {
   "cell_type": "code",
   "execution_count": 30,
   "id": "d9ddc806-88ac-4fd7-8c67-4d2415aa98d9",
   "metadata": {},
   "outputs": [],
   "source": [
    "def say_nick(nick):\n",
    "    if nick == \"바보\":\n",
    "        raise Myerror()\n",
    "    print(nick)"
   ]
  },
  {
   "cell_type": "code",
   "execution_count": 31,
   "id": "d7e9aeab-8933-4c8c-8be9-2fd6a779a782",
   "metadata": {},
   "outputs": [
    {
     "name": "stdout",
     "output_type": "stream",
     "text": [
      "바\n"
     ]
    }
   ],
   "source": [
    "say_nick(\"바\")"
   ]
  },
  {
   "cell_type": "code",
   "execution_count": 33,
   "id": "ef14e853-c9ea-4189-b121-258e6f80ceb3",
   "metadata": {},
   "outputs": [
    {
     "name": "stdout",
     "output_type": "stream",
     "text": [
      "바\n",
      "욕하지마 나 바보아냐, 그래도 사람은 착해 \n"
     ]
    }
   ],
   "source": [
    "try:\n",
    "    say_nick(\"바\")\n",
    "    say_nick(\"바보\")\n",
    "except Myerror as e:\n",
    "    print(\"욕하지마 나 바보아냐, 그래도 사람은 착해\",e)"
   ]
  },
  {
   "cell_type": "code",
   "execution_count": 36,
   "id": "309c3402-d72d-4070-86c8-c81166fc1474",
   "metadata": {},
   "outputs": [],
   "source": [
    "class MyError(Exception):\n",
    "    def __str__(self):\n",
    "        return \"욕하지마 그래도 사람은 착해\""
   ]
  },
  {
   "cell_type": "code",
   "execution_count": null,
   "id": "422705fb-cf2b-45d4-a64a-94a18142ff29",
   "metadata": {},
   "outputs": [],
   "source": []
  }
 ],
 "metadata": {
  "kernelspec": {
   "display_name": "Python 3 (ipykernel)",
   "language": "python",
   "name": "python3"
  },
  "language_info": {
   "codemirror_mode": {
    "name": "ipython",
    "version": 3
   },
   "file_extension": ".py",
   "mimetype": "text/x-python",
   "name": "python",
   "nbconvert_exporter": "python",
   "pygments_lexer": "ipython3",
   "version": "3.13.1"
  }
 },
 "nbformat": 4,
 "nbformat_minor": 5
}

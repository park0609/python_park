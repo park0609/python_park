{
 "cells": [
  {
   "cell_type": "markdown",
   "id": "4de69502-cdde-4183-ab36-bdcd27532f20",
   "metadata": {},
   "source": [
    "# 외부 라이브러리"
   ]
  },
  {
   "cell_type": "markdown",
   "id": "602d1d35-1f0c-42a4-93fd-5ff53087b090",
   "metadata": {},
   "source": [
    "## pip ★"
   ]
  },
  {
   "cell_type": "markdown",
   "id": "30b01b49-74ee-402c-a753-737e60132908",
   "metadata": {},
   "source": [
    "우분투\n",
    "\n",
    "cat /etc/os*\n",
    "sudo apt install mysql-server \n",
    "sudo systrmctl status mysql\n",
    "sudo systrmctl stop mysql\n",
    "sudo apt remove mysql-server\n",
    "\n",
    "\n",
    "SQL - mysql : 정형 데이터\n",
    "NoSQL - MongoDB : 반정형 데이터\n",
    "윈도우 + 파이썬 // 우분투에는 이미 있는 파이썬\n",
    "그래서 사용하는 파이썬 가상\n",
    "\n",
    "sudo apt install python3-pip\n",
    "sudo apt install jupyter-core\n",
    "pip3 install jupyterlab\n",
    "sudo apt install python3-venv\n",
    "\n",
    "파이썬 가상공간 실행\n",
    "python3 -m venv venv -> 폴더와 가상시스템이 생성됨\n",
    "\n",
    "가상 사용 : source./venv/bin/activate or source venv/bin/activate\n",
    "나가기 : deactivate\n",
    "삭제 : sudo rm -rf venv\n",
    "\n",
    "백업 : pip freeze > requirements.txt\n",
    "복구 : pip install -r requirements.txt\n"
   ]
  },
  {
   "cell_type": "markdown",
   "id": "3ed47aa1-9463-4acf-9f89-8129583e30d8",
   "metadata": {},
   "source": [
    "## faker"
   ]
  },
  {
   "cell_type": "code",
   "execution_count": null,
   "id": "537bd007-4b6e-4cd7-b71d-66e047eb09d7",
   "metadata": {},
   "outputs": [],
   "source": [
    "#!pip install faker}"
   ]
  },
  {
   "cell_type": "code",
   "execution_count": null,
   "id": "a6b9c7d5-6e67-45e9-a4ab-9f50dc0309e9",
   "metadata": {},
   "outputs": [],
   "source": [
    "from faker import Faker\n",
    "fake = Faker('ko-KR')\n",
    "[{\"name\":fake.name(),\"id\":fake.user_name,\"phone_number\":fake.phone_number,\"email\":fake.email} for n in range(10)]\n"
   ]
  },
  {
   "cell_type": "markdown",
   "id": "05a16045-2488-4847-b69a-ba35a7232dd4",
   "metadata": {},
   "source": [
    "<table>\n",
    "<thead>\n",
    "<tr>\n",
    "<th>항목</th>\n",
    "<th>설명</th>\n",
    "</tr>\n",
    "</thead>\n",
    "<tbody>\n",
    "<tr>\n",
    "<td>fake.name()</td>\n",
    "<td>이름</td>\n",
    "</tr>\n",
    "<tr>\n",
    "<td>fake.address()</td>\n",
    "<td>주소</td>\n",
    "</tr>\n",
    "<tr>\n",
    "<td>fake.postcode()</td>\n",
    "<td>우편 번호</td>\n",
    "</tr>\n",
    "<tr>\n",
    "<td>fake.country()</td>\n",
    "<td>국가명</td>\n",
    "</tr>\n",
    "<tr>\n",
    "<td>fake.company()</td>\n",
    "<td>회사명</td>\n",
    "</tr>\n",
    "<tr>\n",
    "<td>fake.job()</td>\n",
    "<td>직업명</td>\n",
    "</tr>\n",
    "<tr>\n",
    "<td>fake.phone_number()</td>\n",
    "<td>휴대전화 번호</td>\n",
    "</tr>\n",
    "<tr>\n",
    "<td>fake.email()</td>\n",
    "<td>이메일 주소</td>\n",
    "</tr>\n",
    "<tr>\n",
    "<td>fake.user_name()</td>\n",
    "<td>사용자명</td>\n",
    "</tr>\n",
    "<tr>\n",
    "<td>fake.pyint(min_value=0, max_value=100)</td>\n",
    "<td>0부터 100 사이의 임의의 숫자</td>\n",
    "</tr>\n",
    "<tr>\n",
    "<td>fake.ipv4_private()</td>\n",
    "<td>IP 주소</td>\n",
    "</tr>\n",
    "<tr>\n",
    "<td>fake.text()</td>\n",
    "<td>임의의 문장 (한글 임의의 문장은 <code>fake.catch_phrase()</code> 사용)</td>\n",
    "</tr>\n",
    "<tr>\n",
    "<td>fake.color_name()</td>\n",
    "<td>색상명</td>\n",
    "</tr>\n",
    "</tbody>\n",
    "</table>"
   ]
  },
  {
   "cell_type": "code",
   "execution_count": null,
   "id": "a7bfa002-7336-48ac-a47e-8faa10cb549c",
   "metadata": {},
   "outputs": [],
   "source": [
    "import requests as req\n",
    "from bs4 import BeautifulSoup as bs\n",
    "url = \"https://www.melon.com/chart/index.htm\"\n",
    "headers = {\"User-Agent\":\"Mozilla/5.0 (Windows NT 10.0; Win64; x64) AppleWebKit/537.36 (KHTML, like Gecko) Chrome/133.0.0.0 Safari/537.36 Edg/133.0.0.0\"}\n",
    "web = req.get(url, headers = headers)\n",
    "soup = bs(web.content,\"html.parser\")\n",
    "print(soup)\n",
    "title = soup.select(\".rank01\")[:20]\n",
    "name = soup.select('.checkEllipsis a')[:20]\n",
    "str = \"\"\n",
    "for i,(t,n) in enumerate(zip(title,name),1):\n",
    "    print(f\"{i}위 :\",t.text.strip(),\"/\",n.text)\n",
    "#str += f\"{i}위 :{t.text.strip()} / {n.text}\\n\"\n",
    "#print(str,end=\"\")    \n",
    "\n",
    "#ac = title.select_one(\"a\")\n",
    "#print(ac.text)\n",
    "#name = title.select_one('.checkEllipsis')\n",
    "#aname = name.select_one('a')\n",
    "#print(\"1위 :\",ac.text,\"/\",aname.text)"
   ]
  },
  {
   "cell_type": "code",
   "execution_count": null,
   "id": "78f6c9e7-39a7-490d-8dba-e7644d462c5b",
   "metadata": {},
   "outputs": [],
   "source": [
    "import melon\n",
    "melon.mel()"
   ]
  },
  {
   "cell_type": "code",
   "execution_count": 6,
   "id": "7ebca93c-db1a-42a9-9ebb-ad4f0f79695e",
   "metadata": {
    "scrolled": true
   },
   "outputs": [
    {
     "name": "stdout",
     "output_type": "stream",
     "text": [
      "1 삼성전자 58,700\n"
     ]
    }
   ],
   "source": [
    "import requests as req\n",
    "from bs4 import BeautifulSoup as bs\n",
    "url = \"https://finance.naver.com/sise/sise_market_sum.naver\"\n",
    "headers = {\"User-Agent\":\"Mozilla/5.0 (Windows NT 10.0; Win64; x64) AppleWebKit/537.36 (KHTML, like Gecko) Chrome/133.0.0.0 Safari/537.36 Edg/133.0.0.0\"}\n",
    "web = req.get(url, headers = headers)\n",
    "soup = bs(web.content,\"html.parser\")\n",
    "number = soup.select_one(\".number\")\n",
    "tltle = soup.select(\".tltle\")\n",
    "no = soup.select(\".no\")\n",
    "for a, b, c in zip(no,tltle,number):\n",
    "    print(a.text+\" \"+b.text+\" \"+c.text)\n",
    "#contentarea > div.box_type_l > table.type_2 > tbody > tr:nth-child(2) > td:nth-child(3)\n",
    "#contentarea > div.box_type_l > table.type_2 > tbody > tr:nth-child(3) > td:nth-child(3)"
   ]
  },
  {
   "cell_type": "code",
   "execution_count": null,
   "id": "0ed7a2d5-15ad-4b97-bab9-15dbecde0208",
   "metadata": {},
   "outputs": [],
   "source": [
    "!pip install html5lib"
   ]
  },
  {
   "cell_type": "code",
   "execution_count": 18,
   "id": "ad5da29a-cb4f-4c6a-a36c-9941b737df24",
   "metadata": {},
   "outputs": [
    {
     "name": "stdout",
     "output_type": "stream",
     "text": [
      "====================\n",
      "2025.02.17 월\n",
      "\n",
      "정식-5,500원\n",
      "강황밥\n",
      "김치콩나물국\n",
      "돈육바싹불고기\n",
      "모듬잡채\n",
      "멸치새우견과볶음\n",
      "상추겉절이\n",
      "포기김치\n",
      "\n",
      "====================\n",
      "2025.02.18 화\n",
      "\n",
      "정식-5,500원\n",
      "백미밥\n",
      "물만두국\n",
      "순살닭매콤조림\n",
      "쫄면야채무침\n",
      "파래무무침\n",
      "참나물겉절이\n",
      "포기김치\n",
      "\n",
      "====================\n",
      "2025.02.19 수\n",
      "\n",
      "정식-5,500원\n",
      "백미밥\n",
      "모듬어묵국\n",
      "함박스테이크/치즈/소스\n",
      "스파게티/소스\n",
      "치커리유자청샐러드\n",
      "콩나물무침\n",
      "포기김치\n",
      "\n",
      "====================\n",
      "2025.02.20 목\n",
      "\n",
      "정식-5,500원\n",
      "잡곡밥\n",
      "홍합미역국\n",
      "순살치킨/맛초킹소스\n",
      "꼬시레기두부무침\n",
      "잡채어묵조림\n",
      "상추겉절이\n",
      "포기김치\n",
      "\n",
      "====================\n",
      "2025.02.21 금\n",
      "\n",
      "정식-5,500원\n",
      "백미밥\n",
      "국수\n",
      "깐풍기/소스\n",
      "알감자버터구이\n",
      "도토리묵김치무침\n",
      "열무겉절이\n",
      "포기김치\n",
      "\n"
     ]
    }
   ],
   "source": [
    "import requests as req\n",
    "from bs4 import BeautifulSoup as bs\n",
    "url = \"https://www.pusan.ac.kr/kor/CMS/MenuMgr/menuListOnBuilding.do?mCode=MN202\"\n",
    "headers = {\"User-Agent\":\"Mozilla/5.0 (Windows NT 10.0; Win64; x64) AppleWebKit/537.36 (KHTML, like Gecko) Chrome/133.0.0.0 Safari/537.36 Edg/133.0.0.0\"}\n",
    "web = req.get(url, headers = headers)\n",
    "soup = bs(web.content,\"html5lib\")\n",
    "menu_card = soup.select(\".menu-tbl\")\n",
    "dates = soup.select(\".date\") \n",
    "days = soup.select(\".day\") \n",
    "won = soup.select(\".menu-tit01\")\n",
    "menu = soup.select(\".menu-tit01+p\")\n",
    "for d, t, w, n in zip(dates, days, won,menu):\n",
    "    print(\"=\"*20)\n",
    "    print(d.text+\" \"+t.text+\"\\n\"+\"\\n\"+ w.text+\"\\n\"+n.text)\n",
    "    \n"
   ]
  },
  {
   "cell_type": "code",
   "execution_count": null,
   "id": "6e9a81a9-8893-4b52-883a-6e9190c1fee4",
   "metadata": {},
   "outputs": [],
   "source": []
  },
  {
   "cell_type": "code",
   "execution_count": null,
   "id": "5b7e1080-8f84-4e32-a48e-337ad8062b26",
   "metadata": {},
   "outputs": [],
   "source": []
  }
 ],
 "metadata": {
  "kernelspec": {
   "display_name": "Python 3 (ipykernel)",
   "language": "python",
   "name": "python3"
  },
  "language_info": {
   "codemirror_mode": {
    "name": "ipython",
    "version": 3
   },
   "file_extension": ".py",
   "mimetype": "text/x-python",
   "name": "python",
   "nbconvert_exporter": "python",
   "pygments_lexer": "ipython3",
   "version": "3.13.1"
  }
 },
 "nbformat": 4,
 "nbformat_minor": 5
}

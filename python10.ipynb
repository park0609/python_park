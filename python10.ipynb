{
 "cells": [
  {
   "cell_type": "markdown",
   "metadata": {
    "id": "k34jJOUYjZx0"
   },
   "source": []
  },
  {
   "cell_type": "code",
   "execution_count": null,
   "metadata": {
    "id": "3yrrmr32fVB5"
   },
   "outputs": [],
   "source": [
    "#with open ('./drive/MyDrive/Read.md','w') as f:\n",
    "#    data = f.write(\"*반갑습니다\")\n",
    "#    print(\"저장되었습니다\")\n",
    "#!pwd"
   ]
  },
  {
   "cell_type": "markdown",
   "metadata": {
    "id": "WjwQ1xLFjbGq"
   },
   "source": [
    "- ndim : 축의 갯수\n",
    "- shape : 배열의 차원정보\n",
    "- size : 배열안에 있는 원소의 총 갯수\n",
    "- dtype : 배열 원소의 자료형"
   ]
  },
  {
   "cell_type": "markdown",
   "metadata": {
    "id": "AeDSkDN6it-K"
   },
   "source": [
    "# 넘파이(numpy)"
   ]
  },
  {
   "cell_type": "code",
   "execution_count": 23,
   "metadata": {
    "colab": {
     "base_uri": "https://localhost:8080/"
    },
    "executionInfo": {
     "elapsed": 15,
     "status": "ok",
     "timestamp": 1740444856555,
     "user": {
      "displayName": "sechan park",
      "userId": "15872532689016828299"
     },
     "user_tz": -540
    },
    "id": "tD4sinGhiqPC",
    "outputId": "6a8f7212-9026-4ab0-9a91-193f6a69e7e0"
   },
   "outputs": [
    {
     "name": "stdout",
     "output_type": "stream",
     "text": [
      "[0 1 2 3 4]\n",
      "<class 'numpy.ndarray'>\n",
      "1\n",
      "(5,)\n",
      "5\n",
      "int64\n",
      "4\n",
      "[2 3]\n"
     ]
    }
   ],
   "source": [
    "#pip install numpy\n",
    "import numpy as np\n",
    "narry = np.array(range(5))\n",
    "print(narry)\n",
    "print(type(narry))\n",
    "print(narry.ndim)#1차원\n",
    "print(narry.shape)\n",
    "print(narry.size)\n",
    "print(narry.dtype)\n",
    "print(narry[4])\n",
    "print(narry[2:4])\n",
    "#넘파이는 배열과 다르게 쉼표가 없다"
   ]
  },
  {
   "cell_type": "code",
   "execution_count": 24,
   "metadata": {
    "colab": {
     "base_uri": "https://localhost:8080/"
    },
    "executionInfo": {
     "elapsed": 6,
     "status": "ok",
     "timestamp": 1740444940453,
     "user": {
      "displayName": "sechan park",
      "userId": "15872532689016828299"
     },
     "user_tz": -540
    },
    "id": "xlLfAufdkvfb",
    "outputId": "677e2bc6-346b-4e64-af7b-7b86d201e5ff"
   },
   "outputs": [
    {
     "name": "stdout",
     "output_type": "stream",
     "text": [
      "[1 2 3 4 5] int64\n",
      "['2' '3' 'a' 'b'] <U21\n",
      "['2' '3' 'a' 'b'] <U1\n"
     ]
    }
   ],
   "source": [
    "narr1 = np.array([1,2,3,4,5])\n",
    "narr2 = np.array([2,3,'a','b'])\n",
    "narr3 = np.array([2,3,'a','b'],dtype='str')\n",
    "print(narr1,narr1.dtype)\n",
    "print(narr2,narr2.dtype)\n",
    "print(narr3,narr3.dtype)"
   ]
  },
  {
   "cell_type": "code",
   "execution_count": 117,
   "metadata": {
    "colab": {
     "base_uri": "https://localhost:8080/"
    },
    "executionInfo": {
     "elapsed": 19,
     "status": "ok",
     "timestamp": 1740451163903,
     "user": {
      "displayName": "sechan park",
      "userId": "15872532689016828299"
     },
     "user_tz": -540
    },
    "id": "6BwPS2cRpysT",
    "outputId": "ce6485ae-0941-415c-86e1-eb4cb530becf"
   },
   "outputs": [
    {
     "name": "stdout",
     "output_type": "stream",
     "text": [
      "[[0 0]\n",
      " [0 0]] 2 int64 (2, 2) 4 <class 'numpy.ndarray'>\n",
      "[[1. 1.]\n",
      " [1. 1.]] 2 float64 (2, 2) 4 <class 'numpy.ndarray'>\n",
      "[[3 3 3]\n",
      " [3 3 3]\n",
      " [3 3 3]] 2 int64 (3, 3) 9 <class 'numpy.ndarray'>\n",
      "[['number' 'number' 'number']\n",
      " ['number' 'number' 'number']\n",
      " ['number' 'number' 'number']] 2 <U6 (3, 3) 9 <class 'numpy.ndarray'>\n",
      "[[1. 0. 0.]\n",
      " [0. 1. 0.]\n",
      " [0. 0. 1.]] 2 float64 (3, 3) 9 <class 'numpy.ndarray'>\n",
      "[  0.  25.  50.  75. 100.] 1 float64 (5,) 5 <class 'numpy.ndarray'>\n",
      "[ 0 20 40 60 80] 1 int64 (5,) 5 <class 'numpy.ndarray'>\n",
      "[ 0 20 40 60 80] 1 int64 (5,) 5 <class 'numpy.ndarray'>\n"
     ]
    }
   ],
   "source": [
    "#1차원 배열\n",
    "narr4 = np.zeros((2,2),dtype=\"int64\")\n",
    "narr5 = np.ones((2,2))\n",
    "narr6 = np.full((3,3),3)\n",
    "narr7 = np.full((3,3),\"number\")\n",
    "narr8 = np.eye(3) #단위행렬 만들때\n",
    "narr9 = np.linspace(0,100,5)#range와 다르게 뒤에 수가 포함되어있다.\n",
    "narr10 = np.linspace(0,100,5,endpoint=False,dtype='int64')#endpoint를 사용하면 마지막 수를 뺄수있다.\n",
    "narr11 = np.arange(0,100,20)#마지막 수는 빠진다\n",
    "print(narr4,narr4.ndim,narr4.dtype,narr4.shape,narr4.size,type(narr4))\n",
    "print(narr5,narr5.ndim,narr5.dtype,narr5.shape,narr5.size,type(narr5))\n",
    "print(narr6,narr6.ndim,narr6.dtype,narr6.shape,narr6.size,type(narr6))\n",
    "print(narr7,narr7.ndim,narr7.dtype,narr7.shape,narr7.size,type(narr7))\n",
    "print(narr8,narr8.ndim,narr8.dtype,narr8.shape,narr8.size,type(narr8))\n",
    "print(narr9,narr9.ndim,narr9.dtype,narr9.shape,narr9.size,type(narr9))\n",
    "print(narr10,narr10.ndim,narr10.dtype,narr10.shape,narr10.size,type(narr10))\n",
    "print(narr11,narr11.ndim,narr11.dtype,narr11.shape,narr11.size,type(narr11))"
   ]
  },
  {
   "cell_type": "markdown",
   "metadata": {
    "id": "eTL1nLieuU7z"
   },
   "source": [
    "# 2차원 배열"
   ]
  },
  {
   "cell_type": "code",
   "execution_count": 58,
   "metadata": {
    "colab": {
     "base_uri": "https://localhost:8080/"
    },
    "executionInfo": {
     "elapsed": 5,
     "status": "ok",
     "timestamp": 1740447349875,
     "user": {
      "displayName": "sechan park",
      "userId": "15872532689016828299"
     },
     "user_tz": -540
    },
    "id": "fvJfhFv2vf0C",
    "outputId": "7eda946b-d272-417f-f880-7984b8539e46"
   },
   "outputs": [
    {
     "name": "stdout",
     "output_type": "stream",
     "text": [
      "[2 3 4 5 6 7 8 9]\n"
     ]
    },
    {
     "data": {
      "text/plain": [
       "array([0, 1, 2, 3, 4, 5, 6, 7, 8, 9])"
      ]
     },
     "execution_count": 58,
     "metadata": {},
     "output_type": "execute_result"
    }
   ],
   "source": [
    "#print(list(range(2,10)))\n",
    "print(np.arange(2,10))\n",
    "range(10)\n",
    "np.arange(10)"
   ]
  },
  {
   "cell_type": "code",
   "execution_count": 54,
   "metadata": {
    "colab": {
     "base_uri": "https://localhost:8080/"
    },
    "executionInfo": {
     "elapsed": 14,
     "status": "ok",
     "timestamp": 1740447091644,
     "user": {
      "displayName": "sechan park",
      "userId": "15872532689016828299"
     },
     "user_tz": -540
    },
    "id": "CczgbYBZuZs6",
    "outputId": "a07f1eb4-e2b9-4391-c4a5-05b1c022591c"
   },
   "outputs": [
    {
     "name": "stdout",
     "output_type": "stream",
     "text": [
      "[[0 0]\n",
      " [0 0]] 2 int64 (2, 2) 4 <class 'numpy.ndarray'>\n"
     ]
    }
   ],
   "source": [
    "#2차원 배열\n",
    "arr1 = np.array([[0,0],[0,0]])\n",
    "print(arr1,arr1.ndim,arr1.dtype,arr1.shape,arr1.size,type(arr1))"
   ]
  },
  {
   "cell_type": "code",
   "execution_count": 72,
   "metadata": {
    "colab": {
     "base_uri": "https://localhost:8080/"
    },
    "executionInfo": {
     "elapsed": 12,
     "status": "ok",
     "timestamp": 1740448043529,
     "user": {
      "displayName": "sechan park",
      "userId": "15872532689016828299"
     },
     "user_tz": -540
    },
    "id": "8ZjEzftnuxBE",
    "outputId": "b3ed9b96-aa03-4c90-dabd-21eaadb07224"
   },
   "outputs": [
    {
     "name": "stdout",
     "output_type": "stream",
     "text": [
      "차원 : 2 / 데이터 타입 : int64 / 형태 : (3, 3) / 크기 : 9 / <class 'numpy.ndarray'> \n",
      " [[1 2 3]\n",
      " [4 5 6]\n",
      " [7 8 9]] \n",
      "\n",
      "차원 : 2 / 데이터 타입 : int64 / 형태 : (3, 3) / 크기 : 9 / <class 'numpy.ndarray'> \n",
      " [[1 2 3]\n",
      " [4 5 6]\n",
      " [7 8 9]] \n",
      "\n",
      "차원 : 2 / 데이터 타입 : int64 / 형태 : (2, 5) / 크기 : 10 / <class 'numpy.ndarray'> \n",
      " [[ 1  2  3  4  5]\n",
      " [ 6  7  8  9 10]] \n",
      "\n",
      "차원 : 2 / 데이터 타입 : int64 / 형태 : (5, 2) / 크기 : 10 / <class 'numpy.ndarray'> \n",
      " [[ 1  2]\n",
      " [ 3  4]\n",
      " [ 5  6]\n",
      " [ 7  8]\n",
      " [ 9 10]] \n",
      "\n",
      "차원 : 3 / 데이터 타입 : int64 / 형태 : (3, 3, 3) / 크기 : 27 / <class 'numpy.ndarray'> \n",
      " [[[ 1  2  3]\n",
      "  [ 4  5  6]\n",
      "  [ 7  8  9]]\n",
      "\n",
      " [[10 11 12]\n",
      "  [13 14 15]\n",
      "  [16 17 18]]\n",
      "\n",
      " [[19 20 21]\n",
      "  [22 23 24]\n",
      "  [25 26 27]]]\n"
     ]
    }
   ],
   "source": [
    "arr2 = np.array([1,2,3,4,5,6,7,8,9]).reshape(3,3)\n",
    "arr3 = np.arange(1,10).reshape(3,3)\n",
    "arr4 = np.arange(1,11).reshape(2,5)\n",
    "arr5 = np.arange(1,11).reshape(5,2)\n",
    "arr6 = np.arange(1,28).reshape(3,3,3) #3차원\n",
    "print(\"차원 :\",arr2.ndim,'/',\"데이터 타입 :\",arr2.dtype,'/',\"형태 :\",arr2.shape,'/',\"크기 :\",arr2.size,'/',type(arr2),'\\n',arr2,'\\n')\n",
    "print(\"차원 :\",arr3.ndim,'/',\"데이터 타입 :\",arr3.dtype,'/',\"형태 :\",arr3.shape,'/',\"크기 :\",arr3.size,'/',type(arr3),'\\n',arr3,'\\n')\n",
    "print(\"차원 :\",arr4.ndim,'/',\"데이터 타입 :\",arr4.dtype,'/',\"형태 :\",arr4.shape,'/',\"크기 :\",arr4.size,'/',type(arr4),'\\n',arr4,'\\n')\n",
    "print(\"차원 :\",arr5.ndim,'/',\"데이터 타입 :\",arr5.dtype,'/',\"형태 :\",arr5.shape,'/',\"크기 :\",arr5.size,'/',type(arr5),'\\n',arr5,'\\n')\n",
    "print(\"차원 :\",arr6.ndim,'/',\"데이터 타입 :\",arr6.dtype,'/',\"형태 :\",arr6.shape,'/',\"크기 :\",arr6.size,'/',type(arr6),'\\n',arr6)"
   ]
  },
  {
   "cell_type": "code",
   "execution_count": 108,
   "metadata": {
    "colab": {
     "base_uri": "https://localhost:8080/"
    },
    "executionInfo": {
     "elapsed": 6,
     "status": "ok",
     "timestamp": 1740449665913,
     "user": {
      "displayName": "sechan park",
      "userId": "15872532689016828299"
     },
     "user_tz": -540
    },
    "id": "IMVsHoDnub8C",
    "outputId": "c3498df6-39ce-46db-8196-eb1376630162"
   },
   "outputs": [
    {
     "name": "stdout",
     "output_type": "stream",
     "text": [
      "[[ 1  2  3  4  5  6  7]\n",
      " [ 8  9 10 11 12 13 14]\n",
      " [15 16 17 18 19 20 21]] \n",
      "====================\n",
      " [[1]\n",
      " [2]\n",
      " [3]\n",
      " [4]\n",
      " [5]\n",
      " [6]\n",
      " [7]] \n",
      "====================\n",
      " [[ 1  2]\n",
      " [ 3  4]\n",
      " [ 5  6]\n",
      " [ 7  8]\n",
      " [ 9 10]] \n",
      "====================\n",
      " [[ 1  2  3  4  5  6  7]\n",
      " [ 8  9 10 11 12 13 14]\n",
      " [15 16 17 18 19 20 21]] \n",
      "====================\n",
      " [[[ 1]\n",
      "  [ 2]\n",
      "  [ 3]]\n",
      "\n",
      " [[ 4]\n",
      "  [ 5]\n",
      "  [ 6]]\n",
      "\n",
      " [[ 7]\n",
      "  [ 8]\n",
      "  [ 9]]\n",
      "\n",
      " [[10]\n",
      "  [11]\n",
      "  [12]]]\n"
     ]
    }
   ],
   "source": [
    "#예제\n",
    "t1 = np.arange(1,22).reshape(3,7)\n",
    "t2 = np.arange(1,8).reshape(7,1)\n",
    "t3 = np.arange(1,11).reshape(5,2)\n",
    "t4 = np.arange(1,22).reshape(3,7)\n",
    "t5 = np.arange(1,13).reshape(4,3,1)\n",
    "# 2차원 reshape의 팁은 reahape(세로,가로)라고 생각하면 편하다\n",
    "# 3차원은 reshape(공간,세로,가로)라고 생각하면 편하다\n",
    "print(t1,'\\n',end=\"=\"*20)\n",
    "print('\\n',t2,'\\n',end=\"=\"*20)\n",
    "print('\\n',t3,'\\n',end=\"=\"*20)\n",
    "print('\\n',t4,'\\n',end=\"=\"*20)\n",
    "print('\\n',t5)"
   ]
  },
  {
   "cell_type": "code",
   "execution_count": 147,
   "metadata": {
    "colab": {
     "base_uri": "https://localhost:8080/"
    },
    "executionInfo": {
     "elapsed": 39,
     "status": "ok",
     "timestamp": 1740453057433,
     "user": {
      "displayName": "sechan park",
      "userId": "15872532689016828299"
     },
     "user_tz": -540
    },
    "id": "JbIOy3V02kAj",
    "outputId": "9e53f1b2-8b40-4cbb-e7a4-89803f0957fc"
   },
   "outputs": [
    {
     "name": "stdout",
     "output_type": "stream",
     "text": [
      "[10 11 12]\n",
      "[[12 13]\n",
      " [19 20]]\n",
      "[13 14 15 16 17 18 19 20 21]\n",
      "[[False  True False  True False  True False]\n",
      " [ True False  True False  True False  True]\n",
      " [False  True False  True False  True False]]\n"
     ]
    }
   ],
   "source": [
    "#for i in range(0,3):\n",
    "#  print(t1[i][3:7])\n",
    "print(t1[1][2:5])#슬라이싱도 가능\n",
    "print(t4[1:3,4:6])\n",
    "print(t4[t4>12])\n",
    "print(t4%2 ==0)"
   ]
  },
  {
   "cell_type": "code",
   "execution_count": 151,
   "metadata": {
    "colab": {
     "base_uri": "https://localhost:8080/"
    },
    "executionInfo": {
     "elapsed": 8,
     "status": "ok",
     "timestamp": 1740453234064,
     "user": {
      "displayName": "sechan park",
      "userId": "15872532689016828299"
     },
     "user_tz": -540
    },
    "id": "o2Rww3wAEsxz",
    "outputId": "f159d8e8-4500-4d95-fdb6-03afff759ff2"
   },
   "outputs": [
    {
     "name": "stdout",
     "output_type": "stream",
     "text": [
      "덧셈 : [ 7  9 11 13 15]\n",
      "뺄셈 : [5 5 5 5 5]\n",
      "곱셈 : [ 6 14 24 36 50]\n",
      "나눗셈 : [6.         3.5        2.66666667 2.25       2.        ]\n"
     ]
    }
   ],
   "source": [
    "#np 배열 연산 // shape가 같을 경우 원소별 연산이 가능\n",
    "np1 = np.array([6,7,8,9,10])\n",
    "np2 = np.array([1,2,3,4,5])\n",
    "print(\"덧셈 :\",np1+np2)\n",
    "print(\"뺄셈 :\",np1-np2)\n",
    "print(\"곱셈 :\",np1*np2)\n",
    "print(\"나눗셈 :\",np1/np2)"
   ]
  },
  {
   "cell_type": "code",
   "execution_count": 153,
   "metadata": {
    "colab": {
     "base_uri": "https://localhost:8080/"
    },
    "executionInfo": {
     "elapsed": 7,
     "status": "ok",
     "timestamp": 1740453442468,
     "user": {
      "displayName": "sechan park",
      "userId": "15872532689016828299"
     },
     "user_tz": -540
    },
    "id": "-m0m2kfWGEcy",
    "outputId": "7ccd366b-957b-432f-ae9f-2ea5803a8b32"
   },
   "outputs": [
    {
     "name": "stdout",
     "output_type": "stream",
     "text": [
      "[16 17 18 19 20]\n"
     ]
    }
   ],
   "source": [
    "#브로드캐스팅\n",
    "np3 = np1 + 10\n",
    "print(np3)"
   ]
  },
  {
   "cell_type": "code",
   "execution_count": 166,
   "metadata": {
    "colab": {
     "base_uri": "https://localhost:8080/"
    },
    "executionInfo": {
     "elapsed": 44,
     "status": "ok",
     "timestamp": 1740453933629,
     "user": {
      "displayName": "sechan park",
      "userId": "15872532689016828299"
     },
     "user_tz": -540
    },
    "id": "0At5SJ95G5Ri",
    "outputId": "6aee0c52-dd1c-4280-fea4-ff16907b8bcb"
   },
   "outputs": [
    {
     "name": "stdout",
     "output_type": "stream",
     "text": [
      "[[1 2 3]\n",
      " [4 5 6]\n",
      " [7 8 9]]\n",
      "\n",
      "[[11]\n",
      " [22]\n",
      " [33]]\n",
      "\n",
      "===↓스칼라와 연산↓===\n",
      "[[ 2  4  6]\n",
      " [ 8 10 12]\n",
      " [14 16 18]]\n",
      "\n",
      "[[ 3  6  9]\n",
      " [12 15 18]\n",
      " [21 24 27]]\n",
      "\n",
      "===↓2d와 3d의 연산↓===\n",
      "[[12 13 14]\n",
      " [26 27 28]\n",
      " [40 41 42]]\n",
      "\n",
      "[[ 11  22  33]\n",
      " [ 88 110 132]\n",
      " [231 264 297]]\n"
     ]
    }
   ],
   "source": [
    "br1 = np.arange(1,10).reshape(3,3)\n",
    "br2 = np.array([11,22,33]).reshape(3,1)#reshape를 (3,1)로 지정하면 형태가 변하기 때문에 값이 닫라진다.\n",
    "#스칼라와 연산\n",
    "print(br1)\n",
    "print()\n",
    "print(br2)\n",
    "print()\n",
    "print(\"===↓스칼라와 연산↓===\")\n",
    "print(br1*2)\n",
    "print()\n",
    "print(br1*3)\n",
    "print()\n",
    "#2d와 3d의 연산\n",
    "print(\"===↓2d와 3d의 연산↓===\")\n",
    "print(br1+br2)\n",
    "print()\n",
    "print(br1*br2)"
   ]
  },
  {
   "cell_type": "code",
   "execution_count": 170,
   "metadata": {
    "colab": {
     "base_uri": "https://localhost:8080/"
    },
    "executionInfo": {
     "elapsed": 7,
     "status": "ok",
     "timestamp": 1740454358886,
     "user": {
      "displayName": "sechan park",
      "userId": "15872532689016828299"
     },
     "user_tz": -540
    },
    "id": "55G0V7fgH52S",
    "outputId": "56c2c888-c299-48f0-f502-6e92751949d4"
   },
   "outputs": [
    {
     "name": "stdout",
     "output_type": "stream",
     "text": [
      "[[1 2 3]\n",
      " [4 5 6]\n",
      " [7 8 9]]\n",
      "[1 2 3 4 5 6 7 8 9]\n",
      "[1 2 3 4 5 6 7 8 9]\n"
     ]
    }
   ],
   "source": [
    "ff = np.arange(1,10).reshape(3,3)\n",
    "print(ff)\n",
    "print(ff.reshape(9))\n",
    "print(ff.flatten())\n",
    "#flatten은 행렬안의 값을 풀어서 일렬로 세운다."
   ]
  }
 ],
 "metadata": {
  "colab": {
   "authorship_tag": "ABX9TyNofFmx3Q2lGtAx5TdHQzHs",
   "provenance": []
  },
  "kernelspec": {
   "display_name": "Python 3 (ipykernel)",
   "language": "python",
   "name": "python3"
  },
  "language_info": {
   "codemirror_mode": {
    "name": "ipython",
    "version": 3
   },
   "file_extension": ".py",
   "mimetype": "text/x-python",
   "name": "python",
   "nbconvert_exporter": "python",
   "pygments_lexer": "ipython3",
   "version": "3.13.1"
  }
 },
 "nbformat": 4,
 "nbformat_minor": 4
}

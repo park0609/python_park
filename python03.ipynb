{
 "cells": [
  {
   "cell_type": "markdown",
   "id": "8d90a980-0c29-4b11-9cdf-62547380c845",
   "metadata": {},
   "source": [
    "# 제어문"
   ]
  },
  {
   "cell_type": "markdown",
   "id": "6f34f88a-f9a9-4b9f-811f-4acc94dce248",
   "metadata": {},
   "source": [
    "## IF문"
   ]
  },
  {
   "cell_type": "code",
   "execution_count": 4,
   "id": "f817b416-b411-4ae7-8088-3961c9e60baf",
   "metadata": {},
   "outputs": [
    {
     "name": "stdout",
     "output_type": "stream",
     "text": [
      "항상 동작합니다.\n",
      "동작할까요?\n"
     ]
    }
   ],
   "source": [
    "if True:\n",
    "    print(\"항상 동작합니다.\")\n",
    "if False:\n",
    "    print(\"이건 동작할까요?\")\n",
    "#항상 참일때만 동작을 한다. \n",
    "if 5 > 2:\n",
    "    print(\"동작할까요?\")\n",
    "if 5 > 19:\n",
    "    print(\"동작할까요\")\n",
    "# True인 경우는 0이아닌 모든경우이기 때문에 0만 아니면 if문은 작동한다."
   ]
  },
  {
   "cell_type": "code",
   "execution_count": 8,
   "id": "7e124988-f07f-4b80-96af-ec91af6b8db1",
   "metadata": {},
   "outputs": [
    {
     "name": "stdout",
     "output_type": "stream",
     "text": [
      "택시를\n",
      "타고\n",
      "가라\n"
     ]
    }
   ],
   "source": [
    "if 1:\n",
    "    print(\"택시를\")\n",
    "    print(\"타고\")\n",
    "print(\"가라\")"
   ]
  },
  {
   "cell_type": "code",
   "execution_count": 12,
   "id": "f9891954-3151-4444-ae78-76b906677d47",
   "metadata": {},
   "outputs": [
    {
     "name": "stdin",
     "output_type": "stream",
     "text": [
      "얼마가지고 있습니까 3500\n"
     ]
    },
    {
     "name": "stdout",
     "output_type": "stream",
     "text": [
      "3500원 이요\n",
      "타세요~\n"
     ]
    }
   ],
   "source": [
    "inp = int(input(\"얼마가지고 있습니까\"))\n",
    "print(f\"{inp}원 이요\")\n",
    "if inp>=3000:\n",
    "    print(\"타세요~\")\n",
    "else:\n",
    "    print(\"나가세요~\")"
   ]
  },
  {
   "cell_type": "code",
   "execution_count": 15,
   "id": "7233642a-c182-4d83-a12c-e6248f131f64",
   "metadata": {},
   "outputs": [
    {
     "name": "stdout",
     "output_type": "stream",
     "text": [
      "===논리 and연산===\n",
      "True\n",
      "False\n",
      "True\n",
      "False\n",
      "===논리 or연산===\n",
      "True\n",
      "True\n",
      "True\n",
      "True\n",
      "===논리 not연산===\n",
      "True\n",
      "False\n",
      "True\n"
     ]
    }
   ],
   "source": [
    "print(\"===논리 and연산===\")\n",
    "print(True and True)\n",
    "print(True and False)\n",
    "print(True and True)\n",
    "print(True and False)\n",
    "print(\"===논리 or연산===\")\n",
    "print(True or True)\n",
    "print(True or False)\n",
    "print(True or True)\n",
    "print(True or False)\n",
    "print(\"===논리 not연산===\")\n",
    "print(True)\n",
    "print(not True)\n",
    "print(not False)"
   ]
  },
  {
   "cell_type": "code",
   "execution_count": 16,
   "id": "056a1d4d-2b90-40f4-a1f5-27ba19bce852",
   "metadata": {},
   "outputs": [
    {
     "name": "stdout",
     "output_type": "stream",
     "text": [
      "반가워요\n",
      "만납시다\n"
     ]
    }
   ],
   "source": [
    "이상형 = True\n",
    "똑똑 = False\n",
    "if 이상형 and  똑똑:\n",
    "    print(\"만납시다\")\n",
    "else:\n",
    "    print(\"반가워요\")\n",
    "\n",
    "이상형 = True\n",
    "똑똑 = False\n",
    "if 이상형 or 똑똑:\n",
    "    print(\"만납시다\")\n",
    "else:\n",
    "    print(\"반가워요\")"
   ]
  },
  {
   "cell_type": "code",
   "execution_count": 20,
   "id": "65fef61c-a565-445a-a294-ce8eb1ce652c",
   "metadata": {},
   "outputs": [
    {
     "name": "stdin",
     "output_type": "stream",
     "text": [
      " 1\n"
     ]
    },
    {
     "name": "stdout",
     "output_type": "stream",
     "text": [
      "잘가요\n"
     ]
    }
   ],
   "source": [
    "주사 = int(input(\"\"))\n",
    "if not 주사:\n",
    "    print(\"만나요\")\n",
    "else:\n",
    "    print(\"잘가요\")"
   ]
  },
  {
   "cell_type": "code",
   "execution_count": 21,
   "id": "99b93fc7-26a5-40ac-b6fa-4ccd1bcd16d3",
   "metadata": {},
   "outputs": [
    {
     "name": "stdout",
     "output_type": "stream",
     "text": [
      "택시타고 가라\n"
     ]
    }
   ],
   "source": [
    "money = 2000\n",
    "card = True\n",
    "if money >=3000 or card:\n",
    "    print(\"택시타고 가라\")\n",
    "else:\n",
    "    print(\"걸어가라\")"
   ]
  },
  {
   "cell_type": "code",
   "execution_count": 25,
   "id": "c35fab19-665b-42c7-b9e2-312acc9604e1",
   "metadata": {},
   "outputs": [
    {
     "name": "stdout",
     "output_type": "stream",
     "text": [
      "A회사 합격입니다.\n",
      "B회사 합격입니다.\n",
      "불합격입니다.\n"
     ]
    }
   ],
   "source": [
    "me = \"C\"\n",
    "comA = [\"JAVA\",\"CSS\",\"Javascript\",\"C\",\"MySQL\"]\n",
    "comB = [\"JAVA\",\"Python\",\"Javascript\",\"C\",\"MySQL\"]\n",
    "comC = [\"JAVA\",\"Python\",\"HTML\",\"MySQL\"]\n",
    "if me in comA:\n",
    "    print(\"A회사 합격입니다.\")\n",
    "else:\n",
    "    print(\"불합격입니다.\")\n",
    "if me in comB:\n",
    "    print(\"B회사 합격입니다.\")\n",
    "else:\n",
    "    print(\"불합격입니다.\")\n",
    "if me in comC:\n",
    "    print(\"C회사 합격입니다.\")\n",
    "else:\n",
    "    print(\"불합격입니다.\")"
   ]
  },
  {
   "cell_type": "code",
   "execution_count": 30,
   "id": "b7704982-13be-4a46-920d-2a2dfdac23ef",
   "metadata": {},
   "outputs": [
    {
     "name": "stdin",
     "output_type": "stream",
     "text": [
      "몇 점입니까? 32\n"
     ]
    },
    {
     "name": "stdout",
     "output_type": "stream",
     "text": [
      "F입니다\n"
     ]
    }
   ],
   "source": [
    "#if elif를 사용하여 다음을 구성하세요.\n",
    "\n",
    "score = int(input(\"몇 점입니까?\"))\n",
    "if score>=90:\n",
    "    print(\"A입니다.\")\n",
    "elif score>=80:\n",
    "    print(\"B입니다.\")\n",
    "elif score>=70:\n",
    "    print(\"C입니다.\")\n",
    "elif score>=60:\n",
    "    print(\"D입니다.\")\n",
    "else:\n",
    "    print(\"F입니다\")\n",
    "# 밑에 방법처럼 print를 마지막에 넣는 법도 넣으면 편하다\n",
    "# elif를 쓸 땐 배치를 잘해야 한다. if 만 쓰게 되면 모든곳에 넣고 판단하기 때문에 문제는\n",
    "# 없지만 elif는 순서대로 위에서 아래로 내려가기 때문에 배치에 신경을 써야한다."
   ]
  },
  {
   "cell_type": "code",
   "execution_count": 31,
   "id": "d7b7f1ac-ce7e-476e-944e-26e9995a5b2b",
   "metadata": {},
   "outputs": [
    {
     "name": "stdin",
     "output_type": "stream",
     "text": [
      "점수를 입력하세요 88\n"
     ]
    },
    {
     "name": "stdout",
     "output_type": "stream",
     "text": [
      "B 학점입니다.\n"
     ]
    }
   ],
   "source": [
    "#방법 1 if만 사용하세요\n",
    "점수 = int(input(\"점수를 입력하세요\"))\n",
    "grade = \"F\"\n",
    "if 90 <= 점수:\n",
    "    grade = \"A\"\n",
    "if 80 <= 점수 < 90:\n",
    "    grade = \"B\"\n",
    "if 70 <= 점수 < 80:\n",
    "    grade = \"C\"\n",
    "if 60 <= 점수 < 70:\n",
    "    grade = \"D\"\n",
    "\n",
    "print(f\"{grade} 학점입니다.\")"
   ]
  },
  {
   "cell_type": "code",
   "execution_count": 32,
   "id": "f37c3c15-af5f-4ba5-a5f9-72b3515c6b16",
   "metadata": {},
   "outputs": [
    {
     "name": "stdin",
     "output_type": "stream",
     "text": [
      "점수를 입력하세요 \n"
     ]
    },
    {
     "name": "stdout",
     "output_type": "stream",
     "text": [
      "D 학점입니다.\n"
     ]
    }
   ],
   "source": [
    "#방법 1 if만 사용하세요\n",
    "점수 = int(input(\"점수를 입력하세요\")or 65)\n",
    "grade = \"F\"\n",
    "if 90 <= 점수:\n",
    "    grade = \"A\"\n",
    "if 80 <= 점수 < 90:\n",
    "    grade = \"B\"\n",
    "if 70 <= 점수 < 80:\n",
    "    grade = \"C\"\n",
    "if 60 <= 점수 < 70:\n",
    "    grade = \"D\"\n",
    "\n",
    "print(f\"{grade} 학점입니다.\")"
   ]
  },
  {
   "cell_type": "code",
   "execution_count": 39,
   "id": "71d9ddef-cd10-4ad1-85ce-faed6c60f75e",
   "metadata": {},
   "outputs": [
    {
     "name": "stdin",
     "output_type": "stream",
     "text": [
      "몇 도입니까? 22\n"
     ]
    },
    {
     "name": "stdout",
     "output_type": "stream",
     "text": [
      "봄이네요\n"
     ]
    }
   ],
   "source": [
    "#봄 여름 가을 겨울 \n",
    "# 15~20 여름 20~ 가을 10~15 겨울 10 미만\n",
    "온도 = int(input(\"몇 도입니까?\"))\n",
    "if 25<=온도 : tem = \"여름\"\n",
    "elif 25>온도>=15 : tem = \"봄\"\n",
    "elif 15>온도>=10 : tem = \"가을\"\n",
    "else: tem = \"겨울\"\n",
    "print(f\"{tem}이네요\")  "
   ]
  },
  {
   "cell_type": "markdown",
   "id": "257f1f6d-02db-4d6e-a4ac-e22a747b2bf5",
   "metadata": {},
   "source": [
    "## WHILE문"
   ]
  },
  {
   "cell_type": "code",
   "execution_count": 40,
   "id": "dcbcbe3d-e9b6-489d-8cc6-24f6a689d89e",
   "metadata": {},
   "outputs": [
    {
     "name": "stdout",
     "output_type": "stream",
     "text": [
      "나무를 1번 찍었습니다.\n",
      "나무를 2번 찍었습니다.\n",
      "나무를 3번 찍었습니다.\n",
      "나무를 4번 찍었습니다.\n",
      "나무를 5번 찍었습니다.\n",
      "나무를 6번 찍었습니다.\n",
      "나무를 7번 찍었습니다.\n",
      "나무를 8번 찍었습니다.\n",
      "나무를 9번 찍었습니다.\n",
      "나무를 10번 찍었습니다.\n",
      "나무 넘어갑니다.\n"
     ]
    }
   ],
   "source": [
    "treeHit = 0\n",
    "while treeHit <10:\n",
    "    treeHit = treeHit + 1\n",
    "    print(\"나무를 %d번 찍었습니다.\" % treeHit)\n",
    "    if treeHit == 10 :\n",
    "        print(\"나무 넘어갑니다.\")"
   ]
  },
  {
   "cell_type": "code",
   "execution_count": null,
   "id": "dc704975-cc3b-4b5d-b84b-b7c4a2c88376",
   "metadata": {},
   "outputs": [],
   "source": [
    "namu = 10\n",
    "while namu:\n",
    "    namu -= 1\n",
    "    print(f\"나무를 {10 - namu}번 찍었습니다.\")\n",
    "print(\"나무 넘어갑니다\")"
   ]
  },
  {
   "cell_type": "code",
   "execution_count": null,
   "id": "7757e960-1d6a-4b7e-a31b-3f04e75ffb3d",
   "metadata": {},
   "outputs": [],
   "source": [
    "num = 10\n",
    "while num:\n",
    "    num-=1\n",
    "    print(num,\"화났어\")"
   ]
  },
  {
   "cell_type": "code",
   "execution_count": 5,
   "id": "193775db-8af9-48f2-a56c-b405334cd918",
   "metadata": {},
   "outputs": [
    {
     "name": "stdout",
     "output_type": "stream",
     "text": [
      "선택해주세요\n",
      "\n",
      "    1. Add\n",
      "    2. Del\n",
      "    3. List\n",
      "    4. Quit\n",
      "\n"
     ]
    },
    {
     "name": "stdin",
     "output_type": "stream",
     "text": [
      " 4\n"
     ]
    },
    {
     "name": "stdout",
     "output_type": "stream",
     "text": [
      "시스템이 종료되었습니다.\n"
     ]
    }
   ],
   "source": [
    "from IPython.display import clear_output\n",
    "print(\"선택해주세요\")\n",
    "prompt = \"\"\"\n",
    "    1. Add\n",
    "    2. Del\n",
    "    3. List\n",
    "    4. Quit\n",
    "\"\"\"\n",
    "number = 0\n",
    "while number !=4:\n",
    "    print(prompt)\n",
    "    number = int(input())\n",
    "print(\"시스템이 종료되었습니다.\")"
   ]
  },
  {
   "cell_type": "code",
   "execution_count": null,
   "id": "5a376fe6-5e35-4008-aacb-960d79293240",
   "metadata": {},
   "outputs": [],
   "source": []
  }
 ],
 "metadata": {
  "kernelspec": {
   "display_name": "Python 3 (ipykernel)",
   "language": "python",
   "name": "python3"
  },
  "language_info": {
   "codemirror_mode": {
    "name": "ipython",
    "version": 3
   },
   "file_extension": ".py",
   "mimetype": "text/x-python",
   "name": "python",
   "nbconvert_exporter": "python",
   "pygments_lexer": "ipython3",
   "version": "3.13.1"
  }
 },
 "nbformat": 4,
 "nbformat_minor": 5
}

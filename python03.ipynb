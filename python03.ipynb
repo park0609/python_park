{
 "cells": [
  {
   "cell_type": "markdown",
   "id": "8d90a980-0c29-4b11-9cdf-62547380c845",
   "metadata": {},
   "source": [
    "# 제어문"
   ]
  },
  {
   "cell_type": "markdown",
   "id": "6f34f88a-f9a9-4b9f-811f-4acc94dce248",
   "metadata": {},
   "source": [
    "## IF문 조건문"
   ]
  },
  {
   "cell_type": "code",
   "execution_count": 4,
   "id": "f817b416-b411-4ae7-8088-3961c9e60baf",
   "metadata": {},
   "outputs": [
    {
     "name": "stdout",
     "output_type": "stream",
     "text": [
      "항상 동작합니다.\n",
      "동작할까요?\n"
     ]
    }
   ],
   "source": [
    "if True:\n",
    "    print(\"항상 동작합니다.\")\n",
    "if False:\n",
    "    print(\"이건 동작할까요?\")\n",
    "#항상 참일때만 동작을 한다. \n",
    "if 5 > 2:\n",
    "    print(\"동작할까요?\")\n",
    "if 5 > 19:\n",
    "    print(\"동작할까요\")\n",
    "# True인 경우는 0이아닌 모든경우이기 때문에 0만 아니면 if문은 작동한다."
   ]
  },
  {
   "cell_type": "code",
   "execution_count": 8,
   "id": "7e124988-f07f-4b80-96af-ec91af6b8db1",
   "metadata": {},
   "outputs": [
    {
     "name": "stdout",
     "output_type": "stream",
     "text": [
      "택시를\n",
      "타고\n",
      "가라\n"
     ]
    }
   ],
   "source": [
    "if 1:\n",
    "    print(\"택시를\")\n",
    "    print(\"타고\")\n",
    "print(\"가라\")"
   ]
  },
  {
   "cell_type": "code",
   "execution_count": 12,
   "id": "f9891954-3151-4444-ae78-76b906677d47",
   "metadata": {},
   "outputs": [
    {
     "name": "stdin",
     "output_type": "stream",
     "text": [
      "얼마가지고 있습니까 3500\n"
     ]
    },
    {
     "name": "stdout",
     "output_type": "stream",
     "text": [
      "3500원 이요\n",
      "타세요~\n"
     ]
    }
   ],
   "source": [
    "inp = int(input(\"얼마가지고 있습니까\"))\n",
    "print(f\"{inp}원 이요\")\n",
    "if inp>=3000:\n",
    "    print(\"타세요~\")\n",
    "else:\n",
    "    print(\"나가세요~\")"
   ]
  },
  {
   "cell_type": "code",
   "execution_count": 15,
   "id": "7233642a-c182-4d83-a12c-e6248f131f64",
   "metadata": {},
   "outputs": [
    {
     "name": "stdout",
     "output_type": "stream",
     "text": [
      "===논리 and연산===\n",
      "True\n",
      "False\n",
      "True\n",
      "False\n",
      "===논리 or연산===\n",
      "True\n",
      "True\n",
      "True\n",
      "True\n",
      "===논리 not연산===\n",
      "True\n",
      "False\n",
      "True\n"
     ]
    }
   ],
   "source": [
    "print(\"===논리 and연산===\")\n",
    "print(True and True)\n",
    "print(True and False)\n",
    "print(True and True)\n",
    "print(True and False)\n",
    "print(\"===논리 or연산===\")\n",
    "print(True or True)\n",
    "print(True or False)\n",
    "print(True or True)\n",
    "print(True or False)\n",
    "print(\"===논리 not연산===\")\n",
    "print(True)\n",
    "print(not True)\n",
    "print(not False)"
   ]
  },
  {
   "cell_type": "code",
   "execution_count": 16,
   "id": "056a1d4d-2b90-40f4-a1f5-27ba19bce852",
   "metadata": {},
   "outputs": [
    {
     "name": "stdout",
     "output_type": "stream",
     "text": [
      "반가워요\n",
      "만납시다\n"
     ]
    }
   ],
   "source": [
    "이상형 = True\n",
    "똑똑 = False\n",
    "if 이상형 and  똑똑:\n",
    "    print(\"만납시다\")\n",
    "else:\n",
    "    print(\"반가워요\")\n",
    "\n",
    "이상형 = True\n",
    "똑똑 = False\n",
    "if 이상형 or 똑똑:\n",
    "    print(\"만납시다\")\n",
    "else:\n",
    "    print(\"반가워요\")"
   ]
  },
  {
   "cell_type": "code",
   "execution_count": 20,
   "id": "65fef61c-a565-445a-a294-ce8eb1ce652c",
   "metadata": {},
   "outputs": [
    {
     "name": "stdin",
     "output_type": "stream",
     "text": [
      " 1\n"
     ]
    },
    {
     "name": "stdout",
     "output_type": "stream",
     "text": [
      "잘가요\n"
     ]
    }
   ],
   "source": [
    "주사 = int(input(\"\"))\n",
    "if not 주사:\n",
    "    print(\"만나요\")\n",
    "else:\n",
    "    print(\"잘가요\")"
   ]
  },
  {
   "cell_type": "code",
   "execution_count": 21,
   "id": "99b93fc7-26a5-40ac-b6fa-4ccd1bcd16d3",
   "metadata": {},
   "outputs": [
    {
     "name": "stdout",
     "output_type": "stream",
     "text": [
      "택시타고 가라\n"
     ]
    }
   ],
   "source": [
    "money = 2000\n",
    "card = True\n",
    "if money >=3000 or card:\n",
    "    print(\"택시타고 가라\")\n",
    "else:\n",
    "    print(\"걸어가라\")"
   ]
  },
  {
   "cell_type": "code",
   "execution_count": 25,
   "id": "c35fab19-665b-42c7-b9e2-312acc9604e1",
   "metadata": {},
   "outputs": [
    {
     "name": "stdout",
     "output_type": "stream",
     "text": [
      "A회사 합격입니다.\n",
      "B회사 합격입니다.\n",
      "불합격입니다.\n"
     ]
    }
   ],
   "source": [
    "me = \"C\"\n",
    "comA = [\"JAVA\",\"CSS\",\"Javascript\",\"C\",\"MySQL\"]\n",
    "comB = [\"JAVA\",\"Python\",\"Javascript\",\"C\",\"MySQL\"]\n",
    "comC = [\"JAVA\",\"Python\",\"HTML\",\"MySQL\"]\n",
    "if me in comA:\n",
    "    print(\"A회사 합격입니다.\")\n",
    "else:\n",
    "    print(\"불합격입니다.\")\n",
    "if me in comB:\n",
    "    print(\"B회사 합격입니다.\")\n",
    "else:\n",
    "    print(\"불합격입니다.\")\n",
    "if me in comC:\n",
    "    print(\"C회사 합격입니다.\")\n",
    "else:\n",
    "    print(\"불합격입니다.\")"
   ]
  },
  {
   "cell_type": "code",
   "execution_count": 30,
   "id": "b7704982-13be-4a46-920d-2a2dfdac23ef",
   "metadata": {},
   "outputs": [
    {
     "name": "stdin",
     "output_type": "stream",
     "text": [
      "몇 점입니까? 32\n"
     ]
    },
    {
     "name": "stdout",
     "output_type": "stream",
     "text": [
      "F입니다\n"
     ]
    }
   ],
   "source": [
    "#if elif를 사용하여 다음을 구성하세요.\n",
    "\n",
    "score = int(input(\"몇 점입니까?\"))\n",
    "if score>=90:\n",
    "    print(\"A입니다.\")\n",
    "elif score>=80:\n",
    "    print(\"B입니다.\")\n",
    "elif score>=70:\n",
    "    print(\"C입니다.\")\n",
    "elif score>=60:\n",
    "    print(\"D입니다.\")\n",
    "else:\n",
    "    print(\"F입니다\")\n",
    "# 밑에 방법처럼 print를 마지막에 넣는 법도 넣으면 편하다\n",
    "# elif를 쓸 땐 배치를 잘해야 한다. if 만 쓰게 되면 모든곳에 넣고 판단하기 때문에 문제는\n",
    "# 없지만 elif는 순서대로 위에서 아래로 내려가기 때문에 배치에 신경을 써야한다."
   ]
  },
  {
   "cell_type": "code",
   "execution_count": 31,
   "id": "d7b7f1ac-ce7e-476e-944e-26e9995a5b2b",
   "metadata": {},
   "outputs": [
    {
     "name": "stdin",
     "output_type": "stream",
     "text": [
      "점수를 입력하세요 88\n"
     ]
    },
    {
     "name": "stdout",
     "output_type": "stream",
     "text": [
      "B 학점입니다.\n"
     ]
    }
   ],
   "source": [
    "#방법 1 if만 사용하세요\n",
    "점수 = int(input(\"점수를 입력하세요\"))\n",
    "grade = \"F\"\n",
    "if 90 <= 점수:\n",
    "    grade = \"A\"\n",
    "if 80 <= 점수 < 90:\n",
    "    grade = \"B\"\n",
    "if 70 <= 점수 < 80:\n",
    "    grade = \"C\"\n",
    "if 60 <= 점수 < 70:\n",
    "    grade = \"D\"\n",
    "\n",
    "print(f\"{grade} 학점입니다.\")"
   ]
  },
  {
   "cell_type": "code",
   "execution_count": 32,
   "id": "f37c3c15-af5f-4ba5-a5f9-72b3515c6b16",
   "metadata": {},
   "outputs": [
    {
     "name": "stdin",
     "output_type": "stream",
     "text": [
      "점수를 입력하세요 \n"
     ]
    },
    {
     "name": "stdout",
     "output_type": "stream",
     "text": [
      "D 학점입니다.\n"
     ]
    }
   ],
   "source": [
    "#방법 1 if만 사용하세요\n",
    "점수 = int(input(\"점수를 입력하세요\")or 65)\n",
    "grade = \"F\"\n",
    "if 90 <= 점수:\n",
    "    grade = \"A\"\n",
    "if 80 <= 점수 < 90:\n",
    "    grade = \"B\"\n",
    "if 70 <= 점수 < 80:\n",
    "    grade = \"C\"\n",
    "if 60 <= 점수 < 70:\n",
    "    grade = \"D\"\n",
    "\n",
    "print(f\"{grade} 학점입니다.\")"
   ]
  },
  {
   "cell_type": "code",
   "execution_count": 2,
   "id": "71d9ddef-cd10-4ad1-85ce-faed6c60f75e",
   "metadata": {},
   "outputs": [
    {
     "name": "stdin",
     "output_type": "stream",
     "text": [
      "몇 도입니까? 22.6\n"
     ]
    },
    {
     "name": "stdout",
     "output_type": "stream",
     "text": [
      "봄이네요\n"
     ]
    }
   ],
   "source": [
    "#봄 여름 가을 겨울 \n",
    "# 15~20 여름 20~ 가을 10~15 겨울 10 미만\n",
    "온도 = float(input(\"몇 도입니까?\"))\n",
    "if 25<=온도 : tem = \"여름\"\n",
    "elif 25>온도>=15 : tem = \"봄\"\n",
    "elif 15>온도>=10 : tem = \"가을\"\n",
    "else: tem = \"겨울\"\n",
    "print(f\"{tem}이네요\")  "
   ]
  },
  {
   "cell_type": "markdown",
   "id": "257f1f6d-02db-4d6e-a4ac-e22a747b2bf5",
   "metadata": {},
   "source": [
    "## WHILE문 반복문"
   ]
  },
  {
   "cell_type": "code",
   "execution_count": 40,
   "id": "dcbcbe3d-e9b6-489d-8cc6-24f6a689d89e",
   "metadata": {},
   "outputs": [
    {
     "name": "stdout",
     "output_type": "stream",
     "text": [
      "나무를 1번 찍었습니다.\n",
      "나무를 2번 찍었습니다.\n",
      "나무를 3번 찍었습니다.\n",
      "나무를 4번 찍었습니다.\n",
      "나무를 5번 찍었습니다.\n",
      "나무를 6번 찍었습니다.\n",
      "나무를 7번 찍었습니다.\n",
      "나무를 8번 찍었습니다.\n",
      "나무를 9번 찍었습니다.\n",
      "나무를 10번 찍었습니다.\n",
      "나무 넘어갑니다.\n"
     ]
    }
   ],
   "source": [
    "treeHit = 0\n",
    "while treeHit <10:\n",
    "    treeHit = treeHit + 1\n",
    "    print(\"나무를 %d번 찍었습니다.\" % treeHit)\n",
    "    if treeHit == 10 :\n",
    "        print(\"나무 넘어갑니다.\")"
   ]
  },
  {
   "cell_type": "code",
   "execution_count": null,
   "id": "dc704975-cc3b-4b5d-b84b-b7c4a2c88376",
   "metadata": {},
   "outputs": [],
   "source": [
    "namu = 10\n",
    "while namu:\n",
    "    namu -= 1\n",
    "    print(f\"나무를 {10 - namu}번 찍었습니다.\")\n",
    "print(\"나무 넘어갑니다\")"
   ]
  },
  {
   "cell_type": "code",
   "execution_count": null,
   "id": "7757e960-1d6a-4b7e-a31b-3f04e75ffb3d",
   "metadata": {},
   "outputs": [],
   "source": [
    "num = 10\n",
    "while num:\n",
    "    num-=1\n",
    "    print(num,\"화났어\")"
   ]
  },
  {
   "cell_type": "code",
   "execution_count": 1,
   "id": "193775db-8af9-48f2-a56c-b405334cd918",
   "metadata": {},
   "outputs": [
    {
     "name": "stdout",
     "output_type": "stream",
     "text": [
      "선택해주세요\n",
      "\n",
      "    1. Add\n",
      "    2. Del\n",
      "    3. List\n",
      "    4. Quit\n",
      "\n"
     ]
    },
    {
     "name": "stdin",
     "output_type": "stream",
     "text": [
      " 1\n"
     ]
    },
    {
     "name": "stdout",
     "output_type": "stream",
     "text": [
      "\n",
      "    1. Add\n",
      "    2. Del\n",
      "    3. List\n",
      "    4. Quit\n",
      "\n"
     ]
    },
    {
     "name": "stdin",
     "output_type": "stream",
     "text": [
      " 4\n"
     ]
    },
    {
     "name": "stdout",
     "output_type": "stream",
     "text": [
      "시스템이 종료되었습니다.\n"
     ]
    }
   ],
   "source": [
    "from IPython.display import clear_output\n",
    "print(\"선택해주세요\")\n",
    "prompt = \"\"\"\n",
    "    1. Add\n",
    "    2. Del\n",
    "    3. List\n",
    "    4. Quit\n",
    "\"\"\"\n",
    "number = 0\n",
    "while number !=4:\n",
    "    #number라는 값이 4와 같이 않을때 반복\n",
    "    print(prompt)\n",
    "    number = int(input())\n",
    "print(\"시스템이 종료되었습니다.\")"
   ]
  },
  {
   "cell_type": "code",
   "execution_count": 1,
   "id": "6c4383c2-c498-4d68-90a6-e8241ec3d1a7",
   "metadata": {},
   "outputs": [],
   "source": [
    "# 랜덤 주사위\n",
    "import random as r\n",
    "# 랜덤이라는 글자는 r하나로 쓸수 있음\n",
    "#ran = r.random()*46\n",
    "box = [] #초기화 현장에서 중요하게 쓰이는 곳이 있다."
   ]
  },
  {
   "cell_type": "code",
   "execution_count": 3,
   "id": "8d822d06-9cbb-46e4-8430-623daa84b71c",
   "metadata": {},
   "outputs": [
    {
     "name": "stdout",
     "output_type": "stream",
     "text": [
      "6\n",
      "[6, 6] 2\n"
     ]
    }
   ],
   "source": [
    "ran = r.randint(1,6)\n",
    "box.append(ran)\n",
    "#random은 지정한값이 전의 .999~ 까지 나온다. 하지만 randint는 지정한 범위까지 나온다.\n",
    "print(ran)\n",
    "print(box,len(box))"
   ]
  },
  {
   "cell_type": "code",
   "execution_count": 4,
   "id": "0c425357-2365-47ab-acca-83be01b36b78",
   "metadata": {},
   "outputs": [
    {
     "name": "stdout",
     "output_type": "stream",
     "text": [
      "1\n",
      "2\n",
      "3\n",
      "4\n",
      "5\n",
      "6\n",
      "7\n",
      "8\n",
      "9\n",
      "10\n"
     ]
    }
   ],
   "source": [
    "num = 0\n",
    "while num<10 :\n",
    "    num = num + 1\n",
    "    print(num)"
   ]
  },
  {
   "cell_type": "code",
   "execution_count": 2,
   "id": "0fab8485-96c5-435a-a67c-76a7aad39c7d",
   "metadata": {},
   "outputs": [
    {
     "name": "stdout",
     "output_type": "stream",
     "text": [
      "110000회 정상 진행되었습니다.\n",
      "1는 18310번, 16.65% 나왔습니다\n"
     ]
    },
    {
     "ename": "AttributeError",
     "evalue": "'int' object has no attribute 'max'",
     "output_type": "error",
     "traceback": [
      "\u001b[1;31m---------------------------------------------------------------------------\u001b[0m",
      "\u001b[1;31mAttributeError\u001b[0m                            Traceback (most recent call last)",
      "Cell \u001b[1;32mIn[2], line 25\u001b[0m\n\u001b[0;32m     23\u001b[0m     a \u001b[38;5;241m=\u001b[39m box\u001b[38;5;241m.\u001b[39mcount(number)\n\u001b[0;32m     24\u001b[0m     \u001b[38;5;28mprint\u001b[39m(\u001b[38;5;124mf\u001b[39m\u001b[38;5;124m\"\u001b[39m\u001b[38;5;132;01m{\u001b[39;00mnumber\u001b[38;5;132;01m}\u001b[39;00m\u001b[38;5;124m는 \u001b[39m\u001b[38;5;132;01m{\u001b[39;00ma\u001b[38;5;132;01m}\u001b[39;00m\u001b[38;5;124m번, \u001b[39m\u001b[38;5;132;01m{\u001b[39;00ma\u001b[38;5;241m/\u001b[39mnum\u001b[38;5;241m*\u001b[39m\u001b[38;5;241m100\u001b[39m\u001b[38;5;132;01m:\u001b[39;00m\u001b[38;5;124m.2f\u001b[39m\u001b[38;5;132;01m}\u001b[39;00m\u001b[38;5;124m% 나왔습니다\u001b[39m\u001b[38;5;124m\"\u001b[39m)\n\u001b[1;32m---> 25\u001b[0m     b \u001b[38;5;241m=\u001b[39m \u001b[43ma\u001b[49m\u001b[38;5;241;43m.\u001b[39;49m\u001b[43mmax\u001b[49m(a)\n\u001b[0;32m     26\u001b[0m     \u001b[38;5;66;03m#숙제\u001b[39;00m\n\u001b[0;32m     27\u001b[0m    \u001b[38;5;66;03m# 소수를 일정값만 도출시킬려면 :.nf라고 적으면 된다.\u001b[39;00m\n\u001b[0;32m     28\u001b[0m \n\u001b[1;32m   (...)\u001b[0m\n\u001b[0;32m     45\u001b[0m \u001b[38;5;66;03m#a6= box.count(6)\u001b[39;00m\n\u001b[0;32m     46\u001b[0m \u001b[38;5;66;03m#print(f\"6은 {a6}개 나왔습니다.\")\u001b[39;00m\n",
      "\u001b[1;31mAttributeError\u001b[0m: 'int' object has no attribute 'max'"
     ]
    }
   ],
   "source": [
    "import random as r\n",
    "box = []# 배열을 만들었고 배열과 관련된 함수는 초기화를 시켜줘야하는게 중요함\n",
    "        # while 같은 반복문에 초기화가 되지않은 배열로 작동을 하면 오류가 날 수 있기 때문 주의하라고\n",
    "num = 0 #반복문을 만들기 위해선 while이 동작하는 범위를 만들어줘야함\n",
    "number = 0\n",
    "while num < 110000:\n",
    "    num = num + 1 # 이곳 까지가 while 동작해주는 범위이다. 저 범위가 넘어가면 작동을 멈춘다\n",
    "    ran = r.randint(1,6)\n",
    "    box.append(ran)\n",
    "if num == len(box):\n",
    "    print(f\"{num}회 정상 진행되었습니다.\")\n",
    "else:\n",
    "    print(f\"검증 결과 횟수 이상이 있습니다. (이유 :{num}회 목표로 동작하였으나, {len(box)}으로 측정되었습니다. \")\n",
    "\n",
    " #그리고 이 들여쓰기 까지 while 작동을 함으로 방금 만들었던 자동 생성기가 작동해서 위에있는 박스안에 들어감\n",
    "    #그리고 append로 한개씩 들어가기 때문에 반복문이 멈추면 자동적으로 10개가 들어간다.\n",
    "# print를 들여쓰기를 안하는 이유는 만약 들여쓴다면 저 계산이 반복 될 동안 계속 출력이\n",
    "#된다는 소리기 때문에 출력값이 더러워지므로 들여쓰기를 안하면 하나의 출력값을 도출시킬수 있다.\n",
    "\n",
    "while number < 6:\n",
    "    number = number + 1\n",
    "    box.append(ran)\n",
    "    a = box.count(number)\n",
    "    print(f\"{number}는 {a}번, {a/num*100:.2f}% 나왔습니다\")\n",
    "    b = a.max(a)\n",
    "    #숙제\n",
    "   # 소수를 일정값만 도출시킬려면 :.nf라고 적으면 된다.\n",
    "\n",
    "# while문을 사용할 때 주의해야 할 건 while문의 작동 범위와 멈추는 범위를 확실하게 정하고 들어가야할것\n",
    "# 동작과 범위를 함께 엮으면 오류가 날 수 도있으니 주위\n",
    "\n",
    "#리스트의 특정한 굿자를 몇개인지 찾아내는 함수를 써서\n",
    "#1이몇번, 2가 몇번 3이 몇번 했는지\n",
    "# 프린트로 반목하면 이리 나옴\n",
    "#a1= box.count(1)\n",
    "#print(f\"1은 {a1}개 나왔습니다.\")\n",
    "#a2= box.count(2)\n",
    "#print(f\"2은 {a2}개 나왔습니다.\")\n",
    "#a3= box.count(3)\n",
    "#print(f\"3은 {a3}개 나왔습니다.\")\n",
    "#a4= box.count(4)\n",
    "#print(f\"4은 {a4}개 나왔습니다.\")\n",
    "#a5= box.count(5)\n",
    "#print(f\"5은 {a5}개 나왔습니다.\")\n",
    "#a6= box.count(6)\n",
    "#print(f\"6은 {a6}개 나왔습니다.\")"
   ]
  },
  {
   "cell_type": "code",
   "execution_count": null,
   "id": "bb5d8f36-e9f4-4ec0-8c69-d1ea17162331",
   "metadata": {},
   "outputs": [],
   "source": []
  },
  {
   "cell_type": "code",
   "execution_count": 3,
   "id": "65d522c1-3050-457f-8f69-d129dd6e8210",
   "metadata": {},
   "outputs": [
    {
     "name": "stdout",
     "output_type": "stream",
     "text": [
      "1는 18310개 나왔습니다\n",
      "2는 18332개 나왔습니다\n",
      "3는 18261개 나왔습니다\n",
      "4는 18361개 나왔습니다\n",
      "5는 18453개 나왔습니다\n",
      "6는 18284개 나왔습니다\n",
      "1은 18310개 나왔습니다.\n",
      "2은 18332개 나왔습니다.\n",
      "3은 18261개 나왔습니다.\n",
      "4은 18361개 나왔습니다.\n",
      "5은 18453개 나왔습니다.\n",
      "6은 18284개 나왔습니다.\n"
     ]
    }
   ],
   "source": [
    "number = 0\n",
    "while number < 6:\n",
    "    number = number + 1\n",
    "    a = box.count(number)\n",
    "    print(f\"{number}는 {a}개 나왔습니다\")\n",
    "\n",
    "a1= box.count(1)\n",
    "print(f\"1은 {a1}개 나왔습니다.\")\n",
    "a2= box.count(2)\n",
    "print(f\"2은 {a2}개 나왔습니다.\")\n",
    "a3= box.count(3)\n",
    "print(f\"3은 {a3}개 나왔습니다.\")\n",
    "a4= box.count(4)\n",
    "print(f\"4은 {a4}개 나왔습니다.\")\n",
    "a5= box.count(5)\n",
    "print(f\"5은 {a5}개 나왔습니다.\")\n",
    "a6= box.count(6)\n",
    "print(f\"6은 {a6}개 나왔습니다.\")"
   ]
  },
  {
   "cell_type": "code",
   "execution_count": null,
   "id": "ce37221e-d1e5-4427-bdd0-9c575c9fa180",
   "metadata": {},
   "outputs": [],
   "source": [
    "## coffee = 10\n",
    "while True:\n",
    "    money = int(input(\"돈을 넣어 주세요: \"))\n",
    "    if money == 300:\n",
    "        print(\"커피를 줍니다.\")\n",
    "        coffee = coffee -1\n",
    "    elif money > 300:\n",
    "        print(f\"거스름돈 {money-300}을 주고 커피를 줍니다\")\n",
    "        coffee = coffee -1\n",
    "    else:\n",
    "        print(\"돈을 다시 돌려주고 커피를 주지 않습니다.\")\n",
    "        print(f\"남은 커피의 양은 {coffee}개 입니다.\")\n",
    "    if coffee == 0:\n",
    "        print(\"커피가 다 떨어졌습니다. 판매를 중지합니다.\")\n",
    "        break"
   ]
  },
  {
   "cell_type": "markdown",
   "id": "71814011-c644-4d96-a238-e17575981e91",
   "metadata": {},
   "source": [
    "## for문"
   ]
  },
  {
   "cell_type": "code",
   "execution_count": 48,
   "id": "f053cb01-bd81-4676-b281-5f8e316d24d4",
   "metadata": {},
   "outputs": [
    {
     "name": "stdout",
     "output_type": "stream",
     "text": [
      "one\n",
      "two\n",
      "three\n"
     ]
    }
   ],
   "source": [
    "#기본 for 문\n",
    "test_list = [\"one\",\"two\",\"three\"]\n",
    "for i in test_list:\n",
    "    print(i)"
   ]
  },
  {
   "cell_type": "code",
   "execution_count": 51,
   "id": "d948e24a-ac73-4020-bf0c-ee3ce0e022ac",
   "metadata": {},
   "outputs": [
    {
     "name": "stdout",
     "output_type": "stream",
     "text": [
      "6\n",
      "12\n",
      "18\n"
     ]
    }
   ],
   "source": [
    "# 다양한 for문의 사용\n",
    "a = [(1,2,3),(3,4,5),(5,6,7)]\n",
    "for (first, last, z) in a:\n",
    "# 이터러블 개념 = 멤버를 순회 가능한 객체, 이터러블은 순회를 당하는것이 가능한 컬렉션 정확히는 순회를 당한다.\n",
    "# 이게 무슨소리냐 for x in a가 있는데 in인 a 배열안에 있는 값이 x에 하나씩 들어갓다 나오는것이라고 보면 된다\n",
    "# 이문형은 배열안에 3개의 요소가 묶여있고 그 묶은 요소를 한개씩 지정하여 뺄수있기 때문에 성립이 된다.\n",
    "    print(first+last+z)"
   ]
  },
  {
   "cell_type": "code",
   "execution_count": 62,
   "id": "91bdd4bd-59bc-4411-9679-c8577d258ef2",
   "metadata": {},
   "outputs": [],
   "source": [
    "#masks1.py\n",
    "marks = [90, 25, 67, 45, 80]\n",
    "\n",
    "number = 0\n",
    "for mark in marks:\n",
    "    number = number +1\n",
    "    continue\n",
    "    #continue는 이 뒤에 나오는 문장들을 무시하게 만드는거라고 생각하면 된다. 그리고\n",
    "    #값이 남았으면 다시 반복한다.\n",
    "    if mark >=60:\n",
    "        print(f\"{number}번의 학생은 합격입니다.\")\n",
    "    else:\n",
    "        print(f\"{number}번의 학생은 불합격입니다.\")\n",
    "# for문으로 배열안에 있는 값을 한개씩 데려와서 반복을 시키고\n",
    "# 그 반복을 진행하면서 들여쓰기 안에있는 값도 같이 진행해야 하기때문에 if를 넣어\n",
    "# 조건을 만들어 준다. 그리고 다시 for문을 반복하여 조건을 완성시킨다.\n"
   ]
  },
  {
   "cell_type": "code",
   "execution_count": 54,
   "id": "804ce43a-f5bb-4f4e-9b1c-8bb393899cc5",
   "metadata": {},
   "outputs": [
    {
     "name": "stdout",
     "output_type": "stream",
     "text": [
      "1번 학생 축하합니다. 합격입니다.\n",
      "3번 학생 축하합니다. 합격입니다.\n",
      "5번 학생 축하합니다. 합격입니다.\n"
     ]
    }
   ],
   "source": [
    "marks = [90, 25, 67, 45, 80]\n",
    "\n",
    "number = 0\n",
    "for mark in marks:\n",
    "    number = number + 1\n",
    "    if mark <60:\n",
    "        continue\n",
    "    print(f\"{number}번 학생 축하합니다. 합격입니다.\")"
   ]
  },
  {
   "cell_type": "code",
   "execution_count": 56,
   "id": "58f005d9-7805-4c5e-906e-166f85e44575",
   "metadata": {},
   "outputs": [
    {
     "name": "stdout",
     "output_type": "stream",
     "text": [
      "1는 홀수입니다.\n",
      "3는 홀수입니다.\n",
      "5는 홀수입니다.\n",
      "7는 홀수입니다.\n",
      "9는 홀수입니다.\n"
     ]
    }
   ],
   "source": [
    "a = [1,2,3,4,5,6,7,8,9,10]\n",
    "\n",
    "number = 0\n",
    "for aa in a:\n",
    "    if aa%2 == 0:\n",
    "        continue\n",
    "        #짝수 일경우가 참이기 때문에 컨티뉴로 넘어가고 컨티뉴가 작동되 그 수는 무시하게 된다.\n",
    "        #홀수 일경우는 거짓이기 때문에  컨티뉴로 넘어가지 않아 마지막 프린트로 넘어가\n",
    "        #원하는 값을 꺼낼 수 있는거다. 컨티뉴를 활용하면 반대되는 값을 도출 시킬수도 있다.\n",
    "    print(f\"{aa}는 홀수입니다.\")\n",
    "\n",
    "        "
   ]
  },
  {
   "cell_type": "code",
   "execution_count": 61,
   "id": "83c6e3b9-43ac-4c01-bc25-599ba59574b1",
   "metadata": {},
   "outputs": [
    {
     "name": "stdout",
     "output_type": "stream",
     "text": [
      "1는 홀수입니다.\n",
      "3는 홀수입니다.\n",
      "5는 홀수입니다.\n",
      "7는 홀수입니다.\n",
      "9는 홀수입니다.\n"
     ]
    }
   ],
   "source": [
    "a = [1,2,3,4,5,6,7,8,9,10]\n",
    "\n",
    "number = 0\n",
    "for aa in a:\n",
    "    if aa%2 == 0:\n",
    "        pass\n",
    "        #if문은 무조건 뒤에 값이 나와야한다. 어떤 값이든 하지만 그 값자체를 없애거나\n",
    "        #나타나지 않게 하고 줄을 없앨려면 pass라는 기능을 사용하면 된다.\n",
    "    else:\n",
    "        print(f\"{aa}는 홀수입니다.\")"
   ]
  },
  {
   "cell_type": "markdown",
   "id": "dc62990f-3822-473e-951e-874e2fbf3913",
   "metadata": {},
   "source": [
    "### range함수"
   ]
  },
  {
   "cell_type": "code",
   "execution_count": 64,
   "id": "2168982c-fbb7-4b30-95b1-189ee4e96ccc",
   "metadata": {},
   "outputs": [
    {
     "name": "stdout",
     "output_type": "stream",
     "text": [
      "range(0, 10)\n"
     ]
    }
   ],
   "source": [
    "#for문의 range함수\n",
    "#range는 이터러블한 상태를 만들어 준다 보면 된다.\n",
    "a = range(10)\n",
    "#range(10)은 0,를 숨기고 있는거라 0, 10의 값이 나오는거다.\n",
    "print(a)\n",
    "#전에는 in뒤에 배열이 있는 요소를 지정해줘야 하지만 range를 통해 배열을 만들어버리면 된다.\n"
   ]
  },
  {
   "cell_type": "code",
   "execution_count": 73,
   "id": "8e7a9bef-cdb8-45d0-be32-984bf34b8f80",
   "metadata": {},
   "outputs": [
    {
     "name": "stdout",
     "output_type": "stream",
     "text": [
      "10\n",
      "20\n",
      "30\n",
      "40\n"
     ]
    }
   ],
   "source": [
    "for n in range(10,50,10):\n",
    "    print(n)\n",
    "    # 저 뜻은 10이상 50미만에 10씩 끊어서 찾아라 기때문에 값이 저렇게 나온다.\n",
    "    #51이면 50 까지 나온다.\n",
    "    "
   ]
  },
  {
   "cell_type": "code",
   "execution_count": 1,
   "id": "cb9035f2-a40b-42ce-833a-dc373cba1179",
   "metadata": {},
   "outputs": [
    {
     "name": "stdout",
     "output_type": "stream",
     "text": [
      "[1, 2, 3, 4, 5, 6, 7, 8, 9, 10]\n"
     ]
    }
   ],
   "source": [
    "la = list(range(1,11))\n",
    "print(la)"
   ]
  },
  {
   "cell_type": "code",
   "execution_count": 2,
   "id": "c7c0257f-2c2c-4ffd-810b-49f21a4f32d7",
   "metadata": {},
   "outputs": [
    {
     "name": "stdout",
     "output_type": "stream",
     "text": [
      "0\n",
      "2\n",
      "4\n",
      "6\n",
      "8\n"
     ]
    }
   ],
   "source": [
    "# odd -> 홀수\n",
    "# even -> 짝수\n",
    "for even in range(0,10,2):\n",
    "    print(even)"
   ]
  },
  {
   "cell_type": "code",
   "execution_count": 4,
   "id": "3c94e117-c2d5-40d2-960a-e0a293d3a86f",
   "metadata": {},
   "outputs": [
    {
     "name": "stdout",
     "output_type": "stream",
     "text": [
      "8515\n"
     ]
    }
   ],
   "source": [
    "b = 0\n",
    "for a in range(1,131):\n",
    "    b = b + a\n",
    "print(b)\n",
    "#틀렸음 간단하게 생각하면 됨 단순히 a를 계속 더하게 만들면 되는거기 때문에 a를 더한\n",
    "#값을 다시 추가로 꺼내서 할거기때문에 기본 값을 0으로 지정하면된다."
   ]
  },
  {
   "cell_type": "code",
   "execution_count": 5,
   "id": "08387e80-918b-48de-a06f-0b0d176d42ce",
   "metadata": {},
   "outputs": [
    {
     "name": "stdout",
     "output_type": "stream",
     "text": [
      "1학생 축하합니다. 합격입니다.\n",
      "3학생 축하합니다. 합격입니다.\n",
      "5학생 축하합니다. 합격입니다.\n"
     ]
    }
   ],
   "source": [
    "marks = [90, 25, 67, 45, 80]\n",
    "for number in range(len(marks)):\n",
    "    #여기서 len(marks)를 넣은 이유는 인덱스를 뽑기 위함이다. 무슨말이냐 len은 기본적으로\n",
    "    #길이는 재는 함수이기 때문에 값이 5가 나와서 range는 5가된다. 즉 0,5이 때문에\n",
    "    #값이 0,1,2,3,4가 된다는 소리이다. 이 아래에 배열 값을 뽑아내기 위해 number값을\n",
    "    #한개씩 넣어서 이전과 동일하게 값을 출력한다.\n",
    "    if marks[number] < 60:\n",
    "        continue\n",
    "    print(f\"{number+1}학생 축하합니다. 합격입니다.\")\n",
    "    # 이때 number는 0부터 시작이라 +1을 해주면 올바르게 뜬다."
   ]
  },
  {
   "cell_type": "code",
   "execution_count": 9,
   "id": "f38302a1-a322-47d8-82d0-b2d13e0ffdcd",
   "metadata": {},
   "outputs": [
    {
     "name": "stdout",
     "output_type": "stream",
     "text": [
      "   February 2025\n",
      "Su Mo Tu We Th Fr Sa\n",
      "                   1\n",
      " 2  3  4  5  6  7  8\n",
      " 9 10 11 12 13 14 15\n",
      "16 17 18 19 20 21 22\n",
      "23 24 25 26 27 28\n",
      "\n"
     ]
    }
   ],
   "source": [
    "# 연습 달력 만들기\n",
    "import calendar\n",
    "c = calendar.TextCalendar(calendar.SUNDAY)\n",
    "print(c.formatmonth(2025,2))"
   ]
  },
  {
   "cell_type": "code",
   "execution_count": 17,
   "id": "88a5fdc6-d629-401f-9b06-484fbab9e50a",
   "metadata": {},
   "outputs": [
    {
     "name": "stdout",
     "output_type": "stream",
     "text": [
      "■■■■■■■■■■■■■■■■■■■■"
     ]
    }
   ],
   "source": [
    "# 테스트 타이머\n",
    "\n",
    "import time as t\n",
    "for x in range(20):\n",
    "    print(f\"■\", end=\"\")\n",
    "    #\\r 숫자가 바뀜, end=\"\"오른쪽으로 값이 나옴\n",
    "    t.sleep(0.1)"
   ]
  },
  {
   "cell_type": "code",
   "execution_count": 2,
   "id": "5ca6efcf-6b97-430f-8366-5d99407ca458",
   "metadata": {},
   "outputs": [
    {
     "name": "stdout",
     "output_type": "stream",
     "text": [
      "<class 'list'>\n",
      "<class 'tuple'>\n"
     ]
    }
   ],
   "source": [
    "#리스트 속도측정\n",
    "import time as t\n",
    "lt =[]\n",
    "tp = []\n",
    "length = 10*1000*1000\n",
    "for x in range(length):\n",
    "    lt.append(x)\n",
    "for t in range(length):\n",
    "    tp.append(t)\n",
    "tp = tuple(tp)\n",
    "print(type(lt))\n",
    "print(type(tp))"
   ]
  },
  {
   "cell_type": "code",
   "execution_count": 3,
   "id": "61a25cc1-2be5-4398-afec-ec0136bb163c",
   "metadata": {},
   "outputs": [
    {
     "name": "stdout",
     "output_type": "stream",
     "text": [
      "0.4151611328125\n"
     ]
    }
   ],
   "source": [
    "import time\n",
    "start = time.time()\n",
    "for x in lt:\n",
    "    a = 1\n",
    "print(time.time()-start)"
   ]
  },
  {
   "cell_type": "code",
   "execution_count": 4,
   "id": "bd59cf5b-bf01-454d-9e0e-eb8d74b7c0da",
   "metadata": {},
   "outputs": [
    {
     "name": "stdout",
     "output_type": "stream",
     "text": [
      "0.3991715908050537\n"
     ]
    }
   ],
   "source": [
    "import time\n",
    "start = time.time()\n",
    "for x in tp:\n",
    "    tps = (1,2,3,4,5)\n",
    "print(time.time()-start)"
   ]
  },
  {
   "cell_type": "code",
   "execution_count": 41,
   "id": "9abce41d-25e6-4cad-a8dd-2cdc25b3fd53",
   "metadata": {},
   "outputs": [
    {
     "name": "stderr",
     "output_type": "stream",
     "text": [
      "100%|████████████████████████████████████████████████████████████████████████████████| 100/100 [00:10<00:00,  9.75it/s]\n"
     ]
    }
   ],
   "source": [
    "#여기서 !를 붙이면 터미널을 바로 킬수있다.\n",
    "import tqdm \n",
    "import time as tt\n",
    "for x in tqdm.tqdm(range(100)):\n",
    "    pass\n",
    "    tt.sleep(0.1)"
   ]
  },
  {
   "cell_type": "code",
   "execution_count": null,
   "id": "a1760bc7-fb36-4a48-bd10-45be4c9f571b",
   "metadata": {
    "scrolled": true
   },
   "outputs": [],
   "source": [
    "#비트코인 시세 상승장 하강장 구분하기\n",
    "import requests as req\n",
    "import time as tt\n",
    "url = 'https://api.bithumb.com/public/ticker/ALL_KRW'\n",
    "gdata = req.get(url).json()\n",
    "btc = gdata[\"data\"][\"BTC\"]\n",
    "maxp = btc[\"max_price\"]\n",
    "minp = btc[\"min_price\"]\n",
    "openp = btc[\"opening_price\"]\n",
    "bandp = float(maxp) - float(minp)\n",
    "print(maxp)\n",
    "print(minp)\n",
    "print(openp)\n",
    "print(bandp)\n",
    "while True:\n",
    "    tt.sleep(5)\n",
    "    if (float(openp)+bandp) > float(maxp):\n",
    "        print(\"현재는 상승장입니다.\")\n",
    "    else:\n",
    "        print(\"현재는 하강장입니다.\")"
   ]
  },
  {
   "cell_type": "code",
   "execution_count": null,
   "id": "d796ed91-fd5c-4614-b007-eff9322ecd5b",
   "metadata": {},
   "outputs": [],
   "source": [
    "#1분 캔들\n",
    "import requests as req\n",
    "import time as tt\n",
    "url = 'https://api.bithumb.com/v1/candles/minutes/1?market=KRW-BTC&count=1'\n",
    "btc_gdata = req.get(url).json()\n",
    "btc2 = btc_gdata[0]\n",
    "maxp = btc2[\"high_price\"]\n",
    "minp = btc2[\"low_price\"]\n",
    "openp = btc2[\"opening_price\"]\n",
    "bandp = float(maxp) - float(minp)\n",
    "while True:\n",
    "    tt.sleep(1)\n",
    "    if (float(openp)+bandp) > float(maxp):\n",
    "        print(\"현재는 상승장입니다.\")\n",
    "    else:\n",
    "        print(\"현재는 하강장입니다.\")"
   ]
  },
  {
   "cell_type": "code",
   "execution_count": 5,
   "id": "8762403b-5481-4e93-b375-014526333ed1",
   "metadata": {},
   "outputs": [
    {
     "name": "stdout",
     "output_type": "stream",
     "text": [
      "2 X 1 = 2\n",
      "2 X 2 = 4\n",
      "2 X 3 = 6\n",
      "2 X 4 = 8\n",
      "2 X 5 = 10\n",
      "2 X 6 = 12\n",
      "2 X 7 = 14\n",
      "2 X 8 = 16\n",
      "2 X 9 = 18\n",
      "==========\n",
      "3 X 1 = 3\n",
      "3 X 2 = 6\n",
      "3 X 3 = 9\n",
      "3 X 4 = 12\n",
      "3 X 5 = 15\n",
      "3 X 6 = 18\n",
      "3 X 7 = 21\n",
      "3 X 8 = 24\n",
      "3 X 9 = 27\n",
      "==========\n",
      "4 X 1 = 4\n",
      "4 X 2 = 8\n",
      "4 X 3 = 12\n",
      "4 X 4 = 16\n",
      "4 X 5 = 20\n",
      "4 X 6 = 24\n",
      "4 X 7 = 28\n",
      "4 X 8 = 32\n",
      "4 X 9 = 36\n",
      "==========\n",
      "5 X 1 = 5\n",
      "5 X 2 = 10\n",
      "5 X 3 = 15\n",
      "5 X 4 = 20\n",
      "5 X 5 = 25\n",
      "5 X 6 = 30\n",
      "5 X 7 = 35\n",
      "5 X 8 = 40\n",
      "5 X 9 = 45\n",
      "==========\n",
      "6 X 1 = 6\n",
      "6 X 2 = 12\n",
      "6 X 3 = 18\n",
      "6 X 4 = 24\n",
      "6 X 5 = 30\n",
      "6 X 6 = 36\n",
      "6 X 7 = 42\n",
      "6 X 8 = 48\n",
      "6 X 9 = 54\n",
      "==========\n",
      "7 X 1 = 7\n",
      "7 X 2 = 14\n",
      "7 X 3 = 21\n",
      "7 X 4 = 28\n",
      "7 X 5 = 35\n",
      "7 X 6 = 42\n",
      "7 X 7 = 49\n",
      "7 X 8 = 56\n",
      "7 X 9 = 63\n",
      "==========\n",
      "8 X 1 = 8\n",
      "8 X 2 = 16\n",
      "8 X 3 = 24\n",
      "8 X 4 = 32\n",
      "8 X 5 = 40\n",
      "8 X 6 = 48\n",
      "8 X 7 = 56\n",
      "8 X 8 = 64\n",
      "8 X 9 = 72\n",
      "==========\n",
      "9 X 1 = 9\n",
      "9 X 2 = 18\n",
      "9 X 3 = 27\n",
      "9 X 4 = 36\n",
      "9 X 5 = 45\n",
      "9 X 6 = 54\n",
      "9 X 7 = 63\n",
      "9 X 8 = 72\n",
      "9 X 9 = 81\n",
      "==========\n"
     ]
    }
   ],
   "source": [
    "#실습 구구단 만들기 (내가 함)\n",
    "num = 1\n",
    "while num < 9:\n",
    "    num = num +1 \n",
    "    for x in range(1,10):\n",
    "        print(f\"{num} X {x} = {num*x}\")\n",
    "    print(\"=\"*10)\n",
    "        "
   ]
  },
  {
   "cell_type": "code",
   "execution_count": 6,
   "id": "37fb74c5-5e66-4c72-90aa-b2a7ffaff247",
   "metadata": {},
   "outputs": [
    {
     "name": "stdout",
     "output_type": "stream",
     "text": [
      "1단\n",
      "1 X 1 = 1\n",
      "1 X 2 = 2\n",
      "1 X 3 = 3\n",
      "1 X 4 = 4\n",
      "1 X 5 = 5\n",
      "1 X 6 = 6\n",
      "1 X 7 = 7\n",
      "1 X 8 = 8\n",
      "1 X 9 = 9\n",
      "2단\n",
      "2 X 1 = 2\n",
      "2 X 2 = 4\n",
      "2 X 3 = 6\n",
      "2 X 4 = 8\n",
      "2 X 5 = 10\n",
      "2 X 6 = 12\n",
      "2 X 7 = 14\n",
      "2 X 8 = 16\n",
      "2 X 9 = 18\n",
      "3단\n",
      "3 X 1 = 3\n",
      "3 X 2 = 6\n",
      "3 X 3 = 9\n",
      "3 X 4 = 12\n",
      "3 X 5 = 15\n",
      "3 X 6 = 18\n",
      "3 X 7 = 21\n",
      "3 X 8 = 24\n",
      "3 X 9 = 27\n",
      "4단\n",
      "4 X 1 = 4\n",
      "4 X 2 = 8\n",
      "4 X 3 = 12\n",
      "4 X 4 = 16\n",
      "4 X 5 = 20\n",
      "4 X 6 = 24\n",
      "4 X 7 = 28\n",
      "4 X 8 = 32\n",
      "4 X 9 = 36\n",
      "5단\n",
      "5 X 1 = 5\n",
      "5 X 2 = 10\n",
      "5 X 3 = 15\n",
      "5 X 4 = 20\n",
      "5 X 5 = 25\n",
      "5 X 6 = 30\n",
      "5 X 7 = 35\n",
      "5 X 8 = 40\n",
      "5 X 9 = 45\n",
      "6단\n",
      "6 X 1 = 6\n",
      "6 X 2 = 12\n",
      "6 X 3 = 18\n",
      "6 X 4 = 24\n",
      "6 X 5 = 30\n",
      "6 X 6 = 36\n",
      "6 X 7 = 42\n",
      "6 X 8 = 48\n",
      "6 X 9 = 54\n",
      "7단\n",
      "7 X 1 = 7\n",
      "7 X 2 = 14\n",
      "7 X 3 = 21\n",
      "7 X 4 = 28\n",
      "7 X 5 = 35\n",
      "7 X 6 = 42\n",
      "7 X 7 = 49\n",
      "7 X 8 = 56\n",
      "7 X 9 = 63\n",
      "8단\n",
      "8 X 1 = 8\n",
      "8 X 2 = 16\n",
      "8 X 3 = 24\n",
      "8 X 4 = 32\n",
      "8 X 5 = 40\n",
      "8 X 6 = 48\n",
      "8 X 7 = 56\n",
      "8 X 8 = 64\n",
      "8 X 9 = 72\n",
      "9단\n",
      "9 X 1 = 9\n",
      "9 X 2 = 18\n",
      "9 X 3 = 27\n",
      "9 X 4 = 36\n",
      "9 X 5 = 45\n",
      "9 X 6 = 54\n",
      "9 X 7 = 63\n",
      "9 X 8 = 72\n",
      "9 X 9 = 81\n"
     ]
    }
   ],
   "source": [
    "#실습 구구단 만들기 풀이 (값이 같아 정답)\n",
    "for j in range(1,10):\n",
    "    print(f\"{j}단\")\n",
    "    for  i in range(1,10):\n",
    "        print(f\"{j} X {i} = {j*i}\")"
   ]
  },
  {
   "cell_type": "markdown",
   "id": "f0f7cf6f-4349-436a-a5e2-548b4e3eb14d",
   "metadata": {},
   "source": [
    "### 리스트 컴프리헨션"
   ]
  },
  {
   "cell_type": "code",
   "execution_count": 16,
   "id": "598e79be-cc2c-42dc-b7b1-062a23a711ba",
   "metadata": {},
   "outputs": [
    {
     "name": "stdout",
     "output_type": "stream",
     "text": [
      "[3, 6, 9, 12]\n"
     ]
    }
   ],
   "source": [
    "#기본적인 리스트에 값 넣기\n",
    "a = [1,2,3,4]\n",
    "result = []\n",
    "for num in a:\n",
    "    result.append(num*3)\n",
    "print(result)"
   ]
  },
  {
   "cell_type": "code",
   "execution_count": 17,
   "id": "43f2954e-4f0f-48c1-89ff-b9e0fc0e20ec",
   "metadata": {},
   "outputs": [
    {
     "data": {
      "text/plain": [
       "[3, 6, 9, 12]"
      ]
     },
     "execution_count": 17,
     "metadata": {},
     "output_type": "execute_result"
    }
   ],
   "source": [
    "#리스트 컴프리헨션\n",
    "# 리스트에 움직이는 함수를 축약 시킬 수 있다.\n",
    "# 리스트 표시에 결과를 맨 앞으로 두고 for문을 뒤에 붙이면 값이 나온다.\n",
    "[num*3 for num in [1,2,3,4]]"
   ]
  },
  {
   "cell_type": "code",
   "execution_count": 5,
   "id": "441aabbf-00c0-4d7d-ad0a-f51e1308393a",
   "metadata": {},
   "outputs": [
    {
     "name": "stdout",
     "output_type": "stream",
     "text": [
      "[0, 2, 4, 6, 8]\n"
     ]
    }
   ],
   "source": [
    "res = []\n",
    "for x in range(10):\n",
    "    if x%2==0:\n",
    "        res.append(x)\n",
    "print(res)"
   ]
  },
  {
   "cell_type": "code",
   "execution_count": 6,
   "id": "bc360634-74d9-48f4-9439-dfd1655c840c",
   "metadata": {},
   "outputs": [
    {
     "data": {
      "text/plain": [
       "[0, 6, 12, 18, 24]"
      ]
     },
     "execution_count": 6,
     "metadata": {},
     "output_type": "execute_result"
    }
   ],
   "source": [
    "#테스트 1 \n",
    "#list(range[10])\n",
    "[x*3 for x in range(10) if x%2==0]"
   ]
  },
  {
   "cell_type": "code",
   "execution_count": 8,
   "id": "343ce735-a3e7-4365-8fac-1b768073e8eb",
   "metadata": {},
   "outputs": [
    {
     "name": "stdout",
     "output_type": "stream",
     "text": [
      "[2, 4, 6, 8, 10, 12, 14, 16, 18, 3, 6, 9, 12, 15, 18, 21, 24, 27, 4, 8, 12, 16, 20, 24, 28, 32, 36, 5, 10, 15, 20, 25, 30, 35, 40, 45, 6, 12, 18, 24, 30, 36, 42, 48, 54, 7, 14, 21, 28, 35, 42, 49, 56, 63, 8, 16, 24, 32, 40, 48, 56, 64, 72, 9, 18, 27, 36, 45, 54, 63, 72, 81]\n"
     ]
    }
   ],
   "source": [
    "#리스트 컴프리헨션은 축약문이라고 생각하면 편하다. \n",
    "result = [ i * j for i in range(2,10) for j in range(1,10)]\n",
    "print(result)"
   ]
  },
  {
   "cell_type": "code",
   "execution_count": null,
   "id": "a40698a8-ba44-4910-99a7-2dc5c1213998",
   "metadata": {},
   "outputs": [],
   "source": [
    "for a in [f\"{j} x {i} = {j*i}\" for j in range(2,10) for i in range(1,10)]:\n",
    "    print(a)"
   ]
  },
  {
   "cell_type": "code",
   "execution_count": null,
   "id": "b0f82e26-29b4-49c5-ab40-674f5dd6f165",
   "metadata": {},
   "outputs": [],
   "source": [
    "#로또생성기를 만들어야 하고 6가지 숫자가 선택 되어야 하고 45\n",
    "#중복이  pop\n",
    "#오름차순으로 정리\n",
    "#여기까진 필수 뒤엔 선택\n",
    "#10만회 돌리고 각 번호가 몇번나왔는지 카운팅\n",
    "#각 번호를 퍼센트 내기(소숫점 2자리)\n",
    "#제일 높게 나온 확률 순서대로 번호 3개 추천해주기"
   ]
  },
  {
   "cell_type": "code",
   "execution_count": 37,
   "id": "a32c5646-97c4-41aa-918b-4055099ba975",
   "metadata": {},
   "outputs": [
    {
     "name": "stdout",
     "output_type": "stream",
     "text": [
      "1\n",
      "2\n",
      "3\n",
      "4\n",
      "5\n",
      "6\n",
      "7\n",
      "8\n",
      "9\n",
      "1\n",
      "1\n",
      "2\n",
      "1\n",
      "4\n",
      "1\n",
      "6\n",
      "7\n",
      "8\n",
      "1\n"
     ]
    }
   ],
   "source": [
    "import random as ran\n",
    "for a in range(1,20):\n",
    "    number = ran.choice(str(a))\n",
    "    print(number)"
   ]
  },
  {
   "cell_type": "code",
   "execution_count": 51,
   "id": "31244812-edec-44fe-9518-5b0e85a99d97",
   "metadata": {},
   "outputs": [
    {
     "name": "stdout",
     "output_type": "stream",
     "text": [
      " \n"
     ]
    }
   ],
   "source": [
    "import random as ran\n",
    "a = []\n",
    "aa = ran.choice(a)\n",
    "print(aa)"
   ]
  },
  {
   "cell_type": "code",
   "execution_count": null,
   "id": "97152380-76fe-425f-9a7b-6f139fda827d",
   "metadata": {},
   "outputs": [],
   "source": []
  }
 ],
 "metadata": {
  "kernelspec": {
   "display_name": "Python 3 (ipykernel)",
   "language": "python",
   "name": "python3"
  },
  "language_info": {
   "codemirror_mode": {
    "name": "ipython",
    "version": 3
   },
   "file_extension": ".py",
   "mimetype": "text/x-python",
   "name": "python",
   "nbconvert_exporter": "python",
   "pygments_lexer": "ipython3",
   "version": "3.13.1"
  }
 },
 "nbformat": 4,
 "nbformat_minor": 5
}

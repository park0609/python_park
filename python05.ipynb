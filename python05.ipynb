{
 "cells": [
  {
   "cell_type": "markdown",
   "id": "749a2978-1cf7-485a-a3ab-58e53e580736",
   "metadata": {},
   "source": [
    "# 클래스"
   ]
  },
  {
   "cell_type": "markdown",
   "id": "2833cc5c-24e0-42cf-bea4-9b62eb860bb2",
   "metadata": {},
   "source": [
    "## 클래스 기본"
   ]
  },
  {
   "cell_type": "code",
   "execution_count": 2,
   "id": "5ea72433-13de-4ff8-9f75-31212fd25b13",
   "metadata": {},
   "outputs": [
    {
     "name": "stdout",
     "output_type": "stream",
     "text": [
      "[1, 2, 3, 4] <class 'list'>\n",
      "(11, 22, 33, 44) <class 'tuple'>\n"
     ]
    }
   ],
   "source": [
    "what = [1,2,3,4]\n",
    "what = [\"a\",\"b\",\"c\"]\n",
    "who = 11,22,33,44\n",
    "print(what,type(what))\n",
    "print(who,type(who))\n"
   ]
  },
  {
   "cell_type": "code",
   "execution_count": 15,
   "id": "6ca12da8-156d-47b9-8314-d85049fdc051",
   "metadata": {},
   "outputs": [
    {
     "name": "stdout",
     "output_type": "stream",
     "text": [
      "2\n",
      "6\n",
      "4\n",
      "9\n"
     ]
    }
   ],
   "source": [
    "result = 0\n",
    "result2 = 0\n",
    "def add(num):\n",
    "    global result\n",
    "    result += num\n",
    "    return result\n",
    "def add2(num):\n",
    "    global result2\n",
    "    result2 += num\n",
    "    return result2\n",
    "print(add(2))\n",
    "print(add(4))\n",
    "print(add2(4))\n",
    "print(add2(5))\n",
    "#클로벌 함수로 인해 값이 리턴값을 잡아먹어 점점늘어난다.\n",
    "#클래스는 이런 많은 함수를 함쳐서 하나로 만들 수 있다. \n",
    "#함수는 2개지만 하나로 합치고 개별로 작동하게 만드는게 요지"
   ]
  },
  {
   "cell_type": "code",
   "execution_count": 16,
   "id": "fcfffaa1-9308-4e63-b67b-6de3ee92f07c",
   "metadata": {},
   "outputs": [
    {
     "name": "stdout",
     "output_type": "stream",
     "text": [
      "1: 2\n",
      "1: 6\n",
      "2: 4\n",
      "2: 9\n",
      "1: 3\n",
      "1: 0\n"
     ]
    }
   ],
   "source": [
    "#함수로 구성\n",
    "#클래스는 다른함수와 다르게 앞자리를 대문자로 하고 괄호를 쓰지 않는다\n",
    "class Calculator:\n",
    "    def __init__(self):\n",
    "        #이거 언더바 2개 기억하자 언더바 2개\n",
    "        self.result = 0 \n",
    "        #셀프 얘네들은 내부에서만 사용이 된다.\n",
    "    def add(self,num):\n",
    "        self.result += num\n",
    "        return self.result\n",
    "    def sub(self,num):\n",
    "        self.result -= num\n",
    "        return self.result    \n",
    "\n",
    "# 인스턴스화\n",
    "cal1 = Calculator()\n",
    "cal2 = Calculator()\n",
    "#변수처럼 클래스를 이름으로 지정하고 그 거에 따라서 함수를 꺼내서 쓸 수 있다.\n",
    "#calcuator()을 cal1 과 cal2 로 지정하여 2개의 값을 출력할 때 이런식으로 이름을 지정한다.\n",
    "#여기서 cal은 인스턴스이고 calculator는 객체이다\n",
    "print(\"1:\",cal1.add(2))\n",
    "print(\"1:\",cal1.add(4))\n",
    "print(\"2:\",cal2.add(4))\n",
    "print(\"2:\",cal2.add(5))\n",
    "print(\"1:\",cal1.sub(3))\n",
    "print(\"1:\",cal1.sub(3))"
   ]
  },
  {
   "cell_type": "markdown",
   "id": "5287aea6-ab58-45c5-9ade-7eeb5e23b60d",
   "metadata": {},
   "source": [
    "## 생성자"
   ]
  },
  {
   "cell_type": "code",
   "execution_count": 38,
   "id": "90f0a756-10bb-44bf-98b1-a744941e7ec3",
   "metadata": {},
   "outputs": [],
   "source": [
    "#예제 \n",
    "class Dduck:\n",
    "    def __init__(self,won,ea):\n",
    "        #여기서 won이랑 ea를 지정하면 self에 그 둘을 꺼내쓸 수 있다.\n",
    "        self.won = won\n",
    "        self.ea = ea\n",
    "    def dduk(self):\n",
    "        result = self.won * self.ea\n",
    "        print(f\"배가 고파서 떡볶이를 {result}원어치 먹었다.\")\n",
    "    def odeng(self):\n",
    "        result = self.won * self.ea * 2\n",
    "        print(f\"배가 고파서 오뎅을 {result}원어치 먹었다.\")\n",
    "    def sondae(self):\n",
    "        result = self.won * self.ea \n",
    "        print(f\"배가 고파서 순대를 {result}원어치 먹었다.\")\n",
    "\n",
    "\n",
    "        "
   ]
  },
  {
   "cell_type": "code",
   "execution_count": 39,
   "id": "e568f82a-98e6-42de-b835-c3df285976ec",
   "metadata": {},
   "outputs": [],
   "source": [
    "a = Dduck(2000,3)\n",
    "b = Dduck(1000,2)\n",
    "c = Dduck(3000,5)\n",
    "세찬 = Dduck(2000,2)"
   ]
  },
  {
   "cell_type": "code",
   "execution_count": 50,
   "id": "af2565c3-bf20-4f62-9fc9-a9bedc6f9b7c",
   "metadata": {},
   "outputs": [
    {
     "name": "stdout",
     "output_type": "stream",
     "text": [
      "배가 고파서 떡볶이를 6000원어치 먹었다.\n",
      "배가 고파서 떡볶이를 2000원어치 먹었다.\n",
      "배가 고파서 오뎅을 30000원어치 먹었다.\n",
      "===================================\n",
      "배가 고파서 떡볶이를 4500원어치 먹었다.\n",
      "배가 고파서 오뎅을 9000원어치 먹었다.\n",
      "배가 고파서 순대를 4500원어치 먹었다.\n"
     ]
    }
   ],
   "source": [
    "a.dduk()\n",
    "b.dduk()\n",
    "c.odeng()\n",
    "print(\"=\"*35)\n",
    "세찬.dduk()\n",
    "세찬.odeng()\n",
    "세찬.sondae()"
   ]
  },
  {
   "cell_type": "code",
   "execution_count": 41,
   "id": "6665b6ef-2635-436e-985b-5d76d43a31b7",
   "metadata": {},
   "outputs": [],
   "source": [
    "세찬.__init__(1500,3)\n",
    "#init을 이용해서 값을 수정이 가능하다. 바로 init에 값을 넣기 때문에 값이\n",
    "#나오는 것이다."
   ]
  },
  {
   "cell_type": "code",
   "execution_count": 43,
   "id": "76ecd791-966a-4dc7-a91d-112532014317",
   "metadata": {
    "scrolled": true
   },
   "outputs": [
    {
     "name": "stdout",
     "output_type": "stream",
     "text": [
      "배가 고파서 떡볶이를 4500원어치 먹었다.\n",
      "배가 고파서 오뎅을 9000원어치 먹었다.\n",
      "배가 고파서 순대를 4500원어치 먹었다.\n"
     ]
    }
   ],
   "source": [
    "세찬.dduk()\n",
    "세찬.odeng()\n",
    "세찬.sondae()\n",
    "#값이 변경된 모습을 보인다."
   ]
  },
  {
   "cell_type": "code",
   "execution_count": null,
   "id": "51b6ae83-a5d1-41c9-a9a8-cd06a014ffe0",
   "metadata": {},
   "outputs": [],
   "source": [
    "#self란?\n",
    "#내부에서 없는 것 취급을 하고 내부에서만 사용하고 사라지는 것\n",
    "#실제로 값을 집어넣으면 self는 걊에 적용이 안된다."
   ]
  },
  {
   "cell_type": "markdown",
   "id": "ac6a84e3-53a7-440e-bd1d-806f4ed5613d",
   "metadata": {},
   "source": [
    "## 예제들"
   ]
  },
  {
   "cell_type": "code",
   "execution_count": 58,
   "id": "0157b7fb-bdbc-4574-aca9-c9fcc7d60e41",
   "metadata": {},
   "outputs": [
    {
     "name": "stdout",
     "output_type": "stream",
     "text": [
      "방가방가1 저는 고전 인사입니다.\n",
      "방가방가2 저는 고전 인사입니다.\n",
      "방가방가3 저는 고전 인사입니다.\n",
      "===============\n",
      "\n",
      "이것은 예로부터 전해오는 고전 인사함수 입니다.DocString\n",
      "\n",
      "===============\n",
      "Help on function test in module __main__:\n",
      "\n",
      "test()\n",
      "    이것은 예로부터 전해오는 고전 인사함수 입니다.DocString\n",
      "\n"
     ]
    }
   ],
   "source": [
    "#테스트\n",
    "def test():\n",
    "    \"\"\"\n",
    "    이것은 예로부터 전해오는 고전 인사함수 입니다.DocString\n",
    "    \"\"\"\n",
    "    #함수에\"\"\"를 집어넣으면 함수에 대한 설명을 넣을 수 있다.\n",
    "    #이 설명문은 __doc__를 이용하여 출력가능하고 doc string이라고 한다.\n",
    "    print(\"방가방가1 저는 고전 인사입니다.\")\n",
    "    print(\"방가방가2 저는 고전 인사입니다.\")\n",
    "    print(\"방가방가3 저는 고전 인사입니다.\")\n",
    "test()\n",
    "print(\"=\"*15)\n",
    "print(test.__doc__)\n",
    "print(\"=\"*15)\n",
    "help(test)"
   ]
  },
  {
   "cell_type": "code",
   "execution_count": 61,
   "id": "77298e8c-ef50-43f2-a21d-bbde4a69f177",
   "metadata": {},
   "outputs": [],
   "source": [
    "# 테스트2 \n",
    "# class의 self없이 함수 만들기(추가로 함수안에 함수넣기)\n",
    "def set_car(name, color):\n",
    "    return {\"name\":name,\"color\":color}\n",
    "#print(set_car(\"HD\",\"blue\"))\n",
    "def get_car_info(car):\n",
    "    return f\"car:{car[\"name\"]},color:{car[\"color\"]}\""
   ]
  },
  {
   "cell_type": "code",
   "execution_count": 63,
   "id": "fad0117d-ccbf-40db-a2a0-b42876bcf098",
   "metadata": {},
   "outputs": [
    {
     "name": "stdout",
     "output_type": "stream",
     "text": [
      "{'name': 'HD', 'color': 'Blue'}\n",
      "car:HD,color:Blue\n"
     ]
    }
   ],
   "source": [
    "#자동차를 생성\n",
    "car = set_car(\"HD\",\"Blue\")\n",
    "print(car)\n",
    "#자동차 정보를 생성\n",
    "print(get_car_info(car))"
   ]
  },
  {
   "cell_type": "code",
   "execution_count": 64,
   "id": "2287d962-c24d-40b6-9d09-1d8f3aea7107",
   "metadata": {},
   "outputs": [
    {
     "name": "stdout",
     "output_type": "stream",
     "text": [
      "car:kia,color:white\n"
     ]
    }
   ],
   "source": [
    "print(get_car_info(set_car(\"kia\",\"white\")))"
   ]
  },
  {
   "cell_type": "code",
   "execution_count": null,
   "id": "5096d715-5cf4-46bd-95f2-b90e58804889",
   "metadata": {},
   "outputs": [],
   "source": [
    "#테스트3\n",
    "class Car:\n",
    "    def set_car(name, color):\n",
    "        return {\"name\":name,\"color\":color}\n",
    "    def get_car_info(car):\n",
    "        return f\"car:{car[\"name\"]},color:{car[\"color\"]}\"  \n",
    "        \n",
    "\n",
    "car1 = Car.set_car(\"HD\",\"Blue\")\n",
    "car2 = Car.set_car(\"KIA\",\"orange\")\n",
    "print(Car.get_car_info(car1))\n",
    "print(Car.get_car_info(car2))"
   ]
  },
  {
   "cell_type": "code",
   "execution_count": 5,
   "id": "f9eceb97-34d9-4e4f-9da6-7aab549d1a61",
   "metadata": {},
   "outputs": [
    {
     "name": "stdout",
     "output_type": "stream",
     "text": [
      "car:KIA,color:Blue\n",
      "car:HD,color:Orange\n"
     ]
    }
   ],
   "source": [
    "#테스트4\n",
    "class Car:\n",
    "    def __init__(self,name,color):#생성자/self는 다른 이름으로 바꿔도 된다.\n",
    "                                 # self를 쓰는 이유는 관례적인 의미가 있다.\n",
    "        self.name = name\n",
    "        self.color = color\n",
    "    #def set_car(name,color):\n",
    "        #return {\"name\":name,\"color\":color} \n",
    "    #생략가능 왜냐 위에서 이미 다이렉트로 지정하기 때문에\n",
    "    \n",
    "    def get_car_info(self):\n",
    "        return f\"car:{self.name},color:{self.color}\"\n",
    "\n",
    "car1 = Car(\"KIA\",\"Blue\")\n",
    "car2 = Car(\"HD\",\"Orange\")\n",
    "\n",
    "print(car1.get_car_info())\n",
    "print(car2.get_car_info())"
   ]
  },
  {
   "cell_type": "code",
   "execution_count": 5,
   "id": "38cf4d58-9bd3-4f19-a4c5-b1061ac597a8",
   "metadata": {},
   "outputs": [],
   "source": [
    "#테스트5\n",
    "class Car:\n",
    "    def __init__(self,name,color):#생성자/self는 다른 이름으로 바꿔도 된다.\n",
    "                                 # self를 쓰는 이유는 관례적인 의미가 있다.\n",
    "        self.name = name\n",
    "        self.color = color\n",
    "        self.speed = 0\n",
    "    #def set_car(name,color):\n",
    "        #return {\"name\":name,\"color\":color} \n",
    "    #생략가능 왜냐 위에서 이미 다이렉트로 지정하기 때문에\n",
    "    \n",
    "    def get_car_info(self):\n",
    "        return f\"car:{self.name},color:{self.color}\"\n",
    "    def acc(self,amount):\n",
    "        #전달자 self가 빠지면 에러가 난다. 위에서 self를 지정하였기 때문에 전달자를\n",
    "        #무조건 사용해줘야 한다. 안그러면 에러가 난다.\n",
    "        self.speed += amount #속도가 증가\n",
    "        return f\"{self.color}색 {self.name}자동차 속도 올려요. 현재속도는{self.speed}km/h\""
   ]
  },
  {
   "cell_type": "code",
   "execution_count": 6,
   "id": "57665cce-69e0-4ed2-9654-511d06905397",
   "metadata": {},
   "outputs": [
    {
     "name": "stdout",
     "output_type": "stream",
     "text": [
      "car:KIA,color:파란\n",
      "car:HD,color:빨간\n"
     ]
    }
   ],
   "source": [
    "car1 = Car(\"KIA\",\"파란\")\n",
    "car2 = Car(\"HD\",\"빨간\")\n",
    "\n",
    "print(car1.get_car_info())\n",
    "print(car2.get_car_info())"
   ]
  },
  {
   "cell_type": "code",
   "execution_count": null,
   "id": "75c9048d-eb82-449c-92eb-204c5ea87147",
   "metadata": {},
   "outputs": [],
   "source": [
    "print(car1.acc(30))\n",
    "print(car1.acc(10))\n",
    "print(car2.acc(50))\n",
    "print(car2.acc(30))"
   ]
  },
  {
   "cell_type": "code",
   "execution_count": null,
   "id": "888b1ca0-9c56-45ac-8826-9d958841e853",
   "metadata": {},
   "outputs": [],
   "source": [
    "import time as t\n",
    "for n in range(20):\n",
    "    print(car1.acc(1))\n",
    "    t.sleep(1)\n",
    "print(\"속도 유지중\")"
   ]
  },
  {
   "cell_type": "code",
   "execution_count": null,
   "id": "cfe7ae39-aaff-470b-8eec-bd9f1441d435",
   "metadata": {},
   "outputs": [],
   "source": []
  }
 ],
 "metadata": {
  "kernelspec": {
   "display_name": "Python 3 (ipykernel)",
   "language": "python",
   "name": "python3"
  },
  "language_info": {
   "codemirror_mode": {
    "name": "ipython",
    "version": 3
   },
   "file_extension": ".py",
   "mimetype": "text/x-python",
   "name": "python",
   "nbconvert_exporter": "python",
   "pygments_lexer": "ipython3",
   "version": "3.13.1"
  }
 },
 "nbformat": 4,
 "nbformat_minor": 5
}

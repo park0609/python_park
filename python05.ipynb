{
 "cells": [
  {
   "cell_type": "markdown",
   "id": "749a2978-1cf7-485a-a3ab-58e53e580736",
   "metadata": {},
   "source": [
    "# 클래스"
   ]
  },
  {
   "cell_type": "markdown",
   "id": "2833cc5c-24e0-42cf-bea4-9b62eb860bb2",
   "metadata": {},
   "source": [
    "## 클래스 기본"
   ]
  },
  {
   "cell_type": "code",
   "execution_count": 2,
   "id": "5ea72433-13de-4ff8-9f75-31212fd25b13",
   "metadata": {},
   "outputs": [
    {
     "name": "stdout",
     "output_type": "stream",
     "text": [
      "[1, 2, 3, 4] <class 'list'>\n",
      "(11, 22, 33, 44) <class 'tuple'>\n"
     ]
    }
   ],
   "source": [
    "what = [1,2,3,4]\n",
    "what = [\"a\",\"b\",\"c\"]\n",
    "who = 11,22,33,44\n",
    "print(what,type(what))\n",
    "print(who,type(who))\n"
   ]
  },
  {
   "cell_type": "code",
   "execution_count": 15,
   "id": "6ca12da8-156d-47b9-8314-d85049fdc051",
   "metadata": {},
   "outputs": [
    {
     "name": "stdout",
     "output_type": "stream",
     "text": [
      "2\n",
      "6\n",
      "4\n",
      "9\n"
     ]
    }
   ],
   "source": [
    "result = 0\n",
    "result2 = 0\n",
    "def add(num):\n",
    "    global result\n",
    "    result += num\n",
    "    return result\n",
    "def add2(num):\n",
    "    global result2\n",
    "    result2 += num\n",
    "    return result2\n",
    "print(add(2))\n",
    "print(add(4))\n",
    "print(add2(4))\n",
    "print(add2(5))\n",
    "#클로벌 함수로 인해 값이 리턴값을 잡아먹어 점점늘어난다.\n",
    "#클래스는 이런 많은 함수를 함쳐서 하나로 만들 수 있다. \n",
    "#함수는 2개지만 하나로 합치고 개별로 작동하게 만드는게 요지"
   ]
  },
  {
   "cell_type": "code",
   "execution_count": 16,
   "id": "fcfffaa1-9308-4e63-b67b-6de3ee92f07c",
   "metadata": {},
   "outputs": [
    {
     "name": "stdout",
     "output_type": "stream",
     "text": [
      "1: 2\n",
      "1: 6\n",
      "2: 4\n",
      "2: 9\n",
      "1: 3\n",
      "1: 0\n"
     ]
    }
   ],
   "source": [
    "#함수로 구성\n",
    "#클래스는 다른함수와 다르게 앞자리를 대문자로 하고 괄호를 쓰지 않는다\n",
    "class Calculator:\n",
    "    def __init__(self):\n",
    "        #이거 언더바 2개 기억하자 언더바 2개\n",
    "        self.result = 0 \n",
    "        #셀프 얘네들은 내부에서만 사용이 된다.\n",
    "    def add(self,num):\n",
    "        self.result += num\n",
    "        return self.result\n",
    "    def sub(self,num):\n",
    "        self.result -= num\n",
    "        return self.result    \n",
    "\n",
    "# 인스턴스화\n",
    "cal1 = Calculator()\n",
    "cal2 = Calculator()\n",
    "#변수처럼 클래스를 이름으로 지정하고 그 거에 따라서 함수를 꺼내서 쓸 수 있다.\n",
    "#calcuator()을 cal1 과 cal2 로 지정하여 2개의 값을 출력할 때 이런식으로 이름을 지정한다.\n",
    "#여기서 cal은 인스턴스이고 calculator는 객체이다\n",
    "print(\"1:\",cal1.add(2))\n",
    "print(\"1:\",cal1.add(4))\n",
    "print(\"2:\",cal2.add(4))\n",
    "print(\"2:\",cal2.add(5))\n",
    "print(\"1:\",cal1.sub(3))\n",
    "print(\"1:\",cal1.sub(3))"
   ]
  },
  {
   "cell_type": "markdown",
   "id": "5287aea6-ab58-45c5-9ade-7eeb5e23b60d",
   "metadata": {},
   "source": [
    "## 생성자"
   ]
  },
  {
   "cell_type": "code",
   "execution_count": 26,
   "id": "90f0a756-10bb-44bf-98b1-a744941e7ec3",
   "metadata": {},
   "outputs": [],
   "source": [
    "#예제 \n",
    "class Dduck:\n",
    "    def __init__(self,won,ea):\n",
    "        #여기서 won이랑 ea를 지정하면 self에 그 둘을 꺼내쓸 수 있다.\n",
    "        self.won = won\n",
    "        self.ea = ea\n",
    "    def dduk(self):\n",
    "        result = self.won * self.ea\n",
    "        print(f\"배가 고파서 떡볶이를 {result}원어치 먹었다.\")\n",
    "    def odeng(self):\n",
    "        result = self.won * self.ea * 2\n",
    "        print(f\"배가 고파서 오뎅을 {result}원어치 먹었다.\")\n",
    "    def sondae(self):\n",
    "        result = self.won * self.ea \n",
    "        print(f\"배가 고파서 순대를 {result}원어치 먹었다.\")\n",
    "\n",
    "\n",
    "        "
   ]
  },
  {
   "cell_type": "code",
   "execution_count": 27,
   "id": "e568f82a-98e6-42de-b835-c3df285976ec",
   "metadata": {},
   "outputs": [],
   "source": [
    "a = Dduck(2000,3)\n",
    "b = Dduck(1000,2)\n",
    "c = Dduck(3000,5)\n",
    "세찬 = Dduck(2000,2)"
   ]
  },
  {
   "cell_type": "code",
   "execution_count": 28,
   "id": "af2565c3-bf20-4f62-9fc9-a9bedc6f9b7c",
   "metadata": {},
   "outputs": [
    {
     "name": "stdout",
     "output_type": "stream",
     "text": [
      "배가 고파서 떡볶이를 6000원어치 먹었다.\n",
      "배가 고파서 떡볶이를 2000원어치 먹었다.\n",
      "배가 고파서 오뎅을 30000원어치 먹었다.\n",
      "===================================\n",
      "배가 고파서 떡볶이를 4000원어치 먹었다.\n",
      "배가 고파서 오뎅을 8000원어치 먹었다.\n",
      "배가 고파서 순대를 4000원어치 먹었다.\n"
     ]
    }
   ],
   "source": [
    "a.dduk()\n",
    "b.dduk()\n",
    "c.odeng()\n",
    "print(\"=\"*35)\n",
    "세찬.dduk()\n",
    "세찬.odeng()\n",
    "세찬.sondae()"
   ]
  },
  {
   "cell_type": "code",
   "execution_count": 29,
   "id": "6665b6ef-2635-436e-985b-5d76d43a31b7",
   "metadata": {},
   "outputs": [],
   "source": [
    "세찬.__init__(1500,3)\n",
    "#init을 이용해서 값을 수정이 가능하다. 바로 init에 값을 넣기 때문에 값이\n",
    "#나오는 것이다."
   ]
  },
  {
   "cell_type": "code",
   "execution_count": 30,
   "id": "76ecd791-966a-4dc7-a91d-112532014317",
   "metadata": {
    "scrolled": true
   },
   "outputs": [
    {
     "name": "stdout",
     "output_type": "stream",
     "text": [
      "배가 고파서 떡볶이를 4500원어치 먹었다.\n",
      "배가 고파서 오뎅을 9000원어치 먹었다.\n",
      "배가 고파서 순대를 4500원어치 먹었다.\n"
     ]
    }
   ],
   "source": [
    "세찬.dduk()\n",
    "세찬.odeng()\n",
    "세찬.sondae()\n",
    "#값이 변경된 모습을 보인다."
   ]
  },
  {
   "cell_type": "code",
   "execution_count": null,
   "id": "51b6ae83-a5d1-41c9-a9a8-cd06a014ffe0",
   "metadata": {},
   "outputs": [],
   "source": [
    "#self란?\n",
    "#내부에서 없는 것 취급을 하고 내부에서만 사용하고 사라지는 것\n",
    "#실제로 값을 집어넣으면 self는 걊에 적용이 안된다."
   ]
  },
  {
   "cell_type": "markdown",
   "id": "ac6a84e3-53a7-440e-bd1d-806f4ed5613d",
   "metadata": {},
   "source": [
    "## 예제들"
   ]
  },
  {
   "cell_type": "code",
   "execution_count": 8,
   "id": "0157b7fb-bdbc-4574-aca9-c9fcc7d60e41",
   "metadata": {},
   "outputs": [
    {
     "name": "stdout",
     "output_type": "stream",
     "text": [
      "방가방가1 저는 고전 인사입니다.\n",
      "방가방가2 저는 고전 인사입니다.\n",
      "방가방가3 저는 고전 인사입니다.\n",
      "===============\n",
      "\n",
      "이것은 예로부터 전해오는 고전 인사함수 입니다.DocString\n",
      "\n",
      "===============\n",
      "Help on function test in module __main__:\n",
      "\n",
      "test()\n",
      "    이것은 예로부터 전해오는 고전 인사함수 입니다.DocString\n",
      "\n"
     ]
    }
   ],
   "source": [
    "#테스트\n",
    "def test():\n",
    "    \"\"\"\n",
    "    이것은 예로부터 전해오는 고전 인사함수 입니다.DocString\n",
    "    \"\"\"\n",
    "    #함수에\"\"\"를 집어넣으면 함수에 대한 설명을 넣을 수 있다.\n",
    "    #이 설명문은 __doc__를 이용하여 출력가능하고 doc string이라고 한다.\n",
    "    print(\"방가방가1 저는 고전 인사입니다.\")\n",
    "    print(\"방가방가2 저는 고전 인사입니다.\")\n",
    "    print(\"방가방가3 저는 고전 인사입니다.\")\n",
    "test()\n",
    "print(\"=\"*15)\n",
    "print(test.__doc__)\n",
    "print(\"=\"*15)\n",
    "help(test)"
   ]
  },
  {
   "cell_type": "code",
   "execution_count": 61,
   "id": "77298e8c-ef50-43f2-a21d-bbde4a69f177",
   "metadata": {},
   "outputs": [],
   "source": [
    "# 테스트2 \n",
    "# class의 self없이 함수 만들기(추가로 함수안에 함수넣기)\n",
    "def set_car(name, color):\n",
    "    return {\"name\":name,\"color\":color}\n",
    "#print(set_car(\"HD\",\"blue\"))\n",
    "def get_car_info(car):\n",
    "    return f\"car:{car[\"name\"]},color:{car[\"color\"]}\""
   ]
  },
  {
   "cell_type": "code",
   "execution_count": 63,
   "id": "fad0117d-ccbf-40db-a2a0-b42876bcf098",
   "metadata": {},
   "outputs": [
    {
     "name": "stdout",
     "output_type": "stream",
     "text": [
      "{'name': 'HD', 'color': 'Blue'}\n",
      "car:HD,color:Blue\n"
     ]
    }
   ],
   "source": [
    "#자동차를 생성\n",
    "car = set_car(\"HD\",\"Blue\")\n",
    "print(car)\n",
    "#자동차 정보를 생성\n",
    "print(get_car_info(car))"
   ]
  },
  {
   "cell_type": "code",
   "execution_count": 64,
   "id": "2287d962-c24d-40b6-9d09-1d8f3aea7107",
   "metadata": {},
   "outputs": [
    {
     "name": "stdout",
     "output_type": "stream",
     "text": [
      "car:kia,color:white\n"
     ]
    }
   ],
   "source": [
    "print(get_car_info(set_car(\"kia\",\"white\")))"
   ]
  },
  {
   "cell_type": "code",
   "execution_count": null,
   "id": "5096d715-5cf4-46bd-95f2-b90e58804889",
   "metadata": {},
   "outputs": [],
   "source": [
    "#테스트3\n",
    "class Car:\n",
    "    def set_car(name, color):\n",
    "        return {\"name\":name,\"color\":color}\n",
    "    def get_car_info(car):\n",
    "        return f\"car:{car[\"name\"]},color:{car[\"color\"]}\"  \n",
    "        \n",
    "\n",
    "car1 = Car.set_car(\"HD\",\"Blue\")\n",
    "car2 = Car.set_car(\"KIA\",\"orange\")\n",
    "print(Car.get_car_info(car1))\n",
    "print(Car.get_car_info(car2))"
   ]
  },
  {
   "cell_type": "code",
   "execution_count": 5,
   "id": "f9eceb97-34d9-4e4f-9da6-7aab549d1a61",
   "metadata": {},
   "outputs": [
    {
     "name": "stdout",
     "output_type": "stream",
     "text": [
      "car:KIA,color:Blue\n",
      "car:HD,color:Orange\n"
     ]
    }
   ],
   "source": [
    "#테스트4\n",
    "class Car:\n",
    "    def __init__(self,name,color):#생성자/self는 다른 이름으로 바꿔도 된다.\n",
    "                                 # self를 쓰는 이유는 관례적인 의미가 있다.\n",
    "        self.name = name\n",
    "        self.color = color\n",
    "    #def set_car(name,color):\n",
    "        #return {\"name\":name,\"color\":color} \n",
    "    #생략가능 왜냐 위에서 이미 다이렉트로 지정하기 때문에\n",
    "    \n",
    "    def get_car_info(self):\n",
    "        return f\"car:{self.name},color:{self.color}\"\n",
    "\n",
    "car1 = Car(\"KIA\",\"Blue\")\n",
    "car2 = Car(\"HD\",\"Orange\")\n",
    "\n",
    "print(car1.get_car_info())\n",
    "print(car2.get_car_info())"
   ]
  },
  {
   "cell_type": "code",
   "execution_count": 9,
   "id": "38cf4d58-9bd3-4f19-a4c5-b1061ac597a8",
   "metadata": {},
   "outputs": [],
   "source": [
    "#테스트5\n",
    "class Car:\n",
    "    def __init__(self,name,color):#생성자/self는 다른 이름으로 바꿔도 된다.\n",
    "                                 # self를 쓰는 이유는 관례적인 의미가 있다.\n",
    "        self.name = name\n",
    "        self.color = color\n",
    "        self.speed = 0\n",
    "    #def set_car(name,color):\n",
    "        #return {\"name\":name,\"color\":color} \n",
    "    #생략가능 왜냐 위에서 이미 다이렉트로 지정하기 때문에\n",
    "    \n",
    "    def get_car_info(self):\n",
    "        return f\"car:{self.name},color:{self.color}\"\n",
    "    def acc(self,amount):\n",
    "        #전달자 self가 빠지면 에러가 난다. 위에서 self를 지정하였기 때문에 전달자를\n",
    "        #무조건 사용해줘야 한다. 안그러면 에러가 난다.\n",
    "        self.speed += amount #속도가 증가\n",
    "        return f\"{self.color}색 {self.name}자동차 속도 올려요. 현재속도는{self.speed}km/h\""
   ]
  },
  {
   "cell_type": "code",
   "execution_count": 10,
   "id": "57665cce-69e0-4ed2-9654-511d06905397",
   "metadata": {},
   "outputs": [
    {
     "name": "stdout",
     "output_type": "stream",
     "text": [
      "car:KIA,color:파란\n",
      "car:HD,color:빨간\n"
     ]
    }
   ],
   "source": [
    "car1 = Car(\"KIA\",\"파란\")\n",
    "car2 = Car(\"HD\",\"빨간\")\n",
    "\n",
    "print(car1.get_car_info())\n",
    "print(car2.get_car_info())"
   ]
  },
  {
   "cell_type": "code",
   "execution_count": null,
   "id": "75c9048d-eb82-449c-92eb-204c5ea87147",
   "metadata": {},
   "outputs": [],
   "source": [
    "print(car1.acc(30))\n",
    "print(car1.acc(10))\n",
    "print(car2.acc(50))\n",
    "print(car2.acc(30))"
   ]
  },
  {
   "cell_type": "code",
   "execution_count": null,
   "id": "888b1ca0-9c56-45ac-8826-9d958841e853",
   "metadata": {},
   "outputs": [],
   "source": [
    "#테스트 연습\n",
    "import time as t\n",
    "for n in range(20):\n",
    "    print(car1.acc(1))\n",
    "    t.sleep(1)\n",
    "print(\"속도 유지중\")"
   ]
  },
  {
   "cell_type": "code",
   "execution_count": 11,
   "id": "cfe7ae39-aaff-470b-8eec-bd9f1441d435",
   "metadata": {},
   "outputs": [],
   "source": [
    "#테스트 6 상속\n",
    "class Mycar(Car):\n",
    "    #새로운 클래스에 기존에있던 클래스명을 집어넣으면 그 클래스내용을 상속받을 수 잇다.\n",
    "    #부모클래스를 자식클래스가 받는다고 한다.\n",
    "    def turbo(self):\n",
    "        self.speed += 50\n",
    "        print(f\"내차가 빠르다 터보! {self.speed}km/h\")\n",
    "        "
   ]
  },
  {
   "cell_type": "code",
   "execution_count": 12,
   "id": "e23e43a7-f078-4834-a92f-bfee9fa1de7d",
   "metadata": {},
   "outputs": [],
   "source": [
    "my = Mycar(\"mycar\",\"skyblue\") # 부모클래스를 그대로 이어받았기 때문에 인자도 2개넣어야한다."
   ]
  },
  {
   "cell_type": "code",
   "execution_count": 13,
   "id": "6f7ce152-5a88-472c-b2b3-03efeb366987",
   "metadata": {},
   "outputs": [
    {
     "name": "stdout",
     "output_type": "stream",
     "text": [
      "내차가 빠르다 터보! 50km/h\n"
     ]
    }
   ],
   "source": [
    "print(my.turbo())\n",
    "print(my.turbo())"
   ]
  },
  {
   "cell_type": "code",
   "execution_count": 23,
   "id": "0eb3db14-7773-40c4-ac3b-7585d03b4f6e",
   "metadata": {},
   "outputs": [],
   "source": [
    "#테스트 7\n",
    "class Pet:\n",
    "    \n",
    "    def __init__(self,name,species):\n",
    "        \"\"\"펫을 생성\"\"\"\n",
    "        self.name = name\n",
    "        self.species = species\n",
    "        self.hunger = 50 #초기 배고픔 수치\n",
    "    def feed(self):\n",
    "        \"\"\"밥을 주면 배고픔 감소\"\"\"\n",
    "        if self.hunger > 10:\n",
    "            self.hunger -= 10\n",
    "        return f\"{self.name}에게 밥을 줬습니다! 배고픔:{self.hunger}\"\n",
    "    def play(self):\n",
    "        \"\"\"놀아주면 배고픔 증가\"\"\"\n",
    "        if self.hunger <= 80:\n",
    "            self.hunger += 20\n",
    "        else:\n",
    "            self.hunger = 100\n",
    "        return f\"{self.name}와 잘 놀아줬어요! 배고픔:{self.hunger}\""
   ]
  },
  {
   "cell_type": "code",
   "execution_count": 25,
   "id": "1e3de560-595b-47c2-b99e-5cf17b7c12f7",
   "metadata": {},
   "outputs": [
    {
     "name": "stdout",
     "output_type": "stream",
     "text": [
      "뽀삐에게 밥을 줬습니다! 배고픔:40\n",
      "뽀삐에게 밥을 줬습니다! 배고픔:30\n",
      "아지와 잘 놀아줬어요! 배고픔:70\n",
      "아지에게 밥을 줬습니다! 배고픔:60\n",
      "뽀삐와 잘 놀아줬어요! 배고픔:50\n",
      "뽀삐와 잘 놀아줬어요! 배고픔:70\n",
      "아지에게 밥을 줬습니다! 배고픔:50\n",
      "컁이에게 밥을 줬습니다! 배고픔:40\n",
      "컁이와 잘 놀아줬어요! 배고픔:60\n"
     ]
    }
   ],
   "source": [
    "#펫 생성\n",
    "dog1 = Pet(\"뽀삐\",'말티즈')\n",
    "dog2 = Pet(\"아지\",\"요크\")\n",
    "cat1 = Pet(\"컁이\",\"나만고양이없어\")\n",
    "print(dog1.feed())\n",
    "print(dog1.feed())\n",
    "print(dog2.play())\n",
    "print(dog2.feed())\n",
    "print(dog1.play())\n",
    "print(dog1.play())\n",
    "print(dog2.feed())\n",
    "print(cat1.feed())\n",
    "print(cat1.play())"
   ]
  },
  {
   "cell_type": "code",
   "execution_count": 42,
   "id": "bd0ccb96-b761-47be-92dc-aaa1aa3050b7",
   "metadata": {},
   "outputs": [],
   "source": [
    "#테스트 8\n",
    "class Bacteria:\n",
    "    def __init__(self,inital_population,growth_rate):\n",
    "        \"\"\"세균 초기화\"\"\"\n",
    "        self.population = inital_population\n",
    "        self.growth_rate = growth_rate\n",
    "        self.time = 0 #시작시간\n",
    "\n",
    "    def grow(self,hours):\n",
    "        \"\"\"일정시간이 지나면 세균이 증식함\"\"\"\n",
    "        self.time += hours\n",
    "        self.population *= self.growth_rate**hours\n",
    "        return f\"{self.time} 시간 후 세균 수: {int(self.population)}마리\"\n",
    "\n",
    "    def check(self):\n",
    "        \"\"\"현재 세균 수 확인\"\"\"\n",
    "        return f\"현재 세균 수: {int(self.population)}마리\""
   ]
  },
  {
   "cell_type": "code",
   "execution_count": 43,
   "id": "378178a7-2fff-40c9-8e2c-444df14b956d",
   "metadata": {},
   "outputs": [],
   "source": [
    "bacteria = Bacteria(100,2)"
   ]
  },
  {
   "cell_type": "code",
   "execution_count": 44,
   "id": "09b4953e-7ee2-4351-9873-09366c909d40",
   "metadata": {},
   "outputs": [
    {
     "name": "stdout",
     "output_type": "stream",
     "text": [
      "1 시간 후 세균 수: 200마리\n"
     ]
    }
   ],
   "source": [
    "print(bacteria.grow(1))"
   ]
  },
  {
   "cell_type": "code",
   "execution_count": 80,
   "id": "9231cae2-4bf4-4580-b2ca-ef7c35fba4ce",
   "metadata": {},
   "outputs": [
    {
     "name": "stdout",
     "output_type": "stream",
     "text": [
      "철수님의 잔고는 50000원 입니다.\n",
      "영희님의 잔고는 200000원 입니다.\n",
      "철수님의 잔고는 9000000원 입니다.\n"
     ]
    }
   ],
   "source": [
    "#테스트 9 은행예금 캡슐화 예제, 클래스 변수 (캡슐화가 X)\n",
    "class BankAccount():\n",
    "    interest_rate = 0.02 # 클래스 변수\n",
    "    def __init__(self,owner,balance):\n",
    "        self.owner = owner\n",
    "        self.balance = balance or 0\n",
    "    def bprice(self):\n",
    "        return f\"{self.owner}님의 잔고는 {self.balance}원 입니다.\"\n",
    "\n",
    "acc1 = BankAccount(\"철수\",50000)\n",
    "acc2 = BankAccount(\"영희\",200000)\n",
    "\n",
    "print(acc1.bprice())\n",
    "print(acc2.bprice())\n",
    "#공격후\n",
    "acc1.balance = 9000000\n",
    "print(acc1.bprice())"
   ]
  },
  {
   "cell_type": "code",
   "execution_count": null,
   "id": "47cdc4e1-e0c9-477f-b978-f946d4c9b2b2",
   "metadata": {},
   "outputs": [],
   "source": [
    "#테스트 9 - 1 캡슐화가 된 케이스\n",
    "class BankAccount():\n",
    "    interest_rate = 0.02 # 클래스 변수\n",
    "    def __init__(self,owner,balance):\n",
    "        self.owner = owner\n",
    "        self.__balance = balance or 0\n",
    "        #↑가 캡슐화 __로 지정\n",
    "    def bprice(self):\n",
    "        return f\"{self.owner}님의 잔고는 {self.__balance}원 입니다.\"\n",
    "\n",
    "acc3 = BankAccount(\"철수\",50000)\n",
    "acc4 = BankAccount(\"영희\",200000)\n",
    "\n",
    "print(acc3.bprice())\n",
    "print(acc4.bprice())\n",
    "#공격후\n",
    "acc3.balance = 9000000\n",
    "print(acc3.bprice())\n",
    "#앞에서 __로 지정했기 때문에 여기서 집어넣어도 값은 안변한다."
   ]
  },
  {
   "cell_type": "code",
   "execution_count": 98,
   "id": "b8ef3810-bb0c-4030-8f5f-946f420ae81b",
   "metadata": {},
   "outputs": [
    {
     "name": "stdout",
     "output_type": "stream",
     "text": [
      "철수님의 잔고는 50000원 입니다.\n",
      "영희님의 잔고는 200000원 입니다.\n",
      "0.03%의 이자가 반영된 금액은51500원 입니다.\n",
      "0.03%의 이자가 반영된 금액은206000원 입니다.\n",
      "철수님의 계좌에30000원 이 입급되었습니다. 현재 금액80000원\n",
      "철수님의 계좌에20000원 이 출금되었습니다. 현재 금액60000원\n"
     ]
    }
   ],
   "source": [
    "#테스트 9 - 2 캡슐화가 된 케이스의 캡슐화 값을 변경시키는 방법/클래스 변수 테스트\n",
    "class BankAccount():\n",
    "    interest_rate = 0.02 # 클래스 변수\n",
    "    #클래스 변수는 밖에 있더라도 안에 들어올려면 안에 쓸 때 앞에 self를 써줘야 한다.\n",
    "    def __init__(self,owner,balance):\n",
    "        self.owner = owner\n",
    "        self.__balance = balance or 0\n",
    "        #↑가 캡슐화 __로 지정\n",
    "    def bprice(self):\n",
    "        return f\"{self.owner}님의 잔고는 {self.__balance}원 입니다.\"\n",
    "    def deposit(self,amount):\n",
    "        self.__balance += amount\n",
    "        return f\"{self.owner}님의 계좌에{amount}원 이 입급되었습니다. 현재 금액{self.__balance}원\"\n",
    "    def withdraw(self,amount):\n",
    "        if self.__balance >= amount:\n",
    "            self.__balance -= amount\n",
    "            return f\"{self.owner}님의 계좌에{amount}원 이 출금되었습니다. 현재 금액{self.__balance}원\"\n",
    "        return f\"잔액이 부족합니다.\"\n",
    "        #짜피 if조건이 안맞으면 아래게 값이 나오기 때문에 else를 쓸필요가 없다.    \n",
    "    def interest(self):\n",
    "        total = self.__balance*(1 + self.interest_rate)\n",
    "        return f\"{self.interest_rate}%의 이자가 반영된 금액은{total:.0f}원 입니다.\"\n",
    "#인스턴스\n",
    "acc5 = BankAccount(\"철수\",50000)\n",
    "acc6 = BankAccount(\"영희\",200000)\n",
    "\n",
    "print(acc5.bprice())\n",
    "print(acc6.bprice())\n",
    "#클래스 변수 바꾸기\n",
    "BankAccount.interest_rate = 0.03\n",
    "#위에 값은 캡슐화가 된게 아니기 때문에 외부에서 값변경 가능\n",
    "#모든값을 한번에 교체할려면 모체의 클래스를 지정하면 되고 한개씩 바꾸고 싶다면 자식의\n",
    "#클래스 값을 지정하면 된다. 모체의 클래스를 사용 할 경우 모든 값이 바뀌기 때문에 조심\n",
    "print(acc5.interest())\n",
    "print(acc6.interest())\n",
    "#내장 메소드로 캡슐화 된 변수 접근\n",
    "print(acc5.deposit(30000))\n",
    "print(acc5.withdraw(20000))\n",
    "\n"
   ]
  },
  {
   "cell_type": "code",
   "execution_count": 111,
   "id": "1d92d226-13ef-4d41-8f0a-10d1baf481b5",
   "metadata": {},
   "outputs": [
    {
     "name": "stdout",
     "output_type": "stream",
     "text": [
      "잔액이 5000원 증가했습니다.\n",
      "사이다을 구매했습니다! 남은 잔액: 3600원\n",
      "콜라을 구매했습니다! 남은 잔액: 2100원\n",
      "주스는 존재하지 않는 상품입니다.\n",
      "잔액 2100원이 반환되었습니다.\n"
     ]
    }
   ],
   "source": [
    "#예제 자동판매기를 이용\n",
    "class VendingMachine:\n",
    "    def __init__(self):\n",
    "        \"\"\"자동판매기 초기화\"\"\"\n",
    "        self.balance = 0 #사용자의 잔액\n",
    "        self.items = {\n",
    "            \"콜라\" : 1500,\n",
    "            \"사이다\" : 1400,\n",
    "            \"물\" : 1000\n",
    "        }\n",
    "        #딕셔너리 주의\n",
    "    def insert_money(self, amount):\n",
    "        \"\"\"잔액 충전\"\"\"\n",
    "        self.balance += amount\n",
    "        return f\"잔액이 {amount}원 증가했습니다.\"\n",
    "        \n",
    "    def buy_item(self, item_name):\n",
    "        \"\"\"상품 구매\"\"\"\n",
    "        if item_name not in self.items:\n",
    "            return f\"{item_name}는 존재하지 않는 상품입니다.\"\n",
    "        price = self.items[item_name]\n",
    "        if self.balance < price:\n",
    "            return f\"잔액이 부족합니다!({item_name}의 가격: {price}원, 현재 잔액: {self.balance}원)\"\n",
    "        self.balance -= price\n",
    "        return f\"{item_name}을 구매했습니다! 남은 잔액: {self.balance}원\"\n",
    "        \n",
    "    def refund(self):\n",
    "        \"\"\"잔액 반환\"\"\"\n",
    "        amount = self.balance\n",
    "        self.balance = 0\n",
    "        return f\"잔액 {amount}원이 반환되었습니다.\"\n",
    "#자동 판매기 객체 생성\n",
    "vm = VendingMachine()\n",
    "# 잔액 충전\n",
    "print(vm.insert_money(5000))\n",
    "# 상품 구매\n",
    "print(vm.buy_item(\"사이다\"))\n",
    "print(vm.buy_item(\"콜라\"))\n",
    "print(vm.buy_item(\"주스\"))\n",
    "# 잔액 반환\n",
    "print(vm.refund())"
   ]
  },
  {
   "cell_type": "code",
   "execution_count": null,
   "id": "87bef18f-9935-41fe-81df-0ef9eb97ceec",
   "metadata": {},
   "outputs": [],
   "source": [
    "import turtle\n",
    "window = turtle.Screen()\n",
    "window.bgcolor(\"black\")\n",
    "\n",
    "my_turtle = turtle.Turtle\n",
    "my_turtle.shape(\"turtle\")\n",
    "my_turtle.color(\"yellow\")\n",
    "\n",
    "for _ in range(4):\n",
    "        my_turtle.forward(100)\n",
    "        my_turtle.right(45)\n",
    "        my_turtle.forward(100)\n",
    "        my_turtle.left(45)\n",
    "        my_turtle.back(100)\n",
    "    "
   ]
  },
  {
   "cell_type": "code",
   "execution_count": 5,
   "id": "7aa95bda-ac64-45ba-84c4-6b3a3c8045e0",
   "metadata": {},
   "outputs": [],
   "source": [
    "#창 닫기\n",
    "window.mainloop()"
   ]
  },
  {
   "cell_type": "code",
   "execution_count": 3,
   "id": "4f10c36d-c87e-4502-9cca-38a0a4aac688",
   "metadata": {},
   "outputs": [
    {
     "name": "stdout",
     "output_type": "stream",
     "text": [
      "1 2\n"
     ]
    }
   ],
   "source": [
    "#테스트\n",
    "a, _, c=1,0,2\n",
    "print(a,c)"
   ]
  },
  {
   "cell_type": "code",
   "execution_count": 4,
   "id": "2e1cfa39-2631-4ad3-b513-a2d050100141",
   "metadata": {},
   "outputs": [
    {
     "name": "stdout",
     "output_type": "stream",
     "text": [
      "인사 다섯번 할께요\n",
      "인사 다섯번 할께요\n",
      "인사 다섯번 할께요\n",
      "인사 다섯번 할께요\n",
      "인사 다섯번 할께요\n"
     ]
    }
   ],
   "source": [
    "for _ in range(5):\n",
    "    print(\"인사 다섯번 할께요\")"
   ]
  },
  {
   "cell_type": "code",
   "execution_count": null,
   "id": "140b163d-7048-4810-b1c1-cb9401854de0",
   "metadata": {},
   "outputs": [],
   "source": []
  }
 ],
 "metadata": {
  "kernelspec": {
   "display_name": "Python 3 (ipykernel)",
   "language": "python",
   "name": "python3"
  },
  "language_info": {
   "codemirror_mode": {
    "name": "ipython",
    "version": 3
   },
   "file_extension": ".py",
   "mimetype": "text/x-python",
   "name": "python",
   "nbconvert_exporter": "python",
   "pygments_lexer": "ipython3",
   "version": "3.13.1"
  }
 },
 "nbformat": 4,
 "nbformat_minor": 5
}

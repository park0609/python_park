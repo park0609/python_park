{
 "cells": [
  {
   "cell_type": "markdown",
   "id": "d06bcd7f-b353-403f-8e7a-8f5d00940a04",
   "metadata": {},
   "source": [
    "# 함수"
   ]
  },
  {
   "cell_type": "code",
   "execution_count": 2,
   "id": "519822e1-b34a-4022-92d8-210f46e94000",
   "metadata": {},
   "outputs": [],
   "source": [
    "def 덧셈(a, b):\n",
    "    return a + b"
   ]
  },
  {
   "cell_type": "code",
   "execution_count": 4,
   "id": "cfa4cc5e-6a2f-4336-b2df-a446f4b18489",
   "metadata": {},
   "outputs": [
    {
     "name": "stdout",
     "output_type": "stream",
     "text": [
      "7\n"
     ]
    }
   ],
   "source": [
    "c=덧셈(3,4)"
   ]
  },
  {
   "cell_type": "code",
   "execution_count": 18,
   "id": "b7c14c0a-7de6-4ee7-8a07-df6413cf4f33",
   "metadata": {},
   "outputs": [
    {
     "name": "stdout",
     "output_type": "stream",
     "text": [
      "2단\n",
      "2 X 1 = 22 X 2 = 42 X 3 = 62 X 4 = 82 X 5 = 102 X 6 = 122 X 7 = 142 X 8 = 162 X 9 = 18\n"
     ]
    }
   ],
   "source": [
    "def gugu(end=9):\n",
    "    data = \"\"\n",
    "    for j in range(2,end + 1):\n",
    "        print(f\"{j}단\")\n",
    "        for  i in range(1,10):\n",
    "            data += (f\"{j} X {i} = {j*i}\")\n",
    "        return data   \n",
    "print(gugu(2))"
   ]
  },
  {
   "cell_type": "markdown",
   "id": "b2a01d1e-d829-4651-b537-d96f54e9de6f",
   "metadata": {},
   "source": [
    "## 입력값과 리턴값에 따른 함수의 형태"
   ]
  },
  {
   "cell_type": "code",
   "execution_count": 19,
   "id": "79b345ab-be05-42fa-af49-26bbdcc30cd1",
   "metadata": {},
   "outputs": [],
   "source": [
    "#일반적인 함수\n",
    "def add(a,b):\n",
    "    result = a+b\n",
    "    return result"
   ]
  },
  {
   "cell_type": "code",
   "execution_count": 23,
   "id": "141edf09-ab81-4613-87ec-08b379dcf4ec",
   "metadata": {},
   "outputs": [
    {
     "name": "stdout",
     "output_type": "stream",
     "text": [
      "87\n"
     ]
    }
   ],
   "source": [
    "a = add(77,10)\n",
    "print(a)"
   ]
  },
  {
   "cell_type": "code",
   "execution_count": 24,
   "id": "6a6f6961-511b-4f2a-ba5e-edd797c081ab",
   "metadata": {},
   "outputs": [],
   "source": [
    "#입력값이 없는 함수\n",
    "def say():\n",
    "    return \"안녕\""
   ]
  },
  {
   "cell_type": "code",
   "execution_count": 25,
   "id": "07544734-4281-48e3-bf3e-7dc499d462b2",
   "metadata": {},
   "outputs": [
    {
     "name": "stdout",
     "output_type": "stream",
     "text": [
      "안녕\n"
     ]
    }
   ],
   "source": [
    "a = say()\n",
    "print(a)"
   ]
  },
  {
   "cell_type": "code",
   "execution_count": 27,
   "id": "e2a98553-1994-455b-a6f8-a0861ff07d2c",
   "metadata": {},
   "outputs": [],
   "source": [
    "# 리턴값이 없는 함수\n",
    "def add(a,b):\n",
    "    print(\"%d,%d의 합은 %d입니다.\"%(a,b,a+b))"
   ]
  },
  {
   "cell_type": "code",
   "execution_count": 29,
   "id": "a9230117-2b77-47db-bb64-6fd7b6119046",
   "metadata": {},
   "outputs": [
    {
     "name": "stdout",
     "output_type": "stream",
     "text": [
      "7,11의 합은 18입니다.\n"
     ]
    }
   ],
   "source": [
    "add(7,11)"
   ]
  },
  {
   "cell_type": "code",
   "execution_count": 30,
   "id": "27365c7a-7516-449f-9fba-1dd86359bfb0",
   "metadata": {},
   "outputs": [],
   "source": [
    "#입력값과 리턴값이 없는 함수\n",
    "def say():\n",
    "    print(\"안녕\")\n",
    "    print(\"전 입력값과 리턴값이 없어요.\")\n",
    "    print(\"빠이~\")\n",
    "    "
   ]
  },
  {
   "cell_type": "code",
   "execution_count": 31,
   "id": "a0a0040b-db30-4d4b-8217-a8015a5af910",
   "metadata": {},
   "outputs": [
    {
     "name": "stdout",
     "output_type": "stream",
     "text": [
      "안녕\n",
      "전 입력값과 리턴값이 없어요.\n",
      "빠이~\n"
     ]
    }
   ],
   "source": [
    "say()"
   ]
  },
  {
   "cell_type": "code",
   "execution_count": 38,
   "id": "992d51af-e2eb-45bf-ba08-217b094f05b4",
   "metadata": {},
   "outputs": [],
   "source": [
    "#테스트\n",
    "import time as t\n",
    "def disp():\n",
    "    print(\"안녕!\\r\",end=\"\")\n",
    "    t.sleep(2)\n",
    "    print(\"전 입력값과 리턴값이 없어요.\\r\",end=\"\")\n",
    "    t.sleep(2)\n",
    "    print(\"빠이~            \",end=\"\")\n",
    "    t.sleep(2)"
   ]
  },
  {
   "cell_type": "code",
   "execution_count": 39,
   "id": "265bd5f9-4f72-4837-9551-d43554938387",
   "metadata": {},
   "outputs": [
    {
     "name": "stdout",
     "output_type": "stream",
     "text": [
      "빠이~            ."
     ]
    }
   ],
   "source": [
    "disp()"
   ]
  },
  {
   "cell_type": "code",
   "execution_count": 40,
   "id": "cbaff78b-d6ff-46b9-a8c0-45cc5acd1903",
   "metadata": {},
   "outputs": [],
   "source": [
    "# 매개변수를 지정하여 호출하기\n",
    "def sub(a,b):\n",
    "    return a-b"
   ]
  },
  {
   "cell_type": "code",
   "execution_count": 4,
   "id": "6e235b04-8de9-42e3-b65b-102ef97c5a79",
   "metadata": {
    "scrolled": true
   },
   "outputs": [],
   "source": [
    "#!pip install matplotlib"
   ]
  },
  {
   "cell_type": "code",
   "execution_count": 43,
   "id": "b35da8f3-8577-45f7-81a5-087beae0c9a3",
   "metadata": {
    "scrolled": true
   },
   "outputs": [
    {
     "name": "stdout",
     "output_type": "stream",
     "text": [
      "-4\n"
     ]
    }
   ],
   "source": [
    "result = sub(b=7,a=3)\n",
    "#여기서 알 수 있는것은 순서를 지키기 않아도 설정되어있는 변수에 맞게 값만 넣으면\n",
    "#문제없이 출력이 가능하다.\n",
    "print(result)"
   ]
  },
  {
   "cell_type": "code",
   "execution_count": 34,
   "id": "ce3888e7-717c-4115-ae7b-44a9010773be",
   "metadata": {},
   "outputs": [],
   "source": [
    "# 테스트 : 함수 random 주사위\n",
    "import random as r\n",
    "import matplotlib.pyplot as plt\n",
    "results = {}\n",
    "def dice(target = 250000):\n",
    "    box = []\n",
    "    num = 0 \n",
    "    number = 0\n",
    "    while num < target:\n",
    "        num = num + 1 \n",
    "        ran = r.randint(1,6)\n",
    "        box.append(ran)\n",
    "    if num == len(box):\n",
    "        print(f\"{num}회 정상 진행되었습니다.\")\n",
    "    else:\n",
    "        print(f\"검증 결과 횟수 이상이 있습니다. (이유 :{num}회 목표로 동작하였으나, {len(box)}으로 측정되었습니다. \")\n",
    "    \n",
    "    for n in range(1,7):\n",
    "        results[n] = box.count(n)\n",
    "        print(f\"{n}번이 {box.count(n)}번({(box.count(n)/len(box))*100:.2f}%) 등장하였습니다.\")\n",
    "    print(results)\n",
    "    color=[\"skyblue\"]\n",
    "    for n in range(1,7):\n",
    "        if max():\n",
    "            b = color\n",
    "    plt.bar(results.keys(),results.values(),b)\n",
    "    plt.show()"
   ]
  },
  {
   "cell_type": "code",
   "execution_count": null,
   "id": "ea80754d-4f60-4efc-9d6a-68d33f8dee81",
   "metadata": {},
   "outputs": [],
   "source": [
    "dice()\n",
    "#plt.bar(range(1,7),target)"
   ]
  },
  {
   "cell_type": "markdown",
   "id": "715764d2-db9f-4be2-9b8c-7cdc7fa4c5bc",
   "metadata": {},
   "source": [
    "## 입력값이 몇 개가 될지 모를 때는 어떻게 해야할까"
   ]
  },
  {
   "cell_type": "code",
   "execution_count": 57,
   "id": "af0105ab-38ca-4025-80a9-15ad8f0e3225",
   "metadata": {},
   "outputs": [],
   "source": [
    "#여러개의 입력값을 받는 함수 만들기 *한개 = 튜플\n",
    "def add_many(*args):\n",
    "    result = 0\n",
    "    for i in args:\n",
    "        result = result + i\n",
    "    return result\n",
    "#만약 함수안에 있는 매개변수에 *이 있다면 밑에있는 값을 튜플취급을 하겠다는 소리이다.\n",
    "#별이 만약 빠져있다면 튜플 취급을 하기 위해서 ()를 하나 더 넣어주면 정상작동한다."
   ]
  },
  {
   "cell_type": "code",
   "execution_count": 58,
   "id": "925c4f22-0a78-4e21-9030-417e8485ce4f",
   "metadata": {},
   "outputs": [
    {
     "name": "stdout",
     "output_type": "stream",
     "text": [
      "11\n"
     ]
    }
   ],
   "source": [
    "res = add_many(1,4,6)\n",
    "print(res)\n"
   ]
  },
  {
   "cell_type": "code",
   "execution_count": 87,
   "id": "50761a2b-a8e9-4c19-9a82-7c117b30d849",
   "metadata": {},
   "outputs": [],
   "source": [
    "def add_mul(choice,*args):\n",
    "    if choice == \"add\":\n",
    "        result = 0\n",
    "        for i in args:\n",
    "            result = result + i\n",
    "    elif choice == \"mul\":\n",
    "        result = 1\n",
    "        for i in args:\n",
    "            result = result*i\n",
    "    elif choice == \"sub\":\n",
    "        result = args[0]*2\n",
    "        for i in args:\n",
    "            result = result - i\n",
    "    elif choice == \"div\":\n",
    "        result = args[0]*args[0]\n",
    "        for i in args:\n",
    "            result = result / i\n",
    "    else:\n",
    "        result= choice\n",
    "        print(\"제대로 된 값을 입력해 주세요\")\n",
    "    return result"
   ]
  },
  {
   "cell_type": "code",
   "execution_count": 89,
   "id": "b8b33461-5052-40c3-9a32-b45d35f88b03",
   "metadata": {},
   "outputs": [
    {
     "name": "stdout",
     "output_type": "stream",
     "text": [
      "1.0\n"
     ]
    }
   ],
   "source": [
    "a = add_mul(\"div\",300,100,3)\n",
    "print(a)"
   ]
  },
  {
   "cell_type": "code",
   "execution_count": 90,
   "id": "ddd77480-1d71-4c90-8dcb-f02ad47d03df",
   "metadata": {},
   "outputs": [],
   "source": [
    "#키워드 매개변수 kwargs\n",
    "def print_kwargs(**kwargs):\n",
    "    print(kwargs)"
   ]
  },
  {
   "cell_type": "code",
   "execution_count": 94,
   "id": "c960aa97-b34d-4dc6-9a90-9c1cea293010",
   "metadata": {},
   "outputs": [
    {
     "name": "stdout",
     "output_type": "stream",
     "text": [
      "{'name': '홍길동', 'age': 22, 'address': '대한민국'}\n"
     ]
    }
   ],
   "source": [
    "print_kwargs(name=\"홍길동\",age=22,address=\"대한민국\")\n",
    "#별이 없는 경우\n",
    "#def print_kwargs(kwargs):\n",
    "#    print(kwargs)\n",
    "#print_kwargs({\"name\":\"홍길동\",\"age\":22,\"address\":\"대한민국\"})"
   ]
  },
  {
   "cell_type": "code",
   "execution_count": 95,
   "id": "be673a24-008e-427c-95a9-6bfd31b0ba7e",
   "metadata": {},
   "outputs": [],
   "source": [
    "#함수의 리턴값은 언제나 하나이다.\n",
    "#test\n",
    "def test():\n",
    "    print(\"저야 좋죠\")\n",
    "    return\n",
    "    print(\"집에가고싶다\")\n",
    "    #리턴값은 무조건 하나이기 때문에 값이 나오고 리턴을 만나면 그 뒤에 값은 머가 들어와도\n",
    "    #다 무시한다."
   ]
  },
  {
   "cell_type": "code",
   "execution_count": 96,
   "id": "7cbbd554-fe46-42a6-8f29-21d206cc4aab",
   "metadata": {},
   "outputs": [
    {
     "name": "stdout",
     "output_type": "stream",
     "text": [
      "저야 좋죠\n"
     ]
    }
   ],
   "source": [
    "test()"
   ]
  },
  {
   "cell_type": "code",
   "execution_count": 99,
   "id": "b8c7dcad-837e-47c1-9242-2fc822990bdd",
   "metadata": {},
   "outputs": [
    {
     "name": "stdout",
     "output_type": "stream",
     "text": [
      "35 286\n"
     ]
    }
   ],
   "source": [
    "#test2\n",
    "def test2(a,b):\n",
    "    return a+b, a*b\n",
    "add_result, mul_result =test2(13, 22)\n",
    "print(add_result, mul_result)"
   ]
  },
  {
   "cell_type": "code",
   "execution_count": 103,
   "id": "71514507-d5c3-406f-a1e5-2aed2e7bfb08",
   "metadata": {},
   "outputs": [],
   "source": [
    "def say_nick(nick):\n",
    "    if nick == \"바보\":\n",
    "        return\n",
    "    print(f\"나의 별명은{nick}입니다.\")\n",
    "#이 함수는 특정 값을 입력하면 강제로 return을 만나 함수를 종료시키는 함수이다.\n",
    "#물론 리턴이 뜨기전에 무언가를 넣어서 나오게 할 순 있지만 지금 상황은 아무것도 없기에\n",
    "#바로 리턴으로 가 함수를 강제종료 시킨다. 이런 응용방법도 있다."
   ]
  },
  {
   "cell_type": "code",
   "execution_count": 101,
   "id": "b70d14db-da7e-4a83-bbc2-1eafb2134174",
   "metadata": {},
   "outputs": [
    {
     "name": "stdout",
     "output_type": "stream",
     "text": [
      "나의 별명은야호입니다.\n"
     ]
    }
   ],
   "source": [
    "say_nick(\"야호\")"
   ]
  },
  {
   "cell_type": "code",
   "execution_count": 102,
   "id": "fa124efb-66b8-482c-a96b-525cdba73d9d",
   "metadata": {},
   "outputs": [],
   "source": [
    "say_nick(\"바보\")"
   ]
  },
  {
   "cell_type": "code",
   "execution_count": null,
   "id": "07a959b2-00c9-4048-8889-556ba9e98108",
   "metadata": {},
   "outputs": [],
   "source": []
  },
  {
   "cell_type": "code",
   "execution_count": null,
   "id": "2ee708d4-dfab-4994-af90-02ef1884e3bc",
   "metadata": {},
   "outputs": [],
   "source": []
  }
 ],
 "metadata": {
  "kernelspec": {
   "display_name": "Python 3 (ipykernel)",
   "language": "python",
   "name": "python3"
  },
  "language_info": {
   "codemirror_mode": {
    "name": "ipython",
    "version": 3
   },
   "file_extension": ".py",
   "mimetype": "text/x-python",
   "name": "python",
   "nbconvert_exporter": "python",
   "pygments_lexer": "ipython3",
   "version": "3.13.1"
  }
 },
 "nbformat": 4,
 "nbformat_minor": 5
}

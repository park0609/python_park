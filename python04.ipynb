{
 "cells": [
  {
   "cell_type": "markdown",
   "id": "d06bcd7f-b353-403f-8e7a-8f5d00940a04",
   "metadata": {},
   "source": [
    "# 함수"
   ]
  },
  {
   "cell_type": "code",
   "execution_count": 2,
   "id": "519822e1-b34a-4022-92d8-210f46e94000",
   "metadata": {},
   "outputs": [],
   "source": [
    "def 덧셈(a, b):\n",
    "    return a + b"
   ]
  },
  {
   "cell_type": "code",
   "execution_count": 4,
   "id": "cfa4cc5e-6a2f-4336-b2df-a446f4b18489",
   "metadata": {},
   "outputs": [
    {
     "name": "stdout",
     "output_type": "stream",
     "text": [
      "7\n"
     ]
    }
   ],
   "source": [
    "c=덧셈(3,4)"
   ]
  },
  {
   "cell_type": "code",
   "execution_count": 18,
   "id": "b7c14c0a-7de6-4ee7-8a07-df6413cf4f33",
   "metadata": {},
   "outputs": [
    {
     "name": "stdout",
     "output_type": "stream",
     "text": [
      "2단\n",
      "2 X 1 = 22 X 2 = 42 X 3 = 62 X 4 = 82 X 5 = 102 X 6 = 122 X 7 = 142 X 8 = 162 X 9 = 18\n"
     ]
    }
   ],
   "source": [
    "def gugu(end=9):\n",
    "    data = \"\"\n",
    "    for j in range(2,end + 1):\n",
    "        print(f\"{j}단\")\n",
    "        for  i in range(1,10):\n",
    "            data += (f\"{j} X {i} = {j*i}\")\n",
    "        return data   \n",
    "print(gugu(2))"
   ]
  },
  {
   "cell_type": "markdown",
   "id": "b2a01d1e-d829-4651-b537-d96f54e9de6f",
   "metadata": {},
   "source": [
    "## 입력값과 리턴값에 따른 함수의 형태"
   ]
  },
  {
   "cell_type": "code",
   "execution_count": 19,
   "id": "79b345ab-be05-42fa-af49-26bbdcc30cd1",
   "metadata": {},
   "outputs": [],
   "source": [
    "#일반적인 함수\n",
    "def add(a,b):\n",
    "    result = a+b\n",
    "    return result"
   ]
  },
  {
   "cell_type": "code",
   "execution_count": 23,
   "id": "141edf09-ab81-4613-87ec-08b379dcf4ec",
   "metadata": {},
   "outputs": [
    {
     "name": "stdout",
     "output_type": "stream",
     "text": [
      "87\n"
     ]
    }
   ],
   "source": [
    "a = add(77,10)\n",
    "print(a)"
   ]
  },
  {
   "cell_type": "code",
   "execution_count": 24,
   "id": "6a6f6961-511b-4f2a-ba5e-edd797c081ab",
   "metadata": {},
   "outputs": [],
   "source": [
    "#입력값이 없는 함수\n",
    "def say():\n",
    "    return \"안녕\""
   ]
  },
  {
   "cell_type": "code",
   "execution_count": 25,
   "id": "07544734-4281-48e3-bf3e-7dc499d462b2",
   "metadata": {},
   "outputs": [
    {
     "name": "stdout",
     "output_type": "stream",
     "text": [
      "안녕\n"
     ]
    }
   ],
   "source": [
    "a = say()\n",
    "print(a)"
   ]
  },
  {
   "cell_type": "code",
   "execution_count": 27,
   "id": "e2a98553-1994-455b-a6f8-a0861ff07d2c",
   "metadata": {},
   "outputs": [],
   "source": [
    "# 리턴값이 없는 함수\n",
    "def add(a,b):\n",
    "    print(\"%d,%d의 합은 %d입니다.\"%(a,b,a+b))"
   ]
  },
  {
   "cell_type": "code",
   "execution_count": 29,
   "id": "a9230117-2b77-47db-bb64-6fd7b6119046",
   "metadata": {},
   "outputs": [
    {
     "name": "stdout",
     "output_type": "stream",
     "text": [
      "7,11의 합은 18입니다.\n"
     ]
    }
   ],
   "source": [
    "add(7,11)"
   ]
  },
  {
   "cell_type": "code",
   "execution_count": 30,
   "id": "27365c7a-7516-449f-9fba-1dd86359bfb0",
   "metadata": {},
   "outputs": [],
   "source": [
    "#입력값과 리턴값이 없는 함수\n",
    "def say():\n",
    "    print(\"안녕\")\n",
    "    print(\"전 입력값과 리턴값이 없어요.\")\n",
    "    print(\"빠이~\")\n",
    "    "
   ]
  },
  {
   "cell_type": "code",
   "execution_count": 31,
   "id": "a0a0040b-db30-4d4b-8217-a8015a5af910",
   "metadata": {},
   "outputs": [
    {
     "name": "stdout",
     "output_type": "stream",
     "text": [
      "안녕\n",
      "전 입력값과 리턴값이 없어요.\n",
      "빠이~\n"
     ]
    }
   ],
   "source": [
    "say()"
   ]
  },
  {
   "cell_type": "code",
   "execution_count": 38,
   "id": "992d51af-e2eb-45bf-ba08-217b094f05b4",
   "metadata": {},
   "outputs": [],
   "source": [
    "#테스트\n",
    "import time as t\n",
    "def disp():\n",
    "    print(\"안녕!\\r\",end=\"\")\n",
    "    t.sleep(2)\n",
    "    print(\"전 입력값과 리턴값이 없어요.\\r\",end=\"\")\n",
    "    t.sleep(2)\n",
    "    print(\"빠이~            \",end=\"\")\n",
    "    t.sleep(2)"
   ]
  },
  {
   "cell_type": "code",
   "execution_count": 39,
   "id": "265bd5f9-4f72-4837-9551-d43554938387",
   "metadata": {},
   "outputs": [
    {
     "name": "stdout",
     "output_type": "stream",
     "text": [
      "빠이~            ."
     ]
    }
   ],
   "source": [
    "disp()"
   ]
  },
  {
   "cell_type": "code",
   "execution_count": null,
   "id": "cbaff78b-d6ff-46b9-a8c0-45cc5acd1903",
   "metadata": {},
   "outputs": [],
   "source": []
  }
 ],
 "metadata": {
  "kernelspec": {
   "display_name": "Python 3 (ipykernel)",
   "language": "python",
   "name": "python3"
  },
  "language_info": {
   "codemirror_mode": {
    "name": "ipython",
    "version": 3
   },
   "file_extension": ".py",
   "mimetype": "text/x-python",
   "name": "python",
   "nbconvert_exporter": "python",
   "pygments_lexer": "ipython3",
   "version": "3.13.1"
  }
 },
 "nbformat": 4,
 "nbformat_minor": 5
}

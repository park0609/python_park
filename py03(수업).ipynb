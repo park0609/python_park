{
 "cells": [
  {
   "cell_type": "markdown",
   "id": "08ecd294-b967-4f77-9ddf-1f55852eb526",
   "metadata": {},
   "source": [
    "# 제어문"
   ]
  },
  {
   "cell_type": "markdown",
   "id": "4e023d94-4d18-42bc-83c2-ae4b41335626",
   "metadata": {},
   "source": [
    "## if 문"
   ]
  },
  {
   "cell_type": "code",
   "execution_count": 32,
   "id": "6b799f04-ecf3-49c9-a8c4-f7010e89ffac",
   "metadata": {},
   "outputs": [
    {
     "name": "stdout",
     "output_type": "stream",
     "text": [
      "항상 동작합니다!\n",
      "5가 큽니다\n"
     ]
    }
   ],
   "source": [
    "if True:\n",
    "    print(\"항상 동작합니다!\")        \n",
    "if False:\n",
    "    print(\"이건 동작할까요?\")\n",
    "if [1,3]:\n",
    "    print(\"5가 큽니다\")\n",
    "if 4 > 10:\n",
    "    print(\"나올까요?\")"
   ]
  },
  {
   "cell_type": "code",
   "execution_count": 19,
   "id": "dbf289ba-98a7-434f-89b5-665e63896e99",
   "metadata": {},
   "outputs": [
    {
     "name": "stdout",
     "output_type": "stream",
     "text": [
      "가라\n"
     ]
    }
   ],
   "source": [
    "if False:\n",
    "    print(\"택시를\")\n",
    "    print(\"타고\")\n",
    "print(\"가라\")"
   ]
  },
  {
   "cell_type": "code",
   "execution_count": 23,
   "id": "8e916852-5852-40f0-b95d-1fff6a6c669e",
   "metadata": {},
   "outputs": [
    {
     "name": "stdin",
     "output_type": "stream",
     "text": [
      "얼마 가지고 있습니까? 5000\n"
     ]
    },
    {
     "name": "stdout",
     "output_type": "stream",
     "text": [
      "택시타고 가세요.\n"
     ]
    }
   ],
   "source": [
    "mymoney = int(input('얼마 가지고 있습니까?'))\n",
    "if mymoney >= 3000:\n",
    "    print('택시타고 가세요.')\n",
    "# if mymoney < 3000:\n",
    "else:\n",
    "    print('걸어가세요.')"
   ]
  },
  {
   "cell_type": "code",
   "execution_count": 25,
   "id": "a13478fd-e8bf-4a5b-afe8-d449693d06b8",
   "metadata": {},
   "outputs": [],
   "source": [
    "# and, or, not"
   ]
  },
  {
   "cell_type": "code",
   "execution_count": 31,
   "id": "16111c66-6977-49fc-a48f-b364413296e4",
   "metadata": {},
   "outputs": [
    {
     "name": "stdout",
     "output_type": "stream",
     "text": [
      "===== and 연산 =====\n",
      "True\n",
      "False\n",
      "False\n",
      "False\n",
      "===== or 연산 =====\n",
      "True\n",
      "True\n",
      "True\n",
      "False\n",
      "===== not 연산 =====\n",
      "True\n",
      "False\n",
      "True\n"
     ]
    }
   ],
   "source": [
    "print(\"===== and 연산 =====\")\n",
    "print(True and True)\n",
    "print(True and False)\n",
    "print(False and True)\n",
    "print(False and False)    \n",
    "print(\"===== or 연산 =====\")\n",
    "print(True or True)\n",
    "print(True or False)\n",
    "print(False or True)\n",
    "print(False or False)    \n",
    "print(\"===== not 연산 =====\")\n",
    "print(True)\n",
    "print(not True)\n",
    "print(not False)"
   ]
  },
  {
   "cell_type": "code",
   "execution_count": 36,
   "id": "4659d3a4-10d3-4d39-b642-577b64b6fdb1",
   "metadata": {},
   "outputs": [
    {
     "name": "stdout",
     "output_type": "stream",
     "text": [
      "만납시다\n"
     ]
    }
   ],
   "source": [
    "이상형 = True\n",
    "똑똑 = True\n",
    "if 이상형 and 똑똑 :\n",
    "    print(\"만납시다\")\n",
    "else:\n",
    "    print(\"그래요..\")"
   ]
  },
  {
   "cell_type": "code",
   "execution_count": 39,
   "id": "6b75be31-afc6-4fab-982d-dc35ea7cfbf2",
   "metadata": {},
   "outputs": [
    {
     "name": "stdout",
     "output_type": "stream",
     "text": [
      "그렇군요...\n"
     ]
    }
   ],
   "source": [
    "이상형 = False\n",
    "다정 = False\n",
    "if 이상형 or 다정 :\n",
    "    print(\"만납시다\")\n",
    "else:\n",
    "    print(\"그렇군요...\")"
   ]
  },
  {
   "cell_type": "code",
   "execution_count": 42,
   "id": "11352df1-3958-486f-8cc0-cc0d797d90dc",
   "metadata": {},
   "outputs": [
    {
     "name": "stdout",
     "output_type": "stream",
     "text": [
      "잘가요\n"
     ]
    }
   ],
   "source": [
    "주사 = True\n",
    "if not 주사:\n",
    "    print(\"만나요\")\n",
    "else:\n",
    "    print(\"잘가요\")"
   ]
  },
  {
   "cell_type": "code",
   "execution_count": 43,
   "id": "ef17b714-d054-47ee-8f93-324fcf76e23c",
   "metadata": {},
   "outputs": [
    {
     "name": "stdout",
     "output_type": "stream",
     "text": [
      "택시를 타고 가라\n"
     ]
    }
   ],
   "source": [
    "money = 2000\n",
    "card = True\n",
    "if money >= 3000 or card:\n",
    "    print(\"택시를 타고 가라\")\n",
    "else:\n",
    "    print(\"걸어가라\")"
   ]
  },
  {
   "cell_type": "code",
   "execution_count": 52,
   "id": "6fde2185-6bf6-4b15-b082-040233509717",
   "metadata": {},
   "outputs": [
    {
     "name": "stdout",
     "output_type": "stream",
     "text": [
      "A회사 불합격입니다.\n",
      "B회사 합격입니다.\n",
      "C회사 합격입니다.\n"
     ]
    }
   ],
   "source": [
    "me = 'Python'\n",
    "compA = ['JAVA','CSS','Javascript','C','MySQL']\n",
    "compB = ['JAVA','Python','Javascript','C','MySQL']\n",
    "compC = ['JAVA','Python','HTML','MySQL']\n",
    "if me in compA:\n",
    "    print(\"A회사 합격입니다.\")\n",
    "else:\n",
    "    print(\"A회사 불합격입니다.\")\n",
    "if me in compB:\n",
    "    print(\"B회사 합격입니다.\")\n",
    "else:\n",
    "    print(\"B회사 불합격입니다.\")\n",
    "if me in compC:\n",
    "    print(\"C회사 합격입니다.\")\n",
    "else:\n",
    "    print(\"C회사  불합격입니다.\")"
   ]
  },
  {
   "cell_type": "code",
   "execution_count": 67,
   "id": "c22c341a-fc74-4016-951e-2a0021a9880c",
   "metadata": {},
   "outputs": [
    {
     "name": "stdin",
     "output_type": "stream",
     "text": [
      "점수를 입력하세요. \n"
     ]
    },
    {
     "name": "stdout",
     "output_type": "stream",
     "text": [
      "C 학점입니다.\n"
     ]
    }
   ],
   "source": [
    "# 방법1 if만 사용\n",
    "점수 = int(input(\"점수를 입력하세요.\") or 77)\n",
    "grade = 'F'\n",
    "if 90 <= 점수: grade = 'A'\n",
    "if 80 <= 점수 < 90: grade = 'B'\n",
    "if 70 <= 점수 < 80: grade = 'C'\n",
    "if 60 <= 점수 < 70: grade = 'D'    \n",
    "print(f\"{grade} 학점입니다.\")"
   ]
  },
  {
   "cell_type": "code",
   "execution_count": 5,
   "id": "cbd18ee7-04f8-4ba4-a9c6-0f047c849a74",
   "metadata": {},
   "outputs": [
    {
     "name": "stdin",
     "output_type": "stream",
     "text": [
      "점수를 입력하세요. 60\n"
     ]
    },
    {
     "name": "stdout",
     "output_type": "stream",
     "text": [
      "D 학점입니다.\n"
     ]
    }
   ],
   "source": [
    "# 방법2 if, elif, else 사용\n",
    "score = int(input(\"점수를 입력하세요.\") or 37)\n",
    "if 90 <= score : grade = 'A'\n",
    "elif 80 <= score: grade = 'B'\n",
    "elif 70 <= score: grade = 'C'\n",
    "elif 60 <= score: grade = 'D'\n",
    "else: grade = 'F'\n",
    "print(f\"{grade} 학점입니다.\")"
   ]
  },
  {
   "cell_type": "code",
   "execution_count": 71,
   "id": "111e2b59-536b-4e9c-9ea9-8741bef89a9b",
   "metadata": {},
   "outputs": [
    {
     "name": "stdin",
     "output_type": "stream",
     "text": [
      "현재 온도를 입력하세요 (°C):  5\n"
     ]
    },
    {
     "name": "stdout",
     "output_type": "stream",
     "text": [
      "지금은 겨울입니다 ❄️\n"
     ]
    }
   ],
   "source": [
    "# 사용자로부터 온도 입력받기\n",
    "temperature = float(input(\"현재 온도를 입력하세요 (°C): \"))\n",
    "\n",
    "# 조건문으로 계절 구분\n",
    "if 15 <= temperature < 25:\n",
    "    print(\"지금은 봄입니다 🌸\")\n",
    "elif temperature >= 25:\n",
    "    print(\"지금은 여름입니다 🌞\")\n",
    "elif 10 <= temperature < 15:\n",
    "    print(\"지금은 가을입니다 🍂\")\n",
    "else:\n",
    "    print(\"지금은 겨울입니다 ❄️\")"
   ]
  },
  {
   "cell_type": "markdown",
   "id": "1e7bb5c4-a983-4456-b759-fd0b1d94a1ab",
   "metadata": {},
   "source": [
    "## while 문"
   ]
  },
  {
   "cell_type": "code",
   "execution_count": 11,
   "id": "15ae9977-005a-46ca-9987-276c48f80556",
   "metadata": {
    "scrolled": true
   },
   "outputs": [
    {
     "name": "stdout",
     "output_type": "stream",
     "text": [
      "9 나화났어!\n",
      "8 나화났어!\n",
      "7 나화났어!\n",
      "6 나화났어!\n",
      "5 나화났어!\n",
      "4 나화났어!\n",
      "3 나화났어!\n",
      "2 나화났어!\n",
      "1 나화났어!\n",
      "0 나화났어!\n"
     ]
    }
   ],
   "source": [
    "num = 10\n",
    "while num:\n",
    "    num-=1\n",
    "    print(num, \"나화났어!\")    "
   ]
  },
  {
   "cell_type": "code",
   "execution_count": 72,
   "id": "abfc8244-d811-417c-8789-23bb7c44dde3",
   "metadata": {},
   "outputs": [
    {
     "name": "stdout",
     "output_type": "stream",
     "text": [
      "나무를 1번 찍었습니다.\n",
      "나무를 2번 찍었습니다.\n",
      "나무를 3번 찍었습니다.\n",
      "나무를 4번 찍었습니다.\n",
      "나무를 5번 찍었습니다.\n",
      "나무를 6번 찍었습니다.\n",
      "나무를 7번 찍었습니다.\n",
      "나무를 8번 찍었습니다.\n",
      "나무를 9번 찍었습니다.\n",
      "나무를 10번 찍었습니다.\n",
      "나무 넘어갑니다.\n"
     ]
    }
   ],
   "source": [
    "treeHit = 0\n",
    "while treeHit < 10:\n",
    "    treeHit = treeHit +1\n",
    "    print(\"나무를 %d번 찍었습니다.\" % treeHit)\n",
    "    if treeHit == 10:\n",
    "        print(\"나무 넘어갑니다.\")"
   ]
  },
  {
   "cell_type": "code",
   "execution_count": 73,
   "id": "a5738e66-e975-42a6-8dff-3919b8f91ba2",
   "metadata": {},
   "outputs": [
    {
     "name": "stdout",
     "output_type": "stream",
     "text": [
      "나무를 1번 찍었습니다.\n",
      "나무를 2번 찍었습니다.\n",
      "나무를 3번 찍었습니다.\n",
      "나무를 4번 찍었습니다.\n",
      "나무를 5번 찍었습니다.\n",
      "나무를 6번 찍었습니다.\n",
      "나무를 7번 찍었습니다.\n",
      "나무를 8번 찍었습니다.\n",
      "나무를 9번 찍었습니다.\n",
      "나무를 10번 찍었습니다.\n",
      "나무 넘어갑니다.\n"
     ]
    }
   ],
   "source": [
    "namu = 10\n",
    "while namu:    \n",
    "    namu -=1\n",
    "    print(f\"나무를 {10 - namu}번 찍었습니다.\")\n",
    "print(\"나무 넘어갑니다.\")"
   ]
  },
  {
   "cell_type": "code",
   "execution_count": 2,
   "id": "7d24fb09-2439-4835-b7df-6975c27d32f4",
   "metadata": {},
   "outputs": [
    {
     "name": "stdout",
     "output_type": "stream",
     "text": [
      "시스템이 종료되었습니다.\n"
     ]
    }
   ],
   "source": [
    "from IPython.display import clear_output\n",
    "prompt = \"\"\"\n",
    "선택해 주세요.\n",
    "    1. Add\n",
    "    2. Del\n",
    "    3. List\n",
    "    4. Quit\n",
    "\"\"\"\n",
    "number = 0\n",
    "while number != 4:\n",
    "    print(prompt)\n",
    "    number = int(input())\n",
    "    clear_output(wait=True) # 이전 질문 지우기\n",
    "print(\"시스템이 종료되었습니다.\")"
   ]
  },
  {
   "cell_type": "code",
   "execution_count": null,
   "id": "ce69eba1-07d6-47bb-b44a-63c3281ee13a",
   "metadata": {},
   "outputs": [],
   "source": [
    "# random 주사위\n",
    "import random as r\n",
    "# ran = int(r.random()*6 + 1)\n",
    "box = [] # 초기화"
   ]
  },
  {
   "cell_type": "code",
   "execution_count": 68,
   "id": "1fdd83a4-62c4-4a32-8ccc-46340889e081",
   "metadata": {},
   "outputs": [
    {
     "name": "stdout",
     "output_type": "stream",
     "text": [
      "[3, 1, 3, 5, 3, 2, 2, 1, 5, 5, 2, 5, 1, 2, 4, 3, 2] 17\n"
     ]
    }
   ],
   "source": [
    "ran = r.randint(1,6)\n",
    "box.append(ran)\n",
    "\n",
    "print(box,len(box))"
   ]
  },
  {
   "cell_type": "code",
   "execution_count": 91,
   "id": "ebbf90bf-61a4-406a-9616-cde186dc2761",
   "metadata": {},
   "outputs": [
    {
     "name": "stdout",
     "output_type": "stream",
     "text": [
      "250000회 정상 진행되었습니다.\n",
      "1번이 41614번(16.65%) 등장하였습니다.\n",
      "2번이 41702번(16.68%) 등장하였습니다.\n",
      "3번이 41584번(16.63%) 등장하였습니다.\n",
      "4번이 41729번(16.69%) 등장하였습니다.\n",
      "5번이 41594번(16.64%) 등장하였습니다.\n",
      "6번이 41777번(16.71%) 등장하였습니다.\n"
     ]
    }
   ],
   "source": [
    "# random 주사위\n",
    "import random as r\n",
    "box = [] # 초기화\n",
    "num = 0\n",
    "target = 250000\n",
    "while num < target:\n",
    "    num = num + 1\n",
    "    ran = r.randint(1,6)\n",
    "    box.append(ran)\n",
    "if target == len(box):\n",
    "    print(f\"{target}회 정상 진행되었습니다.\")\n",
    "else:\n",
    "    print(f\"검증 결과 횟수 이상이 있습니다. 이유:({target}회 목표로 동작하였으나, {len(box)}으로 측정되었습니다.)\")\n",
    "\n",
    "# 리스트의 특정한 숫자를 몇개인지 찾아내는 함수써서\n",
    "print(f\"1번이 {box.count(1)}번({(box.count(1)/len(box))*100:.2f}%) 등장하였습니다.\")\n",
    "print(f\"2번이 {box.count(2)}번({(box.count(2)/len(box))*100:.2f}%) 등장하였습니다.\")\n",
    "print(f\"3번이 {box.count(3)}번({(box.count(3)/len(box))*100:.2f}%) 등장하였습니다.\")\n",
    "print(f\"4번이 {box.count(4)}번({(box.count(4)/len(box))*100:.2f}%) 등장하였습니다.\")\n",
    "print(f\"5번이 {box.count(5)}번({(box.count(5)/len(box))*100:.2f}%) 등장하였습니다.\")\n",
    "print(f\"6번이 {box.count(6)}번({(box.count(6)/len(box))*100:.2f}%) 등장하였습니다.\")\n",
    "# print(\"\") 6번이 가장 많이 출현하였습니다.\n",
    "# max(): 가장 큰 수, min(): 가장 작은 수"
   ]
  },
  {
   "cell_type": "markdown",
   "id": "41bcd578-fe8a-4174-bcf0-4fea79242ad7",
   "metadata": {},
   "source": [
    "## for 문"
   ]
  },
  {
   "cell_type": "code",
   "execution_count": 94,
   "id": "d35b9e4b-3c84-4305-9533-82e579f8a49c",
   "metadata": {},
   "outputs": [
    {
     "name": "stdout",
     "output_type": "stream",
     "text": [
      "one\n",
      "two\n",
      "three\n"
     ]
    }
   ],
   "source": [
    "# 기본 for 문\n",
    "# test_list = ['one', 'two', 'three'] \n",
    "for i in ['one', 'two', 'three'] : \n",
    "    print(i)"
   ]
  },
  {
   "cell_type": "code",
   "execution_count": null,
   "id": "d8afad12-6960-45e6-9f75-e8305fe7ce05",
   "metadata": {},
   "outputs": [],
   "source": [
    "(A, B) = (1 , 2)"
   ]
  },
  {
   "cell_type": "code",
   "execution_count": 98,
   "id": "94f8643a-61b0-4919-b474-d97229d4173f",
   "metadata": {},
   "outputs": [
    {
     "name": "stdout",
     "output_type": "stream",
     "text": [
      "1 2 11\n",
      "3 4 33\n",
      "5 6 55\n"
     ]
    }
   ],
   "source": [
    "# 다양한 for 문의 사용\n",
    "a = [(1,2,11),(3,4,33),(5,6,55)]\n",
    "for (x , y , z ) in a:\n",
    "    print( x, y, z)"
   ]
  },
  {
   "cell_type": "code",
   "execution_count": 100,
   "id": "d79f9e07-27d8-46b0-9aea-a93f41d2bf88",
   "metadata": {},
   "outputs": [],
   "source": [
    "# p143 marks1.py\n",
    "marks = [90, 25, 67, 45, 80]   # 학생들의 시험 점수 리스트\n",
    "\n",
    "number = 0   # 학생에게 붙여 줄 번호\n",
    "for mark in marks:   # 90, 25, 67, 45, 80을 순서대로 mark에 대입\n",
    "    number = number +1 \n",
    "    if mark >= 60: \n",
    "        print(\"%d번 학생은 합격입니다.\" % number)\n",
    "    else: \n",
    "        print(\"%d번 학생은 불합격입니다.\" % number)"
   ]
  },
  {
   "cell_type": "code",
   "execution_count": 101,
   "id": "852a06b4-04b9-4cf7-bbab-3fb2adc2c23d",
   "metadata": {},
   "outputs": [
    {
     "name": "stdout",
     "output_type": "stream",
     "text": [
      "1번 학생 축하합니다. 합격입니다. \n",
      "3번 학생 축하합니다. 합격입니다. \n",
      "5번 학생 축하합니다. 합격입니다. \n"
     ]
    }
   ],
   "source": [
    "# marks2.py\n",
    "marks = [90, 25, 67, 45, 80]\n",
    "\n",
    "number = 0 \n",
    "for mark in marks: \n",
    "    number = number +1 \n",
    "    if mark < 60:\n",
    "        continue \n",
    "    print(\"%d번 학생 축하합니다. 합격입니다. \" % number)\n"
   ]
  },
  {
   "cell_type": "code",
   "execution_count": 103,
   "id": "88edab1d-490e-4292-a19a-f01a9f2149ee",
   "metadata": {},
   "outputs": [
    {
     "name": "stdout",
     "output_type": "stream",
     "text": [
      "1\n",
      "3\n",
      "5\n",
      "7\n",
      "9\n"
     ]
    }
   ],
   "source": [
    "numbers = [1,2,3,4,5,6,7,8,9,10]\n",
    "for x in numbers:\n",
    "    if x%2 ==0:\n",
    "        continue\n",
    "    print(x)"
   ]
  },
  {
   "cell_type": "markdown",
   "id": "0a6c15b2-2b48-4f38-bd2b-e2936952c7e0",
   "metadata": {},
   "source": [
    "### range 함수"
   ]
  },
  {
   "cell_type": "code",
   "execution_count": 106,
   "id": "5d8313f5-fdd3-4772-a06b-906feb4d9c1f",
   "metadata": {},
   "outputs": [
    {
     "name": "stdout",
     "output_type": "stream",
     "text": [
      "range(0, 10)\n"
     ]
    }
   ],
   "source": [
    "# range함수\n",
    "a = range(10)\n",
    "print(a)"
   ]
  },
  {
   "cell_type": "code",
   "execution_count": 110,
   "id": "f44d0c2e-0b6b-4a2b-8ea2-29567e1d85b0",
   "metadata": {},
   "outputs": [
    {
     "name": "stdout",
     "output_type": "stream",
     "text": [
      "0\n",
      "1\n",
      "2\n",
      "3\n",
      "4\n"
     ]
    }
   ],
   "source": [
    "for n in range(5):\n",
    "    print(n)"
   ]
  },
  {
   "cell_type": "code",
   "execution_count": 114,
   "id": "a993e95d-722f-430b-a7a8-f7badc73d387",
   "metadata": {},
   "outputs": [
    {
     "name": "stdout",
     "output_type": "stream",
     "text": [
      "[0, 2, 4, 6, 8, 10, 12, 14, 16, 18, 20, 22, 24, 26, 28, 30, 32, 34, 36, 38, 40, 42, 44, 46, 48, 50, 52, 54, 56, 58, 60, 62, 64, 66, 68, 70, 72, 74, 76, 78, 80, 82, 84, 86, 88, 90, 92, 94, 96, 98]\n"
     ]
    }
   ],
   "source": [
    "la = list(range(0,100,2))\n",
    "print(la)"
   ]
  },
  {
   "cell_type": "code",
   "execution_count": 120,
   "id": "0f658ef1-e268-4eda-9f29-d0f69103a8d6",
   "metadata": {},
   "outputs": [
    {
     "name": "stdout",
     "output_type": "stream",
     "text": [
      "0\n",
      "2\n",
      "4\n",
      "6\n",
      "8\n"
     ]
    }
   ],
   "source": [
    "for even in range(0,10,2):\n",
    "    print(even)"
   ]
  },
  {
   "cell_type": "code",
   "execution_count": 122,
   "id": "db0f9836-b944-45bb-a00b-41aa4e328a2b",
   "metadata": {},
   "outputs": [
    {
     "name": "stdout",
     "output_type": "stream",
     "text": [
      "55\n"
     ]
    }
   ],
   "source": [
    "add = 0 \n",
    "for i in range(1, 11): \n",
    "    add = add + i \n",
    "print(add)"
   ]
  },
  {
   "cell_type": "code",
   "execution_count": 123,
   "id": "f1d6593c-7d71-40bd-9f93-ab926ab2f79c",
   "metadata": {},
   "outputs": [
    {
     "name": "stdout",
     "output_type": "stream",
     "text": [
      "1번 학생 축하합니다. 합격입니다.\n",
      "3번 학생 축하합니다. 합격입니다.\n",
      "5번 학생 축하합니다. 합격입니다.\n"
     ]
    }
   ],
   "source": [
    "# marks3.py\n",
    "marks = [90, 25, 67, 45, 80]\n",
    "for number in range(len(marks)):\n",
    "    if marks[number] < 60: \n",
    "        continue\n",
    "    print(\"%d번 학생 축하합니다. 합격입니다.\" % (number+1))"
   ]
  },
  {
   "cell_type": "code",
   "execution_count": 2,
   "id": "5ff077bc-fb93-42c2-b894-1ad9a8e99524",
   "metadata": {},
   "outputs": [
    {
     "name": "stdout",
     "output_type": "stream",
     "text": [
      "     March 2025\n",
      "Su Mo Tu We Th Fr Sa\n",
      "                   1\n",
      " 2  3  4  5  6  7  8\n",
      " 9 10 11 12 13 14 15\n",
      "16 17 18 19 20 21 22\n",
      "23 24 25 26 27 28 29\n",
      "30 31\n",
      "\n"
     ]
    }
   ],
   "source": [
    "import calendar\n",
    "c = calendar.TextCalendar(calendar.SUNDAY)\n",
    "print(c.formatmonth(2025, 3))"
   ]
  },
  {
   "cell_type": "code",
   "execution_count": 13,
   "id": "8c4d4f52-4e88-43a1-bc50-c6ea16131ede",
   "metadata": {},
   "outputs": [
    {
     "name": "stdout",
     "output_type": "stream",
     "text": [
      "■■■■■■■■■■■"
     ]
    }
   ],
   "source": [
    "# 테스트 타이머\n",
    "import time as t\n",
    "for x in range(11):\n",
    "    print(f'■',end='')\n",
    "    t.sleep(1)"
   ]
  },
  {
   "cell_type": "code",
   "execution_count": 35,
   "id": "6f954634-b8e6-41a8-9e69-e3203b7199be",
   "metadata": {},
   "outputs": [
    {
     "name": "stdout",
     "output_type": "stream",
     "text": [
      "<class 'list'>\n",
      "<class 'tuple'>\n"
     ]
    }
   ],
   "source": [
    "# 리스트 속도측정\n",
    "import time\n",
    "lt = []\n",
    "tp = []\n",
    "length = 100*1000*1000\n",
    "for x in range(length):\n",
    "    lt.append(x)\n",
    "for t in range(length):\n",
    "    tp.append(t)\n",
    "tp = tuple(tp)\n",
    "print(type(lt))\n",
    "print(type(tp))"
   ]
  },
  {
   "cell_type": "code",
   "execution_count": 36,
   "id": "8871d745-494a-4ab8-bb8d-c945826f2acb",
   "metadata": {},
   "outputs": [
    {
     "name": "stdout",
     "output_type": "stream",
     "text": [
      "8.177012205123901\n"
     ]
    }
   ],
   "source": [
    "import time\n",
    "start = time.time()\n",
    "for x in lt:\n",
    "    lts = [1,2,3,4,5]\n",
    "print(time.time() - start)"
   ]
  },
  {
   "cell_type": "code",
   "execution_count": 37,
   "id": "f9674f80-fb14-4356-817c-e89d9aa9ddf1",
   "metadata": {},
   "outputs": [
    {
     "name": "stdout",
     "output_type": "stream",
     "text": [
      "4.009977579116821\n"
     ]
    }
   ],
   "source": [
    "import time\n",
    "start = time.time()\n",
    "for x in tp:\n",
    "    tps = (1,2,3,4,5)\n",
    "print(time.time() - start)"
   ]
  },
  {
   "cell_type": "code",
   "execution_count": 43,
   "id": "b79a7e63-aec4-46ca-9b9d-36688f48a5b8",
   "metadata": {},
   "outputs": [
    {
     "name": "stdout",
     "output_type": "stream",
     "text": [
      "Collecting tqdm\n",
      "  Downloading tqdm-4.67.1-py3-none-any.whl.metadata (57 kB)\n",
      "Requirement already satisfied: colorama in c:\\users\\admin\\appdata\\local\\programs\\python\\python313\\lib\\site-packages (from tqdm) (0.4.6)\n",
      "Downloading tqdm-4.67.1-py3-none-any.whl (78 kB)\n",
      "Installing collected packages: tqdm\n",
      "Successfully installed tqdm-4.67.1\n"
     ]
    }
   ],
   "source": [
    "!pip install tqdm"
   ]
  },
  {
   "cell_type": "code",
   "execution_count": 4,
   "id": "e30aa143-397a-4967-9e99-6024c37e4438",
   "metadata": {},
   "outputs": [
    {
     "name": "stderr",
     "output_type": "stream",
     "text": [
      "100%|████████████████████████████████████████████████████████████████████████████████| 100/100 [00:10<00:00,  9.82it/s]\n"
     ]
    }
   ],
   "source": [
    "from tqdm import tqdm \n",
    "import time as tt\n",
    "for x in tqdm(range(100)):\n",
    "    pass\n",
    "    tt.sleep(0.1)"
   ]
  },
  {
   "cell_type": "code",
   "execution_count": 29,
   "id": "9802455d-a1ec-49b1-b2f1-6da81fba9308",
   "metadata": {},
   "outputs": [
    {
     "name": "stdout",
     "output_type": "stream",
     "text": [
      "상승장\n"
     ]
    }
   ],
   "source": [
    "# 비트코인시세로 상승장 하강장 구분하기 (하루 24시간 기준)\n",
    "import requests as req\n",
    "url = \"https://api.bithumb.com/public/ticker/ALL_KRW\"\n",
    "gdata = req.get(url).json()\n",
    "btc = gdata['data']['BTC']\n",
    "maxp = float(btc['max_price']) # 최대가\n",
    "minp = float(btc['min_price']) # 최소가\n",
    "openp =float(btc['opening_price']) # 시작가\n",
    "bandp = float(maxp) - float(minp) # 변화폭\n",
    "if (openp + bandp) > maxp:\n",
    "    print('상승장')\n",
    "else:\n",
    "    print('하강장')"
   ]
  },
  {
   "cell_type": "code",
   "execution_count": 30,
   "id": "fe568a49-5569-4a8c-8eb4-5a46a9e77b2f",
   "metadata": {},
   "outputs": [
    {
     "name": "stdout",
     "output_type": "stream",
     "text": [
      "149960000\n"
     ]
    }
   ],
   "source": [
    "# 1분 캔들 기준\n",
    "import requests as req\n",
    "url = 'https://api.bithumb.com/v1/candles/minutes/1?market=KRW-BTC&count=1'\n",
    "btc_data = req.get(url).json()\n",
    "print(btc_data[0]['trade_price']) # 1분 거래가"
   ]
  },
  {
   "cell_type": "code",
   "execution_count": 31,
   "id": "3cfb8245-df11-447f-a2f8-c3469a724f44",
   "metadata": {},
   "outputs": [
    {
     "name": "stdout",
     "output_type": "stream",
     "text": [
      "2 x 1 = 2\n",
      "2 x 2 = 4\n",
      "2 x 3 = 6\n",
      "2 x 4 = 8\n",
      "2 x 5 = 10\n",
      "2 x 6 = 12\n",
      "2 x 7 = 14\n",
      "2 x 8 = 16\n",
      "2 x 9 = 18\n"
     ]
    }
   ],
   "source": [
    "for i in range(1,10):\n",
    "    print(f'{2} x {i} = {2*i}')"
   ]
  },
  {
   "cell_type": "code",
   "execution_count": 47,
   "id": "f29d4051-d07c-44a4-ae15-ac25eb91424d",
   "metadata": {
    "scrolled": true
   },
   "outputs": [
    {
     "name": "stdout",
     "output_type": "stream",
     "text": [
      "====2단====\n",
      "2 x 1 = 2\n",
      "2 x 2 = 4\n",
      "2 x 3 = 6\n",
      "2 x 4 = 8\n",
      "2 x 5 = 10\n",
      "2 x 6 = 12\n",
      "2 x 7 = 14\n",
      "2 x 8 = 16\n",
      "2 x 9 = 18\n",
      "====3단====\n",
      "3 x 1 = 3\n",
      "3 x 2 = 6\n",
      "3 x 3 = 9\n",
      "3 x 4 = 12\n",
      "3 x 5 = 15\n",
      "3 x 6 = 18\n",
      "3 x 7 = 21\n",
      "3 x 8 = 24\n",
      "3 x 9 = 27\n",
      "====4단====\n",
      "4 x 1 = 4\n",
      "4 x 2 = 8\n",
      "4 x 3 = 12\n",
      "4 x 4 = 16\n",
      "4 x 5 = 20\n",
      "4 x 6 = 24\n",
      "4 x 7 = 28\n",
      "4 x 8 = 32\n",
      "4 x 9 = 36\n",
      "====5단====\n",
      "5 x 1 = 5\n",
      "5 x 2 = 10\n",
      "5 x 3 = 15\n",
      "5 x 4 = 20\n",
      "5 x 5 = 25\n",
      "5 x 6 = 30\n",
      "5 x 7 = 35\n",
      "5 x 8 = 40\n",
      "5 x 9 = 45\n",
      "====6단====\n",
      "6 x 1 = 6\n",
      "6 x 2 = 12\n",
      "6 x 3 = 18\n",
      "6 x 4 = 24\n",
      "6 x 5 = 30\n",
      "6 x 6 = 36\n",
      "6 x 7 = 42\n",
      "6 x 8 = 48\n",
      "6 x 9 = 54\n",
      "====7단====\n",
      "7 x 1 = 7\n",
      "7 x 2 = 14\n",
      "7 x 3 = 21\n",
      "7 x 4 = 28\n",
      "7 x 5 = 35\n",
      "7 x 6 = 42\n",
      "7 x 7 = 49\n",
      "7 x 8 = 56\n",
      "7 x 9 = 63\n",
      "====8단====\n",
      "8 x 1 = 8\n",
      "8 x 2 = 16\n",
      "8 x 3 = 24\n",
      "8 x 4 = 32\n",
      "8 x 5 = 40\n",
      "8 x 6 = 48\n",
      "8 x 7 = 56\n",
      "8 x 8 = 64\n",
      "8 x 9 = 72\n",
      "====9단====\n",
      "9 x 1 = 9\n",
      "9 x 2 = 18\n",
      "9 x 3 = 27\n",
      "9 x 4 = 36\n",
      "9 x 5 = 45\n",
      "9 x 6 = 54\n",
      "9 x 7 = 63\n",
      "9 x 8 = 72\n",
      "9 x 9 = 81\n"
     ]
    }
   ],
   "source": [
    "for j in range(2,10):\n",
    "    print(f\"{str(j)+'단':=^10}\")\n",
    "    for i in range(1,10):\n",
    "        print(f'{j} x {i} = {j*i}')"
   ]
  },
  {
   "cell_type": "markdown",
   "id": "0ee13060-79e0-4a04-893d-5f60597d4918",
   "metadata": {},
   "source": [
    "### 리스트 컴프리헨션"
   ]
  },
  {
   "cell_type": "code",
   "execution_count": 48,
   "id": "2513ab77-89f7-4bfd-8d2e-004aeb449ec1",
   "metadata": {},
   "outputs": [
    {
     "name": "stdout",
     "output_type": "stream",
     "text": [
      "[3, 6, 9, 12]\n"
     ]
    }
   ],
   "source": [
    "# 기본적인 리스트에 값 넣기\n",
    "a = [1,2,3,4]\n",
    "result = []\n",
    "for num in a:\n",
    "    result.append(num*3)\n",
    "print(result)"
   ]
  },
  {
   "cell_type": "code",
   "execution_count": 50,
   "id": "f2797082-646a-45e0-b93e-fc5c1c6ed72b",
   "metadata": {},
   "outputs": [
    {
     "data": {
      "text/plain": [
       "[3, 6, 9, 12]"
      ]
     },
     "execution_count": 50,
     "metadata": {},
     "output_type": "execute_result"
    }
   ],
   "source": [
    "# 리스트 컴프리헨션\n",
    "[num*3 for num in [1,2,3,4]]"
   ]
  },
  {
   "cell_type": "code",
   "execution_count": 51,
   "id": "5ddd045e-e65b-4cdc-91bd-914492847dd7",
   "metadata": {},
   "outputs": [
    {
     "data": {
      "text/plain": [
       "[0, 1, 2, 3, 4, 5, 6, 7, 8, 9]"
      ]
     },
     "execution_count": 51,
     "metadata": {},
     "output_type": "execute_result"
    }
   ],
   "source": [
    "# 테스트1\n",
    "# list(range(10))\n",
    "[x for x in range(10)]"
   ]
  },
  {
   "cell_type": "code",
   "execution_count": 57,
   "id": "abebb935-51dd-4652-ab17-07fe578017e7",
   "metadata": {},
   "outputs": [
    {
     "name": "stdout",
     "output_type": "stream",
     "text": [
      "[0, 6, 12, 18, 24]\n"
     ]
    }
   ],
   "source": [
    "res = []\n",
    "for x in range(10):\n",
    "    if x%2==0:\n",
    "        res.append(x*3)\n",
    "print(res)"
   ]
  },
  {
   "cell_type": "code",
   "execution_count": 58,
   "id": "6fecebcc-c12a-4b9d-b30e-bf70789573e8",
   "metadata": {},
   "outputs": [
    {
     "data": {
      "text/plain": [
       "[0, 6, 12, 18, 24]"
      ]
     },
     "execution_count": 58,
     "metadata": {},
     "output_type": "execute_result"
    }
   ],
   "source": [
    "[x*3 for x in range(10) if x%2==0]"
   ]
  },
  {
   "cell_type": "code",
   "execution_count": 61,
   "id": "ec040a49-bdc8-4cc7-9200-c7f1d463a4ed",
   "metadata": {},
   "outputs": [
    {
     "name": "stdout",
     "output_type": "stream",
     "text": [
      "[2, 4, 6, 8, 10, 12, 14, 16, 18, 3, 6, 9, 12, 15, 18, 21, 24, 27, 4, 8, 12, 16, 20, 24, 28, 32, 36, 5, 10, 15, 20, 25, 30, 35, 40, 45, 6, 12, 18, 24, 30, 36, 42, 48, 54, 7, 14, 21, 28, 35, 42, 49, 56, 63, 8, 16, 24, 32, 40, 48, 56, 64, 72, 9, 18, 27, 36, 45, 54, 63, 72, 81]\n"
     ]
    }
   ],
   "source": [
    "result = [ i * j for i in range(2,10) for j in range(1, 10)]\n",
    "print(result)"
   ]
  },
  {
   "cell_type": "code",
   "execution_count": null,
   "id": "7bc4cbeb-9cfe-41b9-8bf6-b498ee128162",
   "metadata": {
    "scrolled": true
   },
   "outputs": [],
   "source": [
    "# for j in range(2,10):\n",
    "#     print(f\"{str(j)+'단':=^10}\")\n",
    "#     for i in range(1,10):\n",
    "#         print(f'{j} x {i} = {j*i}')\n",
    "\n",
    "for a in [f'{j} x {i} = {j*i}' for j in range(2,10) for i in range(1,10)]:\n",
    "    print(a)"
   ]
  },
  {
   "cell_type": "code",
   "execution_count": 16,
   "id": "7c75369f-2c90-4029-8ed1-13a692ab901c",
   "metadata": {},
   "outputs": [
    {
     "name": "stdout",
     "output_type": "stream",
     "text": [
      "[414, 313, 77, 66, 55, 22, 11] 큰수: 414\n",
      "[414, 313, 77, 66, 55, 22, 11] 큰수: 414\n"
     ]
    }
   ],
   "source": [
    "# 방법1\n",
    "a = [11,22,313,414,55,66,77]\n",
    "a.sort(reverse=True)\n",
    "print(a, '큰수:',a[0])\n",
    "# 방법2\n",
    "print(a,'큰수:',max(a))"
   ]
  },
  {
   "cell_type": "code",
   "execution_count": 37,
   "id": "0977473a-c221-433a-aa9f-a2a98bd91328",
   "metadata": {},
   "outputs": [
    {
     "name": "stdout",
     "output_type": "stream",
     "text": [
      "[27, 28, 36, 37, 40, 46] 6\n"
     ]
    }
   ],
   "source": [
    "import random\n",
    "box = []\n",
    "while len(box) < 6:\n",
    "    ran = random.randint(1,46)\n",
    "    if not ran in box:\n",
    "        box.append(ran)\n",
    "box.sort()\n",
    "print(box,len(box))"
   ]
  },
  {
   "cell_type": "code",
   "execution_count": null,
   "id": "bc018ea5-f4ef-4822-9832-9396e532c2fb",
   "metadata": {
    "scrolled": true
   },
   "outputs": [],
   "source": [
    "# 참고용 1\n",
    "ls = []\n",
    "la = []\n",
    "how = 100\n",
    "for h in range(how):\n",
    "    lotto = sorted(random.sample(range(1,46),6))   \n",
    "    la.append(lotto)\n",
    "    ls = ls + lotto\n",
    "# print(la, type(la))\n",
    "ss = []\n",
    "for n in range(1,46):\n",
    "    ss.append(ls.count(n))\n",
    "    print(f'숫자{n}: 출현한 횟수는 {ls.count(n)}회 입니다.')\n",
    "print(ss,sum(ss) == how*6)\n",
    "if sum(ss) == (how * 6):\n",
    "    print(f\"출현횟수 {how}에 대한 검증이 이상 없습니다.\")"
   ]
  },
  {
   "cell_type": "code",
   "execution_count": 61,
   "id": "d72e4a84-0d27-42e7-99e3-1e4108dfc814",
   "metadata": {},
   "outputs": [
    {
     "name": "stdout",
     "output_type": "stream",
     "text": [
      "{'num1': 14, 'num2': 8, 'num3': 13, 'num4': 16, 'num5': 16, 'num6': 12, 'num7': 16, 'num8': 16, 'num9': 13, 'num10': 13, 'num11': 12, 'num12': 18, 'num13': 13, 'num14': 11, 'num15': 23, 'num16': 15, 'num17': 17, 'num18': 13, 'num19': 17, 'num20': 16, 'num21': 15, 'num22': 15, 'num23': 11, 'num24': 9, 'num25': 9, 'num26': 10, 'num27': 12, 'num28': 13, 'num29': 11, 'num30': 16, 'num31': 10, 'num32': 9, 'num33': 12, 'num34': 12, 'num35': 11, 'num36': 11, 'num37': 13, 'num38': 7, 'num39': 16, 'num40': 14, 'num41': 5, 'num42': 17, 'num43': 22, 'num44': 15, 'num45': 13}\n",
      "600\n"
     ]
    }
   ],
   "source": [
    "# 참고용 2\n",
    "ls = []\n",
    "la = []\n",
    "how = 100\n",
    "for h in range(how):\n",
    "    lotto = sorted(random.sample(range(1,46),6))   \n",
    "    la.append(lotto)\n",
    "    ls = ls + lotto\n",
    "dic = {}\n",
    "for n in range(1,46):\n",
    "    dic[f\"num{n}\"] = ls.count(n)\n",
    "    # print(f'숫자{n}: 출현한 횟수는 {ls.count(n)}회 입니다.')\n",
    "print(dic)\n",
    "print(sum(dic.values()))"
   ]
  },
  {
   "cell_type": "code",
   "execution_count": 68,
   "id": "a038bcfc-9d25-4a04-a563-3c5b95e00c01",
   "metadata": {},
   "outputs": [
    {
     "name": "stdout",
     "output_type": "stream",
     "text": [
      "[14, 24, 29, 30, 31, 34] 6\n"
     ]
    }
   ],
   "source": [
    "import random\n",
    "def 로또(파라미터=6,매개변수=46):\n",
    "    box = []\n",
    "    while len(box) < 파라미터:\n",
    "        ran = random.randint(1,매개변수)\n",
    "        if not ran in box:\n",
    "            box.append(ran)\n",
    "    box.sort()\n",
    "    print(box,len(box))\n",
    "로또()"
   ]
  },
  {
   "cell_type": "code",
   "execution_count": 63,
   "id": "5a1d57aa-d5bb-4ccd-b47c-dc6af5b221e5",
   "metadata": {},
   "outputs": [
    {
     "name": "stdout",
     "output_type": "stream",
     "text": [
      "[5, 18, 19, 25, 29, 44] 6\n",
      "[2, 9, 10, 13, 29, 46] 6\n",
      "[2, 10, 12, 16, 21, 28] 6\n",
      "[2, 8, 11, 21, 24, 31] 6\n",
      "[11, 13, 31, 36, 38, 43] 6\n"
     ]
    }
   ],
   "source": [
    "# 참고용 3\n",
    "for n in range(5):\n",
    "    로또()"
   ]
  },
  {
   "cell_type": "code",
   "execution_count": null,
   "id": "088b0bbd-18ac-4261-948f-1e73b602e4e9",
   "metadata": {},
   "outputs": [],
   "source": []
  }
 ],
 "metadata": {
  "kernelspec": {
   "display_name": "Python 3 (ipykernel)",
   "language": "python",
   "name": "python3"
  },
  "language_info": {
   "codemirror_mode": {
    "name": "ipython",
    "version": 3
   },
   "file_extension": ".py",
   "mimetype": "text/x-python",
   "name": "python",
   "nbconvert_exporter": "python",
   "pygments_lexer": "ipython3",
   "version": "3.13.1"
  }
 },
 "nbformat": 4,
 "nbformat_minor": 5
}

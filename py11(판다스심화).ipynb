{
 "cells": [
  {
   "cell_type": "markdown",
   "id": "ab340941-ec6b-4539-b993-18c331eb0a9e",
   "metadata": {},
   "source": [
    "# 판다스심화"
   ]
  },
  {
   "cell_type": "markdown",
   "id": "93afb857-5784-427c-8413-eec2f5c785a7",
   "metadata": {},
   "source": [
    "## 데이터프레임 정렬"
   ]
  },
  {
   "cell_type": "code",
   "execution_count": null,
   "id": "269ab44d-8948-453f-a55c-8cb7ba89a4b1",
   "metadata": {
    "scrolled": true
   },
   "outputs": [],
   "source": [
    "import numpy as np\n",
    "import pandas as pd\n",
    "print(\"DataFrame: \")\n",
    "data = {\"col1\":[2,1,9,8,7,4],\n",
    "        \"col2\":['A','A','B',np.nan,'D','C'],\n",
    "        \"col3\":[0,1,9,4,2,3]\n",
    "}\n",
    "index = [1,3,2,5,0,4]\n",
    "df = pd.DataFrame(data,index)\n",
    "df"
   ]
  },
  {
   "cell_type": "code",
   "execution_count": null,
   "id": "08f7c6fd-7b7c-4662-8fd4-bde061f9da12",
   "metadata": {},
   "outputs": [],
   "source": [
    "df = df.sort_index(axis=0)\n",
    "#axis는 열행을 나타낸다 0행 1열\n",
    "df"
   ]
  },
  {
   "cell_type": "code",
   "execution_count": null,
   "id": "9ffa1a9e-e109-477d-b07a-16eaf12528a8",
   "metadata": {},
   "outputs": [],
   "source": [
    "df = df.sort_index(axis=1 , ascending =False)\n",
    "#ascending는 오름차순을 나타낸다. 1행을 내림차순으로 나열이란 뜻 ↑\n",
    "#descending은 내림차순을 나타낸다.\n",
    "df"
   ]
  },
  {
   "cell_type": "code",
   "execution_count": null,
   "id": "bfb7f4af-8818-4563-9d6c-79fe283b14bf",
   "metadata": {},
   "outputs": [],
   "source": [
    "#sort_value\n",
    "sorted_df1 = df.sort_values(\"col1\", ascending = 1)\n",
    "sorted_df1"
   ]
  },
  {
   "cell_type": "code",
   "execution_count": null,
   "id": "0f4c8eba-90a1-4715-84b2-71fa3558f7f8",
   "metadata": {},
   "outputs": [],
   "source": [
    "#sorted_values 2\n",
    "sorted_df2 = df.sort_values(['col2','col1'],ascending = [1,0])\n",
    "sorted_df2"
   ]
  },
  {
   "cell_type": "markdown",
   "id": "0b813b38-ce63-4b91-9225-55f18ef3360a",
   "metadata": {},
   "source": [
    "## 데이터분석용 함수"
   ]
  },
  {
   "cell_type": "code",
   "execution_count": null,
   "id": "35a4a9f5-2a41-477e-ab7d-c7df11c8a557",
   "metadata": {},
   "outputs": [],
   "source": [
    "import numpy as np\n",
    "import pandas as pd\n",
    "data ={\n",
    "    \"korean\":[50,60,70,30],\n",
    "    \"math\":[30,np.nan,40,20]\n",
    "}\n",
    "df = pd.DataFrame(data, index = ['a','b','c','d'])\n",
    "print(df.index)\n",
    "print(df.columns)\n",
    "df"
   ]
  },
  {
   "cell_type": "code",
   "execution_count": null,
   "id": "b9a21877-8b45-4b0a-9cba-d2a6818df302",
   "metadata": {},
   "outputs": [],
   "source": [
    "# count()함수\n",
    "print(df.count(axis=0)) #axis = 0 기본값(생략가능)\n",
    "print(df.count(axis=1))"
   ]
  },
  {
   "cell_type": "code",
   "execution_count": 54,
   "id": "b4a415f3-856d-468c-97b0-97176a84ae1e",
   "metadata": {},
   "outputs": [
    {
     "name": "stdout",
     "output_type": "stream",
     "text": [
      "korean    70.0\n",
      "math      40.0\n",
      "dtype: float64\n",
      "a    50.0\n",
      "b    60.0\n",
      "c    70.0\n",
      "d    30.0\n",
      "dtype: float64\n",
      "====================\n",
      "korean    30.0\n",
      "math      20.0\n",
      "dtype: float64\n",
      "a    30.0\n",
      "b    60.0\n",
      "c    40.0\n",
      "d    20.0\n",
      "dtype: float64\n",
      "====================\n",
      "korean    210.0\n",
      "math       90.0\n",
      "dtype: float64\n",
      "a     80.0\n",
      "b     60.0\n",
      "c    110.0\n",
      "d     50.0\n",
      "dtype: float64\n",
      "====================\n",
      "korean    52.5\n",
      "math      30.0\n",
      "dtype: float64\n",
      "a    40.0\n",
      "b     NaN\n",
      "c    55.0\n",
      "d    25.0\n",
      "dtype: float64\n"
     ]
    }
   ],
   "source": [
    "# max().min().sum().mean()\n",
    "\n",
    "print(df.max())\n",
    "print(df.max(axis=1))\n",
    "print(\"=\"*20)\n",
    "print(df.min())\n",
    "print(df.min(axis=1))\n",
    "print(\"=\"*20)\n",
    "print(df.sum())\n",
    "print(df.sum(axis=1))\n",
    "print(\"=\"*20)\n",
    "print(df.mean())\n",
    "print(df.mean(axis=1,skipna=False))\n",
    "#skipna는 NaN값을 포함할지 말지 고르는 기능이다. True는 빼고 False는 넣고이다."
   ]
  },
  {
   "cell_type": "code",
   "execution_count": 57,
   "id": "3472833d-9489-4928-b1a9-2f8d7f5c1ef8",
   "metadata": {},
   "outputs": [
    {
     "data": {
      "text/html": [
       "<div>\n",
       "<style scoped>\n",
       "    .dataframe tbody tr th:only-of-type {\n",
       "        vertical-align: middle;\n",
       "    }\n",
       "\n",
       "    .dataframe tbody tr th {\n",
       "        vertical-align: top;\n",
       "    }\n",
       "\n",
       "    .dataframe thead th {\n",
       "        text-align: right;\n",
       "    }\n",
       "</style>\n",
       "<table border=\"1\" class=\"dataframe\">\n",
       "  <thead>\n",
       "    <tr style=\"text-align: right;\">\n",
       "      <th></th>\n",
       "      <th>korean</th>\n",
       "      <th>math</th>\n",
       "    </tr>\n",
       "  </thead>\n",
       "  <tbody>\n",
       "    <tr>\n",
       "      <th>a</th>\n",
       "      <td>50</td>\n",
       "      <td>30.0</td>\n",
       "    </tr>\n",
       "    <tr>\n",
       "      <th>b</th>\n",
       "      <td>60</td>\n",
       "      <td>30.0</td>\n",
       "    </tr>\n",
       "    <tr>\n",
       "      <th>c</th>\n",
       "      <td>70</td>\n",
       "      <td>40.0</td>\n",
       "    </tr>\n",
       "    <tr>\n",
       "      <th>d</th>\n",
       "      <td>30</td>\n",
       "      <td>20.0</td>\n",
       "    </tr>\n",
       "  </tbody>\n",
       "</table>\n",
       "</div>"
      ],
      "text/plain": [
       "   korean  math\n",
       "a      50  30.0\n",
       "b      60  30.0\n",
       "c      70  40.0\n",
       "d      30  20.0"
      ]
     },
     "execution_count": 57,
     "metadata": {},
     "output_type": "execute_result"
    }
   ],
   "source": [
    "#결측값 대체 fillna\n",
    "avg = df[\"math\"].mean()\n",
    "df[\"math\"]=df[\"math\"].fillna(avg)\n",
    "df"
   ]
  },
  {
   "cell_type": "markdown",
   "id": "ae06f864-359b-4c69-866e-f43a2b96b463",
   "metadata": {},
   "source": [
    "## 그룹으로 묶기 groupby"
   ]
  },
  {
   "cell_type": "code",
   "execution_count": 10,
   "id": "cbf4da64-8a2c-47a0-a7ba-0e88d7408ddd",
   "metadata": {},
   "outputs": [
    {
     "name": "stdout",
     "output_type": "stream",
     "text": [
      "DataFrame: \n"
     ]
    },
    {
     "data": {
      "text/html": [
       "<div>\n",
       "<style scoped>\n",
       "    .dataframe tbody tr th:only-of-type {\n",
       "        vertical-align: middle;\n",
       "    }\n",
       "\n",
       "    .dataframe tbody tr th {\n",
       "        vertical-align: top;\n",
       "    }\n",
       "\n",
       "    .dataframe thead th {\n",
       "        text-align: right;\n",
       "    }\n",
       "</style>\n",
       "<table border=\"1\" class=\"dataframe\">\n",
       "  <thead>\n",
       "    <tr style=\"text-align: right;\">\n",
       "      <th></th>\n",
       "      <th>key</th>\n",
       "      <th>data1</th>\n",
       "      <th>data2</th>\n",
       "    </tr>\n",
       "  </thead>\n",
       "  <tbody>\n",
       "    <tr>\n",
       "      <th>0</th>\n",
       "      <td>A</td>\n",
       "      <td>1</td>\n",
       "      <td>4</td>\n",
       "    </tr>\n",
       "    <tr>\n",
       "      <th>1</th>\n",
       "      <td>B</td>\n",
       "      <td>2</td>\n",
       "      <td>4</td>\n",
       "    </tr>\n",
       "    <tr>\n",
       "      <th>2</th>\n",
       "      <td>C</td>\n",
       "      <td>3</td>\n",
       "      <td>6</td>\n",
       "    </tr>\n",
       "    <tr>\n",
       "      <th>3</th>\n",
       "      <td>A</td>\n",
       "      <td>1</td>\n",
       "      <td>0</td>\n",
       "    </tr>\n",
       "    <tr>\n",
       "      <th>4</th>\n",
       "      <td>B</td>\n",
       "      <td>2</td>\n",
       "      <td>6</td>\n",
       "    </tr>\n",
       "    <tr>\n",
       "      <th>5</th>\n",
       "      <td>C</td>\n",
       "      <td>3</td>\n",
       "      <td>1</td>\n",
       "    </tr>\n",
       "  </tbody>\n",
       "</table>\n",
       "</div>"
      ],
      "text/plain": [
       "  key  data1  data2\n",
       "0   A      1      4\n",
       "1   B      2      4\n",
       "2   C      3      6\n",
       "3   A      1      0\n",
       "4   B      2      6\n",
       "5   C      3      1"
      ]
     },
     "execution_count": 10,
     "metadata": {},
     "output_type": "execute_result"
    }
   ],
   "source": [
    "import numpy as np\n",
    "import pandas as pd\n",
    "\n",
    "df = pd.DataFrame({\n",
    "    'key':['A','B','C','A','B','C'],\n",
    "    'data1':[1,2,3,1,2,3],\n",
    "    'data2':[4,4,6,0,6,1],\n",
    "    #'data3':['안녕','a','ba','하세요','pple','nana']\n",
    "})\n",
    "print(\"DataFrame: \")\n",
    "df"
   ]
  },
  {
   "cell_type": "code",
   "execution_count": 67,
   "id": "a363da1b-d43f-4c0f-be79-201b10dcc31a",
   "metadata": {},
   "outputs": [
    {
     "data": {
      "text/html": [
       "<div>\n",
       "<style scoped>\n",
       "    .dataframe tbody tr th:only-of-type {\n",
       "        vertical-align: middle;\n",
       "    }\n",
       "\n",
       "    .dataframe tbody tr th {\n",
       "        vertical-align: top;\n",
       "    }\n",
       "\n",
       "    .dataframe thead th {\n",
       "        text-align: right;\n",
       "    }\n",
       "</style>\n",
       "<table border=\"1\" class=\"dataframe\">\n",
       "  <thead>\n",
       "    <tr style=\"text-align: right;\">\n",
       "      <th></th>\n",
       "      <th>data1</th>\n",
       "      <th>data2</th>\n",
       "      <th>data3</th>\n",
       "    </tr>\n",
       "    <tr>\n",
       "      <th>key</th>\n",
       "      <th></th>\n",
       "      <th></th>\n",
       "      <th></th>\n",
       "    </tr>\n",
       "  </thead>\n",
       "  <tbody>\n",
       "    <tr>\n",
       "      <th>A</th>\n",
       "      <td>2</td>\n",
       "      <td>4</td>\n",
       "      <td>안녕하세요</td>\n",
       "    </tr>\n",
       "    <tr>\n",
       "      <th>B</th>\n",
       "      <td>4</td>\n",
       "      <td>10</td>\n",
       "      <td>apple</td>\n",
       "    </tr>\n",
       "    <tr>\n",
       "      <th>C</th>\n",
       "      <td>6</td>\n",
       "      <td>7</td>\n",
       "      <td>bnana</td>\n",
       "    </tr>\n",
       "  </tbody>\n",
       "</table>\n",
       "</div>"
      ],
      "text/plain": [
       "     data1  data2  data3\n",
       "key                     \n",
       "A        2      4  안녕하세요\n",
       "B        4     10  apple\n",
       "C        6      7  bnana"
      ]
     },
     "execution_count": 67,
     "metadata": {},
     "output_type": "execute_result"
    }
   ],
   "source": [
    "df.groupby('key').sum()"
   ]
  },
  {
   "cell_type": "code",
   "execution_count": 6,
   "id": "c8062c14-cc60-4c42-ab2c-17f3a22906c8",
   "metadata": {},
   "outputs": [
    {
     "data": {
      "text/html": [
       "<div>\n",
       "<style scoped>\n",
       "    .dataframe tbody tr th:only-of-type {\n",
       "        vertical-align: middle;\n",
       "    }\n",
       "\n",
       "    .dataframe tbody tr th {\n",
       "        vertical-align: top;\n",
       "    }\n",
       "\n",
       "    .dataframe thead th {\n",
       "        text-align: right;\n",
       "    }\n",
       "</style>\n",
       "<table border=\"1\" class=\"dataframe\">\n",
       "  <thead>\n",
       "    <tr style=\"text-align: right;\">\n",
       "      <th></th>\n",
       "      <th>key</th>\n",
       "      <th>data1</th>\n",
       "      <th>data2</th>\n",
       "      <th>data3</th>\n",
       "    </tr>\n",
       "  </thead>\n",
       "  <tbody>\n",
       "    <tr>\n",
       "      <th>0</th>\n",
       "      <td>A</td>\n",
       "      <td>1</td>\n",
       "      <td>4</td>\n",
       "      <td>안녕하세요</td>\n",
       "    </tr>\n",
       "    <tr>\n",
       "      <th>1</th>\n",
       "      <td>B</td>\n",
       "      <td>2</td>\n",
       "      <td>10</td>\n",
       "      <td>apple</td>\n",
       "    </tr>\n",
       "    <tr>\n",
       "      <th>2</th>\n",
       "      <td>C</td>\n",
       "      <td>3</td>\n",
       "      <td>7</td>\n",
       "      <td>banana</td>\n",
       "    </tr>\n",
       "  </tbody>\n",
       "</table>\n",
       "</div>"
      ],
      "text/plain": [
       "  key  data1  data2   data3\n",
       "0   A      1      4   안녕하세요\n",
       "1   B      2     10   apple\n",
       "2   C      3      7  banana"
      ]
     },
     "execution_count": 6,
     "metadata": {},
     "output_type": "execute_result"
    }
   ],
   "source": [
    "df.groupby(['key','data1']).sum().reset_index()"
   ]
  },
  {
   "cell_type": "code",
   "execution_count": 13,
   "id": "b30b7ce2-e1ec-4134-a8a5-b2ba91557e81",
   "metadata": {},
   "outputs": [
    {
     "data": {
      "text/html": [
       "<div>\n",
       "<style scoped>\n",
       "    .dataframe tbody tr th:only-of-type {\n",
       "        vertical-align: middle;\n",
       "    }\n",
       "\n",
       "    .dataframe tbody tr th {\n",
       "        vertical-align: top;\n",
       "    }\n",
       "\n",
       "    .dataframe thead tr th {\n",
       "        text-align: left;\n",
       "    }\n",
       "\n",
       "    .dataframe thead tr:last-of-type th {\n",
       "        text-align: right;\n",
       "    }\n",
       "</style>\n",
       "<table border=\"1\" class=\"dataframe\">\n",
       "  <thead>\n",
       "    <tr>\n",
       "      <th></th>\n",
       "      <th colspan=\"3\" halign=\"left\">data1</th>\n",
       "      <th colspan=\"3\" halign=\"left\">data2</th>\n",
       "    </tr>\n",
       "    <tr>\n",
       "      <th></th>\n",
       "      <th>min</th>\n",
       "      <th>median</th>\n",
       "      <th>max</th>\n",
       "      <th>min</th>\n",
       "      <th>median</th>\n",
       "      <th>max</th>\n",
       "    </tr>\n",
       "    <tr>\n",
       "      <th>key</th>\n",
       "      <th></th>\n",
       "      <th></th>\n",
       "      <th></th>\n",
       "      <th></th>\n",
       "      <th></th>\n",
       "      <th></th>\n",
       "    </tr>\n",
       "  </thead>\n",
       "  <tbody>\n",
       "    <tr>\n",
       "      <th>A</th>\n",
       "      <td>1</td>\n",
       "      <td>1.0</td>\n",
       "      <td>1</td>\n",
       "      <td>0</td>\n",
       "      <td>2.0</td>\n",
       "      <td>4</td>\n",
       "    </tr>\n",
       "    <tr>\n",
       "      <th>B</th>\n",
       "      <td>2</td>\n",
       "      <td>2.0</td>\n",
       "      <td>2</td>\n",
       "      <td>4</td>\n",
       "      <td>5.0</td>\n",
       "      <td>6</td>\n",
       "    </tr>\n",
       "    <tr>\n",
       "      <th>C</th>\n",
       "      <td>3</td>\n",
       "      <td>3.0</td>\n",
       "      <td>3</td>\n",
       "      <td>1</td>\n",
       "      <td>3.5</td>\n",
       "      <td>6</td>\n",
       "    </tr>\n",
       "  </tbody>\n",
       "</table>\n",
       "</div>"
      ],
      "text/plain": [
       "    data1            data2           \n",
       "      min median max   min median max\n",
       "key                                  \n",
       "A       1    1.0   1     0    2.0   4\n",
       "B       2    2.0   2     4    5.0   6\n",
       "C       3    3.0   3     1    3.5   6"
      ]
     },
     "execution_count": 13,
     "metadata": {},
     "output_type": "execute_result"
    }
   ],
   "source": [
    "df.groupby('key').aggregate(['min','median','max'])\n"
   ]
  },
  {
   "cell_type": "code",
   "execution_count": null,
   "id": "e1f7cd3d-abac-4b64-aac7-b66c30e91d5b",
   "metadata": {},
   "outputs": [],
   "source": []
  }
 ],
 "metadata": {
  "kernelspec": {
   "display_name": "Python 3 (ipykernel)",
   "language": "python",
   "name": "python3"
  },
  "language_info": {
   "codemirror_mode": {
    "name": "ipython",
    "version": 3
   },
   "file_extension": ".py",
   "mimetype": "text/x-python",
   "name": "python",
   "nbconvert_exporter": "python",
   "pygments_lexer": "ipython3",
   "version": "3.13.1"
  }
 },
 "nbformat": 4,
 "nbformat_minor": 5
}

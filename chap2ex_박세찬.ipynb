{
 "cells": [
  {
   "cell_type": "code",
   "execution_count": 3,
   "id": "169d268e-1b24-4ba5-84c1-5d2abdc28671",
   "metadata": {},
   "outputs": [
    {
     "name": "stdout",
     "output_type": "stream",
     "text": [
      "70.0\n"
     ]
    }
   ],
   "source": [
    "a = 80\n",
    "b = 75\n",
    "c = 55\n",
    "print((a+b+c)/3)"
   ]
  },
  {
   "cell_type": "code",
   "execution_count": 5,
   "id": "47339192-e4a7-48c2-a854-b6c1be30a710",
   "metadata": {},
   "outputs": [
    {
     "name": "stdout",
     "output_type": "stream",
     "text": [
      "1\n"
     ]
    }
   ],
   "source": [
    "a = 13\n",
    "# 나머지가 1일경우 홀수 0이면 짝수\n",
    "print(a%2)\n"
   ]
  },
  {
   "cell_type": "code",
   "execution_count": 12,
   "id": "96d55638-ba1b-470c-aa72-51a25cd4f63d",
   "metadata": {},
   "outputs": [
    {
     "name": "stdout",
     "output_type": "stream",
     "text": [
      "yyyymmdd = 19881120\n",
      "num = 1068234\n",
      "881120\n",
      "1068234\n"
     ]
    }
   ],
   "source": [
    "pin = \"881120-1068234\"\n",
    "print(\"yyyymmdd = \"+\"19\"+pin[:6])\n",
    "print(\"num = \"+pin[7:])\n",
    "print(pin[:6])\n",
    "print(pin[7:])"
   ]
  },
  {
   "cell_type": "code",
   "execution_count": 13,
   "id": "a3858275-ab8e-41b0-9f19-af6ebca1c254",
   "metadata": {},
   "outputs": [
    {
     "name": "stdout",
     "output_type": "stream",
     "text": [
      "1\n"
     ]
    }
   ],
   "source": [
    "print(pin[7])"
   ]
  },
  {
   "cell_type": "code",
   "execution_count": 15,
   "id": "fefb394b-a194-4452-a5c8-b32343f1f335",
   "metadata": {},
   "outputs": [
    {
     "name": "stdout",
     "output_type": "stream",
     "text": [
      "a#b#c#d\n"
     ]
    }
   ],
   "source": [
    "a = \"a:b:c:d\"\n",
    "b = a.replace(\":\",\"#\")\n",
    "print(b)"
   ]
  },
  {
   "cell_type": "code",
   "execution_count": 33,
   "id": "cc25cb5a-b396-4dea-9b6e-2a222ba42cf4",
   "metadata": {},
   "outputs": [
    {
     "name": "stdout",
     "output_type": "stream",
     "text": [
      "[5, 4, 3, 2, 1]\n"
     ]
    }
   ],
   "source": [
    "ab = [1,3,5,4,2]\n",
    "ab.sort()\n",
    "ab.reverse()\n",
    "print(ab)"
   ]
  },
  {
   "cell_type": "code",
   "execution_count": 39,
   "id": "733ac9f9-08af-4533-a44b-194132749140",
   "metadata": {},
   "outputs": [
    {
     "name": "stdout",
     "output_type": "stream",
     "text": [
      "Life is too short\n"
     ]
    }
   ],
   "source": [
    "a = [\"Life\",\"is\",\"too\",\"short\"]\n",
    "result = \" \".join(a)\n",
    "print(result)"
   ]
  },
  {
   "cell_type": "code",
   "execution_count": 48,
   "id": "67d2eba7-3e00-4bc8-8231-276ab143ab1b",
   "metadata": {},
   "outputs": [
    {
     "name": "stdout",
     "output_type": "stream",
     "text": [
      "(1, 2, 3, 4)\n"
     ]
    }
   ],
   "source": [
    "a = (1,2,3)\n",
    "b = (4,)\n",
    "print(a + b)"
   ]
  },
  {
   "cell_type": "code",
   "execution_count": null,
   "id": "bf118da0-1370-43a0-b316-3dab195f6a98",
   "metadata": {},
   "outputs": [],
   "source": [
    "a = dict()\n",
    "a\n",
    "a[[1]] = \"python\"\n",
    "a\n",
    "# 1이 오류이다. 이유는 [1]은 key인데 리스트형태를 띄고 있기 때문이다. "
   ]
  },
  {
   "cell_type": "code",
   "execution_count": 58,
   "id": "56b6dd54-64da-48ee-9869-fc261ab834dd",
   "metadata": {},
   "outputs": [
    {
     "name": "stdout",
     "output_type": "stream",
     "text": [
      "{'A': 90, 'c': 70}\n",
      "80\n"
     ]
    }
   ],
   "source": [
    "a = {\"A\":90, \"B\":80, \"c\":70}\n",
    "result = a.pop(\"B\")\n",
    "print(a)\n",
    "print(result)"
   ]
  },
  {
   "cell_type": "code",
   "execution_count": 59,
   "id": "578ebffd-25dd-4196-b73c-647b640da555",
   "metadata": {},
   "outputs": [
    {
     "name": "stdout",
     "output_type": "stream",
     "text": [
      "[1, 4, 3]\n"
     ]
    }
   ],
   "source": [
    "a = b =[1,2,3]\n",
    "a[1] = 4\n",
    "print(b)\n",
    "# a=b라는 뜻은 a와b는 서로 같다 즉, 저장공간과 요소마저 똑같다는 소리이다. 이는 a의 값을\n",
    "# 변경해도 b값이 a처럼 변하고 b값을 변경해도 a값이 b값처럼 변한다는 얘기이다. 그래서 \n",
    "# b는 [1,4,3]이 된다"
   ]
  },
  {
   "cell_type": "code",
   "execution_count": null,
   "id": "ff582e31-5028-42e6-9bf3-e24ef85abc4b",
   "metadata": {},
   "outputs": [],
   "source": []
  }
 ],
 "metadata": {
  "kernelspec": {
   "display_name": "Python 3 (ipykernel)",
   "language": "python",
   "name": "python3"
  },
  "language_info": {
   "codemirror_mode": {
    "name": "ipython",
    "version": 3
   },
   "file_extension": ".py",
   "mimetype": "text/x-python",
   "name": "python",
   "nbconvert_exporter": "python",
   "pygments_lexer": "ipython3",
   "version": "3.13.1"
  }
 },
 "nbformat": 4,
 "nbformat_minor": 5
}

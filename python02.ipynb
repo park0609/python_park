{
 "cells": [
  {
   "cell_type": "markdown",
   "id": "140bb4a1-3cdd-4a0b-a9d8-ff21bc72c439",
   "metadata": {},
   "source": [
    "# 자료형"
   ]
  },
  {
   "cell_type": "markdown",
   "id": "a9e64d29-049f-4dde-9d7d-6b092eae473a",
   "metadata": {},
   "source": [
    "## 리스트 자료형"
   ]
  },
  {
   "cell_type": "markdown",
   "id": "aa0d1a83-3a90-401f-90f0-5f0cc35f149e",
   "metadata": {},
   "source": [
    "### 리스트의 인덱싱과 슬라이싱"
   ]
  },
  {
   "cell_type": "code",
   "execution_count": 1,
   "id": "773d8f44-ba05-4c70-8863-839b1cda69bd",
   "metadata": {},
   "outputs": [],
   "source": [
    "odd = [1,3,5,7,9]"
   ]
  },
  {
   "cell_type": "code",
   "execution_count": 1,
   "id": "93490b51-898b-4f69-98ea-b8f561e25174",
   "metadata": {},
   "outputs": [
    {
     "name": "stdout",
     "output_type": "stream",
     "text": [
      "Life\n",
      "['Life', 'is']\n"
     ]
    }
   ],
   "source": [
    "a = []\n",
    "b = [1,2,3]\n",
    "c = [\"Life\",\"is\"]\n",
    "d = [1,2,\"Life\",\"is\"]\n",
    "e = [1,2,[\"Life\",\"is\"]]\n",
    "print(e[2][0])\n",
    "print(e[2])"
   ]
  },
  {
   "cell_type": "code",
   "execution_count": 3,
   "id": "3f93efab-48b2-475c-b917-329578f73889",
   "metadata": {},
   "outputs": [
    {
     "name": "stdout",
     "output_type": "stream",
     "text": [
      "5\n",
      "Lifeis\n",
      "LifeLife\n",
      "is\n"
     ]
    }
   ],
   "source": [
    "print(b[1]+b[2])\n",
    "print(c[0]+c[1])\n",
    "print(c[0]*2)\n",
    "print(c[-1])"
   ]
  },
  {
   "cell_type": "code",
   "execution_count": 1,
   "id": "c5b6322f-5e89-477f-8ab8-085a06165bcd",
   "metadata": {},
   "outputs": [
    {
     "name": "stdout",
     "output_type": "stream",
     "text": [
      "[11, 22]\n",
      "[11, 22, 33, 44, 55]\n",
      "[55, 44, 33, 22, 11]\n",
      "[11, 33, 55]\n"
     ]
    }
   ],
   "source": [
    "# 리스트의 슬라이싱\n",
    "a = [11,22,33,44,55]\n",
    "print(a[:2])\n",
    "print(a[:])\n",
    "print(a[::-1])\n",
    "print(a[::2])"
   ]
  },
  {
   "cell_type": "code",
   "execution_count": 2,
   "id": "07ab8872-436e-4630-b7cb-b643eef62b8c",
   "metadata": {},
   "outputs": [
    {
     "name": "stdout",
     "output_type": "stream",
     "text": [
      "[2, 3]\n"
     ]
    }
   ],
   "source": [
    "a = [1,2,3,4,5]\n",
    "print(a[1:3])"
   ]
  },
  {
   "cell_type": "markdown",
   "id": "ec5e5a46-19b4-49e9-b0ed-af21a10685f8",
   "metadata": {},
   "source": [
    "### 리스트 연산, 수정, 삭제하기"
   ]
  },
  {
   "cell_type": "code",
   "execution_count": 3,
   "id": "7a54a0e7-9d04-4246-8311-729945809e21",
   "metadata": {},
   "outputs": [
    {
     "name": "stdout",
     "output_type": "stream",
     "text": [
      "[11, 22, 33, 44, 55, 66]\n",
      "[11, 22, 33, 11, 22, 33, 11, 22, 33]\n",
      "[11, 22, 33, 11, 22, 33, 11, 22, 33]\n"
     ]
    },
    {
     "data": {
      "text/plain": [
       "9"
      ]
     },
     "execution_count": 3,
     "metadata": {},
     "output_type": "execute_result"
    }
   ],
   "source": [
    "a = [11,22,33]\n",
    "b = [44,55,66]\n",
    "#리스트 더하기\n",
    "print(a+b)\n",
    "#리스트 반복하기\n",
    "print(a*3)\n",
    "c = a*3\n",
    "#리스트 길이 구하기\n",
    "print(c)\n",
    "len(c)"
   ]
  },
  {
   "cell_type": "code",
   "execution_count": null,
   "id": "83f3db7f-2dd1-4b97-bea5-0cd9fb284e48",
   "metadata": {},
   "outputs": [],
   "source": [
    "#리스트 값 수정하기\n",
    "a = [11,22,33]\n",
    "a[2] = 44\n",
    "print(a)\n",
    "\n",
    "#a[3] = 5 없는 요소를 수정 할 수는 없다.\n",
    "#print(a) \n",
    "del a [1]\n",
    "#리스트에서 확실하게 없앨려면 del을 붙여 배열을 지정하면 된다.\n",
    "print(a)"
   ]
  },
  {
   "cell_type": "code",
   "execution_count": 1,
   "id": "912769e3-cf4f-426b-9240-b8883611e5a6",
   "metadata": {},
   "outputs": [
    {
     "name": "stdout",
     "output_type": "stream",
     "text": [
      "[22, 33, 11, 22, 33]\n"
     ]
    }
   ],
   "source": [
    "#슬라이싱으로 리스트 값 삭제하기\n",
    "c = [11, 22, 33, 11, 22, 33, 11, 22, 33]\n",
    "del c [:4]\n",
    "print(c)"
   ]
  },
  {
   "cell_type": "markdown",
   "id": "29ed4a8a-c163-4ed4-a4a7-bd7e3fb03082",
   "metadata": {},
   "source": [
    "### 리스트 관련 함수"
   ]
  },
  {
   "cell_type": "code",
   "execution_count": null,
   "id": "8a5bfd9f-c642-42db-a8aa-d37184f939ef",
   "metadata": {},
   "outputs": [],
   "source": [
    "dir(list)"
   ]
  },
  {
   "cell_type": "code",
   "execution_count": null,
   "id": "b4a43989-b8fb-4450-8b48-9a5d0fd6734a",
   "metadata": {},
   "outputs": [],
   "source": [
    "#리스트 요소 지우기\n",
    "c.clear()\n",
    "print(c)"
   ]
  },
  {
   "cell_type": "code",
   "execution_count": 4,
   "id": "4f615708-daf9-47cd-954d-4e871002da48",
   "metadata": {},
   "outputs": [
    {
     "name": "stdout",
     "output_type": "stream",
     "text": [
      "[4, [11, 22]]\n"
     ]
    },
    {
     "ename": "ValueError",
     "evalue": "-1 is not in list",
     "output_type": "error",
     "traceback": [
      "\u001b[1;31m---------------------------------------------------------------------------\u001b[0m",
      "\u001b[1;31mValueError\u001b[0m                                Traceback (most recent call last)",
      "Cell \u001b[1;32mIn[4], line 7\u001b[0m\n\u001b[0;32m      5\u001b[0m a\u001b[38;5;241m.\u001b[39mappend([\u001b[38;5;241m11\u001b[39m,\u001b[38;5;241m22\u001b[39m])\n\u001b[0;32m      6\u001b[0m \u001b[38;5;28mprint\u001b[39m(a)\n\u001b[1;32m----> 7\u001b[0m c \u001b[38;5;241m=\u001b[39m \u001b[43ma\u001b[49m\u001b[38;5;241;43m.\u001b[39;49m\u001b[43mindex\u001b[49m\u001b[43m(\u001b[49m\u001b[38;5;241;43m-\u001b[39;49m\u001b[38;5;241;43m1\u001b[39;49m\u001b[43m)\u001b[49m\n\u001b[0;32m      8\u001b[0m \u001b[38;5;28mprint\u001b[39m(c)\n",
      "\u001b[1;31mValueError\u001b[0m: -1 is not in list"
     ]
    }
   ],
   "source": [
    "#리스트요소 추가하기\n",
    "a=[]\n",
    "\n",
    "a.append(4)\n",
    "a.append([11,22])\n",
    "print(a)\n",
    "c = a.index()\n",
    "print(c)"
   ]
  },
  {
   "cell_type": "code",
   "execution_count": null,
   "id": "5d5ba129-6640-4dd5-8968-6d68276ec13b",
   "metadata": {},
   "outputs": [],
   "source": [
    "g = []"
   ]
  },
  {
   "cell_type": "code",
   "execution_count": null,
   "id": "d407c149-6e9d-474b-94ee-c2a8ba778d1d",
   "metadata": {},
   "outputs": [],
   "source": [
    "num += 1\n",
    "g.append(num)\n",
    "print(g)"
   ]
  },
  {
   "cell_type": "code",
   "execution_count": 3,
   "id": "3681a1e3-3e77-4406-9c4f-e42a18be81a3",
   "metadata": {},
   "outputs": [
    {
     "name": "stdout",
     "output_type": "stream",
     "text": [
      "[11, 22, 33, 44, 55]\n"
     ]
    }
   ],
   "source": [
    "#리스트 정렬(오름차순) sort\n",
    "a = [11,44,33,22,55]\n",
    "#리스트는 순서가 굉장히 중요하다 하지만 sort는 그 순서를 부셔버리기 떄문에 \n",
    "#사용에 주의를 줘야한다. \n",
    "a.sort()\n",
    "print(a)\n"
   ]
  },
  {
   "cell_type": "code",
   "execution_count": null,
   "id": "7558f40d-f0ad-47e2-8130-3aeaee19e15f",
   "metadata": {},
   "outputs": [],
   "source": [
    "#리스트 정렬(내림차순) sort\n",
    "a = [11,44,33,22,55]\n",
    "#리스트는 순서가 굉장히 중요하다 하지만 sort는 그 순서를 부셔버리기 떄문에 \n",
    "#사용에 주의를 줘야한다. \n",
    "a.sort(reverse=True)\n",
    "print(a)\n"
   ]
  },
  {
   "cell_type": "code",
   "execution_count": null,
   "id": "ed8a8a48-2bc7-4aad-ae70-9b3cf9c9cef1",
   "metadata": {},
   "outputs": [],
   "source": [
    "#리스트 정렬 원본유지하기\n",
    "aa = [66,77,88,99,0]\n",
    "bb = sorted(aa)\n",
    "cc = sorted(aa,reverse=True)\n",
    "print(aa)\n",
    "print(bb)\n",
    "print(cc)"
   ]
  },
  {
   "cell_type": "code",
   "execution_count": null,
   "id": "b3aa8dc0-5482-4a33-8796-3bd4c7757b6c",
   "metadata": {},
   "outputs": [],
   "source": [
    "#sorted 응용\n",
    "fruit = [\"banana\",\"kiwi\",\"orange\",\"melon\",\"apple\",\"pear\",\"strawberry\",\"blueberry\"]\n",
    "result = sorted(fruit,key=len)\n",
    "result2 = sorted(fruit,key=len,reverse=True)\n",
    "print(fruit)\n",
    "print(result)\n",
    "print(result2)"
   ]
  },
  {
   "cell_type": "code",
   "execution_count": null,
   "id": "cecbe184-e8f3-4d4b-9d30-0c740c5378d6",
   "metadata": {},
   "outputs": [],
   "source": [
    "#리스트 뒤집기 reverse\n",
    "a = [11,33,22,55,44]\n",
    "a.reverse()\n",
    "print(a)"
   ]
  },
  {
   "cell_type": "code",
   "execution_count": null,
   "id": "15da3dd2-185d-4352-97b8-68cdea0c5a81",
   "metadata": {},
   "outputs": [],
   "source": [
    "print(\"과일을 먹자\")\n",
    "for r in result:\n",
    "    if r ==\"banana\":\n",
    "        print(r + \"맛없다\")\n",
    "    if r != \"banana\":\n",
    "        print(r+\"는 맛있다\")\n",
    "print(\"다먹었다.\")"
   ]
  },
  {
   "cell_type": "code",
   "execution_count": 2,
   "id": "8d8d2492-faf2-42e3-9b8f-ca49bc7c30b1",
   "metadata": {},
   "outputs": [
    {
     "data": {
      "text/plain": [
       "3"
      ]
     },
     "execution_count": 2,
     "metadata": {},
     "output_type": "execute_result"
    }
   ],
   "source": [
    "#index 반환 \n",
    "fruit = [\"banana\",\"kiwi\",\"orange\",\"melon\",\"apple\",\"pear\",\"strawberry\",\"blueberry\"]\n",
    "fruit.index(\"melon\")"
   ]
  },
  {
   "cell_type": "code",
   "execution_count": 1,
   "id": "cdf31ad3-51ce-42dc-8a56-cb1db257cfe5",
   "metadata": {},
   "outputs": [
    {
     "name": "stdin",
     "output_type": "stream",
     "text": [
      "먹고싶은 과일을 입력하세요! kiwi\n"
     ]
    },
    {
     "name": "stdout",
     "output_type": "stream",
     "text": [
      "kiwi를 좋아하시는 군요! 그것은 2번에 있습니다\n"
     ]
    }
   ],
   "source": [
    "#index 응용\n",
    "fruit = [\"banana\",\"kiwi\",\"orange\",\"melon\",\"apple\",\"pear\",\"strawberry\",\"blueberry\"]\n",
    "ab = input(\"먹고싶은 과일을 입력하세요!\")\n",
    "cd = fruit.index(ab)\n",
    "print(f\"{ab}를 좋아하시는 군요! 그것은 {cd+1}번에 있습니다\")"
   ]
  },
  {
   "cell_type": "code",
   "execution_count": 4,
   "id": "ca2a4f1c-6d6c-4d9d-bdf5-5705b09bdd79",
   "metadata": {},
   "outputs": [
    {
     "name": "stdout",
     "output_type": "stream",
     "text": [
      "[11, 22, 33, 55, 66, 77, 88]\n",
      "[11, 22, 33, 44, 55, 66, 77, 88]\n"
     ]
    }
   ],
   "source": [
    "#리스트에 요소 삽입 - insert\n",
    "num = [11,22,33,55,66,77,88]\n",
    "print(num)\n",
    "num.insert(3,44)\n",
    "#insert안에는 인자와 인수라고 함\n",
    "# 앞에있는 수는 배열의 위치를 뜻 하고 뒤에있는 수는 그 배열에 어떤 수를 넣을지 정함\n",
    "#그래서 저 의미는 3번에 44를 넣겠다 라는 뜻\n",
    "print(num)"
   ]
  },
  {
   "cell_type": "code",
   "execution_count": 4,
   "id": "d8e4e067-4d76-4858-ae6c-519f119f7d92",
   "metadata": {},
   "outputs": [
    {
     "name": "stdout",
     "output_type": "stream",
     "text": [
      "['맨앞']\n",
      "['-1인덱스', '맨앞']\n",
      "['-1인덱스', '맨앞', '맨앞']\n",
      "['-1인덱스', '맨앞', '맨앞', '제일 끝']\n"
     ]
    }
   ],
   "source": [
    "ex=[]\n",
    "ex.insert(0,\"맨앞\")\n",
    "print(ex)\n",
    "ex.insert(-1,\"-1인덱스\")\n",
    "print(ex)\n",
    "ex.insert(-1,\"맨앞\")\n",
    "print(ex)\n",
    "ex.insert(len(ex),\"제일 끝\")\n",
    "print(ex)"
   ]
  },
  {
   "cell_type": "code",
   "execution_count": 22,
   "id": "5772fea3-7393-41d9-a11a-f9b1f785614b",
   "metadata": {},
   "outputs": [
    {
     "name": "stdout",
     "output_type": "stream",
     "text": [
      "[1, 3, 1, 2, 3]\n"
     ]
    }
   ],
   "source": [
    "#리스트 요소 제거 remove\n",
    "a = [1,2,3,1,2,3]\n",
    "a.remove(2)\n",
    "print(a)"
   ]
  },
  {
   "cell_type": "code",
   "execution_count": null,
   "id": "35f48590-51bb-4638-8ea6-6d75265f2fd6",
   "metadata": {},
   "outputs": [],
   "source": [
    "#리스트 요소 끄집어내기 pop\n",
    "#맨마지막 요소를 리턴★하고 그 요소를 삭제한다. \n",
    "a = [1,2,3]"
   ]
  },
  {
   "cell_type": "code",
   "execution_count": 11,
   "id": "b9cf38b9-ecab-4f55-a2cf-1e08fde2f745",
   "metadata": {},
   "outputs": [
    {
     "name": "stdout",
     "output_type": "stream",
     "text": [
      "[1, 2]\n",
      "받은거 3\n"
     ]
    }
   ],
   "source": [
    "a = [1,2,3]\n",
    "hand = a.pop() #리턴값을 받음\n",
    "print(a)\n",
    "print(\"받은거\",hand)"
   ]
  },
  {
   "cell_type": "code",
   "execution_count": 10,
   "id": "5ac0c25c-daba-4b80-b7bd-d30e9e6dc685",
   "metadata": {},
   "outputs": [
    {
     "name": "stdout",
     "output_type": "stream",
     "text": [
      "[1, 3]\n",
      "받은거 2\n"
     ]
    }
   ],
   "source": [
    "a = [1,2,3]\n",
    "b = a.pop(1)\n",
    "print(a)\n",
    "print(\"받은거\",b)"
   ]
  },
  {
   "cell_type": "code",
   "execution_count": 13,
   "id": "ba169ba0-e139-481c-950f-27ea56394d87",
   "metadata": {},
   "outputs": [
    {
     "name": "stdout",
     "output_type": "stream",
     "text": [
      "1\n",
      "5\n"
     ]
    }
   ],
   "source": [
    "#리스트의 포함된 요소의 개수세기 count\n",
    "st = \"안녕하세요.\"\n",
    "print(st.count(\"요\"))\n",
    "a = [1,2,2,3,4,2,1,3,4,3,2,3,4,3,2]\n",
    "b = a.count(2)\n",
    "print(b)"
   ]
  },
  {
   "cell_type": "code",
   "execution_count": 18,
   "id": "4d89fdd9-5616-4098-ae65-68dad3994508",
   "metadata": {},
   "outputs": [
    {
     "name": "stdout",
     "output_type": "stream",
     "text": [
      "[1, 2, 3, 4, 5]\n",
      "[11, 22, 33, 44, 55, 66]\n"
     ]
    }
   ],
   "source": [
    "#리스트 확장\n",
    "a = [1,2,3]\n",
    "a.extend([4,5])\n",
    "print(a)\n",
    "b = [11,22,33]\n",
    "c = [44,55,66]\n",
    "print(b+c)"
   ]
  },
  {
   "cell_type": "code",
   "execution_count": 20,
   "id": "d66f4740-319e-4df6-8f86-66dd95695f53",
   "metadata": {},
   "outputs": [],
   "source": [
    "#장바구니\n",
    "bag = []"
   ]
  },
  {
   "cell_type": "code",
   "execution_count": 32,
   "id": "121fad72-2e0f-4b2e-843f-f54f30dc561a",
   "metadata": {},
   "outputs": [
    {
     "name": "stdin",
     "output_type": "stream",
     "text": [
      "필요한 항목을 넣어주세요 두부\n"
     ]
    },
    {
     "name": "stdout",
     "output_type": "stream",
     "text": [
      "장바구니에는['파프리카', '호박', '감자', '감자', '감자', '두부']가 있습니다\n"
     ]
    }
   ],
   "source": [
    "bag = [\"감자\",\"호박\",\"소주\",\"맥주\",\"피자\"]\n",
    "inp = input(\"필요한 항목을 넣어주세요\")\n",
    "bag.append(inp)\n",
    "print(f\"장바구니에는{bag}가 있습니다\")"
   ]
  },
  {
   "cell_type": "code",
   "execution_count": 27,
   "id": "60b02250-95dc-4c16-8561-c0318b8a8b94",
   "metadata": {},
   "outputs": [
    {
     "name": "stdout",
     "output_type": "stream",
     "text": [
      "감자 을 꺼내서 장바구니에['파프리카']이(가) 남았습니다\n"
     ]
    }
   ],
   "source": [
    "#FIFO 출력(큐 출력)\n",
    "hand = bag.pop(0)\n",
    "print(f\"{hand}을 꺼내서 장바구니에{bag}이(가) 남았습니다\")"
   ]
  },
  {
   "cell_type": "code",
   "execution_count": 40,
   "id": "783d48ea-3b39-480b-b184-180456b12b60",
   "metadata": {},
   "outputs": [
    {
     "name": "stdout",
     "output_type": "stream",
     "text": [
      "바구니에['감자', '호박', '소주', '맥주', '피자'] 물품이 있습니다\n"
     ]
    },
    {
     "name": "stdin",
     "output_type": "stream",
     "text": [
      "꺼내고 싶은 물품을 입력하세요 소주\n"
     ]
    },
    {
     "name": "stdout",
     "output_type": "stream",
     "text": [
      "바구니안에 소주을(를) 꺼내어 ['감자', '호박', '맥주', '피자']이(가) 남았습니다\n"
     ]
    }
   ],
   "source": [
    "bag = [\"감자\",\"호박\",\"소주\",\"맥주\",\"피자\"]\n",
    "print(f\"바구니에{bag} 물품이 있습니다\")\n",
    "inp3 = input(\"꺼내고 싶은 물품을 입력하세요\")\n",
    "hand2 = bag.pop(bag.index(inp3))\n",
    "print(f\"바구니안에 {hand2}을(를) 꺼내어 {bag}이(가) 남았습니다\")\n"
   ]
  },
  {
   "cell_type": "code",
   "execution_count": 35,
   "id": "95423382-3e22-427d-a700-98d8c0b309fa",
   "metadata": {},
   "outputs": [
    {
     "name": "stdout",
     "output_type": "stream",
     "text": [
      "33을(를) 제거하였습니다.\n"
     ]
    }
   ],
   "source": [
    "# 테스트\n",
    "choice = 33\n",
    "a = [11,22,33,44,55,66]\n",
    "hand = a.remove(33)\n",
    "print(f\"{choice}을(를) 제거하였습니다.\")"
   ]
  },
  {
   "cell_type": "code",
   "execution_count": 61,
   "id": "cee1cd44-710b-4da2-be62-17df529f90f5",
   "metadata": {},
   "outputs": [
    {
     "name": "stdin",
     "output_type": "stream",
     "text": [
      "물품을 지정해 주세요 와인\n",
      "어느 물품 뒤에 넣어둘까요 감자\n"
     ]
    },
    {
     "name": "stdout",
     "output_type": "stream",
     "text": [
      "가방안에 와인을(를) 넣어서 ['감자', '와인', '호박', '소주', '맥주', '피자']순서가 되었습니다.\n"
     ]
    }
   ],
   "source": [
    "#실습\n",
    "bag = [\"감자\",\"호박\",\"소주\",\"맥주\",\"피자\"]\n",
    "#물품 하나를 추가하기 단, 지정한 물품 바로 뒤에 추가하기\n",
    "test1 = input(\"물품을 지정해 주세요\")\n",
    "test2 = input(\"어느 물품 뒤에 넣어둘까요\")\n",
    "test4 = bag.index(test2)+1\n",
    "test3 = bag.insert(test4,test1)\n",
    "print(f\"가방안에 {test1}을(를) 넣어서 {bag}순서가 되었습니다.\")"
   ]
  },
  {
   "cell_type": "code",
   "execution_count": 59,
   "id": "8c1af1f3-9e9c-405e-8bca-76eeb6efd01c",
   "metadata": {},
   "outputs": [
    {
     "name": "stdin",
     "output_type": "stream",
     "text": [
      "물품을 지정해 주세요 팝콘\n",
      "어느 물품 뒤에 넣어둘까요 감자\n"
     ]
    },
    {
     "name": "stdout",
     "output_type": "stream",
     "text": [
      "['팝콘', '감자', '호박', '소주', '맥주', '피자']\n"
     ]
    }
   ],
   "source": [
    "#풀이\n",
    "bag = [\"감자\",\"호박\",\"소주\",\"맥주\",\"피자\"]\n",
    "#물품 하나를 추가하기 단, 지정한 물품 바로 뒤에 추가하기\n",
    "test1 = input(\"물품을 지정해 주세요\")\n",
    "test2 = input(\"어느 물품 뒤에 넣어둘까요\")\n",
    "bag.insert(bag.index(test2+)+1,test1)\n",
    "print(bag)"
   ]
  },
  {
   "cell_type": "code",
   "execution_count": 68,
   "id": "26284e3a-0a0b-42bb-bd8e-ab98cbc41707",
   "metadata": {},
   "outputs": [
    {
     "name": "stdin",
     "output_type": "stream",
     "text": [
      "내가 누구게? 숫자를 입력하시오. 4\n"
     ]
    },
    {
     "name": "stdout",
     "output_type": "stream",
     "text": [
      "8 <class 'str'>\n"
     ]
    }
   ],
   "source": [
    "#테스트2\n",
    "num = input(\"내가 누구게? 숫자를 입력하시오.\")\n",
    "print(int(num)+4, type(num))"
   ]
  },
  {
   "cell_type": "code",
   "execution_count": 71,
   "id": "32585b97-4278-4e6e-a436-6336514403f0",
   "metadata": {},
   "outputs": [
    {
     "name": "stdin",
     "output_type": "stream",
     "text": [
      "원화로 계산할 달러를 입력하세요. 125\n"
     ]
    },
    {
     "name": "stdout",
     "output_type": "stream",
     "text": [
      "요청하신125달러의 변환값은181,250입니다.\n"
     ]
    }
   ],
   "source": [
    "# 환률 계산기 만들기 1450\n",
    "test1 = input(\"원화로 계산할 달러를 입력하세요.\")\n",
    "print(f\"요청하신{int(test1)}달러의 변환값은{int(test1)*1450:,}입니다.\")"
   ]
  },
  {
   "cell_type": "code",
   "execution_count": 5,
   "id": "4866ddfe-f312-4a1e-bea0-739991cb46f1",
   "metadata": {},
   "outputs": [
    {
     "name": "stdout",
     "output_type": "stream",
     "text": [
      "미국 달러의 환율은 1460.8입니다.\n"
     ]
    }
   ],
   "source": [
    "import requests\n",
    "import json\n",
    "url = \"https://www.koreaexim.go.kr/site/program/financial/exchangeJSON?authkey=Ss3Ssdf7f5d4f58Xynn0lIksIqUYCrX9VrvuPyuuHT&data=AP01\"\n",
    "res = requests.get(url).text\n",
    "#test1 = input(\"환율할려는 달러\")\n",
    "data = json.loads(res)\n",
    "#print(type(data))\n",
    "result = data[-1][\"deal_bas_r\"]\n",
    "result2 = result.replace(\",\",\"\")\n",
    "\n",
    "print(f\"미국 달러의 환율은 {float(result2)}입니다.\")"
   ]
  },
  {
   "cell_type": "code",
   "execution_count": null,
   "id": "5df22d04-3993-4232-b628-120a7c40e946",
   "metadata": {},
   "outputs": [],
   "source": [
    "# 질문(출력글 삭제)\n",
    "from IPython.display import clear_output\n",
    "inp1 = input(\"질문1\")\n",
    "clear_output(wait=True)\n",
    "inp2 = input(\"질문2\")\n",
    "clear_output(wait=True)\n",
    "inp3 = input(\"질문3\")\n",
    "print(inp1)\n",
    "print(inp2)\n",
    "print(inp3)\n"
   ]
  },
  {
   "cell_type": "code",
   "execution_count": 140,
   "id": "e258ea07-5336-47ea-833b-5218480e0372",
   "metadata": {},
   "outputs": [
    {
     "data": {
      "text/plain": [
       "0.30000000000000004"
      ]
     },
     "execution_count": 140,
     "metadata": {},
     "output_type": "execute_result"
    }
   ],
   "source": [
    "#질문(부동소수)\n",
    "0.1+0.2"
   ]
  },
  {
   "cell_type": "code",
   "execution_count": 143,
   "id": "0c4e1c35-499e-4cac-a55a-32e7d0d68beb",
   "metadata": {},
   "outputs": [
    {
     "name": "stdout",
     "output_type": "stream",
     "text": [
      "4348.2\n"
     ]
    }
   ],
   "source": [
    "#from decimal import Decimal 더 정밀한 계산\n",
    "rr = 1449.4*3\n",
    "#result = Decimal(0.1+0.2)\n",
    "print(round(rr,1))"
   ]
  },
  {
   "cell_type": "markdown",
   "id": "5ff904ff-4d35-44c5-b0c8-4a7211663b82",
   "metadata": {},
   "source": [
    "## 튜플 자료형"
   ]
  },
  {
   "cell_type": "code",
   "execution_count": 144,
   "id": "72ddd03a-3d3e-4c61-9cac-3fb0c9c4b21f",
   "metadata": {},
   "outputs": [],
   "source": [
    "t1 = ()\n",
    "t2 = (1,)\n",
    "t3 = (1,2,3)\n",
    "t4 = 1,2,3 # 튜플은 특이하게도 괄호를 치지 않고도 리스트로 만들 수 있다.\n",
    "t5 = (\"a\",\"b\",(\"ab\",\"cd\"))"
   ]
  },
  {
   "cell_type": "code",
   "execution_count": null,
   "id": "6333c46a-0150-49af-aa14-c8741ea70848",
   "metadata": {},
   "outputs": [],
   "source": [
    "#튜플의 요소값을 삭제할려고 할때\n",
    "t1 = (1,2,3,4,5)\n",
    "#del t1(1)\n",
    "t1[0] = \"c\"\n",
    "#튜플은 요소값을 변경 할 수 없기 때문에 변경 및 삭제를 할 경우 에러가 난다."
   ]
  },
  {
   "cell_type": "code",
   "execution_count": null,
   "id": "070db3d9-34e9-441a-803c-ad14d39eb572",
   "metadata": {},
   "outputs": [],
   "source": [
    "dir(tuple)"
   ]
  },
  {
   "cell_type": "code",
   "execution_count": 150,
   "id": "b1fa5b5b-5136-4c2a-b447-c585414f0475",
   "metadata": {},
   "outputs": [
    {
     "name": "stdout",
     "output_type": "stream",
     "text": [
      "2 4\n"
     ]
    }
   ],
   "source": [
    "#튜플 인덱싱\n",
    "t1 = (1,2,3,4,5)\n",
    "print(t1[1],t1[3])"
   ]
  },
  {
   "cell_type": "code",
   "execution_count": 151,
   "id": "efd88a4c-805b-4204-844b-284029cbc3c5",
   "metadata": {},
   "outputs": [
    {
     "name": "stdout",
     "output_type": "stream",
     "text": [
      "(1, 2, 3)\n"
     ]
    }
   ],
   "source": [
    "# 튜플의 슬라이싱\n",
    "print(t1[:3])"
   ]
  },
  {
   "cell_type": "code",
   "execution_count": 152,
   "id": "ca2da9a0-0308-4acc-b5c8-47b289997a89",
   "metadata": {},
   "outputs": [
    {
     "name": "stdout",
     "output_type": "stream",
     "text": [
      "(1, 2, 3, 4, 5, 6)\n"
     ]
    }
   ],
   "source": [
    "# 튜플 더하기\n",
    "t1 = (1,2,3)\n",
    "t2 = (4,5,6)\n",
    "print(t1+t2)"
   ]
  },
  {
   "cell_type": "code",
   "execution_count": 153,
   "id": "cb0ffd55-d70b-463e-9b86-8a032127f747",
   "metadata": {},
   "outputs": [
    {
     "name": "stdout",
     "output_type": "stream",
     "text": [
      "(1, 2, 3, 1, 2, 3)\n"
     ]
    }
   ],
   "source": [
    "#튜플 곱하기\n",
    "print(t1*2)"
   ]
  },
  {
   "cell_type": "markdown",
   "id": "1f03f6a8-b263-405a-8eda-45bb66ae3667",
   "metadata": {},
   "source": [
    "## 딕셔너리 자료형"
   ]
  },
  {
   "cell_type": "code",
   "execution_count": 156,
   "id": "72cf8cbb-9d6b-4bd6-9c29-b68a9d3a80a2",
   "metadata": {},
   "outputs": [
    {
     "name": "stdout",
     "output_type": "stream",
     "text": [
      "parksechan\n",
      "010-8904-3039\n",
      "990904\n"
     ]
    }
   ],
   "source": [
    "dic = {\"name\":\"parksechan\",\"number\":\"010-8904-3039\",\"birth\":\"990904\"}\n",
    "print(dic[\"name\"])\n",
    "print(dic[\"number\"])\n",
    "print(dic[\"birth\"])"
   ]
  },
  {
   "cell_type": "code",
   "execution_count": 158,
   "id": "e16faea5-48b1-47d6-83a6-69c01eebdf0d",
   "metadata": {},
   "outputs": [
    {
     "name": "stdout",
     "output_type": "stream",
     "text": [
      "11\n",
      "11\n",
      "11\n"
     ]
    }
   ],
   "source": [
    "al = [11,22,33,44,55]\n",
    "at = 11,22,33,44,55\n",
    "ad = {0:11,1:22,2:33,3:44,4:55}\n",
    "print(al[0])\n",
    "print(at[0])\n",
    "print(ad[0])"
   ]
  },
  {
   "cell_type": "code",
   "execution_count": 165,
   "id": "ca825ee0-1994-43e3-8496-ecd3016fee2b",
   "metadata": {},
   "outputs": [
    {
     "name": "stdout",
     "output_type": "stream",
     "text": [
      "11\n",
      "22\n",
      "33\n",
      "44\n",
      "55\n",
      "==========\n",
      "11\n",
      "22\n",
      "33\n",
      "44\n",
      "55\n"
     ]
    }
   ],
   "source": [
    "# test\n",
    "al = [11,22,33,44,55]\n",
    "at = 11,22,33,44,55\n",
    "for l in al:\n",
    "    print(l)\n",
    "print(\"=\"*10)\n",
    "for t in at:\n",
    "    print(t)"
   ]
  },
  {
   "cell_type": "code",
   "execution_count": 166,
   "id": "af3f1530-80fc-47a9-9498-a969e27eb0de",
   "metadata": {},
   "outputs": [
    {
     "name": "stdout",
     "output_type": "stream",
     "text": [
      "[1, 2, 3, 4, 5]\n"
     ]
    }
   ],
   "source": [
    "a = {\"aa\":[1,2,3,4,5]}\n",
    "print(a[\"aa\"])"
   ]
  },
  {
   "cell_type": "code",
   "execution_count": 167,
   "id": "a995e83e-b120-4463-88a1-eb527b45e56e",
   "metadata": {},
   "outputs": [
    {
     "name": "stdout",
     "output_type": "stream",
     "text": [
      "{'name': 'parksechan', 'number': '010-8904-3039', 'birth': '990904'}\n"
     ]
    }
   ],
   "source": [
    "dic = {\"aa\":{\"name\":\"parksechan\",\"number\":\"010-9999-9999\",\"birth\":\"999999\"}}\n",
    "print(dic[\"aa\"])"
   ]
  },
  {
   "cell_type": "markdown",
   "id": "56563a59-b688-4c09-8c87-0a74905643f8",
   "metadata": {},
   "source": [
    "### 딕셔너리 쌍 추가, 삭제하기"
   ]
  },
  {
   "cell_type": "code",
   "execution_count": 171,
   "id": "f4ccf906-8d40-47a3-b1ac-e251ad60bb21",
   "metadata": {},
   "outputs": [
    {
     "name": "stdout",
     "output_type": "stream",
     "text": [
      "{'name': 'parksechan', 'number': '010-9999-9999', 'birth': '999999', 'address': 'busan'}\n"
     ]
    }
   ],
   "source": [
    "# 딕셔너리 쌍 추가\n",
    "dic = {\"name\":\"parksechan\",\"number\":\"010-9999-9999\",\"birth\":\"999999\"}\n",
    "dic[\"address\"] = \"busan\"\n",
    "print(dic)"
   ]
  },
  {
   "cell_type": "code",
   "execution_count": 172,
   "id": "f6e51b26-56c4-4e05-87a7-11c6e52e4456",
   "metadata": {},
   "outputs": [
    {
     "name": "stdout",
     "output_type": "stream",
     "text": [
      "{'name': 'parksechan', 'number': '010-9999-9999', 'birth': '999999', 'address': 'busan', 'array': [1, 2, 3, 4]}\n"
     ]
    }
   ],
   "source": [
    "dic[\"array\"] = [1,2,3,4]\n",
    "print(dic)"
   ]
  },
  {
   "cell_type": "markdown",
   "id": "a986c80e-d2d9-4458-b59f-458c8dcfe002",
   "metadata": {},
   "source": [
    "### 딕셔너리 관련함수"
   ]
  },
  {
   "cell_type": "code",
   "execution_count": 177,
   "id": "17388124-c56e-43b5-a249-d7937aaeca2f",
   "metadata": {},
   "outputs": [
    {
     "name": "stdout",
     "output_type": "stream",
     "text": [
      "dict_keys(['name', 'number', 'birth', 'address', 'array'])\n",
      "dict_values(['parksechan', '010-9999-9999', '999999', 'busan', [1, 2, 3, 4]])\n",
      "dict_items([('name', 'parksechan'), ('number', '010-9999-9999'), ('birth', '999999'), ('address', 'busan'), ('array', [1, 2, 3, 4])])\n",
      "{'name': 'parksechan', 'number': '010-9999-9999', 'birth': '999999', 'address': 'busan', 'array': [1, 2, 3, 4]}\n",
      "{}\n"
     ]
    }
   ],
   "source": [
    "# 딕셔너리 키 리스트, 값 리스트 만들기\n",
    "a = {'name': 'parksechan', 'number': '010-9999-9999', 'birth': '999999', 'address': 'busan', 'array': [1, 2, 3, 4]}\n",
    "# key 리스트 만들기 -keys\n",
    "print(a.keys())\n",
    "# values 리스트 만들기\n",
    "print(a.values())\n",
    "#key, values 쌍 얻기 - items\n",
    "print(a.items())\n",
    "print(a)\n",
    "#key, values 쌍 모두 지우기 - clear\n",
    "a.clear()\n",
    "print(a)"
   ]
  },
  {
   "cell_type": "code",
   "execution_count": 184,
   "id": "6090480f-0b63-4239-8a7d-b54b32cb0965",
   "metadata": {},
   "outputs": [
    {
     "name": "stdout",
     "output_type": "stream",
     "text": [
      "name\n",
      "number\n",
      "birth\n",
      "address\n",
      "array\n"
     ]
    }
   ],
   "source": [
    "a = {'name': 'parksechan', 'number': '010-9999-9999', 'birth': '999999', 'address': 'busan', 'array': [1, 2, 3, 4]}\n",
    "for k in a.keys():\n",
    "    print(k)"
   ]
  },
  {
   "cell_type": "code",
   "execution_count": null,
   "id": "2be325cd-b1dd-4791-8ae6-05304142e2cc",
   "metadata": {},
   "outputs": [],
   "source": [
    "a = {'name': 'parksechan', 'number': '010-9999-9999', 'birth': '999999', 'address': 'busan', 'array': [1, 2, 3, 4]}\n",
    "print(a.get(\"name\"))\n",
    "print(a.get(\"SUPER\"))\n",
    "print(a[\"MONEY\"])\n",
    "#get은  배열안에 없는 값을 none처리를 만든다. get을 지정 안하고없는데 없는 값을 칠경우 오류가 난다"
   ]
  },
  {
   "cell_type": "code",
   "execution_count": 191,
   "id": "ba8e47dc-8d06-4afa-b962-7d4df07bf4ec",
   "metadata": {},
   "outputs": [
    {
     "name": "stdout",
     "output_type": "stream",
     "text": [
      "True\n",
      "False\n"
     ]
    }
   ],
   "source": [
    "# 딕셔너리 안에 있는지 조사 - in 배열안에 있는 수를 in 으로 지정하면 값이 있을 경우 참\n",
    "# 값이 없을경우는 거짓을 출력한다.\n",
    "a = {'name': 'parksechan', 'number': '010-9999-9999', 'birth': '999999', 'address': 'busan', 'array': [1, 2, 3, 4]}\n",
    "print(\"name\" in a)\n",
    "print(\"super\" in a)"
   ]
  },
  {
   "cell_type": "code",
   "execution_count": 200,
   "id": "be0651c8-27af-4e93-a765-d8695d2e3376",
   "metadata": {},
   "outputs": [
    {
     "name": "stdout",
     "output_type": "stream",
     "text": [
      "True\n",
      "True\n",
      "True\n",
      "False\n"
     ]
    }
   ],
   "source": [
    "al = [11,22,33,44,55]\n",
    "at = 11,22,33,44,55\n",
    "ad = {0:11,1:22,2:33,3:44,4:55}\n",
    "\n",
    "print(22 in al) # 리스트\n",
    "print(11 in at) # 튜플\n",
    "print(1 in ad) # 딕셔너리 키\n",
    "print(11 in ad)\n",
    "#in의 또다른 특성 임마는 key만 찾는다. "
   ]
  },
  {
   "cell_type": "code",
   "execution_count": 3,
   "id": "b79d6336-6661-4753-8a81-afdaef5be525",
   "metadata": {},
   "outputs": [
    {
     "name": "stdout",
     "output_type": "stream",
     "text": [
      "{'name': '홍길동', 'birth': '1128', 'age': '30'}\n"
     ]
    }
   ],
   "source": [
    "dic = {\"name\":\"홍길동\",\"birth\":\"1128\",\"age\":\"30\"}\n",
    "print(dic)"
   ]
  },
  {
   "cell_type": "code",
   "execution_count": 26,
   "id": "581cc160-72dc-4f05-916e-ab79d7bcd066",
   "metadata": {},
   "outputs": [
    {
     "name": "stdout",
     "output_type": "stream",
     "text": [
      "0과 1사이의 랜덤 소수 0.2023610122982985\n",
      "1과 45사이의 랜덤 실수35\n",
      "오늘 점심은? 과자\n",
      "[4, 7, 2, 8, 10, 3, 6, 9, 1, 5]\n"
     ]
    }
   ],
   "source": [
    "#실습 random 모듈\n",
    "\n",
    "import random \n",
    "la = [\"구내식당\",\"후문편의점\",\"자가도시락\",\"굶기\",\"과자\"]\n",
    "\n",
    "num1 = random.random()\n",
    "print(f\"0과 1사이의 랜덤 소수 {num1}\")\n",
    "num2 = random.randint(1,45)\n",
    "print(f\"1과 45사이의 랜덤 실수{num2}\")\n",
    "lunch = random.choice(la)\n",
    "print(f\"오늘 점심은 {lunch}을(를) 추천드립니다.\")\n",
    "deck = [1,2,3,4,5,6,7,8,9,10]\n",
    "random.shuffle(deck)\n",
    "print(deck)"
   ]
  },
  {
   "cell_type": "markdown",
   "id": "c50e9ace-8d38-4144-9b5a-06f08ad7dd68",
   "metadata": {},
   "source": [
    "## 집합 자료형"
   ]
  },
  {
   "cell_type": "code",
   "execution_count": 42,
   "id": "b938a0ce-777b-44e8-8b53-84f3c2463c40",
   "metadata": {},
   "outputs": [
    {
     "name": "stdout",
     "output_type": "stream",
     "text": [
      "{1, 2, 3} <class 'set'>\n",
      "{'l', 'o', 'h', 'e'} <class 'set'>\n"
     ]
    }
   ],
   "source": [
    "s1 = set([1,2,3])\n",
    "print(s1,type(s1))\n",
    "s2 = set(\"hello\")\n",
    "print(s2,type(s2))\n",
    "# 중괄호였던 딕셔너리와 마찬가지로 집합은 순서가 없다.\n",
    "# 중복을 허용하지 않는다."
   ]
  },
  {
   "cell_type": "code",
   "execution_count": 72,
   "id": "9e3280b0-4127-428c-989d-0f2542230d4c",
   "metadata": {},
   "outputs": [
    {
     "name": "stdout",
     "output_type": "stream",
     "text": [
      "[11, 22, 33] <class 'list'>\n",
      "(33, 11, 22) <class 'tuple'>\n"
     ]
    }
   ],
   "source": [
    "s1 = set([11,22,33,11,22])\n",
    "l1 = list(s1)#집합이 리스트안에 들어가면 리스트화가 되었기 때문에 순서가 다시 생긴다.\n",
    "l1.sort()\n",
    "print(l1,type(l1))\n",
    "t1 = tuple(s1)\n",
    "print(t1,type(t1))"
   ]
  },
  {
   "cell_type": "markdown",
   "id": "29c1c5ed-9939-4d3f-902e-ee8be443e659",
   "metadata": {},
   "source": [
    "### 교집합, 차집합, 합집합 구하기"
   ]
  },
  {
   "cell_type": "code",
   "execution_count": null,
   "id": "ebac7740-ffba-46fa-a5b3-9c5cef4439d6",
   "metadata": {},
   "outputs": [
    {
     "name": "stdout",
     "output_type": "stream",
     "text": [
      "{4, 5, 6}\n"
     ]
    },
    {
     "data": {
      "text/plain": [
       "{4, 5, 6}"
      ]
     },
     "execution_count": 50,
     "metadata": {},
     "output_type": "execute_result"
    }
   ],
   "source": [
    "# 교집합 구하기\n",
    "s1 = set([1,2,3,4,5,6])\n",
    "s2 = set([4,5,6,7,8,9])\n",
    "print(s1&s2) #교집합을 구할 땐 집합을 &로 연결하면 된다.\n",
    "s1.intersection(s2) #얘도 있다."
   ]
  },
  {
   "cell_type": "code",
   "execution_count": 53,
   "id": "4a5598b6-e959-4641-8c64-48ce7a36a390",
   "metadata": {},
   "outputs": [
    {
     "name": "stdout",
     "output_type": "stream",
     "text": [
      "{1, 2, 3, 4, 5, 6, 7, 8, 9}\n"
     ]
    }
   ],
   "source": [
    "# 합집합 구하기\n",
    "s1 = set([1,2,3,4,5,6])\n",
    "s2 = set([4,5,6,7,8,9])\n",
    "print(s1 | s2) # 합집합을 구할 땐 |(버티컬)표시를 사용하여 연결하면 된다."
   ]
  },
  {
   "cell_type": "code",
   "execution_count": 55,
   "id": "2251a590-ef45-451f-9b39-a830cfc1f345",
   "metadata": {},
   "outputs": [
    {
     "name": "stdout",
     "output_type": "stream",
     "text": [
      "{1, 2, 3}\n",
      "{8, 9, 7}\n"
     ]
    }
   ],
   "source": [
    "# 차집합 구하기\n",
    "s1 = set([1,2,3,4,5,6])\n",
    "s2 = set([4,5,6,7,8,9])\n",
    "print(s1-s2)\n",
    "print(s2-s1) # 차집합은 -를 사용하고 문형을 쓸 때 차집합은 앞에거에 뒤에 거 중 겹치는걸 뺸다라는\n",
    "#뜻이므로 순서에 따라 값이 다르게 출력되니 주의"
   ]
  },
  {
   "cell_type": "markdown",
   "id": "a81a823d-16e4-43ed-8899-d59bfb598d1c",
   "metadata": {},
   "source": [
    "### 집합 자료형 관련 함수"
   ]
  },
  {
   "cell_type": "code",
   "execution_count": 57,
   "id": "d8e176bd-a7b4-4bd1-bb16-fd87619918c8",
   "metadata": {},
   "outputs": [
    {
     "name": "stdout",
     "output_type": "stream",
     "text": [
      "{1, 2, 3, 4}\n"
     ]
    }
   ],
   "source": [
    "# 값 1개 추가하기\n",
    "s1 = set([1,2,3])\n",
    "s1.add(4)\n",
    "print(s1)"
   ]
  },
  {
   "cell_type": "code",
   "execution_count": 60,
   "id": "2d8a123d-f2d3-45f6-a18f-6cf68ee934b9",
   "metadata": {},
   "outputs": [
    {
     "name": "stdout",
     "output_type": "stream",
     "text": [
      "{1, 2, 3, 4, 5, 6}\n"
     ]
    }
   ],
   "source": [
    "#값 여러개 추가하기\n",
    "s1 = set([1,2,3])\n",
    "s1.update([4,5,6])\n",
    "print(s1)"
   ]
  },
  {
   "cell_type": "code",
   "execution_count": 61,
   "id": "470cb3d1-de46-4d1a-8334-ec4e8897653b",
   "metadata": {},
   "outputs": [
    {
     "name": "stdout",
     "output_type": "stream",
     "text": [
      "{1, 2}\n"
     ]
    }
   ],
   "source": [
    "#특정 값 제거하기\n",
    "s1 = set([1,2,3])\n",
    "s1.remove(3)\n",
    "print(s1)"
   ]
  },
  {
   "cell_type": "markdown",
   "id": "6495f15f-baff-41ea-8a0d-9f9bb963f8d3",
   "metadata": {},
   "source": [
    "## 불 자료형"
   ]
  },
  {
   "cell_type": "code",
   "execution_count": 62,
   "id": "f3f93aac-13df-4fb4-953e-80e00ce5a234",
   "metadata": {},
   "outputs": [
    {
     "name": "stdout",
     "output_type": "stream",
     "text": [
      "<class 'bool'>\n"
     ]
    }
   ],
   "source": [
    "#True = 1 = 참\n",
    "#False = 0 = 거짓\n",
    "print(type(True))"
   ]
  },
  {
   "cell_type": "code",
   "execution_count": 67,
   "id": "c0f4101f-0560-4c2d-926f-098718b0d750",
   "metadata": {},
   "outputs": [
    {
     "name": "stdout",
     "output_type": "stream",
     "text": [
      "False\n",
      "True\n",
      "True\n",
      "False\n"
     ]
    }
   ],
   "source": [
    "print(3 > 10)\n",
    "print(3 < 10)\n",
    "print(3==3)\n",
    "print(3!=3)"
   ]
  },
  {
   "cell_type": "code",
   "execution_count": 114,
   "id": "532bbb80-a859-4eb2-99fe-75ad09fdcc0b",
   "metadata": {},
   "outputs": [
    {
     "name": "stdout",
     "output_type": "stream",
     "text": [
      "True\n",
      "False\n",
      "True\n",
      "False\n",
      "True\n",
      "False\n",
      "True\n",
      "False\n",
      "True\n",
      "False\n",
      "False\n"
     ]
    }
   ],
   "source": [
    "#자료형의 참과 거짓\n",
    "print(bool(\"python\"))#문자열\n",
    "print(bool(\"\"))# 안에 들어가잇는게 없음 0이라는 뜻인데 0은 거짓임으로 False가 나온다\n",
    "print(bool([1,2,3]))#리스트\n",
    "print(bool([]))\n",
    "print(bool((1,2,3)))#튜플\n",
    "print(bool(()))\n",
    "print(bool({\"a\":1}))#딕셔너리\n",
    "print(bool({}))\n",
    "print(bool(1))#0과 1\n",
    "print(bool(0))\n",
    "print(bool(None))#걍 None(앞자리 대문자 중요!)"
   ]
  },
  {
   "cell_type": "code",
   "execution_count": 2,
   "id": "f4d747ac-1026-4769-8655-30f575c946f5",
   "metadata": {
    "scrolled": true
   },
   "outputs": [
    {
     "name": "stdout",
     "output_type": "stream",
     "text": [
      "어느날, 마법사은(는) 어두운 숲에서 모험을 하던 도중 왕국을 위험에서 구하였다.그리고 로봇은(는) 바닷속 도시에서 왕국을 위험에서 구하였다\n"
     ]
    }
   ],
   "source": [
    "#random 으로 스토리 생성기 만들기\n",
    "import random\n",
    "#등장인물\n",
    "a = [\"기사\",\"고양이\",\"로봇\",\"마법사\",\"탐정\",\"강아지\"]\n",
    "#캐릭터\n",
    "b = [\"어두운 숲에서\",\"먼 우주 행성에서\",\"마법의 성에서\",\"바닷속 도시에서\", \"나무가 울창한 숲에서\"]\n",
    "# 장소\n",
    "c = [\"숨겨진 보물을 발견했다\",\"용과 싸웠다\",\"비밀 통로를 발견했다\",\"고대 미스터리를 풀었다\",\"왕국을 위험에서 구하였다\",\"죽었다\"]\n",
    "#사건\n",
    "\n",
    "ch = random.choice(a)\n",
    "ch2 = random.choice(a)\n",
    "pl = random.choice(b)\n",
    "pl2 = random.choice(b)\n",
    "ev = random.choice(c)\n",
    "ev2 = random.choice(c)\n",
    "print(f\"어느날, {ch}은(는) {pl} 모험을 하던 도중 {ev}.그리고 {ch2}은(는) {pl2} {ev2}\")"
   ]
  },
  {
   "cell_type": "code",
   "execution_count": 115,
   "id": "5acdf8fe-3d54-4cb0-9674-3c12da84dab5",
   "metadata": {},
   "outputs": [
    {
     "name": "stdout",
     "output_type": "stream",
     "text": [
      "{1, 2, 3}\n",
      "{8, 9, 7}\n"
     ]
    }
   ],
   "source": []
  },
  {
   "cell_type": "code",
   "execution_count": null,
   "id": "1bf44c81-bde5-47f6-bb2d-8f0da180fde0",
   "metadata": {},
   "outputs": [],
   "source": []
  }
 ],
 "metadata": {
  "kernelspec": {
   "display_name": "Python 3 (ipykernel)",
   "language": "python",
   "name": "python3"
  },
  "language_info": {
   "codemirror_mode": {
    "name": "ipython",
    "version": 3
   },
   "file_extension": ".py",
   "mimetype": "text/x-python",
   "name": "python",
   "nbconvert_exporter": "python",
   "pygments_lexer": "ipython3",
   "version": "3.13.1"
  }
 },
 "nbformat": 4,
 "nbformat_minor": 5
}

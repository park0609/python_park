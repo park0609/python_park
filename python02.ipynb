{
 "cells": [
  {
   "cell_type": "markdown",
   "id": "140bb4a1-3cdd-4a0b-a9d8-ff21bc72c439",
   "metadata": {},
   "source": [
    "# 자료형"
   ]
  },
  {
   "cell_type": "markdown",
   "id": "a9e64d29-049f-4dde-9d7d-6b092eae473a",
   "metadata": {},
   "source": [
    "## 리스트 자료형"
   ]
  },
  {
   "cell_type": "markdown",
   "id": "aa0d1a83-3a90-401f-90f0-5f0cc35f149e",
   "metadata": {},
   "source": [
    "### 리스트의 인덱싱과 슬라이싱"
   ]
  },
  {
   "cell_type": "code",
   "execution_count": 1,
   "id": "773d8f44-ba05-4c70-8863-839b1cda69bd",
   "metadata": {},
   "outputs": [],
   "source": [
    "odd = [1,3,5,7,9]"
   ]
  },
  {
   "cell_type": "code",
   "execution_count": 2,
   "id": "93490b51-898b-4f69-98ea-b8f561e25174",
   "metadata": {},
   "outputs": [
    {
     "name": "stdout",
     "output_type": "stream",
     "text": [
      "Life\n",
      "['Life', 'is']\n"
     ]
    }
   ],
   "source": [
    "a = []\n",
    "b = [1,2,3]\n",
    "c = [\"Life\",\"is\"]\n",
    "d = [1,2,\"Life\",\"is\"]\n",
    "e = [1,2,[\"Life\",\"is\"]]\n",
    "print(e[2][0])\n",
    "print(e[2])"
   ]
  },
  {
   "cell_type": "code",
   "execution_count": 3,
   "id": "3f93efab-48b2-475c-b917-329578f73889",
   "metadata": {},
   "outputs": [
    {
     "name": "stdout",
     "output_type": "stream",
     "text": [
      "5\n",
      "Lifeis\n",
      "LifeLife\n",
      "is\n"
     ]
    }
   ],
   "source": [
    "print(b[1]+b[2])\n",
    "print(c[0]+c[1])\n",
    "print(c[0]*2)\n",
    "print(c[-1])"
   ]
  },
  {
   "cell_type": "code",
   "execution_count": 4,
   "id": "7f091b92-d81e-40d1-94fa-6740791997c9",
   "metadata": {},
   "outputs": [
    {
     "ename": "NameError",
     "evalue": "name '안녕하세요' is not defined",
     "output_type": "error",
     "traceback": [
      "\u001b[1;31m---------------------------------------------------------------------------\u001b[0m",
      "\u001b[1;31mNameError\u001b[0m                                 Traceback (most recent call last)",
      "Cell \u001b[1;32mIn[4], line 1\u001b[0m\n\u001b[1;32m----> 1\u001b[0m (\u001b[43m안녕하세요\u001b[49m)\n",
      "\u001b[1;31mNameError\u001b[0m: name '안녕하세요' is not defined"
     ]
    }
   ],
   "source": [
    "(안녕하세요)"
   ]
  },
  {
   "cell_type": "code",
   "execution_count": null,
   "id": "c5b6322f-5e89-477f-8ab8-085a06165bcd",
   "metadata": {},
   "outputs": [],
   "source": [
    "# 리스트의 슬라이싱\n",
    "a = [11,22,33,44,55]\n",
    "print(a[:2])\n",
    "print(a[:])\n",
    "print(a[::-1])\n",
    "print(a[::2])"
   ]
  },
  {
   "cell_type": "code",
   "execution_count": null,
   "id": "07ab8872-436e-4630-b7cb-b643eef62b8c",
   "metadata": {},
   "outputs": [],
   "source": [
    "a = [1,2,3,4,5]\n",
    "print(a[1:3])"
   ]
  },
  {
   "cell_type": "markdown",
   "id": "ec5e5a46-19b4-49e9-b0ed-af21a10685f8",
   "metadata": {},
   "source": [
    "### 리스트 연산, 수정, 삭제하기"
   ]
  },
  {
   "cell_type": "code",
   "execution_count": null,
   "id": "7a54a0e7-9d04-4246-8311-729945809e21",
   "metadata": {},
   "outputs": [],
   "source": [
    "a = [11,22,33]\n",
    "b = [44,55,66]\n",
    "#리스트 더하기\n",
    "print(a+b)\n",
    "#리스트 반복하기\n",
    "print(a*3)\n",
    "c = a*3\n",
    "#리스트 길이 구하기\n",
    "print(c)\n",
    "len(c)"
   ]
  },
  {
   "cell_type": "code",
   "execution_count": null,
   "id": "83f3db7f-2dd1-4b97-bea5-0cd9fb284e48",
   "metadata": {},
   "outputs": [],
   "source": [
    "#리스트 값 수정하기\n",
    "a = [11,22,33]\n",
    "a[2] = 44\n",
    "print(a)\n",
    "\n",
    "#a[3] = 5 없는 요소를 수정 할 수는 없다.\n",
    "#print(a) \n",
    "del a [1]\n",
    "#리스트에서 확실하게 없앨려면 del을 붙여 배열을 지정하면 된다.\n",
    "print(a)"
   ]
  },
  {
   "cell_type": "code",
   "execution_count": null,
   "id": "912769e3-cf4f-426b-9240-b8883611e5a6",
   "metadata": {},
   "outputs": [],
   "source": [
    "#슬라이싱으로 리스트 값 삭제하기\n",
    "c = [11, 22, 33, 11, 22, 33, 11, 22, 33]\n",
    "del c [:4]\n",
    "print(c)"
   ]
  },
  {
   "cell_type": "markdown",
   "id": "29ed4a8a-c163-4ed4-a4a7-bd7e3fb03082",
   "metadata": {},
   "source": [
    "### 리스트 관련 함수"
   ]
  },
  {
   "cell_type": "code",
   "execution_count": null,
   "id": "8a5bfd9f-c642-42db-a8aa-d37184f939ef",
   "metadata": {},
   "outputs": [],
   "source": [
    "dir(list)"
   ]
  },
  {
   "cell_type": "code",
   "execution_count": null,
   "id": "b4a43989-b8fb-4450-8b48-9a5d0fd6734a",
   "metadata": {},
   "outputs": [],
   "source": [
    "#리스트 요소 지우기\n",
    "c.clear()\n",
    "print(c)"
   ]
  },
  {
   "cell_type": "code",
   "execution_count": null,
   "id": "4f615708-daf9-47cd-954d-4e871002da48",
   "metadata": {},
   "outputs": [],
   "source": [
    "#리스트요소 추가하기\n",
    "a=[]\n",
    "\n",
    "a.append(4)\n",
    "a.append([11,22])\n",
    "print(a)"
   ]
  },
  {
   "cell_type": "code",
   "execution_count": null,
   "id": "5d5ba129-6640-4dd5-8968-6d68276ec13b",
   "metadata": {},
   "outputs": [],
   "source": [
    "g = []"
   ]
  },
  {
   "cell_type": "code",
   "execution_count": null,
   "id": "d407c149-6e9d-474b-94ee-c2a8ba778d1d",
   "metadata": {},
   "outputs": [],
   "source": [
    "num += 1\n",
    "g.append(num)\n",
    "print(g)"
   ]
  },
  {
   "cell_type": "code",
   "execution_count": null,
   "id": "3681a1e3-3e77-4406-9c4f-e42a18be81a3",
   "metadata": {},
   "outputs": [],
   "source": [
    "#리스트 정렬(오름차순) sort\n",
    "a = [11,44,33,22,55]\n",
    "#리스트는 순서가 굉장히 중요하다 하지만 sort는 그 순서를 부셔버리기 떄문에 \n",
    "#사용에 주의를 줘야한다. \n",
    "a.sort()\n",
    "print(a)\n"
   ]
  },
  {
   "cell_type": "code",
   "execution_count": null,
   "id": "7558f40d-f0ad-47e2-8130-3aeaee19e15f",
   "metadata": {},
   "outputs": [],
   "source": [
    "#리스트 정렬(내림차순) sort\n",
    "a = [11,44,33,22,55]\n",
    "#리스트는 순서가 굉장히 중요하다 하지만 sort는 그 순서를 부셔버리기 떄문에 \n",
    "#사용에 주의를 줘야한다. \n",
    "a.sort(reverse=True)\n",
    "print(a)\n"
   ]
  },
  {
   "cell_type": "code",
   "execution_count": null,
   "id": "ed8a8a48-2bc7-4aad-ae70-9b3cf9c9cef1",
   "metadata": {},
   "outputs": [],
   "source": [
    "#리스트 정렬 원본유지하기\n",
    "aa = [66,77,88,99,0]\n",
    "bb = sorted(aa)\n",
    "cc = sorted(aa,reverse=True)\n",
    "print(aa)\n",
    "print(bb)\n",
    "print(cc)"
   ]
  },
  {
   "cell_type": "code",
   "execution_count": null,
   "id": "b3aa8dc0-5482-4a33-8796-3bd4c7757b6c",
   "metadata": {},
   "outputs": [],
   "source": [
    "#sorted 응용\n",
    "fruit = [\"banana\",\"kiwi\",\"orange\",\"melon\",\"apple\",\"pear\",\"strawberry\",\"blueberry\"]\n",
    "result = sorted(fruit,key=len)\n",
    "result2 = sorted(fruit,key=len,reverse=True)\n",
    "print(fruit)\n",
    "print(result)\n",
    "print(result2)"
   ]
  },
  {
   "cell_type": "code",
   "execution_count": null,
   "id": "cecbe184-e8f3-4d4b-9d30-0c740c5378d6",
   "metadata": {},
   "outputs": [],
   "source": [
    "#리스트 뒤집기 reverse\n",
    "a = [11,33,22,55,44]\n",
    "a.reverse()\n",
    "print(a)"
   ]
  },
  {
   "cell_type": "code",
   "execution_count": null,
   "id": "15da3dd2-185d-4352-97b8-68cdea0c5a81",
   "metadata": {},
   "outputs": [],
   "source": [
    "print(\"과일을 먹자\")\n",
    "for r in result:\n",
    "    if r ==\"banana\":\n",
    "        print(r + \"맛없다\")\n",
    "    if r != \"banana\":\n",
    "        print(r+\"는 맛있다\")\n",
    "print(\"다먹었다.\")"
   ]
  },
  {
   "cell_type": "code",
   "execution_count": null,
   "id": "8d8d2492-faf2-42e3-9b8f-ca49bc7c30b1",
   "metadata": {},
   "outputs": [],
   "source": [
    "#index 반환 \n",
    "fruit = [\"banana\",\"kiwi\",\"orange\",\"melon\",\"apple\",\"pear\",\"strawberry\",\"blueberry\"]\n",
    "fruit.index(\"melon\")"
   ]
  },
  {
   "cell_type": "code",
   "execution_count": null,
   "id": "cdf31ad3-51ce-42dc-8a56-cb1db257cfe5",
   "metadata": {},
   "outputs": [],
   "source": [
    "#index 응용\n",
    "fruit = [\"banana\",\"kiwi\",\"orange\",\"melon\",\"apple\",\"pear\",\"strawberry\",\"blueberry\"]\n",
    "ab = input(\"먹고싶은 과일을 입력하세요!\")\n",
    "cd = fruit.index(ab)\n",
    "print(f\"{ab}를 좋아하시는 군요! 그것은 {cd+1}번에 있습니다\")"
   ]
  },
  {
   "cell_type": "code",
   "execution_count": null,
   "id": "ca2a4f1c-6d6c-4d9d-bdf5-5705b09bdd79",
   "metadata": {},
   "outputs": [],
   "source": [
    "#리스트에 요소 삽입 - insert\n",
    "num = [11,22,33,55,66,77,88]\n",
    "print(num)\n",
    "num.insert(3,44)\n",
    "#insert안에는 인자와 인수라고 함\n",
    "print(num)"
   ]
  },
  {
   "cell_type": "code",
   "execution_count": null,
   "id": "b61e8948-6a01-4a37-b9bd-0ef21d7f40ee",
   "metadata": {},
   "outputs": [],
   "source": []
  },
  {
   "cell_type": "code",
   "execution_count": 1,
   "id": "d8e4e067-4d76-4858-ae6c-519f119f7d92",
   "metadata": {},
   "outputs": [
    {
     "name": "stdout",
     "output_type": "stream",
     "text": [
      "['맨앞']\n",
      "['-1인덱스', '맨앞']\n",
      "['맨앞', '-1인덱스', '맨앞']\n",
      "['맨앞', '-1인덱스', '맨앞', '제일 끝']\n"
     ]
    }
   ],
   "source": [
    "ex=[]\n",
    "ex.insert(0,\"맨앞\")\n",
    "print(ex)\n",
    "ex.insert(-1,\"-1인덱스\")\n",
    "print(ex)\n",
    "ex.insert(0,\"맨앞\")\n",
    "print(ex)\n",
    "ex.insert(len(ex),\"제일 끝\")\n",
    "print(ex)"
   ]
  },
  {
   "cell_type": "code",
   "execution_count": null,
   "id": "5772fea3-7393-41d9-a11a-f9b1f785614b",
   "metadata": {},
   "outputs": [],
   "source": []
  }
 ],
 "metadata": {
  "kernelspec": {
   "display_name": "Python 3 (ipykernel)",
   "language": "python",
   "name": "python3"
  },
  "language_info": {
   "codemirror_mode": {
    "name": "ipython",
    "version": 3
   },
   "file_extension": ".py",
   "mimetype": "text/x-python",
   "name": "python",
   "nbconvert_exporter": "python",
   "pygments_lexer": "ipython3",
   "version": "3.13.1"
  }
 },
 "nbformat": 4,
 "nbformat_minor": 5
}

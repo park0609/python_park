{
 "cells": [
  {
   "cell_type": "code",
   "execution_count": null,
   "id": "6ac902a4-db25-4215-a92a-caf26e568765",
   "metadata": {},
   "outputs": [],
   "source": [
    "#!pip install wordcloud"
   ]
  },
  {
   "cell_type": "code",
   "execution_count": null,
   "id": "bce7dbff-ce15-4740-8e6e-d58e4c1cb1a4",
   "metadata": {
    "jupyter": {
     "source_hidden": true
    },
    "scrolled": true
   },
   "outputs": [],
   "source": [
    "import matplotlib.pyplot as plt\n",
    "from wordcloud import WordCloud\n",
    "\n",
    "# 샘플 텍스트\n",
    "text = \"\"\"\n",
    "Ukrainian President Volodymyr Zelensky will meet US President Donald Trump in Washington on Friday to sign an agreement on sharing his country's mineral resources, Trump has said.Zelensky has described the bilateral deal as preliminary, and said he wants further agreements which include US security guarantees to deter renewed Russian aggression.\n",
    "But Trump said the US would not provide guarantees \"beyond... very much\", saying the responsibility should instead fall to Europe.Trump also seemingly ruled out the prospect of Ukraine becoming a Nato member - one of Zelensky's long-held ambitions.\n",
    "Speaking at a meeting of his cabinet on Wednesday, Trump said the presence of American workers extracting rare earth metals on Ukrainian soil would provide \"automatic security\" for Ukraine.\n",
    "He said Kyiv should \"forget about\" joining Nato and repeated Russia's claims that the issue was one of the driving factors behind the war.\n",
    "The US president suggested a ceasefire between Ukraine and Russia was not far off, telling reporters: \"We're going to make a deal with Russia and Ukraine to stop killing people.\"\n",
    "But Zelensky said without security guarantees \"we won't have a ceasefire, nothing will work, nothing\".\"I want to find a Nato path or something similar,\" he said.What we know about US-Ukraine minerals deal\n",
    "Russia has consistently opposed the idea of Ukraine becoming a member, fearing it would bring Nato forces too close to its borders.\n",
    "In 2008, the alliance had said that Ukraine could eventually join.Trump has suggested European peacekeeping troops could be stationed in Ukraine as part of a ceasefire deal, but Russia says it is against this.\n",
    "European representatives, however, were not included in Washington's initial talks with Russia.Speaking to the BBC on Wednesday, Kaja Kallas, the EU High Representative for Foreign Affairs and Security Policy, said \"for any kind of deal to work on European soil, you need the Europeans to also agree to it\".\n",
    "She said the mineral resources deal was up to Ukraine, but any peace agreement would \"need the Europeans on board\".Ms Kallas' scheduled meeting with Secretary of State Marco Rubio on Wednesday was abruptly cancelled, with both sides citing scheduling issues.\n",
    "\"\"\"\n",
    "\n",
    "# 워드클라우드\n",
    "wordcloud = WordCloud(width=800, height=400, background_color = \"white\").generate(text)\n",
    "\n",
    "#시각화\n",
    "plt.figure(figsize=(10,5))\n",
    "plt.imshow(wordcloud, interpolation=\"bilinear\")\n",
    "plt.axis(\"off\")\n",
    "plt.show()"
   ]
  },
  {
   "cell_type": "code",
   "execution_count": null,
   "id": "476a7f2d-0f04-46e7-9946-51b557030137",
   "metadata": {},
   "outputs": [],
   "source": [
    "import matplotlib.pyplot as plt\n",
    "from wordcloud import WordCloud\n",
    "\n",
    "# 샘플 텍스트\n",
    "text = \"\"\"\n",
    "\"\"\"\n",
    "# 워드클라우드\n",
    "wordcloud = WordCloud(width=800, height=400, background_color = \"white\").generate(text)\n",
    "\n",
    "#시각화\n",
    "plt.figure(figsize=(10,5))\n",
    "plt.imshow(wordcloud, interpolation=\"bilinear\")\n",
    "plt.axis(\"off\")\n",
    "plt.show()"
   ]
  },
  {
   "cell_type": "code",
   "execution_count": 17,
   "id": "f21199f4-2987-42e9-ab13-4a514cff7d8e",
   "metadata": {
    "scrolled": true
   },
   "outputs": [
    {
     "name": "stdout",
     "output_type": "stream",
     "text": [
      "바이러스 피싱 하이재킹 등 위협 방어 필수 서비스 예전 개인 조심 인터넷 안전 생각 수 지금 상황 사용자 잘못 데이터 유출 수 비밀 번호 유출 수 악성 코드 희생 양이 년 온라인 공격 것 사용 지속 공격 속도 가속 추세 것 해킹 등 위협 방지 전반 소프트웨어 대비 광범위 보호 기본 권장 사항 정리 바이러스 백신 조심 피싱 사이트 악성 코드 랜섬웨어 기타 위협 노출 때 백신 소프트웨어 사용 것 기본 수준 시작 마이크로소프트 윈도우 내장 보안 백신 소프트웨어 활성 보통 활성 최근 마이크로소프트 안티 바이러스 보호 기능 신뢰 만큼 발전 백그라운드 눈 실행 노턴 디 럭스 유료 안티 바이러스 소프트웨어 추가 도움 제공 다크 웹 모니터링 서비스 비밀 번호 관리자 등 추가 기능 제공 광범위 보안 방어 체계 단일 인터페이스 통합 비밀 번호 관리자 바이러스 백신 패키지 일부 독립 서비스 웹 고유 로그인 추적 비밀 번호 관리자 필요 마찬가지 것 웹 저장 개인 데이터 양 최소 데 도움 것 예 개별 쇼핑 사이트 신용카드 정보 실제 주소 파일 보관 비밀 번호 관리자 세부 정보 저장 개인 정보 보호 보안 유지 수 타인 계정 무단 로그 인해 신용카드 사용 물건 구매 수 유출 데이터 기반 개인 사기 위험 선택 구글 애플 제공 비밀 번호 관리자 플랫폼 사용 수 구글 우위 기본 기능 충실 비밀 번호 사용 유혹 경우 사용 유혹 데 효과 비트 워드 대시 레인 독립 서비스 업그레이드 하면 비밀 번호 공유 제한 가족 공유 금고 긴급 액세스 손상 비밀 번호 모니터링 등 기능 이용 수 단계 인증 해커 자신 보호 비밀 번호 만 단계 인증 일명 멀티 팩 터 인증 계정 액세스 하기 전 통과 번 체크 포인트 추가 해커 비밀 번호 추론 성공 로그인 데 필요 정보 확보 수 생성 일회 코드 사용 것 FA 사용 방법 문자 메시지 전송 코드 안전 문자 메시지 중간 타인 위험 오씨 플랫폼 사용 수 생체 인증 기기 액세스 제한 수 때문 인기 기능 구글 인증 도구 대안 코드 클라우드 백업 구글 계정 필요 신중 사용자 라면 에 이지스 라 이보 사용 코드 장치 로컬 저장 수 있다 단 휴대폰 코드 백업 FA 토큰 비밀 번호 관리자 저장 방법 개 사용 것 추천 보관 해킹 공격자 계정 전체 액세스 권한 휴대 전화 때 주머니 책상 위 기기 보안 도구 비밀 번호 FA 휴대폰 사용 방식 계정 로그인 수 패스 이용 것 패스 키 비밀 번호 필요 패스 기기 저장 하면 된다 패스 저장 기기 연결 때문 도난 위험 해커 패스 사용 수 패스 사용 승인 필요 것 생체 인증 뿐 모바일 기기 컴퓨터 패스 지원 휴대폰 다 저장 수 패스 기기 고유 생성 웹사이트 허용 얼마 생성 수 사이트 서비스 패스 지원 것 구글 애플 마이크로소프트 페이스북 베스트 바이 타겟 등 웹 사이트 대부분 패스 지원 웹 전반 통합 진행 사이트 경우 비밀 번호 FA 조합 사용 것\n"
     ]
    }
   ],
   "source": [
    "import matplotlib.pyplot as plt\n",
    "from wordcloud import WordCloud\n",
    "import matplotlib.font_manager as fm\n",
    "from konlpy.tag import Komoran # 명사만 불리하기\n",
    "\n",
    "#한글 폰트\n",
    "font_path = \"./ref/D2Coding-Ver1.3.2-20180524.ttf\"\n",
    "\n",
    "# 샘플 텍스트\n",
    "text = \"\"\"\n",
    "바이러스나 피싱, 하이재킹 등 다양한 위협을 방어하는 필수 앱과 서비스를 알아보자.Person using Windows 11 on a laptop next to a sunny windowCredit: Windows예전에는 개인이 조심만 하면 인터넷이 안전하다고 생각할 수 있었다. 그러나 지금은 상황이 달라졌다. 사용자가 잘못하지 않아도 데이터가 유출될 수 있고, 비밀번호가 유출될 수 있으며, 악성코드의 희생양이 되기 쉽다.\n",
    "2025년에는 온라인 공격이 더 흔해질 것이다. AI 사용이 지속적으로 늘어나면서 공격의 속도와 정교함을 가속화하는 추세는 결코 느려지지 않을 것이다.\n",
    "해킹 등의 위협을 방지하기 위해 전반적으로 어떤 소프트웨어를 대비해야 할지, 광범위한 보호를 위한 기본 권장 사항을 정리했다.바이러스 백신Norton AntiVirusJim Martin / Foundry아무리 조심한다 하더라도 피싱 사이트, 악성코드, 랜섬웨어, 기타 위협에 노출될 가능성은 그 어느 때보다 높다. 따라서 좋은 백신 소프트웨어를 사용하는 것이 중요하다.\n",
    "가장 기본적인 수준부터 시작하자면, 마이크로소프트 윈도우에 내장된 보안 백신 소프트웨어를 활성화해야 한다. (보통은 활성화되어 있어야 한다.) 최근 마이크로소프트의 안티바이러스 보호 기능은 신뢰할 만큼 발전했다. 백그라운드에서 눈에 띄지 않게 실행된다.\n",
    "노턴 360 디럭스 같은 유료 안티바이러스 소프트웨어는 추가적인 도움을 제공한다. 다크 웹 모니터링, VPN 서비스, 비밀번호 관리자 등의 추가 기능을 제공해 광범위한 보안 방어 체계를 단순화해서 단일 인터페이스로 통합한다.비밀번호 관리자Enpass Password managerMartyn Casserly / Enpass바이러스 백신 패키지의 일부든 독립적인 서비스든, 웹에서 강력하고 고유한 로그인을 추적하기 위해서는 비밀번호 관리자가 필요하다. 그러나 마찬가지로 중요한 것은, 웹에 저장되는 개인 데이터의 양을 최소화하는 데 도움이 된다는 것이다.\n",
    "예를 들어, 개별 쇼핑 사이트가 신용카드 정보나 실제 주소를 파일에 보관하게 놔두지 말고, 비밀번호 관리자에 이러한 세부 정보를 저장해 개인 정보 보호(및 보안)를 유지할 수 있다. 타인이 계정에 무단으로 로그인해 신용카드를 사용해 물건을 구매할 수 없게 되거나, 유출된 데이터를 기반으로 한 개인화된 사기를 당할 위험이 줄어든다.\n",
    "가장 간단한 선택은 구글이나 애플에서 제공하는 비밀번호 관리자다. 더 많은 플랫폼에서 사용할 수 있는 구글이 조금 더 우위를 점하고 있다. 기본 기능에 충실하면서도 취약한 비밀번호를 사용하려는 유혹(또는 더 나쁜 경우, 재사용하려는 유혹)에 맞서 싸우는 데 효과적이다.\n",
    "비트워든이나 대시레인 같은 독립적인 서비스로 업그레이드하면, 비밀번호 공유 제한 없음, 가족용 공유 금고, 긴급 액세스, 손상된 비밀번호 모니터링 등 더 많은 기능을 이용할 수 있다.2단계 인증 앱IDG-Owned이제 해커로부터 자신을 보호하기 위해 단순한 비밀번호 하나만으로는 충분하지 않다. 2단계 인증(일명 멀티팩터 인증)은 계정에 액세스하기 전에 통과해야 하는 두 번째 체크포인트를 추가한다. 즉, 해커가 비밀번호를 훔치거나 추론하더라도 성공적으로 로그인하는 데 필요한 모든 정보를 확보할 수 없다.\n",
    "가능하다면 앱에서 생성된 일회용 코드를 사용하는 것이 2FA를 사용하는 가장 간단한 방법이다. 문자 메시지로 전송되는 코드보다 더 안전한다. 문자 메시지는 중간에 타인이 가로챌 위험이 있다. 오씨(Authy)는 여러 플랫폼에서 사용할 수 있고, PIN 또는 생체 인증을 통해 새로운 기기나 앱 액세스를 제한할 수 있기 때문에 인기가 높다.\n",
    "기능이 그렇게 다양하지는 않지만, 구글 인증 도구도 괜찮은 대안이다. 코드를 클라우드에 백업하려면 구글 계정이 필요하다. 좀 더 신중한 사용자라면 에이지스(Aegis)와 라이보(Raivo)를 사용해 코드를 장치에 로컬로 저장할 수 있다(단, 휴대폰이 망가지면 코드를 백업해야 한다).\n",
    "2FA 토큰을 비밀번호 관리자에 저장하는 방법보다는 두 개의 앱을 따로 사용하는 것을 추천한다. 혹시라도 보관함이 해킹당하더라도 공격자가 모든 계정에 대한 전체 액세스 권한을 얻지 못하도록 하기 위해서다.휴대전화 또는 PCWindows 11 passkeysMark Hachman / IDG때로는 주머니나 책상 위에 있는 기기가 강력한 보안 도구다. 비밀번호와 2FA가 싫다면, 휴대폰이나 PC를 사용해 다른 방식으로 계정에 로그인할 수 있다. 바로 패스키를 이용하는 것이다.패스키는 빠르고, 쉽고, 비밀번호보다 훨씬 간단하다. 외울 필요도 없다. 패스키를 기기에 저장하기만 하면 된다. 게다가 패스키는 저장된 기기에만 연결되기 때문에 도난당할 위험이 없고 해커 패스키를 사용할 수도 없다. 패스키 사용 승인에 필요한 것은 생체 인증 또는 PIN뿐이다.모바일 기기와 컴퓨터 모두 패스키를 지원한다. 휴대폰이나 PC 또는 둘 다에 저장할 수 있다. 패스키는 기기별로 고유하게 생성되지만, 웹사이트에서 허용하는 한 얼마든지 새로 생성할 수 있다.안타깝게도 모든 사이트나 서비스가 패스키를 지원하는 것은 아니다. 구글, 애플, 마이크로소프트, 페이스북, 베스트 바이, 타겟 등 주요 웹 사이트의 대부분은 패스키를 지원한다. 그러나 웹 전반에 걸쳐 통합이 진행되고 있다. 따라서 다른 사이트의 경우에는 여전히 좋은 비밀번호와 2FA의 조합을 사용하는 것이 좋다.\n",
    "\"\"\"\n",
    "#data = [x for x in text if bool(t.strip())]\n",
    "#print(data)\n",
    "komoran = Komoran()\n",
    "nouns = komoran.nouns(text)\n",
    "nouns_text = \" \".join(nouns)\n",
    "print()\n",
    "\n",
    "\n",
    "# 워드클라우드 생성\n",
    "# width: 워드클라우드의 너비를 800 픽셀로 설정\n",
    "# height: 워드클라우드의 높이를 400 픽셀로 설정\n",
    "# background_color: 배경색을 흰색으로 설정\n",
    "wordcloud = WordCloud(width=800, height=400, background_color=\"white\",font_path = font_path).generate(text)\n",
    "\n",
    "# 워드클라우드 시각화\n",
    "# plt.figure: 크기를 10인치 x 5인치로 설정\n",
    "plt.figure(figsize=(10, 5))\n",
    "# imshow: 생성된 워드클라우드를 표시\n",
    "plt.imshow(wordcloud, interpolation=\"bilinear\")\n",
    "# axis: 축을 표시하지 않도록 설정\n",
    "plt.axis(\"off\")\n",
    "# show: 시각화된 이미지를 화면에 표시\n",
    "plt.savefig(\"word2.png\")\n",
    "plt.show()\n"
   ]
  },
  {
   "cell_type": "code",
   "execution_count": 16,
   "id": "a41f4e0b-5a82-4c83-9c63-069d8ffeeac7",
   "metadata": {},
   "outputs": [
    {
     "name": "stdout",
     "output_type": "stream",
     "text": [
      "Counter({'수': 15, '비밀': 15, '번호': 15, '사용': 15, '것': 11, '패스': 10, '코드': 7, '저장': 7, '관리자': 6, '인증': 6, '기기': 6, '바이러스': 5, '등': 5, '서비스': 5, '사이트': 5, '기능': 5, '웹': 5, '필요': 5, '계정': 5, '구글': 5, '개인': 4, '소프트웨어': 4, '보호': 4, '백신': 4, '보안': 4, '정보': 4, '액세스': 4, 'FA': 4, '위협': 3, '데이터': 3, '유출': 3, '기본': 3, '마이크로소프트': 3, '추가': 3, '제공': 3, '로그인': 3, '데': 3, '위험': 3, '해커': 3, '생성': 3, '휴대폰': 3, '지원': 3, '피싱': 2, '방어': 2, '조심': 2, '안전': 2, '사용자': 2, '악성': 2, '공격': 2, '해킹': 2, '전반': 2, '광범위': 2, '때': 2, '활성': 2, '안티': 2, '도움': 2, '모니터링': 2, '통합': 2, '독립': 2, '고유': 2, '신용카드': 2, '보관': 2, '타인': 2, '애플': 2, '플랫폼': 2, '유혹': 2, '경우': 2, '하면': 2, '공유': 2, '제한': 2, '이용': 2, '단계': 2, '방법': 2, '문자': 2, '메시지': 2, '생체': 2, '때문': 2, '도구': 2, '백업': 2, '하이재킹': 1, '필수': 1, '예전': 1, '인터넷': 1, '생각': 1, '지금': 1, '상황': 1, '잘못': 1, '희생': 1, '양이': 1, '년': 1, '온라인': 1, '지속': 1, '속도': 1, '가속': 1, '추세': 1, '방지': 1, '대비': 1, '권장': 1, '사항': 1, '정리': 1, '랜섬웨어': 1, '기타': 1, '노출': 1, '수준': 1, '시작': 1, '윈도우': 1, '내장': 1, '보통': 1, '최근': 1, '신뢰': 1, '만큼': 1, '발전': 1, '백그라운드': 1, '눈': 1, '실행': 1, '노턴': 1, '디': 1, '럭스': 1, '유료': 1, '다크': 1, '체계': 1, '단일': 1, '인터페이스': 1, '패키지': 1, '일부': 1, '추적': 1, '마찬가지': 1, '양': 1, '최소': 1, '예': 1, '개별': 1, '쇼핑': 1, '실제': 1, '주소': 1, '파일': 1, '세부': 1, '유지': 1, '무단': 1, '로그': 1, '인해': 1, '물건': 1, '구매': 1, '기반': 1, '사기': 1, '선택': 1, '우위': 1, '충실': 1, '효과': 1, '비트': 1, '워드': 1, '대시': 1, '레인': 1, '업그레이드': 1, '가족': 1, '금고': 1, '긴급': 1, '손상': 1, '자신': 1, '만': 1, '일명': 1, '멀티': 1, '팩': 1, '터': 1, '하기': 1, '전': 1, '통과': 1, '번': 1, '체크': 1, '포인트': 1, '추론': 1, '성공': 1, '확보': 1, '일회': 1, '전송': 1, '중간': 1, '오씨': 1, '인기': 1, '대안': 1, '클라우드': 1, '신중': 1, '라면': 1, '에': 1, '이지스': 1, '라': 1, '이보': 1, '장치': 1, '로컬': 1, '있다': 1, '단': 1, '토큰': 1, '개': 1, '추천': 1, '공격자': 1, '전체': 1, '권한': 1, '휴대': 1, '전화': 1, '주머니': 1, '책상': 1, '위': 1, '방식': 1, '키': 1, '된다': 1, '연결': 1, '도난': 1, '승인': 1, '뿐': 1, '모바일': 1, '컴퓨터': 1, '다': 1, '웹사이트': 1, '허용': 1, '얼마': 1, '페이스북': 1, '베스트': 1, '바이': 1, '타겟': 1, '대부분': 1, '진행': 1, '조합': 1})\n"
     ]
    }
   ],
   "source": [
    "from collections import Counter\n",
    "word_counts = Counter(nouns_text.split())\n",
    "print(word_counts)"
   ]
  },
  {
   "cell_type": "code",
   "execution_count": null,
   "id": "5dceb8fe-683a-494d-aaa6-403299317067",
   "metadata": {},
   "outputs": [],
   "source": []
  }
 ],
 "metadata": {
  "kernelspec": {
   "display_name": "Python 3 (ipykernel)",
   "language": "python",
   "name": "python3"
  },
  "language_info": {
   "codemirror_mode": {
    "name": "ipython",
    "version": 3
   },
   "file_extension": ".py",
   "mimetype": "text/x-python",
   "name": "python",
   "nbconvert_exporter": "python",
   "pygments_lexer": "ipython3",
   "version": "3.13.1"
  }
 },
 "nbformat": 4,
 "nbformat_minor": 5
}

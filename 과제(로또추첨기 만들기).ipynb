{
 "cells": [
  {
   "cell_type": "code",
   "execution_count": 142,
   "id": "1f3cf9a7-4c8b-4e15-9024-c1e1f05f386a",
   "metadata": {},
   "outputs": [
    {
     "name": "stdout",
     "output_type": "stream",
     "text": [
      "오늘의 로또 번호는[44, 37, 25, 24, 13, 2]입니다.\n"
     ]
    }
   ],
   "source": [
    "import random as r\n",
    "box = []\n",
    "num = 0\n",
    "while num <6:\n",
    "    ran = r.randint(1,45)\n",
    "    if ran not in box:\n",
    "        num = num + 1\n",
    "        box.append(ran)\n",
    "    else:\n",
    "        continue\n",
    "    box.sort(reverse=True)\n",
    "print(f\"오늘의 로또 번호는{box}입니다.\")"
   ]
  },
  {
   "cell_type": "code",
   "execution_count": 149,
   "id": "d99cc5c3-5288-412b-93cb-43667d4769f0",
   "metadata": {},
   "outputs": [
    {
     "name": "stdout",
     "output_type": "stream",
     "text": [
      "[35, 33, 27, 10, 6, 4]\n"
     ]
    }
   ],
   "source": [
    "#풀이\n",
    "import random as r\n",
    "box = []\n",
    "while len(box) < 6:\n",
    "    ran = random.randint(1,46)\n",
    "    if not ran in box:\n",
    "        box.append(ran)\n",
    "    else:\n",
    "        pass\n",
    "box.sort(reverse=True)\n",
    "print(box)"
   ]
  },
  {
   "cell_type": "code",
   "execution_count": null,
   "id": "4ea619ee-797c-4e58-ae38-8a7c8397fcd3",
   "metadata": {
    "scrolled": true
   },
   "outputs": [],
   "source": [
    "#참고용\n",
    "ls = []\n",
    "la = []\n",
    "how = 100\n",
    "for h in range(how):\n",
    "    lotte = sorted(random.sample(range(1,46),6))\n",
    "    la.append(lotte)\n",
    "    ls = ls + lotte\n",
    "print(la)\n",
    "print(la,type(la))\n",
    "ss= []\n",
    "for n in range(1,46):\n",
    "    ss.append(ls.count(n))\n",
    "    a = ls.count(n)\n",
    "    print(f\"{n}이 출력된 횟수는{a}회 입니다. {a/how*6}\")\n",
    "print(ss,sum(ss) == how*6)\n",
    "if sum(ss) == (how*6):\n",
    "    print(f\"출현횟수{how}에 대한 검증이 이상없습니다.\")\n",
    "else:\n",
    "    print(\"문제가 발생되었습니다.\")\n",
    "#카운트를 하는 방법은 for를 이용해서 1번부터 끝까지 반복하게 만들고 배열을 하나 만들어\n",
    "#그 배열안에 나온 6개의 수를 쭈욱 넣으면 지정한 범위만큼 수가 나온다. \n"
   ]
  },
  {
   "cell_type": "code",
   "execution_count": null,
   "id": "303ecdea-dc75-4c7e-8073-5b151bb2588f",
   "metadata": {},
   "outputs": [],
   "source": [
    "#참고용2\n",
    "ls = []\n",
    "la = []\n",
    "how = 10000\n",
    "for h in range(how):\n",
    "    lotte = sorted(random.sample(range(1,46),6))\n",
    "    la.append(lotte)\n",
    "    ls = ls + lotte\n",
    "#print(la,type(la))\n",
    "dic={}\n",
    "for n in range(1,46):\n",
    "    dic[f\"num{n}\"] = ls.count(n)\n",
    "    #print(f\"{n}이 출력된 횟수는{a}회 입니다. {a/how*6}\")\n",
    "print(dic)\n",
    "print(dic.values())\n",
    "#위에와 똑같은 방법이지만 나오는 출력값을 딕셔너리로 만들었다. 딕셔너리로 만들면 keys와\n",
    "#values를 이용하면 값을 꺼내올수있기 때문에 그걸 이용하여 출력횟수를 구하면 된다."
   ]
  },
  {
   "cell_type": "code",
   "execution_count": 88,
   "id": "95433c4f-3202-49de-b634-460d0f1e7612",
   "metadata": {},
   "outputs": [
    {
     "name": "stdout",
     "output_type": "stream",
     "text": [
      "[40, 39, 38, 28, 16, 10]\n"
     ]
    }
   ],
   "source": [
    "import random\n",
    "def 로또(파라미터=6,매개변수=46):\n",
    "    box = []\n",
    "    while len(box) < 파라미터:\n",
    "        ran = random.randint(1,매개변수)\n",
    "        if not ran in box:\n",
    "            box.append(ran)\n",
    "        \n",
    "    box.sort(reverse=True)\n",
    "    print(box)\n",
    "로또()"
   ]
  },
  {
   "cell_type": "code",
   "execution_count": 34,
   "id": "76da8b74-0529-4bbe-a1ca-6a9e216cc1bf",
   "metadata": {},
   "outputs": [
    {
     "name": "stdin",
     "output_type": "stream",
     "text": [
      " 6000\n"
     ]
    },
    {
     "name": "stdout",
     "output_type": "stream",
     "text": [
      "1000원은 4개\n",
      "500원은 1개\n",
      "100원은 1개\n",
      "50원은 1개\n",
      "10원은 2개\n"
     ]
    }
   ],
   "source": [
    "#자판기 잔돈 분류 시스템\n",
    "#5000원 투입 입력값 1330 거스름돈 3670원 잔돈 \n",
    "#1000원짜리가 3장 500원짜리가 한개 100원짜리가 1개 5원 짜리가 1개 10원짜리가 2개\n",
    "\n",
    "#산수를 사용한 함수 계산기\n",
    "box = []\n",
    "a = input()\n",
    "won = 1330\n",
    "b = int(a) - int(won)\n",
    "while b>=10:\n",
    "    if b >=1000:\n",
    "        c = b//1000\n",
    "        print(f\"1000원은 {c}개\")\n",
    "    b = b - 1000*c    \n",
    "    if b >= 500:\n",
    "        d = b//500\n",
    "        print(f\"500원은 {d}개\")\n",
    "    b = b - 500*d\n",
    "    if b >= 100:\n",
    "       e = b//100\n",
    "       print(f\"100원은 {e}개\")\n",
    "    b = b-100*e \n",
    "    if b >= 50:\n",
    "       f = b//50\n",
    "       print(f\"50원은 {f}개\")\n",
    "    b = b - 50*f \n",
    "    if b>=10:\n",
    "       g = b//10\n",
    "       print(f\"10원은 {g}개\")\n",
    "       continue\n"
   ]
  },
  {
   "cell_type": "code",
   "execution_count": 94,
   "id": "cf427bea-5a5e-4505-8faf-6470f131da57",
   "metadata": {},
   "outputs": [
    {
     "name": "stdin",
     "output_type": "stream",
     "text": [
      " 5000\n"
     ]
    },
    {
     "name": "stdout",
     "output_type": "stream",
     "text": [
      "1000은 3개\n",
      "500은 1개\n",
      "100은 1개\n",
      "50은 1개\n",
      "10은 2개\n"
     ]
    }
   ],
   "source": [
    "#for문을 이용한 동전계산기\n",
    "box2 = [1000,500,100,50,10]\n",
    "b = input()\n",
    "a = 1330\n",
    "c = int(b)-a\n",
    "for n in box2:\n",
    "    d = c//n\n",
    "    c = c-n*d\n",
    "    print(f\"{n}은 {d}개\")"
   ]
  },
  {
   "cell_type": "code",
   "execution_count": 98,
   "id": "37decb3b-8269-4a4e-8654-f1a81edb70ee",
   "metadata": {},
   "outputs": [
    {
     "name": "stdout",
     "output_type": "stream",
     "text": [
      "[11, 22, 33]\n",
      "[11, 22, 33, 44]\n",
      "33가 가장 크다\n",
      "None\n"
     ]
    }
   ],
   "source": [
    "#배열의 요소가 3개일 때 오름차순으로 나열하라\n",
    "box = [33,11,22]\n",
    "a = box.pop(0)\n",
    "b = box.append(a)\n",
    "print(box)\n",
    "#배열의 요소가 4개일 때 오름차순으로 나열하라\n",
    "box2 = [33,11,22,44]\n",
    "a = box2.pop(0)\n",
    "b = box2.append(a)\n",
    "c = box2.pop(2)\n",
    "d = box2.append(c)\n",
    "print(box2)\n",
    "#요소 중 제일 큰 수를 찾아내라\n",
    "def size():\n",
    "    box3 = [33,11,22]\n",
    "    a = box3.pop(0)\n",
    "    b = box3.pop(0)\n",
    "    c = box3.pop(0)\n",
    "    if a>b:\n",
    "        if a>c:\n",
    "            print(f\"{a}가 가장 크다\")\n",
    "    elif b>c:\n",
    "        print(f\"{b}가 제일 크다\")\n",
    "    else:\n",
    "        print(f\"{c}가 제일 크다\")\n",
    "print(size())\n",
    "#요소 중 제일 큰 수를 찾아내라\n",
    "\n",
    "box4 = [33,11,22,44]\n",
    "a = box4.pop(0)\n",
    "b = box4.pop(0)\n",
    "c = box4.pop(0)\n",
    "d = box4.pop(0)\n",
    "if a>b:\n",
    "    if a>c:\n",
    "        if a>d:\n",
    "            print(f\"{a}가 가장 크다\")\n",
    "elif b>c:\n",
    "    if b>d:\n",
    "        print(f\"{b}가 가장 크다\")\n",
    "elif c>d:\n",
    "    print(f\"{c}가 가장 크다\")\n",
    "else:\n",
    "    print(f\"{d}가 가장 크다\")"
   ]
  },
  {
   "cell_type": "code",
   "execution_count": null,
   "id": "38be5b13-352e-4e54-bbf0-f09a53304b69",
   "metadata": {},
   "outputs": [],
   "source": [
    "#for를 사용한 풀이 \n"
   ]
  },
  {
   "cell_type": "code",
   "execution_count": 90,
   "id": "ecade828-057d-4f8f-9609-05390211dada",
   "metadata": {},
   "outputs": [
    {
     "name": "stdout",
     "output_type": "stream",
     "text": [
      "44\n"
     ]
    }
   ],
   "source": [
    "def bs(li=[33,11,22,44]):\n",
    "    sw = 0\n",
    "    for x in range(len(li)):\n",
    "        if sw < li[x]:\n",
    "            sw = li[x]\n",
    "    return sw\n",
    "print(bs())"
   ]
  },
  {
   "cell_type": "code",
   "execution_count": null,
   "id": "8ff9b548-5f40-4a4e-a7ab-249892f4525f",
   "metadata": {},
   "outputs": [],
   "source": []
  }
 ],
 "metadata": {
  "kernelspec": {
   "display_name": "Python 3 (ipykernel)",
   "language": "python",
   "name": "python3"
  },
  "language_info": {
   "codemirror_mode": {
    "name": "ipython",
    "version": 3
   },
   "file_extension": ".py",
   "mimetype": "text/x-python",
   "name": "python",
   "nbconvert_exporter": "python",
   "pygments_lexer": "ipython3",
   "version": "3.13.1"
  }
 },
 "nbformat": 4,
 "nbformat_minor": 5
}

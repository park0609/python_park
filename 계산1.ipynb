{
 "cells": [
  {
   "cell_type": "code",
   "execution_count": null,
   "id": "559bdc65-593d-4500-87f9-358c6b27a714",
   "metadata": {},
   "outputs": [],
   "source": [
    "def birth():\n",
    "    import datetime\n",
    "    days = [\"월\",\"화\",\"수\",\"목\",\"금\",\"토\",\"일\"]\n",
    "    month = input(\"생일의 월을 입력해주세요!\")\n",
    "    day = input(\"생일의 일을 입력해주세요!\")\n",
    "    day1 = datetime.date(2025,2,18)\n",
    "    day2 = datetime.date(2025,int(month),int(day))\n",
    "    diff = day2 - day1\n",
    "    print(f\"생일까지 {diff.days}일 남았고, 그 날은 {days[day2.weekday()]}요일 입니다!\")"
   ]
  },
  {
   "cell_type": "code",
   "execution_count": 4,
   "id": "ab22bdb3-8a3e-41e7-aae9-f1a6b12ad634",
   "metadata": {},
   "outputs": [],
   "source": [
    "def kids_day():\n",
    "    import datetime\n",
    "    days = [\"월\",\"화\",\"수\",\"목\",\"금\",\"토\",\"일\"]\n",
    "    day1 = datetime.date(2025,2,18)\n",
    "    day2 = datetime.date(2025,5,5)\n",
    "    diff = day2 - day1\n",
    "    print(f\"어린이날까지 {diff.days}일 남았고, 그 날은 {days[day2.weekday()]}요일 입니다!\")"
   ]
  },
  {
   "cell_type": "code",
   "execution_count": 5,
   "id": "0ffd5745-21e2-4a14-adeb-c54eb9d30c0c",
   "metadata": {},
   "outputs": [
    {
     "name": "stdout",
     "output_type": "stream",
     "text": [
      "어린이날까지 76일 남았고, 그 날은 월요일 입니다!\n"
     ]
    }
   ],
   "source": [
    "kids_day()"
   ]
  },
  {
   "cell_type": "code",
   "execution_count": 6,
   "id": "d7227fae-2b1c-4d0e-b919-32d4fde467a0",
   "metadata": {},
   "outputs": [],
   "source": [
    "def parents_day():\n",
    "    import datetime\n",
    "    days = [\"월\",\"화\",\"수\",\"목\",\"금\",\"토\",\"일\"]\n",
    "    day1 = datetime.date(2025,2,18)\n",
    "    day2 = datetime.date(2025,5,8)\n",
    "    diff = day2 - day1\n",
    "    print(f\"어버이날까지 {diff.days}일 남았고, 그 날은 {days[day2.weekday()]}요일 입니다!\")"
   ]
  },
  {
   "cell_type": "code",
   "execution_count": 7,
   "id": "add6c589-2885-452b-8844-9e2669113e5f",
   "metadata": {},
   "outputs": [
    {
     "name": "stdout",
     "output_type": "stream",
     "text": [
      "어버이날까지 79일 남았고, 그 날은 목요일 입니다!\n"
     ]
    }
   ],
   "source": [
    "parents_day()"
   ]
  },
  {
   "cell_type": "code",
   "execution_count": 8,
   "id": "a4ed0bb5-af14-4fac-b06b-c624d7f0ccf1",
   "metadata": {},
   "outputs": [],
   "source": [
    "def christmas():\n",
    "    import datetime\n",
    "    days = [\"월\",\"화\",\"수\",\"목\",\"금\",\"토\",\"일\"]\n",
    "    day1 = datetime.date(2025,2,18)\n",
    "    day2 = datetime.date(2025,5,8)\n",
    "    diff = day2 - day1\n",
    "    print(f\"크리스마스까지 {diff.days}일 남았고, 그 날은 {days[day2.weekday()]}요일 입니다!\")"
   ]
  },
  {
   "cell_type": "code",
   "execution_count": 9,
   "id": "307b7eb1-5a52-4e93-bdea-4a9ab7ff3a77",
   "metadata": {},
   "outputs": [
    {
     "name": "stdout",
     "output_type": "stream",
     "text": [
      "크리스마스까지 79일 남았고, 그 날은 목요일 입니다!\n"
     ]
    }
   ],
   "source": [
    "christmas()"
   ]
  },
  {
   "cell_type": "code",
   "execution_count": 11,
   "id": "e51e3128-1feb-472e-8e68-e8e31fe37641",
   "metadata": {},
   "outputs": [],
   "source": [
    "def chuseck():\n",
    "    import datetime\n",
    "    days = [\"월\",\"화\",\"수\",\"목\",\"금\",\"토\",\"일\"]\n",
    "    day1 = datetime.date(2025,7,25)\n",
    "    day2 = datetime.date(2025,10,6)\n",
    "    diff = day2 - day1\n",
    "    print(f\"수료 후 추석까지 {diff.days}일 남았고, 그 날은 {days[day2.weekday()]}요일 입니다!\")"
   ]
  },
  {
   "cell_type": "code",
   "execution_count": 12,
   "id": "2484c064-8a19-423f-a5c0-ba1f0c2cb001",
   "metadata": {},
   "outputs": [
    {
     "name": "stdout",
     "output_type": "stream",
     "text": [
      "수료 후 추석까지 73일 남았고, 그 날은 월요일 입니다!\n"
     ]
    }
   ],
   "source": [
    "chuseck()"
   ]
  },
  {
   "cell_type": "code",
   "execution_count": 1,
   "id": "5c652180-16d8-4e99-8ff0-4d37dbdd1853",
   "metadata": {},
   "outputs": [
    {
     "data": {
      "text/plain": [
       "'오늘부터 어린이날까지는 76일 남았으며, 어린이날은 월요일 입니다.'"
      ]
     },
     "execution_count": 1,
     "metadata": {},
     "output_type": "execute_result"
    }
   ],
   "source": [
    "import datetime\n",
    "def child():\n",
    "    cd = datetime.date(2025,5,5)\n",
    "    today = datetime.datetime.now().date()\n",
    "    diff = cd - today\n",
    "    days = ['월','화','수','목','금','토','일']\n",
    "    return f\"오늘부터 어린이날까지는 {diff.days}일 남았으며, 어린이날은 {days[cd.weekday()]}요일 입니다.\"\n",
    "child()"
   ]
  },
  {
   "cell_type": "code",
   "execution_count": null,
   "id": "47ebbddb-7fd8-4f48-bd78-f81ea87cf9e5",
   "metadata": {},
   "outputs": [],
   "source": []
  },
  {
   "cell_type": "code",
   "execution_count": 2,
   "id": "92a913b8-a13f-4f0e-9c94-1027c3245219",
   "metadata": {},
   "outputs": [
    {
     "name": "stdout",
     "output_type": "stream",
     "text": [
      "어버이날까지 남은 날은 79 일 이고, 목요일 입니다.\n"
     ]
    }
   ],
   "source": [
    "import datetime\n",
    "day1 = datetime.date(2025,2,18)\n",
    "day2 = datetime.date(2025,5,8)\n",
    "diff = day2 - day1 \n",
    "days=['월','화','수','목','금','토','일']\n",
    "day = datetime.date(2025,5,8)\n",
    "\n",
    "print(\"어버이날까지 남은 날은\", diff.days,\"일 이고,\",days[day.weekday()]+'요일 입니다.')\n"
   ]
  },
  {
   "cell_type": "code",
   "execution_count": null,
   "id": "10db8c12-f320-4550-907e-049fbe27d414",
   "metadata": {},
   "outputs": [],
   "source": []
  },
  {
   "cell_type": "code",
   "execution_count": null,
   "id": "57d5ad82-8075-4087-938d-ce4acdb969d0",
   "metadata": {},
   "outputs": [],
   "source": []
  }
 ],
 "metadata": {
  "kernelspec": {
   "display_name": "Python 3 (ipykernel)",
   "language": "python",
   "name": "python3"
  },
  "language_info": {
   "codemirror_mode": {
    "name": "ipython",
    "version": 3
   },
   "file_extension": ".py",
   "mimetype": "text/x-python",
   "name": "python",
   "nbconvert_exporter": "python",
   "pygments_lexer": "ipython3",
   "version": "3.13.1"
  }
 },
 "nbformat": 4,
 "nbformat_minor": 5
}

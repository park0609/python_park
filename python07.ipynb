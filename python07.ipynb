{
 "cells": [
  {
   "cell_type": "markdown",
   "id": "601e9765-24ad-447c-afac-8c2a4ade82f5",
   "metadata": {},
   "source": [
    "# 내장함수"
   ]
  },
  {
   "cell_type": "code",
   "execution_count": null,
   "id": "f8bbf6e7-e444-4a46-8302-cbc350044c89",
   "metadata": {},
   "outputs": [],
   "source": [
    "#abs★\n",
    "\n",
    "abs(-3)\n",
    "#어떤 함수를 받아도 무조건 절대값으로 리턴하는 값"
   ]
  },
  {
   "cell_type": "code",
   "execution_count": null,
   "id": "90711775-2ee6-4ed0-93f9-977bb2624688",
   "metadata": {},
   "outputs": [],
   "source": [
    "#all★\n",
    "\n",
    "print(all([1,2,3]))\n",
    "\n",
    "print(all([11,22,33,44,0]))\n",
    "#and와 성질이 같다. 단 한개라도 0이면 false값을 낸다.\n",
    "\n",
    "print(all([]))\n",
    "#and의 특징으로는 아무것도 없으면 True값을 낸다"
   ]
  },
  {
   "cell_type": "code",
   "execution_count": null,
   "id": "ffa586c0-df43-4266-917c-ae012187cae6",
   "metadata": {},
   "outputs": [],
   "source": [
    "#any★\n",
    "\n",
    "print(any([1,2,3,0]))\n",
    "#or과 성질이비슷하다. 하나만 참이면 True값을 낸다.\n",
    "\n",
    "print(any([0,\"\",[],False]))\n",
    "#all과 반대로 빈배열은 False값을 띈다."
   ]
  },
  {
   "cell_type": "code",
   "execution_count": 1,
   "id": "e7bc340c-8244-4e4e-b09a-489c5268dce0",
   "metadata": {},
   "outputs": [
    {
     "name": "stdout",
     "output_type": "stream",
     "text": [
      "a\n",
      "갂\n",
      "65\n",
      "44032\n"
     ]
    }
   ],
   "source": [
    "#chr 유니코드로 값 출력\n",
    "print(chr(97))\n",
    "print(chr(44034))\n",
    "# 유니코드를 입력하면 그거에 해당하는 값을 도출시킨다.\n",
    "#ord 유니코드 출력\n",
    "print(ord(\"A\"))\n",
    "print(ord(\"가\"))"
   ]
  },
  {
   "cell_type": "code",
   "execution_count": null,
   "id": "3a1656aa-8a8e-4350-8c52-34bbde23acd2",
   "metadata": {},
   "outputs": [],
   "source": [
    "#dir★\n",
    "dir([1,2,3])\n",
    "#해당하는 값이 가진 기능을 볼 수 있음"
   ]
  },
  {
   "cell_type": "code",
   "execution_count": null,
   "id": "8fcaff77-9f8f-43d6-aa15-e3d76f4a03de",
   "metadata": {},
   "outputs": [],
   "source": [
    "#divmod\n",
    "divmod(4,2)\n",
    "#값 a,b 두가지를 지정해서 몫과 나머지를 튜플화 시켜서 리턴한다."
   ]
  },
  {
   "cell_type": "code",
   "execution_count": null,
   "id": "e0e6fee8-68ef-4b3f-bade-9da46f03ebdc",
   "metadata": {},
   "outputs": [],
   "source": [
    "#enumerate★★\n",
    "fruit = [\"apple\",\"kiwi\",\"banana\",\"cherry\"]\n",
    "for f in fruit:\n",
    "    print(f)\n",
    "\n",
    "for n,m in enumerate(fruit, start=0):\n",
    "    print(n,\"순위 과일은?\",m)\n",
    "\n",
    "#enumerate는 for문에서 사용되고 값을 꺼낼 때 앞에 인덱스값을 같이 꺼내준다."
   ]
  },
  {
   "cell_type": "code",
   "execution_count": null,
   "id": "8c634398-a2c0-4350-a006-8f084d4f754b",
   "metadata": {},
   "outputs": [],
   "source": [
    "#eval\n",
    "eval(\"1+2\")\n",
    "#문자열로 입력되어있는 표현식을 입력으로 받아 해당 문자열을 실행한\n",
    "#결과값을 리턴하는 함수"
   ]
  },
  {
   "cell_type": "code",
   "execution_count": null,
   "id": "82f82de8-dd4d-4919-93b6-81be296cb7a1",
   "metadata": {},
   "outputs": [],
   "source": [
    "#filter★\n",
    "def positive(I):\n",
    "    result = []\n",
    "    for i in I:\n",
    "        if i > 0:\n",
    "            result.append(i)\n",
    "    return result\n",
    "print(positive([1,2,3,4]))\n",
    "\n",
    "def positive_1(I):\n",
    "    return I > 0\n",
    "print(list(filter(positive_1 , [1,2,3,4])))\n",
    "#filter을 사용하면 함수에 값을 한개씩 집어넣을 때 참인 경우에만 불러낸다.\n",
    "#필터를 사용할 떈 필터(함수, 반복가능데이터)형식으로 만든다.\n",
    "l = [1,2,3,4]\n",
    "list(filter(lambda x : x > 0, l))"
   ]
  },
  {
   "cell_type": "code",
   "execution_count": null,
   "id": "b881ce8a-6903-43df-bc15-7ad1d1e0694e",
   "metadata": {},
   "outputs": [],
   "source": [
    "#hex, oct, bin\n",
    "print(hex(123))\n",
    "print(oct(123))\n",
    "print(bin(123))\n",
    "# hex 정수를 입력받으면 그 값을 16진수로 바꿔준다\n",
    "# oct 정수를 입력받으면 그 값을 8진수로 바꿔준다\n",
    "# bin 정수를 입력받으면 그 값을 2진수로 바꿔준다."
   ]
  },
  {
   "cell_type": "code",
   "execution_count": null,
   "id": "240b8e3e-533e-4294-9339-6d2a75df89c7",
   "metadata": {},
   "outputs": [],
   "source": [
    "#id\n",
    "a = 3\n",
    "b = a\n",
    "print(id(a))\n",
    "print(id(3))\n",
    "print(id(b))\n",
    "#값을 입력받으면 그 값의 대한 고유값(래퍼런스)를 출력시킨다."
   ]
  },
  {
   "cell_type": "code",
   "execution_count": null,
   "id": "0a493fc8-d0f9-426c-9cb0-42c049a11dcc",
   "metadata": {},
   "outputs": [],
   "source": [
    "#input,int ★\n",
    "\n",
    "#input은 str으로 값을 전달하므로 계산식에 적용할 떈 int나 float로 \n",
    "#값의 형태를 바꿔줘야한다.\n",
    "#int는 정수로 변환, 소수점이 사라진다\n",
    "#float 실수를 표현하기에 소수점까지 나타냄"
   ]
  },
  {
   "cell_type": "code",
   "execution_count": null,
   "id": "beb0de11-8b7b-4102-8435-6b6ed0b234a4",
   "metadata": {},
   "outputs": [],
   "source": [
    "#isinstance\n",
    "\n",
    "class Person:\n",
    "    def p(self):\n",
    "        return (\"안녕하세요\")\n",
    "a = Person()\n",
    "print(isinstance(a,Person))\n",
    "print(isinstance(b,Person))\n",
    "#인스턴스 확인용 함수이다. 어떤 클래스의 인스턴스가 맞는지 확인 할 수있다\n",
    "#isinstance(odject, class) 인스턴스가 맞으면 참 틀리면 거짓을 낸다"
   ]
  },
  {
   "cell_type": "code",
   "execution_count": null,
   "id": "fa49e3ee-8620-4639-85f5-3756f63a636a",
   "metadata": {},
   "outputs": [],
   "source": [
    "#len ★★\n",
    "print(len(\"python\"))\n",
    "print(len([1,2,3,4]))\n",
    "print(len((1,2,3,4)))"
   ]
  },
  {
   "cell_type": "code",
   "execution_count": null,
   "id": "b6ebb86c-e70b-45db-91fb-061a132d52e9",
   "metadata": {},
   "outputs": [],
   "source": [
    "#list ★★"
   ]
  },
  {
   "cell_type": "code",
   "execution_count": null,
   "id": "898cb35f-21b9-471e-bf2a-1427feed6d0f",
   "metadata": {},
   "outputs": [],
   "source": [
    "#map★\n",
    "def two_items(num):\n",
    "    result = []\n",
    "    for number in num:\n",
    "        result.append(number*2)\n",
    "    return result\n",
    "\n",
    "result = two_items([1,2,3,4])\n",
    "print(result)\n",
    "\n",
    "#리스트 컴프리헨션으로 변경시켜 보자\n",
    "def two(n):\n",
    "    return [n*2 for n in n]\n",
    "two([1,2,3,4])\n",
    "\n",
    "#map은 입력과 출력의 값이 같다. \n",
    "\n",
    "def two_item(x):\n",
    "    return x*2\n",
    "\n",
    "list(map(two_item,[1,2,3,4]))\n",
    "#map(함수, 값) map은 함수에 값을 적용한 결과를 만들어 낸다.\n",
    "\n"
   ]
  },
  {
   "cell_type": "code",
   "execution_count": null,
   "id": "0ddd1025-5dc2-427f-830b-c8dccc896bdf",
   "metadata": {},
   "outputs": [],
   "source": [
    "#테스트\n",
    "li = [1,2,3,4,5,6]\n",
    "\n",
    "def odd(x):\n",
    "    return x%2 !=0\n",
    "def even(x):\n",
    "    return x%2 == 0\n",
    "def add(x):\n",
    "    return x +10\n",
    "def mul(x):\n",
    "    return x*x\n",
    "def addmul(x):\n",
    "    return (x+10)*x\n",
    "\n",
    "print(list(filter(odd, li)))\n",
    "print(list(filter(even, li)))\n",
    "print(list(map(add, li)))\n",
    "print(list(map(mul, li)))\n",
    "print(list(map(addmul, li)))\n",
    "#필터는 참 거짓만 골라내기 때문에 그냥 산수에는 관심이 없어 리스트값을\n",
    "#그냥 꺼내온다.\n",
    "#그래서 값을 받아오기 위해선 map을 사용하는게 좋다"
   ]
  },
  {
   "cell_type": "code",
   "execution_count": null,
   "id": "d54dd99c-ae75-4b0e-bd94-bd644888ae77",
   "metadata": {},
   "outputs": [],
   "source": [
    "#max , min ★\n",
    "li = [1,2,3,4,5]\n",
    "print(max(li))\n",
    "print(min(li))\n",
    "\n",
    "#max , min(문자일경우) ★\n",
    "max(\"python\")\n",
    "min(\"python\")\n",
    "# 문자열을 입력할 경우 유니코드로 값을 바꿔 최대, 최소값을 꺼낸다."
   ]
  },
  {
   "cell_type": "code",
   "execution_count": null,
   "id": "0b9fcf17-bd21-44f3-bcdc-014015795ac0",
   "metadata": {},
   "outputs": [],
   "source": [
    "#open ★\n",
    "f = open('README.md',\"w\")\n",
    "# 파일명과 모드를 설정하여 파일에 값을 추가하거나 파일의 값을 불러오는것\n",
    "# 등 여러가지가 가능하다."
   ]
  },
  {
   "cell_type": "markdown",
   "id": "9c14e534-bfdc-4dc5-848c-f62c4b3ae855",
   "metadata": {},
   "source": [
    "<table>\n",
    "<thead>\n",
    "<tr>\n",
    "<th>mode</th>\n",
    "<th>설명</th>\n",
    "</tr>\n",
    "</thead>\n",
    "<tbody>\n",
    "<tr>\n",
    "<td>w</td>\n",
    "<td>쓰기 모드로 파일 열기</td>\n",
    "</tr>\n",
    "<tr>\n",
    "<td>r</td>\n",
    "<td>읽기 모드로 파일 열기</td>\n",
    "</tr>\n",
    "<tr>\n",
    "<td>a</td>\n",
    "<td>추가 모드로 파일 열기</td>\n",
    "</tr>\n",
    "<tr>\n",
    "<td>b</td>\n",
    "<td>바이너리 모드로 파일 열기</td>\n",
    "</tr>\n",
    "</tbody>\n",
    "</table>"
   ]
  },
  {
   "cell_type": "code",
   "execution_count": null,
   "id": "abc119ea-a261-425d-9830-5d2fec02620f",
   "metadata": {},
   "outputs": [],
   "source": [
    "#pow★\n",
    "\n",
    "print(pow(2,4))\n",
    "print(pow(3,5))\n",
    "#pow(a,b) a을 b제곱한결과를 리턴한다."
   ]
  },
  {
   "cell_type": "code",
   "execution_count": null,
   "id": "ef2fade3-8cd7-4a2e-8d96-a1affed6e434",
   "metadata": {},
   "outputs": [],
   "source": [
    "#range ★★\n",
    "#인수가 하나\n",
    "print(list(range(5)))\n",
    "#지정한 값 미만까지 리턴한다.\n",
    "\n",
    "#인수가 둘\n",
    "print(list(range(1,10)))\n",
    "#a 이상 b 미만 값을 리턴한다.\n",
    "\n",
    "#인수가 셋\n",
    "print(list(range(1,10,2)))\n",
    "print(list(range(1,10,-1)))\n",
    "#리턴값의 범위와 순서를 정한다. 양수일 경우 수만큼 띄우기 음수일경우\n",
    "#거꾸로 감"
   ]
  },
  {
   "cell_type": "code",
   "execution_count": null,
   "id": "d8151f3f-d3dd-42d6-b373-9b1cd0f275c4",
   "metadata": {},
   "outputs": [],
   "source": [
    "#round ★\n",
    "\n",
    "#인수가 하나\n",
    "print(round(3.49999))\n",
    "print(round(3.5))\n",
    "print(round(3.768))\n",
    "#반올림 해주는 함수가 된다.\n",
    "\n",
    "#인수가 둘\n",
    "print(round(3.768,2))\n",
    "print(round(3.14343,1))\n",
    "print(round(3.545324,3))\n",
    "#round(a,b) a를 소수점 b자리까지 리턴한다. \n",
    "#인자의 따라 사용방법이 완전히 바뀌므로 주의"
   ]
  },
  {
   "cell_type": "code",
   "execution_count": null,
   "id": "c64c3ffa-e19a-412e-a1ad-ad7080cba477",
   "metadata": {},
   "outputs": [],
   "source": [
    "#sorted ★\n",
    "print(sorted([2,3,1,5,3,6,3]))\n",
    "print(sorted([\"a\",\"d\",\"w\",\"p\",\"b\"]))\n",
    "print(sorted(\"python\"))\n",
    "print(sorted((1,4,2,5)))\n",
    "\n",
    "a = [3,6,5,2,5,7]\n",
    "print(sorted(a))\n",
    "print(a)\n",
    "\n",
    "#입력한 데이터를 정렬 한 후 리스트로 리턴하는 함수\n",
    "#값을 바꾸긴 하지만 원본의 형태는 유지를 한다."
   ]
  },
  {
   "cell_type": "code",
   "execution_count": null,
   "id": "afa468d6-9633-4c37-b4f0-60cb1446776f",
   "metadata": {},
   "outputs": [],
   "source": [
    "#str ★ 문자열로 변환\n",
    "print(str(123)+str(456))\n",
    "print(123+456)"
   ]
  },
  {
   "cell_type": "code",
   "execution_count": null,
   "id": "91b54777-ce00-471c-9779-e78e44c67d2c",
   "metadata": {},
   "outputs": [],
   "source": [
    "#sum ★\n",
    "print(sum([1,2,3]))\n",
    "print(sum([11,22,33]))\n",
    "#입력 데이터의 합을 구해준다."
   ]
  },
  {
   "cell_type": "code",
   "execution_count": null,
   "id": "3826d36d-ca94-4a83-ad77-00daa12a0508",
   "metadata": {},
   "outputs": [],
   "source": [
    "#tuple ★ 튜플로 바꿔줌"
   ]
  },
  {
   "cell_type": "code",
   "execution_count": null,
   "id": "235a5f42-db7c-48b1-9061-5471dbc0a32a",
   "metadata": {},
   "outputs": [],
   "source": [
    "#type ★★ \n",
    "print(type(\"abc\"))\n",
    "print(type(1234))\n",
    "print(type(open(\"README.md\",\"r\"))) # 파일 자료형\n"
   ]
  },
  {
   "cell_type": "code",
   "execution_count": null,
   "id": "08ff7868-d29c-4612-8616-7df077ff9480",
   "metadata": {},
   "outputs": [],
   "source": [
    "# zip ★★\n",
    "\n",
    "fruit = [\"apple\",\"kiwi\",\"banana\",\"cherry\",\"mango\"]\n",
    "animal = [\"cat\",\"dog\",\"elephant\",\"monky\",\"lion\"]\n",
    "for f, a,  in zip(fruit, animal):\n",
    "    print(f, \":\",a)\n",
    "# 동일한 갯수로 이루어진 데이터를 묶어서 값을 리턴한다."
   ]
  },
  {
   "cell_type": "markdown",
   "id": "8023caf4-8db6-4bb2-9f53-27ca757828c0",
   "metadata": {},
   "source": [
    "# 표준 라이브러리"
   ]
  },
  {
   "cell_type": "markdown",
   "id": "948c7469-7b86-4ab8-9455-b6754ea49b7e",
   "metadata": {},
   "source": [
    "## datetime.date"
   ]
  },
  {
   "cell_type": "code",
   "execution_count": null,
   "id": "807a1c41-1ceb-41a8-bcf6-187161239884",
   "metadata": {},
   "outputs": [],
   "source": [
    "#datetime.date\n",
    "\n",
    "import datetime\n",
    "day1 = datetime.date(2025,2,3)\n",
    "day2 = datetime.date(2025,7,25)\n",
    "diff = day2-day1\n",
    "print(\"전체 수업기간 :\",diff.days,\"일\")\n",
    "diff2 = day2 - datetime.datetime.now().date()\n",
    "print(\"남은 수업기간 :\",diff2.days,\"일\")\n",
    "print(\"지난 수업기간 :\",diff.days - diff2.days,\"일\")"
   ]
  },
  {
   "cell_type": "code",
   "execution_count": null,
   "id": "f9a0ea77-2579-427a-b539-990cdf5cdb10",
   "metadata": {},
   "outputs": [],
   "source": [
    "datetime.datetime.now().date()"
   ]
  },
  {
   "cell_type": "code",
   "execution_count": null,
   "id": "5a8486b5-86ec-4f96-94ab-98b2e7f5cdee",
   "metadata": {},
   "outputs": [],
   "source": [
    "#요일 확인 \n",
    "days = [\"월\",\"화\",\"수\",\"목\",\"금\",\"토\",\"일\"]\n",
    "day = datetime.date(2025,9,4)\n",
    "print(f\"그 날은 {days[day.weekday()]}요일 입니다.\")"
   ]
  },
  {
   "cell_type": "markdown",
   "id": "729e0d4d-0302-465c-9f54-02150a59b81b",
   "metadata": {},
   "source": [
    "## time"
   ]
  },
  {
   "cell_type": "code",
   "execution_count": 3,
   "id": "8b562dde-76d4-4327-b604-43bee2f2fa63",
   "metadata": {},
   "outputs": [
    {
     "data": {
      "text/plain": [
       "1740013634.228129"
      ]
     },
     "execution_count": 3,
     "metadata": {},
     "output_type": "execute_result"
    }
   ],
   "source": [
    "#time.time\n",
    "import time\n",
    "time.time()"
   ]
  },
  {
   "cell_type": "code",
   "execution_count": 4,
   "id": "60996313-7742-4b99-baeb-99251fe18653",
   "metadata": {},
   "outputs": [
    {
     "name": "stdout",
     "output_type": "stream",
     "text": [
      "time.struct_time(tm_year=2025, tm_mon=2, tm_mday=20, tm_hour=10, tm_min=7, tm_sec=15, tm_wday=3, tm_yday=51, tm_isdst=0)\n"
     ]
    }
   ],
   "source": [
    "# time.localtime\n",
    "tt = time.localtime(time.time())\n",
    "print(tt)"
   ]
  },
  {
   "cell_type": "code",
   "execution_count": 5,
   "id": "85309bc4-7199-4ffb-81f6-0db2f05c4843",
   "metadata": {},
   "outputs": [
    {
     "data": {
      "text/plain": [
       "'Thu Feb 20 10:07:16 2025'"
      ]
     },
     "execution_count": 5,
     "metadata": {},
     "output_type": "execute_result"
    }
   ],
   "source": [
    "#time.asctime\n",
    "time.asctime(time.localtime(time.time()))"
   ]
  },
  {
   "cell_type": "code",
   "execution_count": 6,
   "id": "bd6d8932-7811-4e3c-b0e7-7e0d18cf0156",
   "metadata": {},
   "outputs": [
    {
     "data": {
      "text/plain": [
       "'Thu Feb 20 10:07:20 2025'"
      ]
     },
     "execution_count": 6,
     "metadata": {},
     "output_type": "execute_result"
    }
   ],
   "source": [
    "#time.ctime\n",
    "time.ctime()"
   ]
  },
  {
   "cell_type": "code",
   "execution_count": 7,
   "id": "2b96da3e-52df-4382-9621-011919c8506f",
   "metadata": {
    "scrolled": true
   },
   "outputs": [
    {
     "data": {
      "text/plain": [
       "'Thu Feb 20 10:07:29 2025'"
      ]
     },
     "execution_count": 7,
     "metadata": {},
     "output_type": "execute_result"
    }
   ],
   "source": [
    "#time.strftime\n",
    "time.strftime(\"%x\",time.localtime(time.time()))\n",
    "time.strftime(\"%X\",time.localtime(time.time()))\n",
    "time.strftime(\"%c\",time.localtime(time.time()))\n",
    "#값을 프린트 하는거랑 성질이 비슷함 그래서 저기안에 필요한거 다넣으면 뜬다."
   ]
  },
  {
   "cell_type": "markdown",
   "id": "0ea2b9b0-79cb-4053-9b1f-196b5b37e42e",
   "metadata": {},
   "source": [
    "<table>\n",
    "<thead>\n",
    "<tr>\n",
    "<th>포맷코드</th>\n",
    "<th>설명</th>\n",
    "<th>예</th>\n",
    "</tr>\n",
    "</thead>\n",
    "<tbody>\n",
    "<tr>\n",
    "<td>%a</td>\n",
    "<td>요일의 줄임말</td>\n",
    "<td>Mon</td>\n",
    "</tr>\n",
    "<tr>\n",
    "<td>%A</td>\n",
    "<td>요일</td>\n",
    "<td>Monday</td>\n",
    "</tr>\n",
    "<tr>\n",
    "<td>%b</td>\n",
    "<td>달의 줄임말</td>\n",
    "<td>Jan</td>\n",
    "</tr>\n",
    "<tr>\n",
    "<td>%B</td>\n",
    "<td>달</td>\n",
    "<td>January</td>\n",
    "</tr>\n",
    "<tr>\n",
    "<td>%c</td>\n",
    "<td>날짜와 시간을 출력함.</td>\n",
    "<td>Thu May 25 10:13:52 2023</td>\n",
    "</tr>\n",
    "<tr>\n",
    "<td>%d</td>\n",
    "<td>일(day)</td>\n",
    "<td>[01,31]</td>\n",
    "</tr>\n",
    "<tr>\n",
    "<td>%H</td>\n",
    "<td>시간(hour): 24시간 출력 형태</td>\n",
    "<td>[00,23]</td>\n",
    "</tr>\n",
    "<tr>\n",
    "<td>%I</td>\n",
    "<td>시간(hour): 12시간 출력 형태</td>\n",
    "<td>[01,12]</td>\n",
    "</tr>\n",
    "<tr>\n",
    "<td>%j</td>\n",
    "<td>1년 중 누적 날짜</td>\n",
    "<td>[001,366]</td>\n",
    "</tr>\n",
    "<tr>\n",
    "<td>%m</td>\n",
    "<td>달</td>\n",
    "<td>[01,12]</td>\n",
    "</tr>\n",
    "<tr>\n",
    "<td>%M</td>\n",
    "<td>분</td>\n",
    "<td>[01,59]</td>\n",
    "</tr>\n",
    "<tr>\n",
    "<td>%p</td>\n",
    "<td>AM or PM</td>\n",
    "<td>AM</td>\n",
    "</tr>\n",
    "<tr>\n",
    "<td>%S</td>\n",
    "<td>초</td>\n",
    "<td>[00,59]</td>\n",
    "</tr>\n",
    "<tr>\n",
    "<td>%U</td>\n",
    "<td>1년 중 누적 주(일요일 시작)</td>\n",
    "<td>[00,53]</td>\n",
    "</tr>\n",
    "<tr>\n",
    "<td>%w</td>\n",
    "<td>숫자로 된 요일</td>\n",
    "<td>[0(일), 6(토)]</td>\n",
    "</tr>\n",
    "<tr>\n",
    "<td>%W</td>\n",
    "<td>1년 중 누적 주(월요일 시작)</td>\n",
    "<td>[00,53]</td>\n",
    "</tr>\n",
    "<tr>\n",
    "<td>%x</td>\n",
    "<td>현재 설정된 지역에 기반한 날짜 출력</td>\n",
    "<td>05/25/23</td>\n",
    "</tr>\n",
    "<tr>\n",
    "<td>%X</td>\n",
    "<td>현재 설정된 지역에 기반한 시간 출력</td>\n",
    "<td>17:22:21</td>\n",
    "</tr>\n",
    "<tr>\n",
    "<td>%Y</td>\n",
    "<td>연도 출력</td>\n",
    "<td>2023</td>\n",
    "</tr>\n",
    "<tr>\n",
    "<td>%Z</td>\n",
    "<td>시간대 출력</td>\n",
    "<td>대한민국 표준시</td>\n",
    "</tr>\n",
    "<tr>\n",
    "<td>%%</td>\n",
    "<td>문자 %</td>\n",
    "<td>%</td>\n",
    "</tr>\n",
    "<tr>\n",
    "<td>%y</td>\n",
    "<td>세기 부분을 제외한 연도 출력</td>\n",
    "<td>01</td>\n",
    "</tr>\n",
    "</tbody>\n",
    "</table>"
   ]
  },
  {
   "cell_type": "code",
   "execution_count": null,
   "id": "e34a6c53-3e80-40b4-b9df-597be8f20c18",
   "metadata": {},
   "outputs": [],
   "source": [
    "#time.sleep\n",
    "import time as t\n",
    "for i in range(1,11):\n",
    "    print(i)\n",
    "    t.sleep(1)\n",
    "    #초를 선택해 값이 나오는 간격을 구함"
   ]
  },
  {
   "cell_type": "markdown",
   "id": "8f5f8c24-a6d9-4920-8b2c-bbbedaad75c6",
   "metadata": {},
   "source": [
    "## math.gcd , math.lcm"
   ]
  },
  {
   "cell_type": "code",
   "execution_count": null,
   "id": "44887993-32e5-48ee-963b-a2eeca752810",
   "metadata": {},
   "outputs": [],
   "source": [
    "import math"
   ]
  },
  {
   "cell_type": "code",
   "execution_count": null,
   "id": "fddce553-15f4-48c6-918e-ad546d13f10b",
   "metadata": {},
   "outputs": [],
   "source": [
    "print(math.gcd(60,100,80))\n",
    "print(math.lcm(7,10,15))\n",
    "print(math.pi)"
   ]
  },
  {
   "cell_type": "markdown",
   "id": "f89f21ef-0d58-4f0a-8279-b7ba27306117",
   "metadata": {},
   "source": [
    "## random"
   ]
  },
  {
   "cell_type": "code",
   "execution_count": null,
   "id": "7af0539a-a8df-4d02-8418-f897801edf03",
   "metadata": {},
   "outputs": [],
   "source": [
    "import random as r\n",
    "r.random() # 0.0에서 1.0사이의 소수\n",
    "r.randint(1,10)"
   ]
  },
  {
   "cell_type": "code",
   "execution_count": null,
   "id": "c45a0842-4345-4ec7-b8b0-33a899c37172",
   "metadata": {},
   "outputs": [],
   "source": [
    "#r.choice(데이터값을 랜덤으로 뽑아온다.)\n",
    "data = [11,22,33,44,55]\n",
    "for n in range(len(data)):\n",
    "    print(r.choice(data))"
   ]
  },
  {
   "cell_type": "code",
   "execution_count": null,
   "id": "e2d92ff2-70ca-450f-820d-54af080f6aab",
   "metadata": {},
   "outputs": [],
   "source": [
    "#r.sample(지정 된 값을 랜덤으로 차례차례로 뽑아준다.)\n",
    "li = list(range(1,21))\n",
    "arr = []\n",
    "for n in r.sample(li,len(li)):\n",
    "    arr.append(n)\n",
    "print(arr,len(arr))\n",
    "sarr = set(arr)\n",
    "print(sarr,len(sarr))"
   ]
  },
  {
   "cell_type": "markdown",
   "id": "20514f10-e67d-40c3-9de3-2901db27a8e6",
   "metadata": {},
   "source": [
    "## itertolls"
   ]
  },
  {
   "cell_type": "code",
   "execution_count": null,
   "id": "b5c8aaeb-77cb-4029-b478-b37b5a98ec79",
   "metadata": {},
   "outputs": [],
   "source": [
    "#itertools.zip_longset\n",
    "\n",
    "import itertools\n",
    "students = [\"한민서\",\"황지민\",\"이영철\",\"이광수\",\"김승민\"]\n",
    "snacks = [\"사탕\",\"초컬릿\",\"젤리\"]\n",
    "\n",
    "#result = zip(students, snacks)\n",
    "result = itertools.zip_longest(students, snacks, fillvalue = \"새우깡\")\n",
    "print(list(result))\n",
    "#zip은 작은 배열의 길이를 맞춰준다. 여기서 배열의 인덱스값이 맞지 않아\n",
    "#zip으로 모든 값이 짝이 안지어질때 이 기능을 사용하여 남은 인원의 짝을\n",
    "#맞춰주는 기능이다."
   ]
  },
  {
   "cell_type": "code",
   "execution_count": null,
   "id": "6011b87b-9e62-435f-b287-9fd67b783751",
   "metadata": {},
   "outputs": [],
   "source": [
    "import itertools\n",
    "print(list(itertools.permutations(['1','2','3'],2)))\n",
    "#순열을 만들어 주는 기능이다. 순열이란 안의 수로 지정한 갯수의 조합을 전부다\n",
    "#만들어 보여주는것"
   ]
  },
  {
   "cell_type": "code",
   "execution_count": null,
   "id": "026b4314-faa6-40c0-bff7-67f1bea04a8c",
   "metadata": {},
   "outputs": [],
   "source": [
    "import itertools\n",
    "list(itertools.combinations(['1','2','3'],2))\n",
    "#순서 상관없이 하는건 이 기능"
   ]
  },
  {
   "cell_type": "code",
   "execution_count": null,
   "id": "61ee3418-384e-4c19-b081-83e15bb74454",
   "metadata": {},
   "outputs": [],
   "source": [
    "# itertools.combinations 응용\n",
    "\n",
    "import itertools\n",
    "lotto = itertools.combinations(range(1,46),6)\n",
    "ls = list(lotto)\n",
    "print(len(ls))\n",
    "for num in ls[:48]:\n",
    "    print(num)"
   ]
  },
  {
   "cell_type": "code",
   "execution_count": null,
   "id": "a3c0a3c0-2472-42bb-bf94-c7010cfe7bf1",
   "metadata": {},
   "outputs": [],
   "source": [
    "def add(data):\n",
    "    result = 0\n",
    "    for i in data:\n",
    "        result += i\n",
    "    return result\n",
    "\n",
    "data = [1,2,3,4,5]\n",
    "result = add(data)\n",
    "print(result)"
   ]
  },
  {
   "cell_type": "code",
   "execution_count": null,
   "id": "a98d6efa-c099-4e6c-8808-e49ae2840627",
   "metadata": {},
   "outputs": [],
   "source": [
    "# functools.reduce\n",
    "import functools\n",
    "\n",
    "data = [1,2,3,4,5]\n",
    "result = functools.reduce(lambda x, y: x+y, data)\n",
    "print(result)"
   ]
  },
  {
   "cell_type": "code",
   "execution_count": null,
   "id": "c9cf0c92-b956-4df0-a6ba-c356ac3e7fdc",
   "metadata": {},
   "outputs": [],
   "source": [
    "import functools\n",
    "num_list = [1,2,3,4,5,6]\n",
    "max_list = functools.reduce(lambda x, y : x if x>y else y,num_list)\n",
    "print(max_list)"
   ]
  },
  {
   "cell_type": "code",
   "execution_count": null,
   "id": "5a52f876-3095-45e2-bcb2-285b5c6dda76",
   "metadata": {},
   "outputs": [],
   "source": [
    "# operator.itemgetter\n",
    "\n",
    "from operator import itemgetter\n",
    "name = [\"jane\",\"dave\",\"sally\"]\n",
    "age = [22,32,17]\n",
    "grade = [\"A\",\"B\",\"B\"]\n",
    "students = zip(name,age,grade)\n",
    "#print(list(students))\n",
    "\n",
    "#students = [\n",
    "#    ('jane',22,\"A\"),\n",
    "#    (\"dave\",32,\"B\"),\n",
    "#    (\"sally\",17,\"B\"),\n",
    "#]\n",
    "\n",
    "result = sorted(students, key=itemgetter(1), reverse=True)\n",
    "print(result)"
   ]
  },
  {
   "cell_type": "code",
   "execution_count": null,
   "id": "19d03ed9-e9a0-4548-aa8d-af5d0500faba",
   "metadata": {},
   "outputs": [],
   "source": [
    "# operator.itemgetter2\n",
    "from operator import itemgetter\n",
    "\n",
    "name = [\"jane\",\"dave\",\"sally\"]\n",
    "age = [22,32,17]\n",
    "grade = [\"A\",\"B\",\"B\"]\n",
    "students = []\n",
    "#for n,a,b in zip(name,age,grade):\n",
    "#    students.append({\"name\":n,\"age\":a,\"grade\":b})\n",
    "students = [{\"name\":n,\"age\":a,\"grade\":b} for n,a,b in zip(name,age,grade)]\n",
    "print(students)\n",
    "#리스트 컴프리헨션 ↑\n",
    "#students = [\n",
    "#    {\"name\":\"jane\",\"age\":22,\"grade\":\"A\"},\n",
    "#    {\"name\":\"dave\",\"age\":32,\"grade\":\"B\"},\n",
    "#    {\"name\":\"sally\",\"age\":17,\"grade\":\"B\"},\n",
    "#]\n",
    "#\n",
    "#result = sorted(students, key=itemgetter(\"age\"))\n",
    "#print(result)"
   ]
  },
  {
   "cell_type": "code",
   "execution_count": null,
   "id": "65825ea6-df14-4913-8720-acdc873460b7",
   "metadata": {},
   "outputs": [],
   "source": [
    "# operator.attrgetter()\n",
    "from operator import attrgetter\n",
    "\n",
    "class Students:\n",
    "    def __init__(self,name,age,grade):\n",
    "        self.name = name\n",
    "        self.age = age\n",
    "        self.grade = grade\n",
    "    def pr(self):\n",
    "        return self.name, self.age, self.grade\n",
    "students = [\n",
    "    Students('jane',22,\"A\"),\n",
    "    Students(\"dave\",32,\"B\"),\n",
    "    Students(\"sally\",17,\"B\")\n",
    "]\n",
    "\n",
    "\n",
    "result = sorted(students, key=attrgetter(\"age\"))\n",
    "for r in result:\n",
    "    print(r.pr())"
   ]
  },
  {
   "cell_type": "code",
   "execution_count": null,
   "id": "c63c8eac-ecdf-47b6-bccc-8f56183c746f",
   "metadata": {},
   "outputs": [],
   "source": [
    "#shutil\n",
    "\n",
    "import shutil,time\n",
    "\n",
    "for n in range(5):\n",
    "    tstamp = str(round(time.time()))[-5:]\n",
    "    print(tstamp)\n",
    "    shutil.copy(\"README.md\",f\"./backup/README_{tstamp}.me.bak\")\n",
    "    time.sleep(5)\n",
    "    "
   ]
  },
  {
   "cell_type": "code",
   "execution_count": null,
   "id": "306dcfdd-5fd5-4896-b905-4453f59de7e7",
   "metadata": {},
   "outputs": [],
   "source": [
    "#glob\n",
    "\n",
    "import glob\n",
    "for n in glob.glob(\"./backup/*.bak\"):\n",
    "    print(n)"
   ]
  },
  {
   "cell_type": "code",
   "execution_count": null,
   "id": "36a1bc01-5aa8-48bd-92cf-bfde9f07f32c",
   "metadata": {},
   "outputs": [],
   "source": [
    "# pickle\n",
    "import pickle\n",
    "f = open(\"test.txt\",'wb')\n",
    "data = {1: \"python\",2:\"you need\"}\n",
    "pickle.dump(data,f)\n",
    "f.close\n",
    "# 갹체 형태를 그대로 유지해서 파일에 저장하고 불러오는 기능"
   ]
  },
  {
   "cell_type": "code",
   "execution_count": null,
   "id": "56053ca2-ce7e-4950-bd6a-6bab616ec848",
   "metadata": {},
   "outputs": [],
   "source": [
    "import pickle\n",
    "f = open(\"test.txt\",\"rb\")\n",
    "data = pickle.load(f)\n",
    "f.close\n",
    "print(data)"
   ]
  },
  {
   "cell_type": "markdown",
   "id": "9698ae47-bb06-46ca-bd38-0fff2e74b459",
   "metadata": {},
   "source": [
    "## os"
   ]
  },
  {
   "cell_type": "code",
   "execution_count": null,
   "id": "7465aae5-bcf6-4da6-a198-50659501c88e",
   "metadata": {},
   "outputs": [],
   "source": [
    "#os\n",
    "import os\n",
    "#환경변수 중 PATH값\n",
    "os.environ[\"PATH\"]\n",
    "#디렉토리 변경\n",
    "os.chdir(\"C:\\\\WINDOWS\")\n",
    "#디렉토리 위치 받기\n",
    "os.getcwd()\n",
    "#시스템 명령어 호출\n",
    "os.system(\"python\")# 에러시 1을 반환"
   ]
  },
  {
   "cell_type": "code",
   "execution_count": null,
   "id": "83917468-ed3d-4623-9727-0aef928b0a0c",
   "metadata": {},
   "outputs": [],
   "source": [
    "def what(what):\n",
    "    if not os.system(what):\n",
    "        f = os.popen(f\"{what} -V\")\n",
    "        print(f.read())\n",
    "    else:\n",
    "        print(\"없는 명령어 입니다.\")"
   ]
  },
  {
   "cell_type": "code",
   "execution_count": null,
   "id": "f95cc220-8e83-4df9-9a3a-318b82bee49b",
   "metadata": {},
   "outputs": [],
   "source": [
    "what(\"python\")"
   ]
  },
  {
   "cell_type": "code",
   "execution_count": null,
   "id": "3a1f6e93-b1c2-4186-abf1-e40f99820538",
   "metadata": {},
   "outputs": [],
   "source": [
    "# zipfile\n",
    "import zipfile\n",
    "\n",
    "with zipfile.ZipFile(\"mytext.zip\",\"w\") as myzip:\n",
    "    myzip.write(\"a.txt\")\n",
    "    myzip.write(\"b.txt\")\n",
    "    myzip.write(\"c.txt\")\n",
    "#파일을 zip으로 합치거나 해제할 때 사용하는 모듈"
   ]
  },
  {
   "cell_type": "code",
   "execution_count": null,
   "id": "2341565f-c988-4b40-833e-a2855cffce7d",
   "metadata": {},
   "outputs": [],
   "source": [
    "with zipfile.ZipFile('mytext.zip') as myzip:\n",
    "    myzip.extractall()"
   ]
  },
  {
   "cell_type": "markdown",
   "id": "0dfe790b-772c-47d7-9e18-62dad17a8329",
   "metadata": {},
   "source": [
    "## threading"
   ]
  },
  {
   "cell_type": "code",
   "execution_count": null,
   "id": "ac0b897b-593b-4071-a01f-0a633d2c5c32",
   "metadata": {},
   "outputs": [],
   "source": [
    "import time\n",
    "\n",
    "def long_task():  # 5초의 시간이 걸리는 함수\n",
    "    for i in range(5):\n",
    "        time.sleep(1)  # 1초간 대기한다.\n",
    "        print(\"working:%s\\n\" % i)\n",
    "\n",
    "print(\"Start\")\n",
    "\n",
    "for i in range(5):  # long_task를 5회 수행한다.\n",
    "    long_task()\n",
    "\n",
    "print(\"End\")"
   ]
  },
  {
   "cell_type": "code",
   "execution_count": null,
   "id": "3be47aa7-32f4-4fa5-915f-b1bb3fa460ff",
   "metadata": {},
   "outputs": [],
   "source": [
    "# 기본작업 5초 * 5초 = 25초\n",
    "start = time.time()\n",
    "print(\"=======Start=======\")\n",
    "for n in range(5):\n",
    "    long_task()\n",
    "print(\"=======Start=======\")\n",
    "print(time.time() - start)"
   ]
  },
  {
   "cell_type": "code",
   "execution_count": null,
   "id": "df122b42-2a02-45eb-a9e5-096f56890589",
   "metadata": {},
   "outputs": [],
   "source": [
    "# threading 사용\n",
    "import threading, time\n",
    "start = time.time()\n",
    "print(\"=======Start=======\")\n",
    "threads = []\n",
    "for n in range(5):\n",
    "    t = threading.Thread(target=long_task)\n",
    "    threads.append(t)\n",
    "for t in threads:\n",
    "    t.start()\n",
    "for n in threads:\n",
    "    t.join()\n",
    "print(\"=======end=======\")\n",
    "print(time.time() - start)"
   ]
  },
  {
   "cell_type": "markdown",
   "id": "0118ad73-361e-48ae-af23-db134bfa7c1e",
   "metadata": {},
   "source": [
    "## json"
   ]
  },
  {
   "cell_type": "code",
   "execution_count": null,
   "id": "516c1d6d-d4c7-48b7-9dba-88268d56fe70",
   "metadata": {},
   "outputs": [],
   "source": [
    "{\n",
    "    \"name\":\"홍길동\"\n",
    "    \"birth\":\"0525\"\n",
    "    \"age\":30\n",
    "}"
   ]
  },
  {
   "cell_type": "code",
   "execution_count": 35,
   "id": "7a0e20f8-47c0-459d-b367-4c2794e40d37",
   "metadata": {},
   "outputs": [
    {
     "name": "stdout",
     "output_type": "stream",
     "text": [
      "{\"userId\": 2, \"id\": 21, \"title\": \"suscipit repellat esse quibusdam voluptatem incidunt\", \"completed\": false, \"test\": \"\\ud55c\\uae00\\ub3c4 \\ub418\\ub098 \\ubcf4\\uc790\"}\n",
      "{\"userId\": 2, \"id\": 21, \"title\": \"suscipit repellat esse quibusdam voluptatem incidunt\", \"completed\": false, \"test\": \"한글도 되나 보자\"}\n"
     ]
    }
   ],
   "source": [
    "#json\n",
    "import requests , json\n",
    "url = \"https://jsonplaceholder.typicode.com/todos\"#json 파일을 읽어오기\n",
    "res = requests.get(url).json()[20] # json을 dict로 변경\n",
    "res[\"test\"] = \"한글도 되나 보자\"\n",
    "with open(\"todo.json\",\"w\") as f:\n",
    "    json.dump(res,f)#dict를 json으로 변경\n",
    "#인터넷에서 받은 파일을 딕셔너리 자료형으로 변환시켜주는 모듈\n",
    "print(json.dumps(res)) # 한글이 깨짐\n",
    "print(json.dumps(res,ensure_ascii=False)) #한글 깨짐 방지\n",
    "#dump는 파일의 실체화를 딱 맞게 저장 dumps는 네트워크에 맞게 저장"
   ]
  },
  {
   "cell_type": "code",
   "execution_count": 28,
   "id": "c1573fb0-fff4-4215-8789-b32e51884b1d",
   "metadata": {},
   "outputs": [
    {
     "name": "stdout",
     "output_type": "stream",
     "text": [
      "{'userId': 1, 'id': 1, 'title': 'delectus aut autem', 'completed': False, 'test': '한글도 되나 보자'}\n"
     ]
    }
   ],
   "source": [
    "with open(\"todo.json\") as f:\n",
    "    data = json.load(f)#json을 dict로 변경\n",
    "print(data)"
   ]
  },
  {
   "cell_type": "code",
   "execution_count": 43,
   "id": "c5da545b-76b7-45f3-b7e4-6a148a5d9fc0",
   "metadata": {},
   "outputs": [],
   "source": [
    "#urllib\n",
    "\n",
    "import urllib.request\n",
    "import time as t\n",
    "def get_posts(page):\n",
    "    resource = f\"https://jsonplaceholder.typicode.com/posts/{page}\"\n",
    "    with urllib.request.urlopen(resource) as s:\n",
    "        with open(f'./data/posts_{page}.html',\"wb\") as f:\n",
    "            f.write(s.read())\n",
    "for n in range(1,21):\n",
    "    get_posts(n)\n",
    "    t.sleep(0.1)\n",
    "#get_wikidogs(3)\n",
    "#url을 읽고 분석할 때 사용하는 모듈"
   ]
  },
  {
   "cell_type": "code",
   "execution_count": null,
   "id": "b30cb29e-19a9-4f14-b8a5-5b38f83c4194",
   "metadata": {},
   "outputs": [],
   "source": []
  },
  {
   "cell_type": "markdown",
   "id": "6876cad5-f273-44a9-926e-300cd5c617ea",
   "metadata": {},
   "source": [
    "## etc"
   ]
  },
  {
   "cell_type": "code",
   "execution_count": null,
   "id": "e8fa8d81-bcff-4baa-95d7-d90a20aeaad1",
   "metadata": {},
   "outputs": [],
   "source": [
    "# tempfile\n",
    "import tempfile\n",
    "filename = tempfile.mkstemp()\n",
    "filename\n",
    "f.close()"
   ]
  },
  {
   "cell_type": "code",
   "execution_count": 11,
   "id": "16321f75-1681-4a09-ae6a-b6d69fc54d39",
   "metadata": {},
   "outputs": [
    {
     "name": "stdout",
     "output_type": "stream",
     "text": [
      "오류가 발생했습니다.\n",
      "Traceback (most recent call last):\n",
      "  File \"C:\\Users\\Admin\\AppData\\Local\\Temp\\ipykernel_6808\\2851317921.py\", line 12, in main\n",
      "    b()\n",
      "    ~^^\n",
      "  File \"C:\\Users\\Admin\\AppData\\Local\\Temp\\ipykernel_6808\\2851317921.py\", line 8, in b\n",
      "    a()\n",
      "    ~^^\n",
      "  File \"C:\\Users\\Admin\\AppData\\Local\\Temp\\ipykernel_6808\\2851317921.py\", line 5, in a\n",
      "    return 1/0\n",
      "           ~^~\n",
      "ZeroDivisionError: division by zero\n",
      "\n"
     ]
    }
   ],
   "source": [
    "#traceback 오류 추작\n",
    "import traceback\n",
    "\n",
    "def a():\n",
    "    return 1/0\n",
    "\n",
    "def b():\n",
    "    a()\n",
    "\n",
    "def main():\n",
    "    try:\n",
    "        b()\n",
    "    except:\n",
    "        print(\"오류가 발생했습니다.\")\n",
    "        print(traceback.format_exc())\n",
    "main()"
   ]
  },
  {
   "cell_type": "code",
   "execution_count": null,
   "id": "01e95a68-a4f4-4981-b2d2-d48b6a4860f7",
   "metadata": {},
   "outputs": [],
   "source": []
  }
 ],
 "metadata": {
  "kernelspec": {
   "display_name": "Python 3 (ipykernel)",
   "language": "python",
   "name": "python3"
  },
  "language_info": {
   "codemirror_mode": {
    "name": "ipython",
    "version": 3
   },
   "file_extension": ".py",
   "mimetype": "text/x-python",
   "name": "python",
   "nbconvert_exporter": "python",
   "pygments_lexer": "ipython3",
   "version": "3.13.1"
  }
 },
 "nbformat": 4,
 "nbformat_minor": 5
}

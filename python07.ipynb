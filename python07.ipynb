{
 "cells": [
  {
   "cell_type": "markdown",
   "id": "601e9765-24ad-447c-afac-8c2a4ade82f5",
   "metadata": {},
   "source": [
    "# 내장함수"
   ]
  },
  {
   "cell_type": "code",
   "execution_count": 1,
   "id": "f8bbf6e7-e444-4a46-8302-cbc350044c89",
   "metadata": {},
   "outputs": [
    {
     "data": {
      "text/plain": [
       "3"
      ]
     },
     "execution_count": 1,
     "metadata": {},
     "output_type": "execute_result"
    }
   ],
   "source": [
    "#abs★\n",
    "\n",
    "abs(-3)\n",
    "#어떤 함수를 받아도 무조건 절대값으로 리턴하는 값"
   ]
  },
  {
   "cell_type": "code",
   "execution_count": 8,
   "id": "90711775-2ee6-4ed0-93f9-977bb2624688",
   "metadata": {},
   "outputs": [
    {
     "name": "stdout",
     "output_type": "stream",
     "text": [
      "True\n",
      "False\n",
      "True\n"
     ]
    }
   ],
   "source": [
    "#all★\n",
    "\n",
    "print(all([1,2,3]))\n",
    "\n",
    "print(all([11,22,33,44,0]))\n",
    "#and와 성질이 같다. 단 한개라도 0이면 false값을 낸다.\n",
    "\n",
    "print(all([]))\n",
    "#and의 특징으로는 아무것도 없으면 True값을 낸다"
   ]
  },
  {
   "cell_type": "code",
   "execution_count": 10,
   "id": "ffa586c0-df43-4266-917c-ae012187cae6",
   "metadata": {},
   "outputs": [
    {
     "name": "stdout",
     "output_type": "stream",
     "text": [
      "True\n",
      "False\n"
     ]
    }
   ],
   "source": [
    "#any★\n",
    "\n",
    "print(any([1,2,3,0]))\n",
    "#or과 성질이비슷하다. 하나만 참이면 True값을 낸다.\n",
    "\n",
    "print(any([0,\"\",[],False]))\n",
    "#all과 반대로 빈배열은 False값을 띈다."
   ]
  },
  {
   "cell_type": "code",
   "execution_count": 24,
   "id": "e7bc340c-8244-4e4e-b09a-489c5268dce0",
   "metadata": {},
   "outputs": [
    {
     "name": "stdout",
     "output_type": "stream",
     "text": [
      "a\n",
      "갂\n",
      "65\n",
      "44032\n"
     ]
    }
   ],
   "source": [
    "#chr 유니코드로 값 출력\n",
    "print(chr(97))\n",
    "print(chr(44034))\n",
    "# 유니코드를 입력하면 그거에 해당하는 값을 도출시킨다.\n",
    "#ord 유니코드 출력\n",
    "print(ord(\"A\"))\n",
    "print(ord(\"가\"))"
   ]
  },
  {
   "cell_type": "code",
   "execution_count": null,
   "id": "3a1656aa-8a8e-4350-8c52-34bbde23acd2",
   "metadata": {},
   "outputs": [],
   "source": []
  }
 ],
 "metadata": {
  "kernelspec": {
   "display_name": "Python 3 (ipykernel)",
   "language": "python",
   "name": "python3"
  },
  "language_info": {
   "codemirror_mode": {
    "name": "ipython",
    "version": 3
   },
   "file_extension": ".py",
   "mimetype": "text/x-python",
   "name": "python",
   "nbconvert_exporter": "python",
   "pygments_lexer": "ipython3",
   "version": "3.13.1"
  }
 },
 "nbformat": 4,
 "nbformat_minor": 5
}

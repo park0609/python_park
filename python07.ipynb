{
 "cells": [
  {
   "cell_type": "markdown",
   "id": "601e9765-24ad-447c-afac-8c2a4ade82f5",
   "metadata": {},
   "source": [
    "# 내장함수"
   ]
  },
  {
   "cell_type": "code",
   "execution_count": null,
   "id": "f8bbf6e7-e444-4a46-8302-cbc350044c89",
   "metadata": {},
   "outputs": [],
   "source": [
    "#abs★\n",
    "\n",
    "abs(-3)\n",
    "#어떤 함수를 받아도 무조건 절대값으로 리턴하는 값"
   ]
  },
  {
   "cell_type": "code",
   "execution_count": null,
   "id": "90711775-2ee6-4ed0-93f9-977bb2624688",
   "metadata": {},
   "outputs": [],
   "source": [
    "#all★\n",
    "\n",
    "print(all([1,2,3]))\n",
    "\n",
    "print(all([11,22,33,44,0]))\n",
    "#and와 성질이 같다. 단 한개라도 0이면 false값을 낸다.\n",
    "\n",
    "print(all([]))\n",
    "#and의 특징으로는 아무것도 없으면 True값을 낸다"
   ]
  },
  {
   "cell_type": "code",
   "execution_count": null,
   "id": "ffa586c0-df43-4266-917c-ae012187cae6",
   "metadata": {},
   "outputs": [],
   "source": [
    "#any★\n",
    "\n",
    "print(any([1,2,3,0]))\n",
    "#or과 성질이비슷하다. 하나만 참이면 True값을 낸다.\n",
    "\n",
    "print(any([0,\"\",[],False]))\n",
    "#all과 반대로 빈배열은 False값을 띈다."
   ]
  },
  {
   "cell_type": "code",
   "execution_count": null,
   "id": "e7bc340c-8244-4e4e-b09a-489c5268dce0",
   "metadata": {},
   "outputs": [],
   "source": [
    "#chr 유니코드로 값 출력\n",
    "print(chr(97))\n",
    "print(chr(44034))\n",
    "# 유니코드를 입력하면 그거에 해당하는 값을 도출시킨다.\n",
    "#ord 유니코드 출력\n",
    "print(ord(\"A\"))\n",
    "print(ord(\"가\"))"
   ]
  },
  {
   "cell_type": "code",
   "execution_count": null,
   "id": "3a1656aa-8a8e-4350-8c52-34bbde23acd2",
   "metadata": {},
   "outputs": [],
   "source": [
    "#dir★\n",
    "dir([1,2,3])\n",
    "#해당하는 값이 가진 기능을 볼 수 있음"
   ]
  },
  {
   "cell_type": "code",
   "execution_count": null,
   "id": "8fcaff77-9f8f-43d6-aa15-e3d76f4a03de",
   "metadata": {},
   "outputs": [],
   "source": [
    "#divmod\n",
    "divmod(4,2)\n",
    "#값 a,b 두가지를 지정해서 몫과 나머지를 튜플화 시켜서 리턴한다."
   ]
  },
  {
   "cell_type": "code",
   "execution_count": null,
   "id": "e0e6fee8-68ef-4b3f-bade-9da46f03ebdc",
   "metadata": {},
   "outputs": [],
   "source": [
    "#enumerate★★\n",
    "fruit = [\"apple\",\"kiwi\",\"banana\",\"cherry\"]\n",
    "for f in fruit:\n",
    "    print(f)\n",
    "\n",
    "for n,m in enumerate(fruit, start=0):\n",
    "    print(n,\"순위 과일은?\",m)\n",
    "\n",
    "#enumerate는 for문에서 사용되고 값을 꺼낼 때 앞에 인덱스값을 같이 꺼내준다."
   ]
  },
  {
   "cell_type": "code",
   "execution_count": null,
   "id": "8c634398-a2c0-4350-a006-8f084d4f754b",
   "metadata": {},
   "outputs": [],
   "source": [
    "#eval\n",
    "eval(\"1+2\")\n",
    "#문자열로 입력되어있는 표현식을 입력으로 받아 해당 문자열을 실행한\n",
    "#결과값을 리턴하는 함수"
   ]
  },
  {
   "cell_type": "code",
   "execution_count": 8,
   "id": "82f82de8-dd4d-4919-93b6-81be296cb7a1",
   "metadata": {},
   "outputs": [
    {
     "name": "stdout",
     "output_type": "stream",
     "text": [
      "[1, 2, 3, 4]\n",
      "[1, 2, 3, 4]\n"
     ]
    },
    {
     "data": {
      "text/plain": [
       "[1, 2, 3, 4]"
      ]
     },
     "execution_count": 8,
     "metadata": {},
     "output_type": "execute_result"
    }
   ],
   "source": [
    "#filter★\n",
    "def positive(I):\n",
    "    result = []\n",
    "    for i in I:\n",
    "        if i > 0:\n",
    "            result.append(i)\n",
    "    return result\n",
    "print(positive([1,2,3,4]))\n",
    "\n",
    "def positive_1(I):\n",
    "    return I > 0\n",
    "print(list(filter(positive_1 , [1,2,3,4])))\n",
    "#filter을 사용하면 함수에 값을 한개씩 집어넣을 때 참인 경우에만 불러낸다.\n",
    "#필터를 사용할 떈 필터(함수, 반복가능데이터)형식으로 만든다.\n",
    "l = [1,2,3,4]\n",
    "list(filter(lambda x : x > 0, l))"
   ]
  },
  {
   "cell_type": "code",
   "execution_count": 22,
   "id": "b881ce8a-6903-43df-bc15-7ad1d1e0694e",
   "metadata": {},
   "outputs": [
    {
     "name": "stdout",
     "output_type": "stream",
     "text": [
      "0x7b\n",
      "0o173\n",
      "0b1111011\n"
     ]
    }
   ],
   "source": [
    "#hex, oct, bin\n",
    "print(hex(123))\n",
    "print(oct(123))\n",
    "print(bin(123))\n",
    "# hex 정수를 입력받으면 그 값을 16진수로 바꿔준다\n",
    "# oct 정수를 입력받으면 그 값을 8진수로 바꿔준다\n",
    "# bin 정수를 입력받으면 그 값을 2진수로 바꿔준다."
   ]
  },
  {
   "cell_type": "code",
   "execution_count": 25,
   "id": "240b8e3e-533e-4294-9339-6d2a75df89c7",
   "metadata": {},
   "outputs": [
    {
     "name": "stdout",
     "output_type": "stream",
     "text": [
      "140726719874024\n",
      "140726719874024\n",
      "140726719874024\n"
     ]
    }
   ],
   "source": [
    "#id\n",
    "a = 3\n",
    "b = a\n",
    "print(id(a))\n",
    "print(id(3))\n",
    "print(id(b))\n",
    "#값을 입력받으면 그 값의 대한 고유값(래퍼런스)를 출력시킨다."
   ]
  },
  {
   "cell_type": "code",
   "execution_count": null,
   "id": "0a493fc8-d0f9-426c-9cb0-42c049a11dcc",
   "metadata": {},
   "outputs": [],
   "source": [
    "#input,int ★\n",
    "\n",
    "#input은 str으로 값을 전달하므로 계산식에 적용할 떈 int나 float로 \n",
    "#값의 형태를 바꿔줘야한다.\n",
    "#int는 정수로 변환, 소수점이 사라진다\n",
    "#float 실수를 표현하기에 소수점까지 나타냄"
   ]
  },
  {
   "cell_type": "code",
   "execution_count": 27,
   "id": "beb0de11-8b7b-4102-8435-6b6ed0b234a4",
   "metadata": {},
   "outputs": [
    {
     "name": "stdout",
     "output_type": "stream",
     "text": [
      "True\n",
      "False\n"
     ]
    }
   ],
   "source": [
    "#isinstance\n",
    "\n",
    "class Person:\n",
    "    def p(self):\n",
    "        return (\"안녕하세요\")\n",
    "a = Person()\n",
    "print(isinstance(a,Person))\n",
    "print(isinstance(b,Person))\n",
    "#인스턴스 확인용 함수이다. 어떤 클래스의 인스턴스가 맞는지 확인 할 수있다\n",
    "#isinstance(odject, class) 인스턴스가 맞으면 참 틀리면 거짓을 낸다"
   ]
  },
  {
   "cell_type": "code",
   "execution_count": 28,
   "id": "fa49e3ee-8620-4639-85f5-3756f63a636a",
   "metadata": {},
   "outputs": [
    {
     "name": "stdout",
     "output_type": "stream",
     "text": [
      "6\n",
      "4\n",
      "4\n"
     ]
    }
   ],
   "source": [
    "#len ★★\n",
    "print(len(\"python\"))\n",
    "print(len([1,2,3,4]))\n",
    "print(len((1,2,3,4)))"
   ]
  },
  {
   "cell_type": "code",
   "execution_count": 29,
   "id": "b6ebb86c-e70b-45db-91fb-061a132d52e9",
   "metadata": {},
   "outputs": [],
   "source": [
    "#list ★★"
   ]
  },
  {
   "cell_type": "code",
   "execution_count": null,
   "id": "898cb35f-21b9-471e-bf2a-1427feed6d0f",
   "metadata": {},
   "outputs": [],
   "source": [
    "#map★\n",
    "def two_items(num):\n",
    "    result = []\n",
    "    for number in num:\n",
    "        result.append(number*2)\n",
    "    return result\n",
    "\n",
    "result = two_items([1,2,3,4])\n",
    "print(result)\n",
    "\n",
    "#리스트 컴프리헨션으로 변경시켜 보자\n",
    "def two(n):\n",
    "    return [n*2 for n in n]\n",
    "two([1,2,3,4])\n",
    "\n",
    "#map은 입력과 출력의 값이 같다. \n",
    "\n",
    "def two_item(x):\n",
    "    return x*2\n",
    "\n",
    "list(map(two_item,[1,2,3,4]))\n",
    "#map(함수, 값) map은 함수에 값을 적용한 결과를 만들어 낸다.\n",
    "\n"
   ]
  },
  {
   "cell_type": "code",
   "execution_count": 39,
   "id": "0ddd1025-5dc2-427f-830b-c8dccc896bdf",
   "metadata": {},
   "outputs": [
    {
     "name": "stdout",
     "output_type": "stream",
     "text": [
      "[1, 3, 5]\n",
      "[2, 4, 6]\n",
      "[11, 12, 13, 14, 15, 16]\n",
      "[1, 4, 9, 16, 25, 36]\n",
      "[11, 24, 39, 56, 75, 96]\n"
     ]
    }
   ],
   "source": [
    "#테스트\n",
    "li = [1,2,3,4,5,6]\n",
    "\n",
    "def odd(x):\n",
    "    return x%2 !=0\n",
    "def even(x):\n",
    "    return x%2 == 0\n",
    "def add(x):\n",
    "    return x +10\n",
    "def mul(x):\n",
    "    return x*x\n",
    "def addmul(x):\n",
    "    return (x+10)*x\n",
    "\n",
    "print(list(filter(odd, li)))\n",
    "print(list(filter(even, li)))\n",
    "print(list(map(add, li)))\n",
    "print(list(map(mul, li)))\n",
    "print(list(map(addmul, li)))\n",
    "#필터는 참 거짓만 골라내기 때문에 그냥 산수에는 관심이 없어 리스트값을\n",
    "#그냥 꺼내온다.\n",
    "#그래서 값을 받아오기 위해선 map을 사용하는게 좋다"
   ]
  },
  {
   "cell_type": "code",
   "execution_count": 41,
   "id": "d54dd99c-ae75-4b0e-bd94-bd644888ae77",
   "metadata": {},
   "outputs": [
    {
     "name": "stdout",
     "output_type": "stream",
     "text": [
      "5\n",
      "1\n"
     ]
    },
    {
     "data": {
      "text/plain": [
       "'h'"
      ]
     },
     "execution_count": 41,
     "metadata": {},
     "output_type": "execute_result"
    }
   ],
   "source": [
    "#max , min ★\n",
    "li = [1,2,3,4,5]\n",
    "print(max(li))\n",
    "print(min(li))\n",
    "\n",
    "#max , min(문자일경우) ★\n",
    "max(\"python\")\n",
    "min(\"python\")\n",
    "# 문자열을 입력할 경우 유니코드로 값을 바꿔 최대, 최소값을 꺼낸다."
   ]
  },
  {
   "cell_type": "code",
   "execution_count": null,
   "id": "0b9fcf17-bd21-44f3-bcdc-014015795ac0",
   "metadata": {},
   "outputs": [],
   "source": [
    "#open ★\n",
    "f = open('README.md',\"w\")\n",
    "# 파일명과 모드를 설정하여 파일에 값을 추가하거나 파일의 값을 불러오는것\n",
    "# 등 여러가지가 가능하다."
   ]
  },
  {
   "cell_type": "markdown",
   "id": "9c14e534-bfdc-4dc5-848c-f62c4b3ae855",
   "metadata": {},
   "source": [
    "<table>\n",
    "<thead>\n",
    "<tr>\n",
    "<th>mode</th>\n",
    "<th>설명</th>\n",
    "</tr>\n",
    "</thead>\n",
    "<tbody>\n",
    "<tr>\n",
    "<td>w</td>\n",
    "<td>쓰기 모드로 파일 열기</td>\n",
    "</tr>\n",
    "<tr>\n",
    "<td>r</td>\n",
    "<td>읽기 모드로 파일 열기</td>\n",
    "</tr>\n",
    "<tr>\n",
    "<td>a</td>\n",
    "<td>추가 모드로 파일 열기</td>\n",
    "</tr>\n",
    "<tr>\n",
    "<td>b</td>\n",
    "<td>바이너리 모드로 파일 열기</td>\n",
    "</tr>\n",
    "</tbody>\n",
    "</table>"
   ]
  },
  {
   "cell_type": "code",
   "execution_count": 42,
   "id": "abc119ea-a261-425d-9830-5d2fec02620f",
   "metadata": {},
   "outputs": [
    {
     "name": "stdout",
     "output_type": "stream",
     "text": [
      "16\n",
      "243\n"
     ]
    }
   ],
   "source": [
    "#pow★\n",
    "\n",
    "print(pow(2,4))\n",
    "print(pow(3,5))\n",
    "#pow(a,b) a을 b제곱한결과를 리턴한다."
   ]
  },
  {
   "cell_type": "code",
   "execution_count": 44,
   "id": "ef2fade3-8cd7-4a2e-8d96-a1affed6e434",
   "metadata": {},
   "outputs": [
    {
     "name": "stdout",
     "output_type": "stream",
     "text": [
      "[0, 1, 2, 3, 4]\n",
      "[1, 2, 3, 4, 5, 6, 7, 8, 9]\n",
      "[1, 3, 5, 7, 9]\n",
      "[]\n"
     ]
    }
   ],
   "source": [
    "#range ★★\n",
    "#인수가 하나\n",
    "print(list(range(5)))\n",
    "#지정한 값 미만까지 리턴한다.\n",
    "\n",
    "#인수가 둘\n",
    "print(list(range(1,10)))\n",
    "#a 이상 b 미만 값을 리턴한다.\n",
    "\n",
    "#인수가 셋\n",
    "print(list(range(1,10,2)))\n",
    "print(list(range(1,10,-1)))\n",
    "#리턴값의 범위와 순서를 정한다. 양수일 경우 수만큼 띄우기 음수일경우\n",
    "#거꾸로 감"
   ]
  },
  {
   "cell_type": "code",
   "execution_count": 46,
   "id": "d8151f3f-d3dd-42d6-b373-9b1cd0f275c4",
   "metadata": {},
   "outputs": [
    {
     "name": "stdout",
     "output_type": "stream",
     "text": [
      "3\n",
      "4\n",
      "4\n",
      "3.77\n",
      "3.1\n",
      "3.545\n"
     ]
    }
   ],
   "source": [
    "#round ★\n",
    "\n",
    "#인수가 하나\n",
    "print(round(3.49999))\n",
    "print(round(3.5))\n",
    "print(round(3.768))\n",
    "#반올림 해주는 함수가 된다.\n",
    "\n",
    "#인수가 둘\n",
    "print(round(3.768,2))\n",
    "print(round(3.14343,1))\n",
    "print(round(3.545324,3))\n",
    "#round(a,b) a를 소수점 b자리까지 리턴한다. \n",
    "#인자의 따라 사용방법이 완전히 바뀌므로 주의"
   ]
  },
  {
   "cell_type": "code",
   "execution_count": 52,
   "id": "c64c3ffa-e19a-412e-a1ad-ad7080cba477",
   "metadata": {},
   "outputs": [
    {
     "name": "stdout",
     "output_type": "stream",
     "text": [
      "[1, 2, 3, 3, 3, 5, 6]\n",
      "['a', 'b', 'd', 'p', 'w']\n",
      "['h', 'n', 'o', 'p', 't', 'y']\n",
      "[1, 2, 4, 5]\n",
      "[2, 3, 5, 5, 6, 7]\n",
      "[3, 6, 5, 2, 5, 7]\n"
     ]
    }
   ],
   "source": [
    "#sorted ★\n",
    "print(sorted([2,3,1,5,3,6,3]))\n",
    "print(sorted([\"a\",\"d\",\"w\",\"p\",\"b\"]))\n",
    "print(sorted(\"python\"))\n",
    "print(sorted((1,4,2,5)))\n",
    "\n",
    "a = [3,6,5,2,5,7]\n",
    "print(sorted(a))\n",
    "print(a)\n",
    "\n",
    "#입력한 데이터를 정렬 한 후 리스트로 리턴하는 함수\n",
    "#값을 바꾸긴 하지만 원본의 형태는 유지를 한다."
   ]
  },
  {
   "cell_type": "code",
   "execution_count": 54,
   "id": "afa468d6-9633-4c37-b4f0-60cb1446776f",
   "metadata": {},
   "outputs": [
    {
     "name": "stdout",
     "output_type": "stream",
     "text": [
      "123456\n",
      "579\n"
     ]
    }
   ],
   "source": [
    "#str ★ 문자열로 변환\n",
    "print(str(123)+str(456))\n",
    "print(123+456)"
   ]
  },
  {
   "cell_type": "code",
   "execution_count": 56,
   "id": "91b54777-ce00-471c-9779-e78e44c67d2c",
   "metadata": {},
   "outputs": [
    {
     "name": "stdout",
     "output_type": "stream",
     "text": [
      "6\n",
      "66\n"
     ]
    }
   ],
   "source": [
    "#sum ★\n",
    "print(sum([1,2,3]))\n",
    "print(sum([11,22,33]))\n",
    "#입력 데이터의 합을 구해준다."
   ]
  },
  {
   "cell_type": "code",
   "execution_count": 58,
   "id": "3826d36d-ca94-4a83-ad77-00daa12a0508",
   "metadata": {},
   "outputs": [],
   "source": [
    "#tuple ★ 튜플로 바꿔줌"
   ]
  },
  {
   "cell_type": "code",
   "execution_count": 60,
   "id": "235a5f42-db7c-48b1-9061-5471dbc0a32a",
   "metadata": {},
   "outputs": [
    {
     "name": "stdout",
     "output_type": "stream",
     "text": [
      "<class 'str'>\n",
      "<class 'int'>\n",
      "<class '_io.TextIOWrapper'>\n"
     ]
    }
   ],
   "source": [
    "#type ★★ \n",
    "print(type(\"abc\"))\n",
    "print(type(1234))\n",
    "print(type(open(\"README.md\",\"r\"))) # 파일 자료형\n"
   ]
  },
  {
   "cell_type": "code",
   "execution_count": 67,
   "id": "08ff7868-d29c-4612-8616-7df077ff9480",
   "metadata": {},
   "outputs": [
    {
     "name": "stdout",
     "output_type": "stream",
     "text": [
      "apple : cat\n",
      "kiwi : dog\n",
      "banana : elephant\n",
      "cherry : monky\n",
      "mango : lion\n"
     ]
    }
   ],
   "source": [
    "# zip ★★\n",
    "\n",
    "fruit = [\"apple\",\"kiwi\",\"banana\",\"cherry\",\"mango\"]\n",
    "animal = [\"cat\",\"dog\",\"elephant\",\"monky\",\"lion\"]\n",
    "for f, a,  in zip(fruit, animal):\n",
    "    print(f, \":\",a)\n",
    "# 동일한 갯수로 이루어진 데이터를 묶어서 값을 리턴한다."
   ]
  },
  {
   "cell_type": "markdown",
   "id": "8023caf4-8db6-4bb2-9f53-27ca757828c0",
   "metadata": {},
   "source": [
    "# 표준 라이브러리"
   ]
  },
  {
   "cell_type": "markdown",
   "id": "948c7469-7b86-4ab8-9455-b6754ea49b7e",
   "metadata": {},
   "source": [
    "## datetime.date"
   ]
  },
  {
   "cell_type": "code",
   "execution_count": 81,
   "id": "807a1c41-1ceb-41a8-bcf6-187161239884",
   "metadata": {},
   "outputs": [
    {
     "name": "stdout",
     "output_type": "stream",
     "text": [
      "전체 수업기간 : 172 일\n",
      "남은 수업기간 : 157 일\n",
      "지난 수업기간 : 15 일\n"
     ]
    }
   ],
   "source": [
    "#datetime.date\n",
    "\n",
    "import datetime\n",
    "day1 = datetime.date(2025,2,3)\n",
    "day2 = datetime.date(2025,7,25)\n",
    "diff = day2-day1\n",
    "print(\"전체 수업기간 :\",diff.days,\"일\")\n",
    "diff2 = day2 - datetime.datetime.now().date()\n",
    "print(\"남은 수업기간 :\",diff2.days,\"일\")\n",
    "print(\"지난 수업기간 :\",diff.days - diff2.days,\"일\")"
   ]
  },
  {
   "cell_type": "code",
   "execution_count": 74,
   "id": "f9a0ea77-2579-427a-b539-990cdf5cdb10",
   "metadata": {},
   "outputs": [
    {
     "data": {
      "text/plain": [
       "datetime.date(2025, 2, 18)"
      ]
     },
     "execution_count": 74,
     "metadata": {},
     "output_type": "execute_result"
    }
   ],
   "source": [
    "datetime.datetime.now().date()"
   ]
  },
  {
   "cell_type": "code",
   "execution_count": 89,
   "id": "5a8486b5-86ec-4f96-94ab-98b2e7f5cdee",
   "metadata": {},
   "outputs": [
    {
     "name": "stdout",
     "output_type": "stream",
     "text": [
      "그 날은 목요일 입니다.\n"
     ]
    }
   ],
   "source": [
    "#요일 확인 \n",
    "days = [\"월\",\"화\",\"수\",\"목\",\"금\",\"토\",\"일\"]\n",
    "day = datetime.date(2025,9,4)\n",
    "print(f\"그 날은 {days[day.weekday()]}요일 입니다.\")"
   ]
  },
  {
   "cell_type": "markdown",
   "id": "729e0d4d-0302-465c-9f54-02150a59b81b",
   "metadata": {},
   "source": [
    "## time"
   ]
  },
  {
   "cell_type": "code",
   "execution_count": 93,
   "id": "8b562dde-76d4-4327-b604-43bee2f2fa63",
   "metadata": {},
   "outputs": [
    {
     "data": {
      "text/plain": [
       "1739855613.86009"
      ]
     },
     "execution_count": 93,
     "metadata": {},
     "output_type": "execute_result"
    }
   ],
   "source": [
    "#time.time\n",
    "import time\n",
    "time.time()"
   ]
  },
  {
   "cell_type": "code",
   "execution_count": 102,
   "id": "60996313-7742-4b99-baeb-99251fe18653",
   "metadata": {},
   "outputs": [
    {
     "name": "stdout",
     "output_type": "stream",
     "text": [
      "time.struct_time(tm_year=2025, tm_mon=2, tm_mday=18, tm_hour=14, tm_min=15, tm_sec=37, tm_wday=1, tm_yday=49, tm_isdst=0)\n"
     ]
    }
   ],
   "source": [
    "# time.localtime\n",
    "tt = time.localtime(time.time())\n",
    "print(tt)"
   ]
  },
  {
   "cell_type": "code",
   "execution_count": 103,
   "id": "85309bc4-7199-4ffb-81f6-0db2f05c4843",
   "metadata": {},
   "outputs": [
    {
     "data": {
      "text/plain": [
       "'Tue Feb 18 14:16:22 2025'"
      ]
     },
     "execution_count": 103,
     "metadata": {},
     "output_type": "execute_result"
    }
   ],
   "source": [
    "#time.asctime\n",
    "time.asctime(time.localtime(time.time()))"
   ]
  },
  {
   "cell_type": "code",
   "execution_count": 104,
   "id": "bd6d8932-7811-4e3c-b0e7-7e0d18cf0156",
   "metadata": {},
   "outputs": [
    {
     "data": {
      "text/plain": [
       "'Tue Feb 18 14:16:40 2025'"
      ]
     },
     "execution_count": 104,
     "metadata": {},
     "output_type": "execute_result"
    }
   ],
   "source": [
    "#time.ctime\n",
    "time.ctime()"
   ]
  },
  {
   "cell_type": "code",
   "execution_count": 109,
   "id": "2b96da3e-52df-4382-9621-011919c8506f",
   "metadata": {},
   "outputs": [
    {
     "data": {
      "text/plain": [
       "'Tue Feb 18 14:19:48 2025'"
      ]
     },
     "execution_count": 109,
     "metadata": {},
     "output_type": "execute_result"
    }
   ],
   "source": [
    "#time.strftime\n",
    "time.strftime(\"%x\",time.localtime(time.time()))\n",
    "time.strftime(\"%X\",time.localtime(time.time()))\n",
    "time.strftime(\"%c\",time.localtime(time.time()))"
   ]
  },
  {
   "cell_type": "code",
   "execution_count": 111,
   "id": "e34a6c53-3e80-40b4-b9df-597be8f20c18",
   "metadata": {},
   "outputs": [
    {
     "name": "stdout",
     "output_type": "stream",
     "text": [
      "1\n",
      "2\n",
      "3\n",
      "4\n",
      "5\n",
      "6\n",
      "7\n",
      "8\n",
      "9\n",
      "10\n"
     ]
    }
   ],
   "source": [
    "#time.sleep\n",
    "import time as t\n",
    "for i in range(1,11):\n",
    "    print(i)\n",
    "    t.sleep(1)\n",
    "    #초를 선택해 값이 나오는 간격을 구함"
   ]
  },
  {
   "cell_type": "markdown",
   "id": "8f5f8c24-a6d9-4920-8b2c-bbbedaad75c6",
   "metadata": {},
   "source": [
    "## math.gcd , math.lcm"
   ]
  },
  {
   "cell_type": "code",
   "execution_count": 112,
   "id": "44887993-32e5-48ee-963b-a2eeca752810",
   "metadata": {},
   "outputs": [],
   "source": [
    "import math"
   ]
  },
  {
   "cell_type": "code",
   "execution_count": 113,
   "id": "fddce553-15f4-48c6-918e-ad546d13f10b",
   "metadata": {},
   "outputs": [
    {
     "name": "stdout",
     "output_type": "stream",
     "text": [
      "20\n",
      "210\n",
      "3.141592653589793\n"
     ]
    }
   ],
   "source": [
    "print(math.gcd(60,100,80))\n",
    "print(math.lcm(7,10,15))\n",
    "print(math.pi)"
   ]
  },
  {
   "cell_type": "markdown",
   "id": "f89f21ef-0d58-4f0a-8279-b7ba27306117",
   "metadata": {},
   "source": [
    "## random"
   ]
  },
  {
   "cell_type": "code",
   "execution_count": 118,
   "id": "7af0539a-a8df-4d02-8418-f897801edf03",
   "metadata": {},
   "outputs": [
    {
     "data": {
      "text/plain": [
       "9"
      ]
     },
     "execution_count": 118,
     "metadata": {},
     "output_type": "execute_result"
    }
   ],
   "source": [
    "import random as r\n",
    "r.random() # 0.0에서 1.0사이의 소수\n",
    "r.randint(1,10)"
   ]
  },
  {
   "cell_type": "code",
   "execution_count": 130,
   "id": "c45a0842-4345-4ec7-b8b0-33a899c37172",
   "metadata": {},
   "outputs": [
    {
     "name": "stdout",
     "output_type": "stream",
     "text": [
      "22\n",
      "44\n",
      "11\n",
      "55\n",
      "22\n"
     ]
    }
   ],
   "source": [
    "#r.choice(데이터값을 랜덤으로 뽑아온다.)\n",
    "data = [11,22,33,44,55]\n",
    "for n in range(len(data)):\n",
    "    print(r.choice(data))"
   ]
  },
  {
   "cell_type": "code",
   "execution_count": 132,
   "id": "e2d92ff2-70ca-450f-820d-54af080f6aab",
   "metadata": {},
   "outputs": [
    {
     "name": "stdout",
     "output_type": "stream",
     "text": [
      "[12, 5, 18, 11, 1, 2, 15, 16, 20, 3, 7, 4, 6, 19, 10, 13, 9, 14, 8, 17] 20\n",
      "{1, 2, 3, 4, 5, 6, 7, 8, 9, 10, 11, 12, 13, 14, 15, 16, 17, 18, 19, 20} 20\n"
     ]
    }
   ],
   "source": [
    "#r.sample(지정 된 값을 랜덤으로 차례차례로 뽑아준다.)\n",
    "li = list(range(1,21))\n",
    "arr = []\n",
    "for n in r.sample(li,len(li)):\n",
    "    arr.append(n)\n",
    "print(arr,len(arr))\n",
    "sarr = set(arr)\n",
    "print(sarr,len(sarr))"
   ]
  },
  {
   "cell_type": "code",
   "execution_count": null,
   "id": "eda2af2c-0e62-4709-a6db-0ea2e7e5379f",
   "metadata": {},
   "outputs": [],
   "source": []
  }
 ],
 "metadata": {
  "kernelspec": {
   "display_name": "Python 3 (ipykernel)",
   "language": "python",
   "name": "python3"
  },
  "language_info": {
   "codemirror_mode": {
    "name": "ipython",
    "version": 3
   },
   "file_extension": ".py",
   "mimetype": "text/x-python",
   "name": "python",
   "nbconvert_exporter": "python",
   "pygments_lexer": "ipython3",
   "version": "3.13.1"
  }
 },
 "nbformat": 4,
 "nbformat_minor": 5
}
